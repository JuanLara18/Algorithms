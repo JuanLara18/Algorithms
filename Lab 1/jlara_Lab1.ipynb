{
  "cells": [
    {
      "cell_type": "markdown",
      "metadata": {
        "id": "IV9AKKVNtM6O"
      },
      "source": [
        "# Laboratory 1\n",
        "\n",
        "We develop the laboratory from [here](https://colab.research.google.com/drive/13Hhgq-EFl9oPVmHh7cBfq19ZBjNjTWaa?usp=sharing#scrollTo=DQ49NGLoEnEk)."
      ]
    },
    {
      "cell_type": "markdown",
      "metadata": {
        "id": "Pw1gHZW-tM6U"
      },
      "source": [
        "My own example 1:"
      ]
    },
    {
      "cell_type": "code",
      "execution_count": null,
      "metadata": {
        "id": "CvcZ8LCctM6V",
        "outputId": "b1a13a7b-39d4-489f-c0f7-9a1c7537dacf"
      },
      "outputs": [
        {
          "data": {
            "text/plain": [
              "4"
            ]
          },
          "execution_count": 2,
          "metadata": {},
          "output_type": "execute_result"
        }
      ],
      "source": [
        "2+2"
      ]
    },
    {
      "cell_type": "markdown",
      "metadata": {
        "id": "gj1J9LfKtM6Y"
      },
      "source": [
        "My own example 2:"
      ]
    },
    {
      "cell_type": "code",
      "execution_count": null,
      "metadata": {
        "id": "tDaisxvDtM6Y"
      },
      "outputs": [],
      "source": [
        "x = 2.1"
      ]
    },
    {
      "cell_type": "markdown",
      "metadata": {
        "id": "z6jPxDHttM6Z"
      },
      "source": [
        "My own example 3:"
      ]
    },
    {
      "cell_type": "code",
      "execution_count": null,
      "metadata": {
        "id": "Qc7qdEPPtM6Z"
      },
      "outputs": [],
      "source": [
        "arr = [1, 2, 3, 4, 5, 10]"
      ]
    },
    {
      "cell_type": "markdown",
      "metadata": {
        "id": "p5qqm94dtM6a"
      },
      "source": [
        "My own example 3:\n"
      ]
    },
    {
      "cell_type": "code",
      "execution_count": null,
      "metadata": {
        "id": "roYmGMvJtM6a"
      },
      "outputs": [],
      "source": [
        "Y = [2*i for i in arr]"
      ]
    },
    {
      "cell_type": "markdown",
      "metadata": {
        "id": "9SxqEB-2tM6b"
      },
      "source": [
        "My own example 4:"
      ]
    },
    {
      "cell_type": "code",
      "execution_count": 1,
      "metadata": {
        "id": "oqHTqfAytM6b"
      },
      "outputs": [],
      "source": [
        "print?"
      ]
    },
    {
      "cell_type": "markdown",
      "metadata": {
        "id": "dzvlQhNBtM6c"
      },
      "source": [
        "My own example 5:"
      ]
    },
    {
      "cell_type": "code",
      "execution_count": 2,
      "metadata": {
        "id": "TKICqUb3tM6c"
      },
      "outputs": [],
      "source": [
        "import numpy as np"
      ]
    },
    {
      "cell_type": "markdown",
      "metadata": {
        "id": "z7OFdEmStM6d"
      },
      "source": [
        "My own example 6:"
      ]
    },
    {
      "cell_type": "code",
      "execution_count": 5,
      "metadata": {
        "id": "oOTuzKmOtM6d"
      },
      "outputs": [],
      "source": [
        "mu, sigma = 0, 0.1\n",
        "s = np.random.normal(mu, sigma, 1000)"
      ]
    },
    {
      "cell_type": "markdown",
      "metadata": {
        "id": "OjhIPqOmtM6e"
      },
      "source": [
        "My own example 7:"
      ]
    },
    {
      "cell_type": "code",
      "execution_count": null,
      "metadata": {
        "id": "K5zHIM1itM6e"
      },
      "outputs": [],
      "source": [
        "import pandas as pd\n",
        "\n"
      ]
    },
    {
      "cell_type": "markdown",
      "metadata": {
        "id": "DNRY44hqtM6f"
      },
      "source": [
        "My own example 8:"
      ]
    },
    {
      "cell_type": "code",
      "execution_count": 7,
      "metadata": {
        "colab": {
          "base_uri": "https://localhost:8080/"
        },
        "id": "ZmPe_2h7tM6f",
        "outputId": "b69445c6-69c6-4bd3-d932-8c0a01aea2cc"
      },
      "outputs": [
        {
          "output_type": "stream",
          "name": "stdout",
          "text": [
            "a\n"
          ]
        }
      ],
      "source": [
        "print(\"a\")"
      ]
    },
    {
      "cell_type": "markdown",
      "metadata": {
        "id": "cgNTQPn8tM6g"
      },
      "source": [
        "My own example 9:"
      ]
    },
    {
      "cell_type": "code",
      "execution_count": null,
      "metadata": {
        "id": "1ukq2gCZtM6g"
      },
      "outputs": [],
      "source": []
    },
    {
      "cell_type": "markdown",
      "metadata": {
        "id": "TKVD4zzZtM6g"
      },
      "source": [
        "My own example 10:"
      ]
    },
    {
      "cell_type": "code",
      "execution_count": null,
      "metadata": {
        "id": "8gDnGzfdtM6h"
      },
      "outputs": [],
      "source": []
    },
    {
      "cell_type": "markdown",
      "metadata": {
        "id": "pClXYLVVtM6h"
      },
      "source": [
        "My own example 11:"
      ]
    },
    {
      "cell_type": "code",
      "execution_count": null,
      "metadata": {
        "id": "A4U5tpgetM6i"
      },
      "outputs": [],
      "source": []
    },
    {
      "cell_type": "markdown",
      "metadata": {
        "id": "gOVLQuIttM6i"
      },
      "source": [
        "My own example 12:"
      ]
    },
    {
      "cell_type": "code",
      "execution_count": null,
      "metadata": {
        "id": "5jgqrojAtM6i"
      },
      "outputs": [],
      "source": []
    },
    {
      "cell_type": "markdown",
      "metadata": {
        "id": "syYM2SoatM6i"
      },
      "source": [
        "My own example 13:"
      ]
    },
    {
      "cell_type": "code",
      "execution_count": null,
      "metadata": {
        "id": "T0Cky3lWtM6j"
      },
      "outputs": [],
      "source": []
    },
    {
      "cell_type": "markdown",
      "metadata": {
        "id": "Y1qlbnvZtM6j"
      },
      "source": [
        "My own example 14:"
      ]
    },
    {
      "cell_type": "code",
      "execution_count": null,
      "metadata": {
        "id": "4YvABjyatM6j"
      },
      "outputs": [],
      "source": []
    },
    {
      "cell_type": "markdown",
      "metadata": {
        "id": "lOGOOrpPtM6j"
      },
      "source": [
        "My own example 15:"
      ]
    },
    {
      "cell_type": "code",
      "execution_count": null,
      "metadata": {
        "id": "B76P6yintM6k"
      },
      "outputs": [],
      "source": []
    },
    {
      "cell_type": "markdown",
      "metadata": {
        "id": "gi5sPVLstM6k"
      },
      "source": [
        "My own example 16:"
      ]
    },
    {
      "cell_type": "code",
      "execution_count": null,
      "metadata": {
        "id": "OH1pKFYKtM6k"
      },
      "outputs": [],
      "source": []
    },
    {
      "cell_type": "markdown",
      "metadata": {
        "id": "MhIRdgdgtM6l"
      },
      "source": [
        "My own example 17:"
      ]
    },
    {
      "cell_type": "code",
      "execution_count": null,
      "metadata": {
        "id": "MGc0SUI7tM6l"
      },
      "outputs": [],
      "source": []
    },
    {
      "cell_type": "markdown",
      "metadata": {
        "id": "B1JFpR52tM6l"
      },
      "source": [
        "My own example 18:"
      ]
    },
    {
      "cell_type": "code",
      "execution_count": null,
      "metadata": {
        "id": "89n1PNeHtM6m"
      },
      "outputs": [],
      "source": []
    },
    {
      "cell_type": "markdown",
      "metadata": {
        "id": "MxxIkwJbtM6m"
      },
      "source": [
        "My own example 19:"
      ]
    },
    {
      "cell_type": "code",
      "execution_count": null,
      "metadata": {
        "id": "X9ShPxDPtM6m"
      },
      "outputs": [],
      "source": []
    },
    {
      "cell_type": "markdown",
      "metadata": {
        "id": "dlUar4CFtM6m"
      },
      "source": [
        "My own example 20:"
      ]
    },
    {
      "cell_type": "code",
      "execution_count": null,
      "metadata": {
        "id": "8j58FyWCtM6n"
      },
      "outputs": [],
      "source": []
    },
    {
      "cell_type": "markdown",
      "metadata": {
        "id": "BuPFc_nltM6n"
      },
      "source": [
        "My own example 21:"
      ]
    },
    {
      "cell_type": "code",
      "execution_count": null,
      "metadata": {
        "id": "r-__N2NItM6n"
      },
      "outputs": [],
      "source": []
    },
    {
      "cell_type": "markdown",
      "metadata": {
        "id": "dtVsBoKctM6n"
      },
      "source": [
        "My own example 22:"
      ]
    },
    {
      "cell_type": "code",
      "execution_count": null,
      "metadata": {
        "id": "ehDvd4V2tM6o"
      },
      "outputs": [],
      "source": []
    },
    {
      "cell_type": "markdown",
      "metadata": {
        "id": "MttDAsn5tM6o"
      },
      "source": [
        "My own example 23:"
      ]
    },
    {
      "cell_type": "code",
      "execution_count": null,
      "metadata": {
        "id": "o_IwUcVYtM6o"
      },
      "outputs": [],
      "source": []
    },
    {
      "cell_type": "markdown",
      "metadata": {
        "id": "ZPTaBPB-tM6o"
      },
      "source": [
        "My own example 24:"
      ]
    },
    {
      "cell_type": "code",
      "execution_count": null,
      "metadata": {
        "id": "c3s71xibtM6p"
      },
      "outputs": [],
      "source": []
    }
  ],
  "metadata": {
    "kernelspec": {
      "display_name": "Python 3",
      "language": "python",
      "name": "python3"
    },
    "language_info": {
      "codemirror_mode": {
        "name": "ipython",
        "version": 3
      },
      "file_extension": ".py",
      "mimetype": "text/x-python",
      "name": "python",
      "nbconvert_exporter": "python",
      "pygments_lexer": "ipython3",
      "version": "3.10.6"
    },
    "orig_nbformat": 4,
    "vscode": {
      "interpreter": {
        "hash": "fb4569285eef3a3450cb62085a5b1e0da4bce0af555edc33dcf29baf3acc1368"
      }
    },
    "colab": {
      "provenance": []
    }
  },
  "nbformat": 4,
  "nbformat_minor": 0
}