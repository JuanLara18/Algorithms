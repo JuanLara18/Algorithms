{
  "cells": [
    {
      "cell_type": "markdown",
      "metadata": {
        "id": "view-in-github",
        "colab_type": "text"
      },
      "source": [
        "<a href=\"https://colab.research.google.com/github/JuanLara18/AlgorithmsUN2023I/blob/main/Lab%201/jlara_Lab1.ipynb\" target=\"_parent\"><img src=\"https://colab.research.google.com/assets/colab-badge.svg\" alt=\"Open In Colab\"/></a>"
      ]
    },
    {
      "cell_type": "markdown",
      "metadata": {
        "id": "IV9AKKVNtM6O"
      },
      "source": [
        "# Introduction to the Python Laboratory Task with Numpy, Pandas, and Data Visualization\n",
        "\n",
        "In this laboratory task, we will apply and expand our knowledge of Python programming, using the Google Colab environment as our development platform. The task is based on a Colab notebook provided by the instructor [here](https://colab.research.google.com/drive/13Hhgq-EFl9oPVmHh7cBfq19ZBjNjTWaa?usp=sharing#scrollTo=DQ49NGLoEnEk), which covers various aspects of Python programming, including variables, data types, control structures, functions, and more.\n",
        "\n",
        "The notebook also provides an introduction to two powerful libraries for data analysis and manipulation: NumPy and Pandas. NumPy is a fundamental library for scientific computing in Python, providing support for powerful N-dimensional arrays and a wide range of mathematical functions. Pandas, on the other hand, is a popular library for data manipulation and analysis, providing powerful data structures for working with tabular data.\n",
        "\n",
        "We will also learn about data visualization using the Matplotlib library, which provides a comprehensive set of tools for creating a wide range of visualizations, including line charts, bar charts, scatter plots, and more.\n",
        "\n",
        "During the laboratory task, we will have the opportunity to work on our own examples, applying the concepts and techniques covered in the notebook to real-world problems. By the end of the task, we will have gained valuable experience working with Python and the NumPy and Pandas libraries, as well as data visualization, which will prepare us for more advanced programming tasks in the future."
      ]
    },
    {
      "cell_type": "markdown",
      "source": [
        "## Introduction to the environment"
      ],
      "metadata": {
        "id": "t0MaXFpGn4WA"
      }
    },
    {
      "cell_type": "markdown",
      "metadata": {
        "id": "Pw1gHZW-tM6U"
      },
      "source": [
        "My own example 1:"
      ]
    },
    {
      "cell_type": "code",
      "execution_count": null,
      "metadata": {
        "colab": {
          "base_uri": "https://localhost:8080/"
        },
        "id": "CvcZ8LCctM6V",
        "outputId": "856c0803-2d91-4bde-d9ab-3e959f9eca80"
      },
      "outputs": [
        {
          "output_type": "execute_result",
          "data": {
            "text/plain": [
              "4"
            ]
          },
          "metadata": {},
          "execution_count": 1
        }
      ],
      "source": [
        "2+2"
      ]
    },
    {
      "cell_type": "markdown",
      "metadata": {
        "id": "gj1J9LfKtM6Y"
      },
      "source": [
        "My own example 2:"
      ]
    },
    {
      "cell_type": "code",
      "execution_count": null,
      "metadata": {
        "id": "tDaisxvDtM6Y"
      },
      "outputs": [],
      "source": [
        "x = 2.1"
      ]
    },
    {
      "cell_type": "markdown",
      "metadata": {
        "id": "z6jPxDHttM6Z"
      },
      "source": [
        "My own example 3:"
      ]
    },
    {
      "cell_type": "code",
      "execution_count": null,
      "metadata": {
        "id": "Qc7qdEPPtM6Z"
      },
      "outputs": [],
      "source": [
        "arr = [1, 2, 3, 4, 5, 10]"
      ]
    },
    {
      "cell_type": "markdown",
      "metadata": {
        "id": "p5qqm94dtM6a"
      },
      "source": [
        "My own example 3:\n"
      ]
    },
    {
      "cell_type": "code",
      "execution_count": null,
      "metadata": {
        "id": "roYmGMvJtM6a"
      },
      "outputs": [],
      "source": [
        "Y = [2*i for i in arr]"
      ]
    },
    {
      "cell_type": "markdown",
      "metadata": {
        "id": "9SxqEB-2tM6b"
      },
      "source": [
        "My own example 4:"
      ]
    },
    {
      "cell_type": "code",
      "execution_count": null,
      "metadata": {
        "id": "oqHTqfAytM6b"
      },
      "outputs": [],
      "source": [
        "print?"
      ]
    },
    {
      "cell_type": "markdown",
      "source": [
        "## Importing libraries"
      ],
      "metadata": {
        "id": "FCUJjwFEn_JH"
      }
    },
    {
      "cell_type": "markdown",
      "metadata": {
        "id": "dzvlQhNBtM6c"
      },
      "source": [
        "My own example 5:"
      ]
    },
    {
      "cell_type": "code",
      "execution_count": null,
      "metadata": {
        "id": "TKICqUb3tM6c"
      },
      "outputs": [],
      "source": [
        "import numpy as np"
      ]
    },
    {
      "cell_type": "markdown",
      "metadata": {
        "id": "z7OFdEmStM6d"
      },
      "source": [
        "My own example 6:"
      ]
    },
    {
      "cell_type": "code",
      "execution_count": null,
      "metadata": {
        "id": "oOTuzKmOtM6d"
      },
      "outputs": [],
      "source": [
        "mu, sigma = 0, 0.1\n",
        "s = np.random.normal(mu, sigma, 1000)"
      ]
    },
    {
      "cell_type": "markdown",
      "source": [
        "## Sampling and Plotting"
      ],
      "metadata": {
        "id": "OWBnr6oXoLWh"
      }
    },
    {
      "cell_type": "markdown",
      "metadata": {
        "id": "OjhIPqOmtM6e"
      },
      "source": [
        "My own example 7:"
      ]
    },
    {
      "cell_type": "code",
      "execution_count": null,
      "metadata": {
        "colab": {
          "base_uri": "https://localhost:8080/",
          "height": 282
        },
        "id": "K5zHIM1itM6e",
        "outputId": "05632e75-1e81-47de-af75-f77a58cdfb26"
      },
      "outputs": [
        {
          "output_type": "execute_result",
          "data": {
            "text/plain": [
              "[<matplotlib.lines.Line2D at 0x7fac2d5d5520>]"
            ]
          },
          "metadata": {},
          "execution_count": 8
        },
        {
          "output_type": "display_data",
          "data": {
            "text/plain": [
              "<Figure size 432x288 with 1 Axes>"
            ],
            "image/png": "[encoded data removed]"
          },
          "metadata": {
            "needs_background": "light"
          }
        }
      ],
      "source": [
        "import matplotlib.pyplot as plt\n",
        "plt.plot(s)"
      ]
    },
    {
      "cell_type": "markdown",
      "metadata": {
        "id": "DNRY44hqtM6f"
      },
      "source": [
        "My own example 8:"
      ]
    },
    {
      "cell_type": "code",
      "execution_count": null,
      "metadata": {
        "colab": {
          "base_uri": "https://localhost:8080/",
          "height": 265
        },
        "id": "ZmPe_2h7tM6f",
        "outputId": "117de843-b950-419a-e741-0c93d406a11d"
      },
      "outputs": [
        {
          "output_type": "display_data",
          "data": {
            "text/plain": [
              "<Figure size 432x288 with 1 Axes>"
            ],
            "image/png": "[encoded data removed]"
          },
          "metadata": {
            "needs_background": "light"
          }
        }
      ],
      "source": [
        "x1 = np.random.chisquare(2, 100)\n",
        "x2 = np.random.chisquare(3, 100)\n",
        "\n",
        "plt.plot(x1);\n",
        "plt.plot(x2);\n",
        "plt.ylabel(r'$\\chi^2$')\n",
        "plt.legend([r'$k=2$', r'$k=3$']);"
      ]
    },
    {
      "cell_type": "markdown",
      "metadata": {
        "id": "cgNTQPn8tM6g"
      },
      "source": [
        "My own example 9:"
      ]
    },
    {
      "cell_type": "code",
      "execution_count": null,
      "metadata": {
        "colab": {
          "base_uri": "https://localhost:8080/",
          "height": 265
        },
        "id": "1ukq2gCZtM6g",
        "outputId": "bbeeabac-8ec6-4c7f-d135-95b8e4a68583"
      },
      "outputs": [
        {
          "output_type": "display_data",
          "data": {
            "text/plain": [
              "<Figure size 432x288 with 1 Axes>"
            ],
            "image/png": "[encoded data removed]"
          },
          "metadata": {
            "needs_background": "light"
          }
        }
      ],
      "source": [
        "count, bins, ignored = plt.hist(s, 30, density=True)\n",
        "plt.plot(bins, 1/(sigma * np.sqrt(2 * np.pi)) *\n",
        "               np.exp( - (bins - mu)**2 / (2 * sigma**2) ),\n",
        "         linewidth=2, color='r')\n",
        "plt.show()"
      ]
    },
    {
      "cell_type": "markdown",
      "source": [
        "## Getting real prices data"
      ],
      "metadata": {
        "id": "yHnz7u39oT53"
      }
    },
    {
      "cell_type": "markdown",
      "metadata": {
        "id": "TKVD4zzZtM6g"
      },
      "source": [
        "My own example 10:"
      ]
    },
    {
      "cell_type": "code",
      "execution_count": null,
      "metadata": {
        "colab": {
          "base_uri": "https://localhost:8080/"
        },
        "id": "8gDnGzfdtM6h",
        "outputId": "e3d2fd76-cf94-40d1-cfba-d2e0484e9d43"
      },
      "outputs": [
        {
          "output_type": "stream",
          "name": "stdout",
          "text": [
            "Looking in indexes: https://pypi.org/simple, https://us-python.pkg.dev/colab-wheels/public/simple/\n",
            "Requirement already satisfied: yfinance in /usr/local/lib/python3.8/dist-packages (0.2.11)\n",
            "Requirement already satisfied: multitasking>=0.0.7 in /usr/local/lib/python3.8/dist-packages (from yfinance) (0.0.11)\n",
            "Requirement already satisfied: cryptography>=3.3.2 in /usr/local/lib/python3.8/dist-packages (from yfinance) (39.0.1)\n",
            "Requirement already satisfied: beautifulsoup4>=4.11.1 in /usr/local/lib/python3.8/dist-packages (from yfinance) (4.11.2)\n",
            "Requirement already satisfied: pytz>=2022.5 in /usr/local/lib/python3.8/dist-packages (from yfinance) (2022.7.1)\n",
            "Requirement already satisfied: appdirs>=1.4.4 in /usr/local/lib/python3.8/dist-packages (from yfinance) (1.4.4)\n",
            "Requirement already satisfied: html5lib>=1.1 in /usr/local/lib/python3.8/dist-packages (from yfinance) (1.1)\n",
            "Requirement already satisfied: frozendict>=2.3.4 in /usr/local/lib/python3.8/dist-packages (from yfinance) (2.3.4)\n",
            "Requirement already satisfied: requests>=2.26 in /usr/local/lib/python3.8/dist-packages (from yfinance) (2.28.2)\n",
            "Requirement already satisfied: pandas>=1.3.0 in /usr/local/lib/python3.8/dist-packages (from yfinance) (1.3.5)\n",
            "Requirement already satisfied: lxml>=4.9.1 in /usr/local/lib/python3.8/dist-packages (from yfinance) (4.9.2)\n",
            "Requirement already satisfied: numpy>=1.16.5 in /usr/local/lib/python3.8/dist-packages (from yfinance) (1.21.6)\n",
            "Requirement already satisfied: soupsieve>1.2 in /usr/local/lib/python3.8/dist-packages (from beautifulsoup4>=4.11.1->yfinance) (2.4)\n",
            "Requirement already satisfied: cffi>=1.12 in /usr/local/lib/python3.8/dist-packages (from cryptography>=3.3.2->yfinance) (1.15.1)\n",
            "Requirement already satisfied: webencodings in /usr/local/lib/python3.8/dist-packages (from html5lib>=1.1->yfinance) (0.5.1)\n",
            "Requirement already satisfied: six>=1.9 in /usr/local/lib/python3.8/dist-packages (from html5lib>=1.1->yfinance) (1.15.0)\n",
            "Requirement already satisfied: python-dateutil>=2.7.3 in /usr/local/lib/python3.8/dist-packages (from pandas>=1.3.0->yfinance) (2.8.2)\n",
            "Requirement already satisfied: charset-normalizer<4,>=2 in /usr/local/lib/python3.8/dist-packages (from requests>=2.26->yfinance) (2.1.1)\n",
            "Requirement already satisfied: certifi>=2017.4.17 in /usr/local/lib/python3.8/dist-packages (from requests>=2.26->yfinance) (2022.12.7)\n",
            "Requirement already satisfied: idna<4,>=2.5 in /usr/local/lib/python3.8/dist-packages (from requests>=2.26->yfinance) (2.10)\n",
            "Requirement already satisfied: urllib3<1.27,>=1.21.1 in /usr/local/lib/python3.8/dist-packages (from requests>=2.26->yfinance) (1.24.3)\n",
            "Requirement already satisfied: pycparser in /usr/local/lib/python3.8/dist-packages (from cffi>=1.12->cryptography>=3.3.2->yfinance) (2.21)\n",
            "[*********************100%***********************]  1 of 1 completed\n"
          ]
        }
      ],
      "source": [
        "!pip install yfinance\n",
        "\n",
        "import yfinance as yf\n",
        "\n",
        "data = yf.download(\"MSFT\", start=\"2012-1-1\", end=\"2020-6-1\") "
      ]
    },
    {
      "cell_type": "markdown",
      "metadata": {
        "id": "pClXYLVVtM6h"
      },
      "source": [
        "My own example 11:"
      ]
    },
    {
      "cell_type": "code",
      "execution_count": null,
      "metadata": {
        "colab": {
          "base_uri": "https://localhost:8080/",
          "height": 265
        },
        "id": "A4U5tpgetM6i",
        "outputId": "870f6e6a-9938-4b8d-a674-ea2074ee7f1d"
      },
      "outputs": [
        {
          "output_type": "display_data",
          "data": {
            "text/plain": [
              "<Figure size 432x288 with 1 Axes>"
            ],
            "image/png": "[encoded data removed]"
          },
          "metadata": {
            "needs_background": "light"
          }
        }
      ],
      "source": [
        "X = data['Open']\n",
        "\n",
        "plt.plot(X.index, X.values)\n",
        "plt.ylabel('Price')\n",
        "plt.legend(['MSFT']);"
      ]
    },
    {
      "cell_type": "markdown",
      "metadata": {
        "id": "gOVLQuIttM6i"
      },
      "source": [
        "My own example 12:"
      ]
    },
    {
      "cell_type": "code",
      "execution_count": null,
      "metadata": {
        "colab": {
          "base_uri": "https://localhost:8080/",
          "height": 283
        },
        "id": "5jgqrojAtM6i",
        "outputId": "7713190b-489c-451a-c8e1-706f613e01e3"
      },
      "outputs": [
        {
          "output_type": "display_data",
          "data": {
            "text/plain": [
              "<Figure size 432x288 with 1 Axes>"
            ],
            "image/png": "[encoded data removed]"
          },
          "metadata": {
            "needs_background": "light"
          }
        }
      ],
      "source": [
        "R = X.pct_change()[1:]\n",
        "\n",
        "plt.hist(R, bins=20)\n",
        "plt.xlabel('Return')\n",
        "plt.ylabel('Frequency')\n",
        "plt.legend(['MSFT Returns']);"
      ]
    },
    {
      "cell_type": "markdown",
      "source": [
        "## Introduction to Python"
      ],
      "metadata": {
        "id": "oSBOR4xhobBM"
      }
    },
    {
      "cell_type": "markdown",
      "metadata": {
        "id": "syYM2SoatM6i"
      },
      "source": [
        "My own example 13:"
      ]
    },
    {
      "cell_type": "code",
      "execution_count": 1,
      "metadata": {
        "colab": {
          "base_uri": "https://localhost:8080/"
        },
        "id": "T0Cky3lWtM6j",
        "outputId": "1e66426d-09e0-4714-9538-c89e4491a169"
      },
      "outputs": [
        {
          "output_type": "stream",
          "name": "stdout",
          "text": [
            "$\\tau:$ 6.283185307179586\n",
            "$\\infty:$ inf\n"
          ]
        }
      ],
      "source": [
        "import math\n",
        "\n",
        "print(r'$\\tau:$', math.tau)\n",
        "print(r'$\\infty:$', math.inf)"
      ]
    },
    {
      "cell_type": "markdown",
      "metadata": {
        "id": "Y1qlbnvZtM6j"
      },
      "source": [
        "My own example 14:"
      ]
    },
    {
      "cell_type": "code",
      "execution_count": 3,
      "metadata": {
        "id": "4YvABjyatM6j",
        "colab": {
          "base_uri": "https://localhost:8080/"
        },
        "outputId": "193400dc-74ad-4edd-af6e-5fa96d971bda"
      },
      "outputs": [
        {
          "output_type": "stream",
          "name": "stdout",
          "text": [
            "John 25\n"
          ]
        }
      ],
      "source": [
        "age = 25\n",
        "name = \"John\"\n",
        "\n",
        "print(name + \" \" + str(age))"
      ]
    },
    {
      "cell_type": "markdown",
      "metadata": {
        "id": "lOGOOrpPtM6j"
      },
      "source": [
        "My own example 15:"
      ]
    },
    {
      "cell_type": "code",
      "execution_count": 4,
      "metadata": {
        "id": "B76P6yintM6k",
        "colab": {
          "base_uri": "https://localhost:8080/"
        },
        "outputId": "ccaa567c-d194-4c5d-8538-6eb888eccfc4"
      },
      "outputs": [
        {
          "output_type": "execute_result",
          "data": {
            "text/plain": [
              "4"
            ]
          },
          "metadata": {},
          "execution_count": 4
        }
      ],
      "source": [
        "coordinates = (3, 4)\n",
        "coordinates[1]"
      ]
    },
    {
      "cell_type": "markdown",
      "metadata": {
        "id": "gi5sPVLstM6k"
      },
      "source": [
        "My own example 16:"
      ]
    },
    {
      "cell_type": "code",
      "execution_count": 6,
      "metadata": {
        "id": "OH1pKFYKtM6k",
        "colab": {
          "base_uri": "https://localhost:8080/"
        },
        "outputId": "205614e4-6b8f-4bb1-fde8-54efafee6bd0"
      },
      "outputs": [
        {
          "output_type": "execute_result",
          "data": {
            "text/plain": [
              "{2, 4}"
            ]
          },
          "metadata": {},
          "execution_count": 6
        }
      ],
      "source": [
        "numbers = {1, 2, 3, 4, 5}\n",
        "evens = {2, 4, 6, 8}\n",
        "numbers.intersection(evens)"
      ]
    },
    {
      "cell_type": "markdown",
      "metadata": {
        "id": "MhIRdgdgtM6l"
      },
      "source": [
        "My own example 17:"
      ]
    },
    {
      "cell_type": "code",
      "execution_count": 8,
      "metadata": {
        "id": "MGc0SUI7tM6l",
        "colab": {
          "base_uri": "https://localhost:8080/",
          "height": 35
        },
        "outputId": "b79e5533-bdbd-4fd5-ff16-6a5fa2317817"
      },
      "outputs": [
        {
          "output_type": "execute_result",
          "data": {
            "text/plain": [
              "'Alice'"
            ],
            "application/vnd.google.colaboratory.intrinsic+json": {
              "type": "string"
            }
          },
          "metadata": {},
          "execution_count": 8
        }
      ],
      "source": [
        "person = {\"name\": \"Alice\", \"age\": 30, \"city\": \"New York\"}\n",
        "person[\"name\"]"
      ]
    },
    {
      "cell_type": "markdown",
      "metadata": {
        "id": "B1JFpR52tM6l"
      },
      "source": [
        "My own example 18:"
      ]
    },
    {
      "cell_type": "code",
      "execution_count": null,
      "metadata": {
        "id": "89n1PNeHtM6m"
      },
      "outputs": [],
      "source": [
        "if age > 18:\n",
        "    print(\"You are an adult.\")\n",
        "else:\n",
        "    print(\"You are a minor.\")"
      ]
    },
    {
      "cell_type": "markdown",
      "metadata": {
        "id": "MxxIkwJbtM6m"
      },
      "source": [
        "My own example 19:"
      ]
    },
    {
      "cell_type": "code",
      "execution_count": null,
      "metadata": {
        "id": "X9ShPxDPtM6m"
      },
      "outputs": [],
      "source": [
        "def greet(name):\n",
        "    print(\"Hello, \" + name + \"!\")"
      ]
    },
    {
      "cell_type": "markdown",
      "metadata": {
        "id": "dlUar4CFtM6m"
      },
      "source": [
        "My own example 20:"
      ]
    },
    {
      "cell_type": "code",
      "execution_count": 9,
      "metadata": {
        "id": "8j58FyWCtM6n",
        "colab": {
          "base_uri": "https://localhost:8080/",
          "height": 35
        },
        "outputId": "8a871202-e0a2-41cb-d801-1e44d1022d8c"
      },
      "outputs": [
        {
          "output_type": "execute_result",
          "data": {
            "text/plain": [
              "'blue'"
            ],
            "application/vnd.google.colaboratory.intrinsic+json": {
              "type": "string"
            }
          },
          "metadata": {},
          "execution_count": 9
        }
      ],
      "source": [
        "colors = (\"red\", \"green\", \"blue\")\n",
        "colors[2]"
      ]
    },
    {
      "cell_type": "markdown",
      "metadata": {
        "id": "BuPFc_nltM6n"
      },
      "source": [
        "My own example 21:"
      ]
    },
    {
      "cell_type": "code",
      "execution_count": 10,
      "metadata": {
        "id": "r-__N2NItM6n",
        "colab": {
          "base_uri": "https://localhost:8080/"
        },
        "outputId": "9f57c9ab-2b78-4fb4-9350-70f2fb59e4b0"
      },
      "outputs": [
        {
          "output_type": "execute_result",
          "data": {
            "text/plain": [
              "{3, 5, 7, 11, 13, 17, 19, 23, 29, 31}"
            ]
          },
          "metadata": {},
          "execution_count": 10
        }
      ],
      "source": [
        "prime_numbers = {2, 3, 5, 7, 11, 13, 17, 19, 23, 29, 31}\n",
        "prime_numbers.difference(evens)"
      ]
    },
    {
      "cell_type": "markdown",
      "metadata": {
        "id": "dtVsBoKctM6n"
      },
      "source": [
        "My own example 22:"
      ]
    },
    {
      "cell_type": "code",
      "execution_count": 13,
      "metadata": {
        "id": "ehDvd4V2tM6o",
        "colab": {
          "base_uri": "https://localhost:8080/"
        },
        "outputId": "e2811364-fe20-41a8-9045-430149ff22f3"
      },
      "outputs": [
        {
          "output_type": "stream",
          "name": "stdout",
          "text": [
            "John: 90\n",
            "Alice: 85\n",
            "Bob: 70\n"
          ]
        }
      ],
      "source": [
        "students = {\"John\": 90, \"Alice\": 85, \"Bob\": 70}\n",
        "\n",
        "for k,v in students.items():\n",
        "  print(k + \": \" + str(v))"
      ]
    },
    {
      "cell_type": "markdown",
      "metadata": {
        "id": "MttDAsn5tM6o"
      },
      "source": [
        "My own example 23:"
      ]
    },
    {
      "cell_type": "code",
      "execution_count": 14,
      "metadata": {
        "id": "o_IwUcVYtM6o",
        "colab": {
          "base_uri": "https://localhost:8080/"
        },
        "outputId": "5988a13e-8d62-459c-f3f6-a9052208fba5"
      },
      "outputs": [
        {
          "output_type": "stream",
          "name": "stdout",
          "text": [
            "1\n",
            "2\n",
            "3\n",
            "4\n",
            "5\n"
          ]
        }
      ],
      "source": [
        "numbers = [1, 2, 3, 4, 5, 6, 7, 8, 9, 10]\n",
        "\n",
        "for num in numbers:\n",
        "    # Break out of the loop if we reach a number greater than 5\n",
        "    if num > 5:\n",
        "        break\n",
        "    print(num)"
      ]
    },
    {
      "cell_type": "markdown",
      "metadata": {
        "id": "ZPTaBPB-tM6o"
      },
      "source": [
        "My own example 24:"
      ]
    },
    {
      "cell_type": "code",
      "execution_count": null,
      "metadata": {
        "id": "c3s71xibtM6p"
      },
      "outputs": [],
      "source": [
        "i = 0\n",
        "\n",
        "while i < len(numbers):\n",
        "    # If the current number is even, skip it\n",
        "    if numbers[i] % 2 == 0:\n",
        "        i += 1\n",
        "        continue\n",
        "    print(numbers[i])\n",
        "    i += 1"
      ]
    },
    {
      "cell_type": "markdown",
      "source": [
        "My own example 25:"
      ],
      "metadata": {
        "id": "y-AWAQbdsAGN"
      }
    },
    {
      "cell_type": "code",
      "source": [
        "grades = {'Alice': 85, 'Bob': 92, 'Charlie': 78, 'David': 80}\n",
        "\n",
        "for name, grade in grades.items():\n",
        "    # If the grade is below 80, break out of the loop\n",
        "    if grade < 80:\n",
        "        print(name + ' has a failing grade')\n",
        "        break\n",
        "    print(name + ' has a passing grade')"
      ],
      "metadata": {
        "id": "WxHY7S3osAXt"
      },
      "execution_count": null,
      "outputs": []
    },
    {
      "cell_type": "markdown",
      "source": [
        "## Object-Oriented Programming"
      ],
      "metadata": {
        "id": "HU41xiDbs_9U"
      }
    },
    {
      "cell_type": "markdown",
      "source": [
        "My own example 26:\n",
        "\n",
        "Python code that use object-oriented programming to create a character object for the game **Mario Bros** and use a graphics library to display the character running:\n",
        "\n",
        "In this example, the `Mario` class and the `Luigi` class inherit from the `Character` class. The `Character` class has methods common to all characters in the game, such as `update`, `jump`, `move_left` and `move_right`. The Mario class and Luigi class define their own draw method to draw their specific character.\n",
        "\n",
        "With this example, you can create objects from the `Mario` class and the Luigi class, and call the methods defined in the `Character` class and in the `Mario` and `Luigi` classes."
      ],
      "metadata": {
        "id": "BEHYdaPSsAsg"
      }
    },
    {
      "cell_type": "code",
      "source": [
        "class Character:\n",
        "    def __init__(self, x, y):\n",
        "        # Initialize the Character object with an x and y position, and a velocity\n",
        "        self.x = x\n",
        "        self.y = y\n",
        "        self.velocity = 0\n",
        "\n",
        "    def update(self):\n",
        "        # Update the Character object's position based on its velocity\n",
        "        self.y += self.velocity\n",
        "        if self.y < 0:\n",
        "            self.y = 0\n",
        "\n",
        "    def jump(self):\n",
        "        # Make the Character object jump by setting its velocity to a positive value\n",
        "        self.velocity = 10\n",
        "\n",
        "    def move_left(self):\n",
        "        # Move the Character object to the left by adjusting its x position\n",
        "        self.x -= 5\n",
        "\n",
        "    def move_right(self):\n",
        "        # Move the Character object to the right by adjusting its x position\n",
        "        self.x += 5"
      ],
      "metadata": {
        "id": "0EXuywGvsA-K"
      },
      "execution_count": 8,
      "outputs": []
    },
    {
      "cell_type": "markdown",
      "source": [
        "My own example 27:"
      ],
      "metadata": {
        "id": "N1vHPnq6sBNm"
      }
    },
    {
      "cell_type": "code",
      "source": [
        "class Mario(Character):\n",
        "    def __init__(self, x, y):\n",
        "        # Initialize the Mario object with the superclass's constructor\n",
        "        super().__init__(x, y)\n",
        "\n",
        "    def draw(self):\n",
        "        # Draw the Mario character\n",
        "        arcade.draw_circle_filled(self.x, self.y + 20, 20, arcade.color.RED)\n",
        "        arcade.draw_rectangle_filled(self.x, self.y, 40, 40, arcade.color.RED)\n",
        "\n",
        "class Luigi(Character):\n",
        "    def __init__(self, x, y):\n",
        "        # Initialize the Luigi object with the superclass's constructor\n",
        "        super().__init__(x, y)\n",
        "\n",
        "    def draw(self):\n",
        "        # Draw the Luigi character\n",
        "        arcade.draw_circle_filled(self.x, self.y + 20, 20, arcade.color.GREEN)\n",
        "        arcade.draw_rectangle_filled(self.x, self.y, 40, 40, arcade.color.GREEN)"
      ],
      "metadata": {
        "id": "2HKmXbEw4QO_"
      },
      "execution_count": 9,
      "outputs": []
    },
    {
      "cell_type": "markdown",
      "source": [
        "My own example 28:"
      ],
      "metadata": {
        "id": "TXW2TI1tsB8Z"
      }
    },
    {
      "cell_type": "code",
      "source": [],
      "metadata": {
        "id": "qHbglJB_sCRL"
      },
      "execution_count": null,
      "outputs": []
    },
    {
      "cell_type": "markdown",
      "source": [
        "My own example 29:"
      ],
      "metadata": {
        "id": "tPjVLU1-sCmk"
      }
    },
    {
      "cell_type": "code",
      "source": [],
      "metadata": {
        "id": "RiS0VwmUsC5l"
      },
      "execution_count": null,
      "outputs": []
    },
    {
      "cell_type": "markdown",
      "source": [
        "My own example 30:"
      ],
      "metadata": {
        "id": "I3Bd02ELsDQ3"
      }
    },
    {
      "cell_type": "code",
      "source": [],
      "metadata": {
        "id": "OArbfkApsDiu"
      },
      "execution_count": null,
      "outputs": []
    },
    {
      "cell_type": "markdown",
      "source": [
        "My own example 31:"
      ],
      "metadata": {
        "id": "dwNQsQlosDvC"
      }
    },
    {
      "cell_type": "code",
      "source": [],
      "metadata": {
        "id": "MaIUCrKOsEQN"
      },
      "execution_count": null,
      "outputs": []
    },
    {
      "cell_type": "markdown",
      "source": [
        "My own example 32:"
      ],
      "metadata": {
        "id": "jAVSP76zsEju"
      }
    },
    {
      "cell_type": "code",
      "source": [],
      "metadata": {
        "id": "gCbLcEW7sE1d"
      },
      "execution_count": null,
      "outputs": []
    },
    {
      "cell_type": "markdown",
      "source": [
        "My own example 33:"
      ],
      "metadata": {
        "id": "1kLNDLLKsFPm"
      }
    },
    {
      "cell_type": "code",
      "source": [],
      "metadata": {
        "id": "LGqsoSxksFgy"
      },
      "execution_count": null,
      "outputs": []
    },
    {
      "cell_type": "markdown",
      "source": [
        "My own example 34:"
      ],
      "metadata": {
        "id": "Fjvs31hmsF0n"
      }
    },
    {
      "cell_type": "code",
      "source": [],
      "metadata": {
        "id": "Sr3JtwXxsGF7"
      },
      "execution_count": null,
      "outputs": []
    },
    {
      "cell_type": "markdown",
      "source": [
        "My own example 35:"
      ],
      "metadata": {
        "id": "BE6muvlLsGZ1"
      }
    },
    {
      "cell_type": "code",
      "source": [],
      "metadata": {
        "id": "nXtINO0LsGuK"
      },
      "execution_count": null,
      "outputs": []
    },
    {
      "cell_type": "markdown",
      "source": [
        "My own example 36:"
      ],
      "metadata": {
        "id": "6GgSpeiEsG7R"
      }
    },
    {
      "cell_type": "code",
      "source": [],
      "metadata": {
        "id": "kOvXYviXsHSn"
      },
      "execution_count": null,
      "outputs": []
    },
    {
      "cell_type": "markdown",
      "source": [
        "My own example 37:"
      ],
      "metadata": {
        "id": "yfiKXAxfsHvj"
      }
    },
    {
      "cell_type": "code",
      "source": [],
      "metadata": {
        "id": "lWlMdcHbsIBe"
      },
      "execution_count": null,
      "outputs": []
    }
  ],
  "metadata": {
    "kernelspec": {
      "display_name": "Python 3",
      "language": "python",
      "name": "python3"
    },
    "language_info": {
      "codemirror_mode": {
        "name": "ipython",
        "version": 3
      },
      "file_extension": ".py",
      "mimetype": "text/x-python",
      "name": "python",
      "nbconvert_exporter": "python",
      "pygments_lexer": "ipython3",
      "version": "3.10.6"
    },
    "orig_nbformat": 4,
    "vscode": {
      "interpreter": {
        "hash": "fb4569285eef3a3450cb62085a5b1e0da4bce0af555edc33dcf29baf3acc1368"
      }
    },
    "colab": {
      "provenance": [],
      "include_colab_link": true
    }
  },
  "nbformat": 4,
  "nbformat_minor": 0
}