{
  "nbformat": 4,
  "nbformat_minor": 0,
  "metadata": {
    "colab": {
      "provenance": [],
      "include_colab_link": true
    },
    "kernelspec": {
      "name": "python3",
      "display_name": "Python 3"
    },
    "language_info": {
      "name": "python"
    }
  },
  "cells": [
    {
      "cell_type": "markdown",
      "metadata": {
        "id": "view-in-github",
        "colab_type": "text"
      },
      "source": [
        "<a href=\"https://colab.research.google.com/github/JuanLara18/AlgorithmsUN2023I/blob/main/Lab4/jlaraGroup15Lab4.ipynb\" target=\"_parent\"><img src=\"https://colab.research.google.com/assets/colab-badge.svg\" alt=\"Open In Colab\"/></a>"
      ]
    },
    {
      "cell_type": "markdown",
      "metadata": {
        "id": "N1ok_-56OjB1"
      },
      "source": [
        "# I Solving the Sum of Two Digits Programming Challenge"
      ]
    },
    {
      "cell_type": "markdown",
      "metadata": {
        "id": "MMY7kmDSO0KM"
      },
      "source": [
        "## C++"
      ]
    },
    {
      "cell_type": "code",
      "metadata": {
        "colab": {
          "base_uri": "https://localhost:8080/"
        },
        "id": "2pGGf9BkPNIk",
        "outputId": "f5f4543e-191e-429c-9797-032337957ea6"
      },
      "source": [
        "%%writefile APlusB.cpp\n",
        "#include <iostream>\n",
        "\n",
        "int sum_of_two_digits(int first_digit, int second_digit) {\n",
        "    return first_digit + second_digit;\n",
        "}\n",
        "\n",
        "int main() {\n",
        "    int a = 0;\n",
        "    int b = 0;\n",
        "    std::cin >> a;\n",
        "    std::cin >> b;\n",
        "    std::cout << sum_of_two_digits(a, b);\n",
        "    return 0;\n",
        "}"
      ],
      "execution_count": null,
      "outputs": [
        {
          "output_type": "stream",
          "name": "stdout",
          "text": [
            "Overwriting APlusB.cpp\n"
          ]
        }
      ]
    },
    {
      "cell_type": "code",
      "metadata": {
        "colab": {
          "base_uri": "https://localhost:8080/"
        },
        "id": "0G3ZKOYAPXSU",
        "outputId": "aa101f2c-94bb-425e-9853-2deaae1927c3"
      },
      "source": [
        "!g++ APlusB.cpp -o APlusB\n",
        "!./APlusB"
      ],
      "execution_count": null,
      "outputs": [
        {
          "output_type": "stream",
          "name": "stdout",
          "text": [
            "2\n",
            "4\n",
            "6"
          ]
        }
      ]
    },
    {
      "cell_type": "markdown",
      "metadata": {
        "id": "iNkG2HqfTl9c"
      },
      "source": [
        "### Test input output files"
      ]
    },
    {
      "cell_type": "code",
      "metadata": {
        "colab": {
          "base_uri": "https://localhost:8080/"
        },
        "id": "aTzU2efzMxly",
        "outputId": "1f0767aa-1463-4002-8932-f6d3fb7e79c5"
      },
      "source": [
        "%%writefile input1.txt\n",
        "4 8"
      ],
      "execution_count": null,
      "outputs": [
        {
          "output_type": "stream",
          "name": "stdout",
          "text": [
            "Writing input1.txt\n"
          ]
        }
      ]
    },
    {
      "cell_type": "code",
      "metadata": {
        "colab": {
          "base_uri": "https://localhost:8080/"
        },
        "id": "zBJ0Gc0NQRet",
        "outputId": "7f548265-2ccc-4bd1-8184-51844a05b3fd"
      },
      "source": [
        "%%writefile output1.txt\n",
        "12"
      ],
      "execution_count": null,
      "outputs": [
        {
          "output_type": "stream",
          "name": "stdout",
          "text": [
            "Writing output1.txt\n"
          ]
        }
      ]
    },
    {
      "cell_type": "code",
      "metadata": {
        "colab": {
          "base_uri": "https://localhost:8080/"
        },
        "id": "IjEcIx63PJAN",
        "outputId": "693ec6c1-a57d-4e36-a4a6-a41a9e13a26a"
      },
      "source": [
        "%%writefile input2.txt\n",
        "-5 9"
      ],
      "execution_count": null,
      "outputs": [
        {
          "output_type": "stream",
          "name": "stdout",
          "text": [
            "Writing input2.txt\n"
          ]
        }
      ]
    },
    {
      "cell_type": "code",
      "metadata": {
        "colab": {
          "base_uri": "https://localhost:8080/"
        },
        "id": "Up9gOrxURTmd",
        "outputId": "688ad6b8-04fc-4f39-9aeb-b7088290421e"
      },
      "source": [
        "%%writefile output2.txt\n",
        "4"
      ],
      "execution_count": null,
      "outputs": [
        {
          "output_type": "stream",
          "name": "stdout",
          "text": [
            "Writing output2.txt\n"
          ]
        }
      ]
    },
    {
      "cell_type": "code",
      "metadata": {
        "colab": {
          "base_uri": "https://localhost:8080/"
        },
        "id": "PST6G-s-Pwgc",
        "outputId": "a5a9b0aa-a04a-4c9d-8bf8-fa1afc1fed18"
      },
      "source": [
        "!./APlusB < input1.txt"
      ],
      "execution_count": null,
      "outputs": [
        {
          "output_type": "stream",
          "name": "stdout",
          "text": [
            "12"
          ]
        }
      ]
    },
    {
      "cell_type": "code",
      "metadata": {
        "colab": {
          "base_uri": "https://localhost:8080/"
        },
        "id": "cKxZOjSlRfIN",
        "outputId": "34171c41-dc46-4853-9ed7-325b2df27d36"
      },
      "source": [
        "!./APlusB < input2.txt"
      ],
      "execution_count": null,
      "outputs": [
        {
          "output_type": "stream",
          "name": "stdout",
          "text": [
            "4"
          ]
        }
      ]
    },
    {
      "cell_type": "markdown",
      "metadata": {
        "id": "Qw2TQWCCUwqk"
      },
      "source": [
        "### Comparing files with grep\n",
        "\n",
        "https://askubuntu.com/questions/546796/comparing-two-text-files"
      ]
    },
    {
      "cell_type": "code",
      "metadata": {
        "id": "WVIaAmMKU4QM"
      },
      "source": [
        "!grep -xvFf output1.txt output1.txt "
      ],
      "execution_count": null,
      "outputs": []
    },
    {
      "cell_type": "code",
      "metadata": {
        "colab": {
          "base_uri": "https://localhost:8080/"
        },
        "id": "MQU8gPPjQuYO",
        "outputId": "3a24ba2b-1a81-47c8-ba98-3d91661343ec"
      },
      "source": [
        "!grep -xvFf output1.txt output2.txt "
      ],
      "execution_count": null,
      "outputs": [
        {
          "output_type": "stream",
          "name": "stdout",
          "text": [
            "4\n"
          ]
        }
      ]
    },
    {
      "cell_type": "code",
      "metadata": {
        "colab": {
          "base_uri": "https://localhost:8080/"
        },
        "id": "jYL9OuYBTD_l",
        "outputId": "ee0293ea-886b-40a7-c469-8676e300037b"
      },
      "source": [
        "!grep -xvFf output2.txt output1.txt "
      ],
      "execution_count": null,
      "outputs": [
        {
          "output_type": "stream",
          "name": "stdout",
          "text": [
            "12\n"
          ]
        }
      ]
    },
    {
      "cell_type": "code",
      "metadata": {
        "id": "Jlja0Xm4TX9M"
      },
      "source": [
        "!./APlusB < input1.txt> ctest1.txt\n",
        "!grep -xvFf output1.txt ctest1.txt"
      ],
      "execution_count": null,
      "outputs": []
    },
    {
      "cell_type": "code",
      "metadata": {
        "id": "g9OIUZA_QLCQ"
      },
      "source": [
        "!./APlusB < input2.txt > ctest2.txt\n",
        "!grep -xvFf output2.txt ctest2.txt"
      ],
      "execution_count": null,
      "outputs": []
    },
    {
      "cell_type": "markdown",
      "metadata": {
        "id": "3BgOaDjUVJk6"
      },
      "source": [
        "## Python"
      ]
    },
    {
      "cell_type": "code",
      "metadata": {
        "colab": {
          "base_uri": "https://localhost:8080/"
        },
        "id": "DBvl-T0CTN_8",
        "outputId": "7adef4ab-087e-48ae-afc3-7152f72c15a2"
      },
      "source": [
        "%%writefile sum.py\n",
        "# python3\n",
        "\n",
        "def sum_of_two_digits(first_digit, second_digit):\n",
        "    return first_digit + second_digit\n",
        "\n",
        "if __name__ == '__main__':\n",
        "    a, b = map(int, input().split())\n",
        "    print(sum_of_two_digits(a, b))"
      ],
      "execution_count": null,
      "outputs": [
        {
          "output_type": "stream",
          "name": "stdout",
          "text": [
            "Writing sum.py\n"
          ]
        }
      ]
    },
    {
      "cell_type": "code",
      "metadata": {
        "colab": {
          "base_uri": "https://localhost:8080/"
        },
        "id": "QKoKM11_WGyF",
        "outputId": "d1cb7eaa-d227-4a6d-ffca-85e5885caeff"
      },
      "source": [
        "!python sum.py"
      ],
      "execution_count": null,
      "outputs": [
        {
          "output_type": "stream",
          "name": "stdout",
          "text": [
            "23 45\n",
            "68\n"
          ]
        }
      ]
    },
    {
      "cell_type": "code",
      "metadata": {
        "id": "cocFbPRTWrqt"
      },
      "source": [
        "!python sum.py  < input1.txt> ptest1.txt\n",
        "!grep -xvFf output1.txt ptest1.txt"
      ],
      "execution_count": null,
      "outputs": []
    },
    {
      "cell_type": "code",
      "metadata": {
        "id": "MorKTa-XXASN"
      },
      "source": [
        "!python sum.py  < input2.txt> ptest2.txt\n",
        "!grep -xvFf output2.txt ptest2.txt"
      ],
      "execution_count": null,
      "outputs": []
    },
    {
      "cell_type": "markdown",
      "metadata": {
        "id": "uvP-mOubW_5F"
      },
      "source": [
        "# II Solving The Maximum Pairwise Product Programming Challenge in C++"
      ]
    },
    {
      "cell_type": "markdown",
      "metadata": {
        "id": "C12yoFR6Xonl"
      },
      "source": [
        "## C++"
      ]
    },
    {
      "cell_type": "code",
      "metadata": {
        "colab": {
          "base_uri": "https://localhost:8080/"
        },
        "id": "YL4qJX3tXxdd",
        "outputId": "b1ef2d2a-c3e0-43da-8e7b-2b380e96b056"
      },
      "source": [
        "%%writefile max_pairwise_product.cpp\n",
        "#include <iostream>\n",
        "#include <vector>\n",
        "#include <algorithm>\n",
        "\n",
        "int MaxPairwiseProduct(const std::vector<int>& numbers) {\n",
        "    int max_product = 0;\n",
        "    int n = numbers.size();\n",
        "\n",
        "    for (int first = 0; first < n; ++first) {\n",
        "        for (int second = first + 1; second < n; ++second) {\n",
        "            max_product = std::max(max_product,\n",
        "                numbers[first] * numbers[second]);\n",
        "        }\n",
        "    }\n",
        "\n",
        "    return max_product;\n",
        "}\n",
        "\n",
        "int main() {\n",
        "    int n;\n",
        "    std::cin >> n;\n",
        "    std::vector<int> numbers(n);\n",
        "    for (int i = 0; i < n; ++i) {\n",
        "        std::cin >> numbers[i];\n",
        "    }\n",
        "\n",
        "    std::cout << MaxPairwiseProduct(numbers) << \"\\n\";\n",
        "    return 0;\n",
        "}\n"
      ],
      "execution_count": null,
      "outputs": [
        {
          "output_type": "stream",
          "name": "stdout",
          "text": [
            "Writing max_pairwise_product.cpp\n"
          ]
        }
      ]
    },
    {
      "cell_type": "code",
      "metadata": {
        "colab": {
          "base_uri": "https://localhost:8080/"
        },
        "id": "KGxaEjvWX__O",
        "outputId": "168bd1e5-877f-43d9-b320-848dd60bf034"
      },
      "source": [
        "!g++ max_pairwise_product.cpp -o max_pairwise_product\n",
        "!./max_pairwise_product"
      ],
      "execution_count": null,
      "outputs": [
        {
          "output_type": "stream",
          "name": "stdout",
          "text": [
            "4\n",
            "2\n",
            "3\n",
            "3\n",
            "-3\n",
            "9\n"
          ]
        }
      ]
    },
    {
      "cell_type": "markdown",
      "metadata": {
        "id": "e7KhxHGNS3i0"
      },
      "source": [
        "### Test 1: Small numbers"
      ]
    },
    {
      "cell_type": "code",
      "metadata": {
        "colab": {
          "base_uri": "https://localhost:8080/"
        },
        "id": "e1mmTzBgShT-",
        "outputId": "af8814ec-7358-452d-e16d-f95923565027"
      },
      "source": [
        "%%writefile input1.txt\n",
        "10\n",
        "1 2 3 4 5 6 7 8 9 10"
      ],
      "execution_count": null,
      "outputs": [
        {
          "output_type": "stream",
          "name": "stdout",
          "text": [
            "Writing input1.txt\n"
          ]
        }
      ]
    },
    {
      "cell_type": "code",
      "metadata": {
        "colab": {
          "base_uri": "https://localhost:8080/"
        },
        "id": "vy_uI0x7TCId",
        "outputId": "ef7f08a3-7024-40ed-88f0-8fc7c4e03e99"
      },
      "source": [
        "!./max_pairwise_product < input1.txt"
      ],
      "execution_count": null,
      "outputs": [
        {
          "output_type": "stream",
          "name": "stdout",
          "text": [
            "90\n"
          ]
        }
      ]
    },
    {
      "cell_type": "markdown",
      "metadata": {
        "id": "IeZ3kTjpYmR9"
      },
      "source": [
        "### Test 2: largest input numbers 200000 200000 in the input"
      ]
    },
    {
      "cell_type": "code",
      "metadata": {
        "colab": {
          "base_uri": "https://localhost:8080/"
        },
        "id": "LQNlZqaqYt7U",
        "outputId": "08de9c9f-f513-4e6b-ce9e-a53d61e58698"
      },
      "source": [
        "%%writefile input2.txt\n",
        "6\n",
        "1 3 200000 9 200000 23"
      ],
      "execution_count": null,
      "outputs": [
        {
          "output_type": "stream",
          "name": "stdout",
          "text": [
            "Writing input2.txt\n"
          ]
        }
      ]
    },
    {
      "cell_type": "code",
      "metadata": {
        "colab": {
          "base_uri": "https://localhost:8080/"
        },
        "id": "2Wad2VZUZDxR",
        "outputId": "29d0d26f-5dce-43fe-8718-626a29dfcf93"
      },
      "source": [
        "!./max_pairwise_product < input2.txt"
      ],
      "execution_count": null,
      "outputs": [
        {
          "output_type": "stream",
          "name": "stdout",
          "text": [
            "1345294336\n"
          ]
        }
      ]
    },
    {
      "cell_type": "markdown",
      "metadata": {
        "id": "H2SC0Qt5HCzz"
      },
      "source": [
        "Changing the variables to long long"
      ]
    },
    {
      "cell_type": "code",
      "metadata": {
        "colab": {
          "base_uri": "https://localhost:8080/"
        },
        "id": "MPcmsxiQZSfE",
        "outputId": "0e2bbdc7-e38d-46a8-825a-508c2ca917a5"
      },
      "source": [
        "%%writefile max_pairwise_product_long.cpp\n",
        "#include <iostream>\n",
        "#include <vector>\n",
        "#include <algorithm>\n",
        "\n",
        "long long MaxPairwiseProduct(const std::vector<int>& numbers) {\n",
        "    long long max_product = 0LL;\n",
        "\t  long long aux_product = 0LL;\n",
        "    int n = numbers.size();\n",
        "\n",
        "    for (int first = 0; first < n; ++first) {\n",
        "        for (int second = first + 1; second < n; ++second) {\n",
        "\t\t\t       aux_product =  (long long) numbers[first] * numbers[second];\n",
        "            if ( max_product < aux_product)  {\n",
        "\t\t\t\t        max_product = aux_product;\n",
        "             }\n",
        "        }\n",
        "    }\n",
        "\n",
        "    return max_product;\n",
        "}\n",
        "\n",
        "int main() {\n",
        "    int n;\n",
        "    std::cin >> n;\n",
        "    std::vector<int> numbers(n);\n",
        "    for (int i = 0; i < n; ++i) {\n",
        "        std::cin >> numbers[i];\n",
        "    }\n",
        "\n",
        "    std::cout << MaxPairwiseProduct(numbers) << \"\\n\";\n",
        "    return 0;\n",
        "}\n"
      ],
      "execution_count": null,
      "outputs": [
        {
          "output_type": "stream",
          "name": "stdout",
          "text": [
            "Writing max_pairwise_product_long.cpp\n"
          ]
        }
      ]
    },
    {
      "cell_type": "code",
      "metadata": {
        "colab": {
          "base_uri": "https://localhost:8080/"
        },
        "id": "I5pCeOG1Zm7s",
        "outputId": "51ff5656-0391-4564-d288-baff4186d386"
      },
      "source": [
        "!g++ max_pairwise_product_long.cpp -o max_pairwise_product_long\n",
        "!./max_pairwise_product_long < input1.txt\n",
        "!./max_pairwise_product_long < input2.txt"
      ],
      "execution_count": null,
      "outputs": [
        {
          "output_type": "stream",
          "name": "stdout",
          "text": [
            "90\n",
            "40000000000\n"
          ]
        }
      ]
    },
    {
      "cell_type": "markdown",
      "metadata": {
        "id": "XPVHkHxH6_7s"
      },
      "source": [
        "### Test 3  stress tests 20  times  random n in [2, 20] "
      ]
    },
    {
      "cell_type": "code",
      "metadata": {
        "id": "PwqpBmYr69fu",
        "outputId": "ce3ab988-6f63-4504-e17c-17a91dc16503",
        "colab": {
          "base_uri": "https://localhost:8080/"
        }
      },
      "source": [
        "%%writefile input3.txt\n",
        "20"
      ],
      "execution_count": null,
      "outputs": [
        {
          "output_type": "stream",
          "name": "stdout",
          "text": [
            "Overwriting input3.txt\n"
          ]
        }
      ]
    },
    {
      "cell_type": "code",
      "source": [
        "%%writefile random_stress_test.cpp\n",
        "#include <iostream>\n",
        "#include <cstdlib>\n",
        "#include <ctime>\n",
        "\n",
        "using namespace std;\n",
        "\n",
        "int main() {\n",
        "    int n;\n",
        "    cin >> n; // If you want 20, put 20\n",
        "    \n",
        "    // Seed the random number generator\n",
        "    srand(time(NULL));\n",
        "    \n",
        "    // Generate n random numbers and write them to the output file\n",
        "    for (int i = 0; i < n; i++) {\n",
        "        int num = rand() % 19 + 2;\n",
        "        cout << num << endl;\n",
        "    }\n",
        "\n",
        "    return 0;\n",
        "}\n"
      ],
      "metadata": {
        "id": "93K2vDUUGFD3",
        "outputId": "9ebc078b-e65f-4320-918c-e5a3f1860b64",
        "colab": {
          "base_uri": "https://localhost:8080/"
        }
      },
      "execution_count": null,
      "outputs": [
        {
          "output_type": "stream",
          "name": "stdout",
          "text": [
            "Writing random_stress_test.cpp\n"
          ]
        }
      ]
    },
    {
      "cell_type": "code",
      "source": [
        "!g++ random_stress_test.cpp -o random_stress_test\n",
        "!./random_stress_test < input3.txt"
      ],
      "metadata": {
        "id": "eHEm7bBrH2Tc",
        "outputId": "6b1d4f71-fa72-4d15-9ba2-b06f4f1a3c03",
        "colab": {
          "base_uri": "https://localhost:8080/"
        }
      },
      "execution_count": null,
      "outputs": [
        {
          "output_type": "stream",
          "name": "stdout",
          "text": [
            "2\n",
            "18\n",
            "2\n",
            "16\n",
            "16\n",
            "2\n",
            "19\n",
            "7\n",
            "18\n",
            "13\n",
            "9\n",
            "20\n",
            "14\n",
            "7\n",
            "8\n",
            "12\n",
            "18\n",
            "13\n",
            "8\n",
            "7\n"
          ]
        }
      ]
    },
    {
      "cell_type": "markdown",
      "metadata": {
        "id": "9z9yr5QkeyJF"
      },
      "source": [
        "### Test 4  time test  measure the execution time running with the the largest worst case file (200000 increasing numbers, 200000 and 200000 the end) "
      ]
    },
    {
      "cell_type": "code",
      "metadata": {
        "id": "oLiMjbAIfPlX",
        "colab": {
          "base_uri": "https://localhost:8080/"
        },
        "outputId": "3c504894-08fd-4043-98a2-a0b643c8d925"
      },
      "source": [
        "%%writefile Test2Write.cpp\n",
        "\n",
        "#include <iostream>\n",
        "#include <fstream>\n",
        "#include <cstdlib>\n",
        "\n",
        "using namespace std;\n",
        "\n",
        "int main() {\n",
        "  // Create and open a text file\n",
        "  ofstream MyFile(\"input3.txt\");\n",
        "\n",
        " MyFile << 200000 <<\"\\n\";  // n \n",
        " for (int i=1; i < 200001; i++){\n",
        "     MyFile << i <<\" \";\n",
        " }\n",
        "  \n",
        "  // Close the file\n",
        "  MyFile.close();\n",
        "}"
      ],
      "execution_count": null,
      "outputs": [
        {
          "output_type": "stream",
          "name": "stdout",
          "text": [
            "Writing Test2Write.cpp\n"
          ]
        }
      ]
    },
    {
      "cell_type": "code",
      "metadata": {
        "id": "EH25TkOkZfD9"
      },
      "source": [
        "!g++ Test2Write.cpp -o Test2Write\n",
        "!./Test2Write"
      ],
      "execution_count": null,
      "outputs": []
    },
    {
      "cell_type": "markdown",
      "metadata": {
        "id": "JB6f03qO-lj9"
      },
      "source": [
        "Measure time\n",
        "\n",
        "https://askubuntu.com/questions/53444/how-can-i-measure-the-execution-time-of-a-terminal-process"
      ]
    },
    {
      "cell_type": "code",
      "metadata": {
        "colab": {
          "base_uri": "https://localhost:8080/"
        },
        "id": "6p2QLEr576zk",
        "outputId": "3168b40b-e796-426c-a474-4dcb81dcd956"
      },
      "source": [
        "!g++ max_pairwise_product_long.cpp -o max_pairwise_product_long\n",
        "!time ./max_pairwise_product_long < input3.txt"
      ],
      "execution_count": null,
      "outputs": [
        {
          "output_type": "stream",
          "name": "stdout",
          "text": [
            "39999800000\n",
            "\n",
            "real\t1m34.474s\n",
            "user\t1m33.882s\n",
            "sys\t0m0.040s\n"
          ]
        }
      ]
    },
    {
      "cell_type": "markdown",
      "metadata": {
        "id": "AmZeB2wYjxy5"
      },
      "source": [
        "##### Calculate  the number of instructions executed by the algorithm as a function of n, add in each line a comment with the number of instructions that are executed in that line \n",
        "\n",
        "```cpp\n",
        " int main() {                         //N inst exec by line executed  \n",
        "   \n",
        "    int n;                            //1                      \n",
        "    std::cin >> n;                    //1\n",
        "                                              \n",
        "    std::vector<int> numbers(n);      //n    init vector\n",
        "    .\n",
        "    .\n",
        " }\n",
        "\n",
        "```"
      ]
    },
    {
      "cell_type": "code",
      "metadata": {
        "colab": {
          "base_uri": "https://localhost:8080/"
        },
        "id": "djGX3FL13g9b",
        "outputId": "270176eb-1660-419e-de67-2c8f8c3c7f74"
      },
      "source": [
        "%%writefile test_init_vectors.cpp\n",
        "#include <iostream>\n",
        "#include <vector>\n",
        "#include <algorithm>\n",
        "int main() {                                                               \n",
        "    int n = 10;                                                                                                                            //1\n",
        "    std::vector<int> numbers(n);                                            \n",
        "    for (int i = 0; i < n; ++i) {                                           \n",
        "        std::cout << numbers[i];                                             \n",
        "    }\n",
        "\n",
        "    std::cout << \"\\n\";                       \n",
        "    return 0;                                                              \n",
        "}  "
      ],
      "execution_count": null,
      "outputs": [
        {
          "output_type": "stream",
          "text": [
            "Overwriting test_init_vectors.cpp\n"
          ],
          "name": "stdout"
        }
      ]
    },
    {
      "cell_type": "code",
      "metadata": {
        "colab": {
          "base_uri": "https://localhost:8080/"
        },
        "id": "44gZcuE237-1",
        "outputId": "7f5f9c2a-bed0-4223-ee39-3290f70db610"
      },
      "source": [
        "!g++ test_init_vectors.cpp -o test_init_vectors\n",
        "!./test_init_vectors"
      ],
      "execution_count": null,
      "outputs": [
        {
          "output_type": "stream",
          "text": [
            "0000000000\n"
          ],
          "name": "stdout"
        }
      ]
    },
    {
      "cell_type": "code",
      "metadata": {
        "colab": {
          "base_uri": "https://localhost:8080/"
        },
        "id": "uG6Mv-Pwlkii",
        "outputId": "8b4b2a48-2fc3-4feb-81ab-088e183a49f5"
      },
      "source": [
        "%%writefile max_pairwise_product_long.cpp\n",
        "#include <iostream>\n",
        "#include <vector>\n",
        "#include <algorithm>\n",
        "\n",
        "long long MaxPairwiseProduct(const std::vector<int>& numbers) {              //N inst exec by line executed \n",
        "    long long max_product = 0LL;                                             //1                                          \n",
        "\t  long long aux_product = 0LL;                                             //1 \n",
        "    int n = numbers.size();                                                  //1 \n",
        "                                                                             \n",
        "    for (int first = 0; first < n; ++first) {                                //1+2n  \n",
        "        for (int second = first + 1; second < n; ++second) {                 //n + (n-1)n \n",
        "\t\t\t       aux_product =  (long long) numbers[first] * numbers[second];    //(n-1)n/2 \n",
        "            if (max_product < aux_product)  {                                //(n-1)n/2 \n",
        "\t\t\t\t        max_product = aux_product;                                   //[0, (n-1)n/2] \n",
        "             }\n",
        "        }\n",
        "    }\n",
        "                                                                             // -------------- \n",
        "    return max_product;                                                      // 4 + 3n + [2(n-1)n, 2.5 (n-1)n] \n",
        "}\n",
        "\n",
        "int main() {                                              //N inst exec by line executed \n",
        "    int n;                                                //1  \n",
        "    std::cin >> n;                                        //1\n",
        "    std::vector<int> numbers(n);                          //n\n",
        "    for (int i = 0; i < n; ++i) {                         //1 + 2n\n",
        "        std::cin >> numbers[i];                           //n\n",
        "    }\n",
        "\n",
        "    std::cout << MaxPairwiseProduct(numbers) << \"\\n\";     //1 + 1  + 4 + 3n + [2(n-1)n, 2.5 (n-1)n]\n",
        "    return 0;                                             // -------------- \n",
        "}                                                         // 9 + 7n + [2(n-1)n, 2.5 (n-1)n]\n"
      ],
      "execution_count": null,
      "outputs": [
        {
          "output_type": "stream",
          "text": [
            "Overwriting max_pairwise_product_long.cpp\n"
          ],
          "name": "stdout"
        }
      ]
    },
    {
      "cell_type": "markdown",
      "metadata": {
        "id": "0vTsUg8OwcHs"
      },
      "source": [
        "Count executed intructions in code and verify with inputs 1, 2 and 3"
      ]
    },
    {
      "cell_type": "code",
      "metadata": {
        "colab": {
          "base_uri": "https://localhost:8080/"
        },
        "id": "CuRKkqQc137V",
        "outputId": "58b72004-01f8-4734-96f8-5ff1a32cdd31"
      },
      "source": [
        "%%writefile max_pairwise_product_long_execints.cpp\n",
        "#include <iostream>\n",
        "#include <vector>\n",
        "#include <algorithm>\n",
        "\n",
        "long long MaxPairwiseProduct(const std::vector<int>& numbers, long long &execints) {              //N inst exec by line executed \n",
        "    \n",
        "    long long m = 0LL;                                                       //1\n",
        "    \n",
        "    long long max_product = 0LL;                                             //1\n",
        "    execints++;\n",
        "\n",
        "\t  long long aux_product = 0LL;                                             //1\n",
        "    execints++;\n",
        "\n",
        "    int n = numbers.size();                                                  //1 \n",
        "    execints++;\n",
        "\n",
        "    execints++;                                                                         \n",
        "    for (int first = 0; first < n; ++first) {                                //1+2n  \n",
        "        execints += 2;\n",
        "\n",
        "        long long m = 0LL;\n",
        "\n",
        "        execints++;                                    \n",
        "        for (int second = first + 1; second < n; ++second) {                 //n+ (n-1)n \n",
        "            execints += 2;                                                \n",
        "\n",
        "\t\t\t      aux_product =  (long long) numbers[first] * numbers[second];    //(n-1)n/2 \n",
        "            execints++; \n",
        "\n",
        "            execints++; \n",
        "            if ( max_product < aux_product)  {                               //(n-1)n/2 \n",
        "                       \n",
        "\t\t\t\t        max_product = aux_product;                                   //[0, (n-1)n/2] \n",
        "                execints++; \n",
        "                m++;\n",
        "             }\n",
        "        }\n",
        "        if ( (first <= 10) || (n- first <= 10)) std::cout << m << \"\\n\";\n",
        "    }\n",
        "                                                                            // -------------- \n",
        "    return max_product;                                                     // 4 + 3n + [2(n-1)n, 2.5 (n-1)n] \n",
        "}\n",
        "\n",
        "int main() {                                                 //N inst exec by line executed \n",
        "    long long execints =0LL;\n",
        "\n",
        "    int n;                                                   //1\n",
        "    execints++;                                                              \n",
        "    \n",
        "    std::cin >> n;                                           //1\n",
        "    execints++;\n",
        "\n",
        "    std::vector<int> numbers(n);                             //n\n",
        "    execints += n;\n",
        "    \n",
        "    execints++;\n",
        "    for (int i = 0; i < n; ++i) {                            //1 + 2n\n",
        "        execints += 2;\n",
        "\n",
        "        std::cin >> numbers[i];\n",
        "        execints++;                                          //n\n",
        "    }\n",
        "    \n",
        "    //std::cout << MaxPairwiseProduct(numbers) << \"\\n\";      //1 + 1  + 4 + 3n + [2(n-1)n, 2.5 (n-1)n]\n",
        "\n",
        "    execints++;\n",
        "    int M = MaxPairwiseProduct(numbers,execints);\n",
        "\n",
        "    execints++;\n",
        "    std::cout <<  execints << \"\\n\";                       \n",
        "    return 0;                                                // -------------- \n",
        "}                                                            // 9 + 7n + [2(n-1)n, 2.5 (n-1)n]"
      ],
      "execution_count": null,
      "outputs": [
        {
          "output_type": "stream",
          "text": [
            "Overwriting max_pairwise_product_long_execints.cpp\n"
          ],
          "name": "stdout"
        }
      ]
    },
    {
      "cell_type": "code",
      "metadata": {
        "colab": {
          "base_uri": "https://localhost:8080/"
        },
        "id": "Kuvm1C05ly2a",
        "outputId": "f8e2f872-e7d9-4732-acb4-5ffe2e6568d1"
      },
      "source": [
        "!g++ max_pairwise_product_long_execints.cpp -o max_pairwise_product_long_execints\n",
        "!./max_pairwise_product_long_execints < input1.txt\n",
        "!./max_pairwise_product_long_execints < input2.txt\n",
        "!./max_pairwise_product_long_execints < input3.txt"
      ],
      "execution_count": null,
      "outputs": [
        {
          "output_type": "stream",
          "text": [
            "9\n",
            "5\n",
            "4\n",
            "3\n",
            "2\n",
            "2\n",
            "2\n",
            "2\n",
            "1\n",
            "0\n",
            "289\n",
            "2\n",
            "1\n",
            "2\n",
            "0\n",
            "0\n",
            "0\n",
            "116\n",
            "199999\n",
            "100000\n",
            "66667\n",
            "50000\n",
            "40000\n",
            "33334\n",
            "28572\n",
            "25000\n",
            "22223\n",
            "20000\n",
            "18182\n",
            "2\n",
            "2\n",
            "2\n",
            "2\n",
            "2\n",
            "2\n",
            "2\n",
            "2\n",
            "1\n",
            "0\n",
            "80003672077\n"
          ],
          "name": "stdout"
        }
      ]
    },
    {
      "cell_type": "markdown",
      "metadata": {
        "id": "L_uaamxeAHK7"
      },
      "source": [
        "The number of instructions executed by the algooirithm with a list of size $n$ is  \n",
        "\n",
        "$$T = 9 + 7n + [2(n-1)n, 2.5 (n-1)n]$$\n",
        "\n",
        "It depends on the size of the lists and  the order of the list.\n",
        "\n",
        "For the input1.txt \n",
        "```\n",
        "10\n",
        "1 2 3 4 5 6 7 8 9 10\n",
        "```\n",
        "$$T = 9 + 7(10) + 2(9)(10) +  9 + 5 + 4 + 3 + 2 + 2 + 2 + 2 + 1 + 0  = 289 $$\n",
        "\n",
        "For the input2.txt \n",
        "```\n",
        "6\n",
        "1 3 200000 9 200000 23\n",
        "```\n",
        "$$T = 9 + 7(6) + 2(5)(6)  +  2 + 1 + 2 + 0 + 0 + 0 = 116 $$\n",
        "\n",
        "\n",
        "For the input3.txt that is the worst case (n=200000 and list in incresing order)\n",
        "\n",
        "```\n",
        "200000\n",
        "1 2 3 4 5 6 7 8 9 10 ... 199998 199999 200000\n",
        "```\n",
        "\n",
        "$$\n",
        "\\begin{array}{ll}\n",
        "T &= 9 + 7(200000) + (2)(199999)(200000)  + (199999 +\n",
        "100000 + 66667 +50000 \\cdots 2 + 2 + 1)\\\\\n",
        "&= 80003672077  \\\\\n",
        "  &< 9 + 7(200000) + (2.5)(199999)(200000) \\\\\n",
        "  & = 100000900009\n",
        "\\end{array}\n",
        "  $$"
      ]
    },
    {
      "cell_type": "markdown",
      "metadata": {
        "id": "NXW7QkoBL6xH"
      },
      "source": [
        "Calculate estimated time by instruction and number of instructions by second"
      ]
    },
    {
      "cell_type": "code",
      "metadata": {
        "colab": {
          "base_uri": "https://localhost:8080/"
        },
        "id": "pKqB3i7dIxnc",
        "outputId": "cec850f5-16e3-4cd6-bf9b-6f5f2fd7b076"
      },
      "source": [
        "# Estimated time by instruction\n",
        "\n",
        "128/80003672077 \n"
      ],
      "execution_count": null,
      "outputs": [
        {
          "output_type": "execute_result",
          "data": {
            "text/plain": [
              "1.5999265618308827e-09"
            ]
          },
          "metadata": {
            "tags": []
          },
          "execution_count": 34
        }
      ]
    },
    {
      "cell_type": "code",
      "metadata": {
        "colab": {
          "base_uri": "https://localhost:8080/"
        },
        "id": "18N1ouqeMhE1",
        "outputId": "d7d4d1bf-b899-4c01-8ecb-e30da3ae6468"
      },
      "source": [
        "# Estimated number of instructions by second\n",
        "\n",
        "1/(128/80003672077) "
      ],
      "execution_count": null,
      "outputs": [
        {
          "output_type": "execute_result",
          "data": {
            "text/plain": [
              "625028688.1015625"
            ]
          },
          "metadata": {
            "tags": []
          },
          "execution_count": 35
        }
      ]
    },
    {
      "cell_type": "markdown",
      "metadata": {
        "id": "CQufozXLNJwO"
      },
      "source": [
        "### Efficient solution"
      ]
    },
    {
      "cell_type": "markdown",
      "metadata": {
        "id": "nLcKBwbU0QsE"
      },
      "source": [
        "Add in each line a coment with the number of intstrcution that are executed in that line"
      ]
    },
    {
      "cell_type": "code",
      "metadata": {
        "id": "knls5Fh3NSt_",
        "colab": {
          "base_uri": "https://localhost:8080/"
        },
        "outputId": "bf073a06-f285-46e6-bfed-b1f66c3ede74"
      },
      "source": [
        "                                                  #Número de pasos\n",
        "def max_pairwise_product(numbers):                #1\n",
        "  n = len(numbers)                                #1\n",
        "  numeroMasGrande = 0                             #1\n",
        "  segundoNumeroMasGrande = 0                      #1\n",
        "  for i in range(n):                              #n\n",
        "    if(numbers[i] > numeroMasGrande):             #n+1\n",
        "      segundoNumeroMasGrande = numeroMasGrande    #n\n",
        "      numeroMasGrande = numbers[i]                #n\n",
        "    elif(numbers[i] > segundoNumeroMasGrande):    #n\n",
        "      segundoNumeroMasGrande = numbers[i]         #n\n",
        "    else:                                         #1\n",
        "      continue                                    #n\n",
        "  return numeroMasGrande * segundoNumeroMasGrande #1\n",
        "                                                  #------------------\n",
        "                                          #TOTAL  4n+5\n",
        "                                          #Compeljidad O(n)         \n",
        "\n",
        "if __name__ == '__main__':\n",
        "  _ = int(input())\n",
        "  input_numbers = list(map(int, input().split()))\n",
        "  print(max_pairwise_product(input_numbers))"
      ],
      "execution_count": null,
      "outputs": [
        {
          "output_type": "stream",
          "name": "stdout",
          "text": [
            "4\n",
            "4 5 8 3\n",
            "40\n"
          ]
        }
      ]
    },
    {
      "cell_type": "code",
      "source": [
        "#include <stdio.h>\n",
        "#include <stdlib.h>\n",
        "\n",
        "int max_pairwise_product(int* numbers, int n) {\n",
        "  int numeroMasGrande = 0;\n",
        "  int segundoNumeroMasGrande = 0;\n",
        "  for (int i = 0; i < n; i++) {\n",
        "    if(numbers[i] > numeroMasGrande) {\n",
        "      segundoNumeroMasGrande = numeroMasGrande;\n",
        "      numeroMasGrande = numbers[i];\n",
        "    } else if(numbers[i] > segundoNumeroMasGrande) {\n",
        "      segundoNumeroMasGrande = numbers[i];\n",
        "    } else {\n",
        "      continue;\n",
        "    }\n",
        "  }\n",
        "  return numeroMasGrande * segundoNumeroMasGrande;\n",
        "}\n",
        "\n",
        "int main() {\n",
        "  int n;\n",
        "  scanf(\"%d\", &n);\n",
        "  int* input_numbers = malloc(sizeof(int) * n);\n",
        "  for (int i = 0; i < n; i++) {\n",
        "    scanf(\"%d\", &input_numbers[i]);\n",
        "  }\n",
        "  printf(\"%d\\n\", max_pairwise_product(input_numbers, n));\n",
        "  free(input_numbers);\n",
        "  return 0;\n",
        "}"
      ],
      "metadata": {
        "id": "udqSu8Lg6Kqq"
      },
      "execution_count": null,
      "outputs": []
    },
    {
      "cell_type": "markdown",
      "source": [
        "Test with inputs 1 and 2"
      ],
      "metadata": {
        "id": "DOD8BMx-W2yk"
      }
    },
    {
      "cell_type": "code",
      "source": [
        "%%writefile input1.txt\n",
        "10\n",
        "1 2 3 4 5 6 7 8 9 10"
      ],
      "metadata": {
        "colab": {
          "base_uri": "https://localhost:8080/"
        },
        "id": "M3JSZja_ok-M",
        "outputId": "db55383d-386d-47e7-b0f9-dfface806b58"
      },
      "execution_count": null,
      "outputs": [
        {
          "output_type": "stream",
          "name": "stdout",
          "text": [
            "Writing input1.txt\n"
          ]
        }
      ]
    },
    {
      "cell_type": "code",
      "source": [
        "%%writefile input2.txt\n",
        "6\n",
        "1 3 200000 9 200000 23"
      ],
      "metadata": {
        "colab": {
          "base_uri": "https://localhost:8080/"
        },
        "id": "hsZTdgLeolzr",
        "outputId": "f547bbba-a2bc-4ee4-f34b-e5d8f3e1b758"
      },
      "execution_count": null,
      "outputs": [
        {
          "output_type": "stream",
          "name": "stdout",
          "text": [
            "Writing input2.txt\n"
          ]
        }
      ]
    },
    {
      "cell_type": "code",
      "source": [
        "def main(file):\n",
        "  with open(file, 'r') as f:\n",
        "    lineas = [linea.split() for linea in f]\n",
        "    for linea in lineas:\n",
        "      for i in range(len(linea)):\n",
        "        linea[i] = int(linea[i])\n",
        "    print(max_pairwise_product(lineas[1]))"
      ],
      "metadata": {
        "id": "dHZRUsoLUyqd"
      },
      "execution_count": null,
      "outputs": []
    },
    {
      "cell_type": "code",
      "source": [
        "#include <stdio.h>\n",
        "#include <stdlib.h>\n",
        "#include <string.h>\n",
        "\n",
        "int max_pairwise_product(int* numbers, int n) {\n",
        "  int numeroMasGrande = 0;\n",
        "  int segundoNumeroMasGrande = 0;\n",
        "  for (int i = 0; i < n; i++) {\n",
        "    if (numbers[i] > numeroMasGrande) {\n",
        "      segundoNumeroMasGrande = numeroMasGrande;\n",
        "      numeroMasGrande = numbers[i];\n",
        "    } else if (numbers[i] > segundoNumeroMasGrande) {\n",
        "      segundoNumeroMasGrande = numbers[i];\n",
        "    } else {\n",
        "      continue;\n",
        "    }\n",
        "  }\n",
        "  return numeroMasGrande * segundoNumeroMasGrande;\n",
        "}\n",
        "\n",
        "int main(int argc, char *argv[]) {\n",
        "  char* file = argv[1];\n",
        "  FILE *f = fopen(file, \"r\");\n",
        "  if (f == NULL) {\n",
        "    printf(\"Error al abrir el archivo de entrada\\n\");\n",
        "    return 1;\n",
        "  }\n",
        "\n",
        "  int max_length = 100;\n",
        "  char buffer[max_length];\n",
        "  int numbers[max_length];\n",
        "  while (fgets(buffer, max_length, f)) {\n",
        "    int n = 0;\n",
        "    char* token = strtok(buffer, \" \");\n",
        "    while (token != NULL) {\n",
        "      numbers[n] = atoi(token);\n",
        "      n++;\n",
        "      token = strtok(NULL, \" \");\n",
        "    }\n",
        "    printf(\"%d\\n\", max_pairwise_product(numbers, n));\n",
        "  }\n",
        "\n",
        "  fclose(f);\n",
        "  return 0;\n",
        "}"
      ],
      "metadata": {
        "id": "E5CIyqnNOob-"
      },
      "execution_count": null,
      "outputs": []
    },
    {
      "cell_type": "code",
      "source": [
        "import time\n",
        "inicio1 = time.time()\n",
        "main('input1.txt')\n",
        "fin1 = time.time()\n",
        "print(\"Time input 1: \", fin1 - inicio1, \"segundos\")\n",
        "inicio2 = time.time()\n",
        "main('input2.txt')\n",
        "fin2 = time.time()\n",
        "print(\"Time input 2: \", fin2 - inicio2, \"segundos\")"
      ],
      "metadata": {
        "colab": {
          "base_uri": "https://localhost:8080/"
        },
        "id": "PGZBTli_oNRg",
        "outputId": "24f637bc-b8ad-4dfe-bd5c-7a215b805cfc"
      },
      "execution_count": null,
      "outputs": [
        {
          "output_type": "stream",
          "name": "stdout",
          "text": [
            "90\n",
            "Time input 1:  0.001043558120727539 segundos\n",
            "40000000000\n",
            "Time input 2:  0.0020487308502197266 segundos\n"
          ]
        }
      ]
    },
    {
      "cell_type": "markdown",
      "metadata": {
        "id": "PRX51wADNR8b"
      },
      "source": [
        "Test and time it with input 3"
      ]
    },
    {
      "cell_type": "code",
      "source": [
        "import time\n",
        "with open(\"input3.txt\", \"w\") as fil:\n",
        "    fil.write(\"200000\\n\")\n",
        "    for i in range(1, 200001):\n",
        "        fil.write(str(i) + \" \")\n",
        "inicio = time.time()\n",
        "main('input3.txt')\n",
        "fin = time.time()\n",
        "print(\"Time: \", fin - inicio, \"segundos\")"
      ],
      "metadata": {
        "colab": {
          "base_uri": "https://localhost:8080/"
        },
        "id": "lAA0tXVfcPxR",
        "outputId": "969aa917-988a-4a66-b8ab-776eb9d31e10"
      },
      "execution_count": null,
      "outputs": [
        {
          "output_type": "stream",
          "name": "stdout",
          "text": [
            "39999800000\n",
            "Time:  0.07573723793029785 segundos\n"
          ]
        }
      ]
    },
    {
      "cell_type": "markdown",
      "metadata": {
        "id": "rpdfs0_TNZJf"
      },
      "source": [
        "20 stress tests"
      ]
    },
    {
      "cell_type": "code",
      "source": [
        "import random\n",
        "def brute_force_max_pairwise_product(numbers):\n",
        "  n = len(numbers)\n",
        "  max_product = 0\n",
        "  for first in range(n):\n",
        "    for second in range(first + 1, n):\n",
        "      max_product = max(max_product,\n",
        "        numbers[first] * numbers[second])\n",
        "  return max_product\n",
        "def stress_test(N, M):\n",
        "    count = 0\n",
        "    while count < 20:\n",
        "        n = random.randint(2, N)\n",
        "        A = [random.randint(0, M) for i in range(n)]\n",
        "        print(A)\n",
        "        result1 = brute_force_max_pairwise_product(A)\n",
        "        result2 = max_pairwise_product(A)\n",
        "        if result1 == result2:\n",
        "            print(\"OK\")\n",
        "        else:\n",
        "            print(\"Wrong answer:\", result1, result2)\n",
        "            return\n",
        "        count += 1\n",
        "stress_test(10, 1000000)"
      ],
      "metadata": {
        "colab": {
          "base_uri": "https://localhost:8080/"
        },
        "id": "Vpx-XaFzJgEI",
        "outputId": "2ecbbd64-8ce7-4e01-a68e-b6e8d4bd1542"
      },
      "execution_count": null,
      "outputs": [
        {
          "output_type": "stream",
          "name": "stdout",
          "text": [
            "[785674, 555426, 217817]\n",
            "OK\n",
            "[441349, 754834, 666885, 136954, 763983]\n",
            "OK\n",
            "[39452, 784168, 316009, 651828, 255189, 908183, 980482, 128919]\n",
            "OK\n",
            "[436004, 29870, 687783, 442223, 721880, 852166, 485027, 729340, 484232]\n",
            "OK\n",
            "[206991, 929987, 58370, 419909]\n",
            "OK\n",
            "[761550, 243988, 60588, 566048, 31201, 483222, 933165, 400029]\n",
            "OK\n",
            "[570201, 595028, 15771]\n",
            "OK\n",
            "[520421, 341419, 150779, 377635, 216687, 188539, 425624, 983169, 776358]\n",
            "OK\n",
            "[984700, 272717, 348557, 557607, 47973, 815019]\n",
            "OK\n",
            "[851600, 801034, 535599, 687961]\n",
            "OK\n",
            "[275283, 201133, 85585, 818264, 230931, 719096, 27614, 282504]\n",
            "OK\n",
            "[622260, 889744, 662509]\n",
            "OK\n",
            "[831655, 974831, 551178]\n",
            "OK\n",
            "[292306, 714996, 131752, 591172, 817392, 655837, 671025, 880423, 380170, 981971]\n",
            "OK\n",
            "[792029, 815870, 915502, 200651, 296989, 434135, 126991, 993258, 922023]\n",
            "OK\n",
            "[273239, 189029, 565816, 942464]\n",
            "OK\n",
            "[610345, 72185, 491748, 759539, 925975, 315741, 728881, 997864]\n",
            "OK\n",
            "[166117, 711090]\n",
            "OK\n",
            "[958049, 903226, 846308, 400285, 276047, 129647, 79978, 511085]\n",
            "OK\n",
            "[897826, 133265]\n",
            "OK\n"
          ]
        }
      ]
    },
    {
      "cell_type": "code",
      "source": [
        "#include <stdio.h>\n",
        "#include <stdlib.h>\n",
        "#include <time.h>\n",
        "\n",
        "int brute_force_max_pairwise_product(int* numbers, int n) {\n",
        "  int max_product = 0;\n",
        "  for (int first = 0; first < n; first++) {\n",
        "    for (int second = first + 1; second < n; second++) {\n",
        "      int product = numbers[first] * numbers[second];\n",
        "      if (product > max_product) {\n",
        "        max_product = product;\n",
        "      }\n",
        "    }\n",
        "  }\n",
        "  return max_product;\n",
        "}\n",
        "\n",
        "void stress_test(int N, int M) {\n",
        "  srand(time(NULL)); // Inicializar la semilla del generador de números aleatorios\n",
        "  int count = 0;\n",
        "  while (count < 20) {\n",
        "    int n = rand() % (N - 1) + 2; // Generar un número aleatorio entre 2 y N\n",
        "    int* A = malloc(sizeof(int) * n); // Asignar memoria para la lista de enteros\n",
        "    for (int i = 0; i < n; i++) {\n",
        "      A[i] = rand() % (M + 1); // Generar un número aleatorio entre 0 y M\n",
        "    }\n",
        "    printf(\"[\");\n",
        "    for (int i = 0; i < n; i++) {\n",
        "      printf(\"%d\", A[i]);\n",
        "      if (i < n - 1) {\n",
        "        printf(\", \");\n",
        "      }\n",
        "    }\n",
        "    printf(\"]\\n\");\n",
        "    int result1 = brute_force_max_pairwise_product(A, n);\n",
        "    int result2 = max_pairwise_product(A, n);\n",
        "    if (result1 == result2) {\n",
        "      printf(\"OK\\n\");\n",
        "    } else {\n",
        "      printf(\"Wrong answer: %d %d\\n\", result1, result2);\n",
        "      free(A);\n",
        "      return;\n",
        "    }\n",
        "    free(A);\n",
        "    count++;\n",
        "  }\n",
        "}\n",
        "\n",
        "int main() {\n",
        "  stress_test(10, 1000000);\n",
        "  return 0;\n",
        "}\n"
      ],
      "metadata": {
        "id": "hvyaz9CDQe-1"
      },
      "execution_count": null,
      "outputs": []
    },
    {
      "cell_type": "markdown",
      "metadata": {
        "id": "L8U4151JNbxk"
      },
      "source": [
        "Count executed instructions in code and verify with inputs 1,2 and 3\n"
      ]
    },
    {
      "cell_type": "code",
      "metadata": {
        "id": "dh85RM8vNhFz",
        "colab": {
          "base_uri": "https://localhost:8080/"
        },
        "outputId": "b2a72875-124b-4b11-faa8-3814cb0d31fb"
      },
      "source": [
        "def main_2(file):\n",
        "  with open(file, 'r') as f:\n",
        "    lineas = [linea.split() for linea in f]\n",
        "  return len(lineas[1])\n",
        "def num_instrucciones(n):\n",
        "    return 4*n + 5\n",
        "\n",
        "a = main_2('input1.txt')\n",
        "num_instrucciones_input1 = num_instrucciones(a)\n",
        "print(num_instrucciones_input1)\n",
        "b = main_2('input2.txt')\n",
        "num_instrucciones_input2 = num_instrucciones(b)\n",
        "print(num_instrucciones_input2)\n",
        "c = main_2('input3.txt')\n",
        "num_instrucciones_input3 = num_instrucciones(c)\n",
        "print(num_instrucciones_input3)"
      ],
      "execution_count": null,
      "outputs": [
        {
          "output_type": "stream",
          "name": "stdout",
          "text": [
            "45\n",
            "29\n",
            "800005\n"
          ]
        }
      ]
    },
    {
      "cell_type": "code",
      "source": [
        "#include <stdio.h>\n",
        "#include <stdlib.h>\n",
        "\n",
        "int main_2(char* file) {\n",
        "  FILE *f = fopen(file, \"r\"); // Abrir el archivo de entrada en modo lectura\n",
        "  if (f == NULL) {\n",
        "    printf(\"Error al abrir el archivo de entrada\\n\"); // Imprimir mensaje de error si el archivo no se puede abrir\n",
        "    return -1;\n",
        "  }\n",
        "  char buffer[100]; // Buffer para leer las líneas del archivo\n",
        "  fgets(buffer, 100, f); // Leer la primera línea del archivo y descartarla\n",
        "  fgets(buffer, 100, f); // Leer la segunda línea del archivo\n",
        "  char* token = strtok(buffer, \" \"); // Separar la línea en tokens (números)\n",
        "  int n = 0;\n",
        "  while (token != NULL) { // Iterar sobre los tokens (números)\n",
        "    n++; // Incrementar el número de números en la línea\n",
        "    token = strtok(NULL, \" \"); // Obtener el siguiente token\n",
        "  }\n",
        "  fclose(f); // Cerrar el archivo de entrada\n",
        "  return n;\n",
        "}\n",
        "\n",
        "int num_instrucciones(int n) {\n",
        "  return 4 * n + 5;\n",
        "}\n",
        "\n",
        "int main() {\n",
        "  int a = main_2(\"input1.txt\");\n",
        "  int num_instrucciones_input1 = num_instrucciones(a);\n",
        "  printf(\"%d\\n\", num_instrucciones_input1);\n",
        "  int b = main_2(\"input2.txt\");\n",
        "  int num_instrucciones_input2 = num_instrucciones(b);\n",
        "  printf(\"%d\\n\", num_instrucciones_input2);\n",
        "  int c = main_2(\"input3.txt\");\n",
        "  int num_instrucciones_input3 = num_instrucciones(c);\n",
        "  printf(\"%d\\n\", num_instrucciones_input3);\n",
        "  return 0;\n",
        "}\n"
      ],
      "metadata": {
        "id": "eycELyNAQoH4"
      },
      "execution_count": null,
      "outputs": []
    },
    {
      "cell_type": "markdown",
      "metadata": {
        "id": "K6ybgCmpNygr"
      },
      "source": [
        "Calculate estimated time by instruction and number of instructions by second"
      ]
    },
    {
      "cell_type": "code",
      "metadata": {
        "id": "kwe3G1O3Nz1w",
        "colab": {
          "base_uri": "https://localhost:8080/"
        },
        "outputId": "ec7a6118-75ae-4ea3-cab7-073556a7430d"
      },
      "source": [
        "instrucciones_por_segundo = 45/0.001043558120727539\n",
        "tiempo_por_instruccion = 1/instrucciones_por_segundo\n",
        "print(\"Instrucciones por segundo para input 1:\",instrucciones_por_segundo)\n",
        "print(\"Tiempo por cada instruccion para input 1:\",tiempo_por_instruccion)"
      ],
      "execution_count": null,
      "outputs": [
        {
          "output_type": "stream",
          "name": "stdout",
          "text": [
            "Instrucciones por segundo para input 1: 43121.69979437971\n",
            "Tiempo por cada instruccion para input 1: 2.319018046061198e-05\n"
          ]
        }
      ]
    },
    {
      "cell_type": "code",
      "source": [
        "instrucciones_por_segundo = 29/0.0020487308502197266\n",
        "tiempo_por_instruccion = 1/instrucciones_por_segundo\n",
        "print(\"Instrucciones por segundo para input 2:\",instrucciones_por_segundo)\n",
        "print(\"Tiempo por cada instruccion para input 2:\",tiempo_por_instruccion)"
      ],
      "metadata": {
        "colab": {
          "base_uri": "https://localhost:8080/"
        },
        "id": "x9Nyt_TloMYp",
        "outputId": "6d5a9ccf-18bf-4944-ba82-a6016e64949a"
      },
      "execution_count": null,
      "outputs": [
        {
          "output_type": "stream",
          "name": "stdout",
          "text": [
            "Instrucciones por segundo para input 2: 14155.104852787152\n",
            "Tiempo por cada instruccion para input 2: 7.064589138688713e-05\n"
          ]
        }
      ]
    },
    {
      "cell_type": "code",
      "source": [
        "instrucciones_por_segundo = 800005/0.08369064331054688\n",
        "tiempo_por_instruccion = 1/instrucciones_por_segundo\n",
        "print(\"Instrucciones por segundo para input 3:\",instrucciones_por_segundo)\n",
        "print(\"Tiempo por cada instruccion para input 3:\",tiempo_por_instruccion)"
      ],
      "metadata": {
        "colab": {
          "base_uri": "https://localhost:8080/"
        },
        "id": "htkXskwdoXir",
        "outputId": "f6d332d8-1800-4670-95b9-d473701ce491"
      },
      "execution_count": null,
      "outputs": [
        {
          "output_type": "stream",
          "name": "stdout",
          "text": [
            "Instrucciones por segundo para input 3: 9559073.372532932\n",
            "Tiempo por cada instruccion para input 3: 1.0461265030911917e-07\n"
          ]
        }
      ]
    },
    {
      "cell_type": "markdown",
      "metadata": {
        "id": "sc9nOLQrfTm0"
      },
      "source": [
        "### Super efficient solution\n",
        "\n",
        "Whitout storing the list in memory and whitout calling a function, add in each line a coment with the number of intstrcution that are executed in that line "
      ]
    },
    {
      "cell_type": "code",
      "metadata": {
        "id": "hBLt_xBQLy8E"
      },
      "source": [
        "%load_ext Cython"
      ],
      "execution_count": null,
      "outputs": []
    },
    {
      "cell_type": "code",
      "source": [
        "def py_read_file(filename):\n",
        "    with open(filename, \"r\") as f:\n",
        "        return f.read()"
      ],
      "metadata": {
        "id": "HmLaJaP9aoZz"
      },
      "execution_count": null,
      "outputs": []
    },
    {
      "cell_type": "markdown",
      "metadata": {
        "id": "683gc3roHqzb"
      },
      "source": [
        "Test with inputs 1 and 2\n",
        "\n",
        "\n",
        " "
      ]
    },
    {
      "cell_type": "code",
      "metadata": {
        "id": "b7d4LA8OIc2_",
        "colab": {
          "base_uri": "https://localhost:8080/"
        },
        "outputId": "34235dba-aad6-4b6b-97fd-1de038728f76"
      },
      "source": [
        "if __name__ == '__main__':\n",
        "    # Leer el archivo de entrada\n",
        "    with open(\"input1.txt\", \"r\") as f:\n",
        "        contenido = f.read().strip().split() #O(1)\n",
        "\n",
        "    # Convertir el primer elemento en entero\n",
        "    n = int(contenido[0]) #O(1)\n",
        "\n",
        "    # Convertir el resto de los elementos en una lista de enteros\n",
        "    mapeado = [int(x) for x in contenido[1:]] #O(N)\n",
        "\n",
        "    # Inicializar los máximos\n",
        "    maximo1 = maximo2 = -1 #O(1)\n",
        "\n",
        "    # Encontrar los dos máximos\n",
        "    for numero_actual in mapeado: #O(N)\n",
        "        if numero_actual > maximo1: #O(N)\n",
        "            maximo2 = maximo1 #O(n)\n",
        "            maximo1 = numero_actual #O(n)\n",
        "        elif numero_actual > maximo2: #O(N)\n",
        "            maximo2 = numero_actual #O(n)\n",
        "\n",
        "    # Imprimir el producto de los dos máximos\n",
        "    print('Input 1: ', maximo1 * maximo2) #O(1)\n"
      ],
      "execution_count": null,
      "outputs": [
        {
          "output_type": "stream",
          "name": "stdout",
          "text": [
            "Input 1:  90\n"
          ]
        }
      ]
    },
    {
      "cell_type": "code",
      "source": [
        "#include <stdio.h>\n",
        "#include <stdlib.h>\n",
        "\n",
        "int main() {\n",
        "    // Leer el archivo de entrada\n",
        "    FILE *f = fopen(\"input1.txt\", \"r\");\n",
        "    char* contenido = NULL;\n",
        "    size_t len = 0;\n",
        "    ssize_t read;\n",
        "    if (f) {\n",
        "        read = getline(&contenido, &len, f);\n",
        "        fclose(f);\n",
        "    }\n",
        "\n",
        "    // Convertir el primer elemento en entero\n",
        "    int n = atoi(contenido);\n",
        "\n",
        "    // Convertir el resto de los elementos en una lista de enteros\n",
        "    int* mapeado = malloc(sizeof(int) * (n - 1));\n",
        "    char* token = strtok(contenido, \" \");\n",
        "    for (int i = 0; i < n-1; i++) {\n",
        "        token = strtok(NULL, \" \");\n",
        "        mapeado[i] = atoi(token);\n",
        "    }\n",
        "\n",
        "    // Inicializar los máximos\n",
        "    int maximo1 = -1;\n",
        "    int maximo2 = -1;\n",
        "\n",
        "    // Encontrar los dos máximos\n",
        "    for (int i = 0; i < n-1; i++) {\n",
        "        int numero_actual = mapeado[i];\n",
        "        if (numero_actual > maximo1) {\n",
        "            maximo2 = maximo1;\n",
        "            maximo1 = numero_actual;\n",
        "        } else if (numero_actual > maximo2) {\n",
        "            maximo2 = numero_actual;\n",
        "        }\n",
        "    }\n",
        "\n",
        "    // Imprimir el producto de los dos máximos\n",
        "    printf(\"Input 1: %d\\n\", maximo1 * maximo2);\n",
        "\n",
        "    free(mapeado);\n",
        "    return 0;\n",
        "}"
      ],
      "metadata": {
        "id": "EfLupNqa5bIc"
      },
      "execution_count": null,
      "outputs": []
    },
    {
      "cell_type": "code",
      "source": [
        "if __name__ == '__main__':\n",
        "    with open(\"input2.txt\") as f: # O(1)\n",
        "        contenido = f.read().strip().split() # O(n)\n",
        "\n",
        "    mapeado = [int(x) for x in contenido[1:]] # O(n)\n",
        "\n",
        "    maximo1 = maximo2 = -1 # O(1)\n",
        "\n",
        "    for numero_actual in mapeado: # O(n)\n",
        "        if numero_actual > maximo1: # O(1)\n",
        "            maximo2 = maximo1 # O(1)\n",
        "            maximo1 = numero_actual # O(1)\n",
        "        elif numero_actual > maximo2: # O(1)\n",
        "            maximo2 = numero_actual # O(1)\n",
        "\n",
        "    print(maximo1 * maximo2) # O(1)"
      ],
      "metadata": {
        "colab": {
          "base_uri": "https://localhost:8080/"
        },
        "id": "ZJYSsDV7a3kT",
        "outputId": "cf1f8436-0ae9-4018-ccc9-ac5367f260ff"
      },
      "execution_count": null,
      "outputs": [
        {
          "output_type": "stream",
          "name": "stdout",
          "text": [
            "40000000000\n"
          ]
        }
      ]
    },
    {
      "cell_type": "markdown",
      "metadata": {
        "id": "36Ugn1odIeJz"
      },
      "source": [
        "Test and time it with input 3"
      ]
    },
    {
      "cell_type": "code",
      "metadata": {
        "id": "jDyMbCnxHqSN",
        "colab": {
          "base_uri": "https://localhost:8080/"
        },
        "outputId": "0d14acf2-83de-44ec-bcf2-258b8a280213"
      },
      "source": [
        "if __name__ == '__main__':\n",
        "    with open(\"input3.txt\") as f:\n",
        "        scan = f.read().split()\n",
        "\n",
        "    mapeado = map(int, scan[1:]) #O(1)\n",
        "\n",
        "    maximo1 = maximo2 = -1 #O(1) \n",
        "\n",
        "    for numero_actual in mapeado: #O(n)\n",
        "        if maximo1 == -1: #O(n)\n",
        "            maximo1 = numero_actual #O(n)\n",
        "        \n",
        "        elif numero_actual > maximo1: #O(n)\n",
        "            bandera = maximo1 #O(n)\n",
        "            maximo1 = numero_actual #O(n)\n",
        "            maximo2 = bandera #O(n)\n",
        "        \n",
        "        elif (numero_actual == -1) or (numero_actual > maximo2): #O(n)\n",
        "            maximo2 = numero_actual #O(n)\n",
        "\n",
        "    print(maximo1*maximo2) #O(1)"
      ],
      "execution_count": null,
      "outputs": [
        {
          "output_type": "stream",
          "name": "stdout",
          "text": [
            "39999800000\n"
          ]
        }
      ]
    },
    {
      "cell_type": "markdown",
      "metadata": {
        "id": "bhqiKQG6fjKM"
      },
      "source": [
        "20 stress tests "
      ]
    },
    {
      "cell_type": "code",
      "metadata": {
        "id": "2KsiXKhALzwm",
        "colab": {
          "base_uri": "https://localhost:8080/"
        },
        "outputId": "f25ce1a3-149a-4ca6-f397-8539e7a78e2a"
      },
      "source": [
        "from random import randint\n",
        "\n",
        "if __name__ == '__main__':\n",
        "\n",
        "    for i in range(20):# O(1)\n",
        "        n = randint(2, 10)  # O(1)\n",
        "        numeros = []  # O(1)\n",
        "        maximo1 = -1  # O(1)\n",
        "        maximo2 = -1  # O(1)\n",
        "\n",
        "        for j in range(n):# O(n)\n",
        "            actual_num = randint(1, 200000)  # O(1)\n",
        "            print(actual_num, end=\" \")  # O(1)\n",
        "            numeros.append(actual_num)  # O(1)\n",
        "\n",
        "            if actual_num > maximo1:  # O(1)\n",
        "                maximo2 = maximo1  # O(1)\n",
        "                maximo1 = actual_num  # O(1)\n",
        "            elif actual_num > maximo2:  # O(1)\n",
        "                maximo2 = actual_num  # O(1)\n",
        "\n",
        "        indice_max1 = -1  # O(1)\n",
        "        for i in range(n):\n",
        "            if indice_max1 == -1 or numeros[i] > numeros[indice_max1]:  # O(n)\n",
        "                indice_max1 = i  # O(1)\n",
        "\n",
        "        indice_max2 = -1  # O(1)\n",
        "        for i in range(n):\n",
        "            if i != indice_max1 and (indice_max2 == -1 or numeros[i] > numeros[indice_max2]):  # O(n)\n",
        "                indice_max2 = i  # O(1)\n",
        "\n",
        "        res1 = numeros[indice_max1] * numeros[indice_max2]  # O(1)\n",
        "        res2 = maximo1 * maximo2  # O(1)\n",
        "\n",
        "        if res1 != res2:  # O(1)\n",
        "            print(\"Respuestas incorrectas:\", res1, res2, \"\\n\")  # O(1)\n",
        "            break  # O(1)\n",
        "        else:\n",
        "            print(\"OK \\n\")  # O(1)"
      ],
      "execution_count": null,
      "outputs": [
        {
          "output_type": "stream",
          "name": "stdout",
          "text": [
            "96682 47417 39997 129038 OK \n",
            "\n",
            "175507 83806 49642 194006 193395 52930 45047 OK \n",
            "\n",
            "174147 91334 48838 111283 44362 85263 72274 126590 OK \n",
            "\n",
            "29454 139046 142325 114716 190917 152779 109780 123218 184835 OK \n",
            "\n",
            "174437 61906 9860 129662 113783 125382 186544 OK \n",
            "\n",
            "36066 29841 161906 67147 66247 49519 75653 OK \n",
            "\n",
            "157654 178444 152598 OK \n",
            "\n",
            "149699 40259 120934 19191 124194 32087 7804 52091 37720 153704 OK \n",
            "\n",
            "196555 98838 87143 91419 162956 OK \n",
            "\n",
            "143687 140608 157071 152270 96693 171550 40677 818 37056 OK \n",
            "\n",
            "131045 121789 OK \n",
            "\n",
            "199318 43066 18913 53361 187746 101166 OK \n",
            "\n",
            "182443 138597 176239 163746 96173 40886 OK \n",
            "\n",
            "99943 141688 162443 47633 OK \n",
            "\n",
            "167936 156210 187471 175936 124084 OK \n",
            "\n",
            "56799 69116 65551 63839 90754 61461 12745 146344 OK \n",
            "\n",
            "6489 38020 12685 73675 OK \n",
            "\n",
            "187432 197098 22408 104136 198492 102177 47284 135963 25519 OK \n",
            "\n",
            "193889 47253 116673 40830 31996 56309 107768 114231 OK \n",
            "\n",
            "41970 57397 74427 159689 109779 482 71862 OK \n",
            "\n"
          ]
        }
      ]
    },
    {
      "cell_type": "markdown",
      "metadata": {
        "id": "fEXj8GHJH5p1"
      },
      "source": [
        "Count executed instructions in code and verify with inputs 1,2 and 3"
      ]
    },
    {
      "cell_type": "code",
      "metadata": {
        "id": "LF1DHjKXIAsF",
        "colab": {
          "base_uri": "https://localhost:8080/"
        },
        "outputId": "92b3df2c-68ad-4820-9fe6-02b659690152"
      },
      "source": [
        "import time\n",
        "\n",
        "if __name__ == '__main__':\n",
        "    start_time = time.time()\n",
        "    with open(\"input1.txt\", \"r\") as f:  # O(1)\n",
        "        contenido = f.read().strip().split()# O(n)\n",
        "        contador = 1  \n",
        "\n",
        "    mapeado = [int(x) for x in contenido[1:]] # O(n)\n",
        "    contador += len(mapeado) + 1  \n",
        "\n",
        "    maximo1 = maximo2 = -1 # O(1)\n",
        "    contador += 2 \n",
        "\n",
        "    for numero_actual in mapeado:# O(n)\n",
        "        contador += 1  \n",
        "\n",
        "        if numero_actual > maximo1:# O(1)\n",
        "            maximo2 = maximo1# O(1)\n",
        "            maximo1 = numero_actual# O(1)\n",
        "            contador += 4  \n",
        "        elif numero_actual > maximo2:# O(1)\n",
        "            maximo2 = numero_actual# O(1)\n",
        "            contador += 2  \n",
        "\n",
        "    print(maximo1 * maximo2)# O(1)\n",
        "    contador += 1\n",
        "\n",
        "    print(\"Número total de pasos input 1:\", contador)\n",
        "    print(\"Tiempo de ejecución input 1: %s segundos\" % (time.time() - start_time))"
      ],
      "execution_count": null,
      "outputs": [
        {
          "output_type": "stream",
          "name": "stdout",
          "text": [
            "90\n",
            "Número total de pasos input 1: 65\n",
            "Tiempo de ejecución input 1: 0.0014195442199707031 segundos\n"
          ]
        }
      ]
    },
    {
      "cell_type": "code",
      "source": [
        "import time\n",
        "\n",
        "if __name__ == '__main__':\n",
        "    start_time = time.time()\n",
        "    steps = 0\n",
        "\n",
        "    with open(\"input2.txt\") as f: # O(1)\n",
        "        contenido = f.read().strip().split() # O(n)\n",
        "        steps += 1 + len(contenido)\n",
        "\n",
        "    mapeado = [int(x) for x in contenido[1:]] # O(n)\n",
        "    steps += len(mapeado)\n",
        "\n",
        "    maximo1 = maximo2 = -1 # O(1)\n",
        "    steps += 3\n",
        "\n",
        "    for numero_actual in mapeado: # O(n)\n",
        "        steps += 1\n",
        "\n",
        "        if numero_actual > maximo1: # O(1)\n",
        "            maximo2 = maximo1 # O(1)\n",
        "            maximo1 = numero_actual # O(1)\n",
        "            steps += 3\n",
        "        elif numero_actual > maximo2: # O(1)\n",
        "            maximo2 = numero_actual # O(1)\n",
        "            steps += 2\n",
        "\n",
        "    print(maximo1 * maximo2) # O(1)\n",
        "    steps += 1\n",
        "\n",
        "    print(\"Número de pasos input 2:\", steps)\n",
        "    print(\"Tiempo de ejecución input 2: %s segundos\" % (time.time() - start_time))"
      ],
      "metadata": {
        "colab": {
          "base_uri": "https://localhost:8080/"
        },
        "id": "vS3RPJd4pFWM",
        "outputId": "ee7b5a03-89a0-4900-fa96-8a433a11959c"
      },
      "execution_count": null,
      "outputs": [
        {
          "output_type": "stream",
          "name": "stdout",
          "text": [
            "40000000000\n",
            "Número de pasos input 2: 37\n",
            "Tiempo de ejecución input 2: 0.004892826080322266 segundos\n"
          ]
        }
      ]
    },
    {
      "cell_type": "code",
      "source": [
        "import time\n",
        "\n",
        "if __name__ == '__main__':\n",
        "    start_time = time.time()\n",
        "    steps = 0\n",
        "\n",
        "    with open(\"input3.txt\") as f: # O(1)\n",
        "        contenido = f.read().strip().split() # O(n)\n",
        "        steps += 1 + len(contenido)\n",
        "\n",
        "    mapeado = [int(x) for x in contenido[1:]] # O(n)\n",
        "    steps += len(mapeado)\n",
        "\n",
        "    maximo1 = maximo2 = -1 # O(1)\n",
        "    steps += 2\n",
        "\n",
        "    for numero_actual in mapeado: # O(n)\n",
        "        steps += 1\n",
        "\n",
        "        if maximo1 == -1: # O(1)\n",
        "            maximo1 = numero_actual\n",
        "            steps += 1\n",
        "\n",
        "        elif numero_actual > maximo1: # O(1)\n",
        "            bandera = maximo1 # O(1)\n",
        "            maximo1 = numero_actual # O(1)\n",
        "            maximo2 = bandera # O(1)\n",
        "            steps += 4\n",
        "\n",
        "        elif (numero_actual == -1) or (numero_actual > maximo2): # O(1)\n",
        "            maximo2 = numero_actual # O(1)\n",
        "            steps += 2\n",
        "\n",
        "    print(maximo1*maximo2) # O(1)\n",
        "    steps += 1\n",
        "\n",
        "    print(\"Número de pasos input 3:\", steps)\n",
        "    print(\"Tiempo de ejecución input 3: %s segundos\" % (time.time() - start_time))"
      ],
      "metadata": {
        "colab": {
          "base_uri": "https://localhost:8080/"
        },
        "id": "dUkfTKVjpMGF",
        "outputId": "fb901dd1-0d53-4d41-fb0a-a4060f4ee3a4"
      },
      "execution_count": null,
      "outputs": [
        {
          "output_type": "stream",
          "name": "stdout",
          "text": [
            "39999800000\n",
            "Número de pasos input 3: 1400002\n",
            "Tiempo de ejecución input 3: 0.125901460647583 segundos\n"
          ]
        }
      ]
    },
    {
      "cell_type": "markdown",
      "metadata": {
        "id": "yae7sSm2IG9U"
      },
      "source": [
        "Calculate estimated time by instruction and number of instructions by second"
      ]
    },
    {
      "cell_type": "code",
      "metadata": {
        "id": "suouY7BYL2dz",
        "colab": {
          "base_uri": "https://localhost:8080/"
        },
        "outputId": "f8d6e30b-d754-4700-eb0f-40a6c3f737e7"
      },
      "source": [
        "instrucciones_por_segundo = 65/0.005961894989013672\n",
        "tiempo_por_instruccion = 1 / instrucciones_por_segundo\n",
        "\n",
        "print(\"Instrucciones por segundo input 1:\",instrucciones_por_segundo)\n",
        "print(\"Tiempo por cada instruccion input 1:\",tiempo_por_instruccion)"
      ],
      "execution_count": null,
      "outputs": [
        {
          "output_type": "stream",
          "name": "stdout",
          "text": [
            "Instrucciones por segundo input 1: 10902.57378229225\n",
            "Tiempo por cada instruccion input 1: 9.172146136944112e-05\n"
          ]
        }
      ]
    },
    {
      "cell_type": "code",
      "source": [
        "instrucciones_por_segundo = 37/0.0019478797912597656\n",
        "tiempo_por_instruccion = 1 / instrucciones_por_segundo\n",
        "\n",
        "print(\"Instrucciones por segundo input 2:\",instrucciones_por_segundo)\n",
        "print(\"Tiempo por cada instruccion input 2:\",tiempo_por_instruccion)"
      ],
      "metadata": {
        "colab": {
          "base_uri": "https://localhost:8080/"
        },
        "id": "SakW2nwvpmTr",
        "outputId": "0f38354b-06e2-451a-fa43-d2603c8337d5"
      },
      "execution_count": null,
      "outputs": [
        {
          "output_type": "stream",
          "name": "stdout",
          "text": [
            "Instrucciones por segundo input 2: 18995.01199510404\n",
            "Tiempo por cada instruccion input 2: 5.264539976377745e-05\n"
          ]
        }
      ]
    },
    {
      "cell_type": "code",
      "source": [
        "instrucciones_por_segundo = 1400002/0.14876842498779297\n",
        "tiempo_por_instruccion = 1 / instrucciones_por_segundo\n",
        "\n",
        "print(\"Instrucciones por segundo input 3:\",instrucciones_por_segundo)\n",
        "print(\"Tiempo por cada instruccion input 3:\",tiempo_por_instruccion)"
      ],
      "metadata": {
        "colab": {
          "base_uri": "https://localhost:8080/"
        },
        "id": "ASaFqvu2psqr",
        "outputId": "3531e34d-f096-4cc8-9a75-ecebe115e81d"
      },
      "execution_count": null,
      "outputs": [
        {
          "output_type": "stream",
          "name": "stdout",
          "text": [
            "Instrucciones por segundo input 3: 9410612.501375044\n",
            "Tiempo por cada instruccion input 3: 1.0626300890126798e-07\n"
          ]
        }
      ]
    },
    {
      "cell_type": "markdown",
      "metadata": {
        "id": "LkVxxlhl9H98"
      },
      "source": [
        "# Codeforces problem https://codeforces.com/contest/1619/problem/A \n",
        "\n",
        "Solve the problem in Colab, submit the solution to Codeforces and add a screenshoot of the submission."
      ]
    },
    {
      "cell_type": "markdown",
      "source": [
        "The problem was solve with the following code:"
      ],
      "metadata": {
        "id": "vINLw1_UwXEh"
      }
    },
    {
      "cell_type": "markdown",
      "source": [
        "![Captura de pantalla 2023-03-22 093726.png](data:image/png;base64,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)"
      ],
      "metadata": {
        "id": "JFYUIy1mtJ5A"
      }
    },
    {
      "cell_type": "markdown",
      "source": [
        "![WhatsApp Image 2023-03-24 at 2.22.05 PM.jpeg](data:image/jpeg;base64,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)"
      ],
      "metadata": {
        "id": "MtSp3og3EozC"
      }
    },
    {
      "cell_type": "code",
      "source": [
        "t = int(input())  # read the number of test cases\n",
        "\n",
        "for _ in range(t):  # iterate over each test case\n",
        "    s = input().strip()  # read the string and remove any leading/trailing whitespaces\n",
        "    n = len(s)  # find the length of the string\n",
        "\n",
        "    if n % 2 != 0:  # if the length is odd, the string cannot be square\n",
        "        print(\"NO\")\n",
        "    else:\n",
        "        half = n // 2  # find the midpoint of the string\n",
        "        if s[:half] == s[half:]:  # check if the first half of the string is the same as the second half\n",
        "            print(\"YES\")\n",
        "        else:\n",
        "            print(\"NO\")"
      ],
      "metadata": {
        "id": "iPERhSAxwTm1",
        "outputId": "a56d173d-6357-4617-a21e-01fd02fcb3c7",
        "colab": {
          "base_uri": "https://localhost:8080/"
        }
      },
      "execution_count": null,
      "outputs": [
        {
          "output_type": "stream",
          "name": "stdout",
          "text": [
            "10\n",
            "a\n",
            "NO\n",
            "aa\n",
            "YES\n",
            "aaa\n",
            "NO\n",
            "aaaa\n",
            "YES\n",
            "abab\n",
            "YES\n",
            "abcabc\n",
            "YES\n",
            "abacaba\n",
            "NO\n",
            "xxyy\n",
            "NO\n",
            "xyyx\n",
            "NO\n",
            "xyxy\n",
            "YES\n"
          ]
        }
      ]
    }
  ]
}