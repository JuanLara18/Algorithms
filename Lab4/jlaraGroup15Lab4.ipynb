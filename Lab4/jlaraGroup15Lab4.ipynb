{
  "nbformat": 4,
  "nbformat_minor": 0,
  "metadata": {
    "colab": {
      "provenance": [],
      "include_colab_link": true
    },
    "kernelspec": {
      "name": "python3",
      "display_name": "Python 3"
    },
    "language_info": {
      "name": "python"
    }
  },
  "cells": [
    {
      "cell_type": "markdown",
      "metadata": {
        "id": "view-in-github",
        "colab_type": "text"
      },
      "source": [
        "<a href=\"https://colab.research.google.com/github/JuanLara18/AlgorithmsUN2023I/blob/main/Lab4/jlaraGroup15Lab4.ipynb\" target=\"_parent\"><img src=\"https://colab.research.google.com/assets/colab-badge.svg\" alt=\"Open In Colab\"/></a>"
      ]
    },
    {
      "cell_type": "markdown",
      "metadata": {
        "id": "N1ok_-56OjB1"
      },
      "source": [
        "# I Solving the Sum of Two Digits Programming Challenge"
      ]
    },
    {
      "cell_type": "markdown",
      "metadata": {
        "id": "MMY7kmDSO0KM"
      },
      "source": [
        "## C++"
      ]
    },
    {
      "cell_type": "code",
      "metadata": {
        "colab": {
          "base_uri": "https://localhost:8080/"
        },
        "id": "2pGGf9BkPNIk",
        "outputId": "f5f4543e-191e-429c-9797-032337957ea6"
      },
      "source": [
        "%%writefile APlusB.cpp\n",
        "#include <iostream>\n",
        "\n",
        "int sum_of_two_digits(int first_digit, int second_digit) {\n",
        "    return first_digit + second_digit;\n",
        "}\n",
        "\n",
        "int main() {\n",
        "    int a = 0;\n",
        "    int b = 0;\n",
        "    std::cin >> a;\n",
        "    std::cin >> b;\n",
        "    std::cout << sum_of_two_digits(a, b);\n",
        "    return 0;\n",
        "}"
      ],
      "execution_count": null,
      "outputs": [
        {
          "output_type": "stream",
          "name": "stdout",
          "text": [
            "Overwriting APlusB.cpp\n"
          ]
        }
      ]
    },
    {
      "cell_type": "code",
      "metadata": {
        "colab": {
          "base_uri": "https://localhost:8080/"
        },
        "id": "0G3ZKOYAPXSU",
        "outputId": "aa101f2c-94bb-425e-9853-2deaae1927c3"
      },
      "source": [
        "!g++ APlusB.cpp -o APlusB\n",
        "!./APlusB"
      ],
      "execution_count": null,
      "outputs": [
        {
          "output_type": "stream",
          "name": "stdout",
          "text": [
            "2\n",
            "4\n",
            "6"
          ]
        }
      ]
    },
    {
      "cell_type": "markdown",
      "metadata": {
        "id": "iNkG2HqfTl9c"
      },
      "source": [
        "### Test input output files"
      ]
    },
    {
      "cell_type": "code",
      "metadata": {
        "colab": {
          "base_uri": "https://localhost:8080/"
        },
        "id": "aTzU2efzMxly",
        "outputId": "57ebab16-55b3-456a-a066-042cc991ffc8"
      },
      "source": [
        "%%writefile input1.txt\n",
        "4 8"
      ],
      "execution_count": null,
      "outputs": [
        {
          "output_type": "stream",
          "name": "stdout",
          "text": [
            "Writing input1.txt\n"
          ]
        }
      ]
    },
    {
      "cell_type": "code",
      "metadata": {
        "colab": {
          "base_uri": "https://localhost:8080/"
        },
        "id": "zBJ0Gc0NQRet",
        "outputId": "7f548265-2ccc-4bd1-8184-51844a05b3fd"
      },
      "source": [
        "%%writefile output1.txt\n",
        "12"
      ],
      "execution_count": null,
      "outputs": [
        {
          "output_type": "stream",
          "name": "stdout",
          "text": [
            "Writing output1.txt\n"
          ]
        }
      ]
    },
    {
      "cell_type": "code",
      "metadata": {
        "colab": {
          "base_uri": "https://localhost:8080/"
        },
        "id": "IjEcIx63PJAN",
        "outputId": "ed70484e-10f1-40a4-9034-a6f9b28add35"
      },
      "source": [
        "%%writefile input2.txt\n",
        "-5 9"
      ],
      "execution_count": null,
      "outputs": [
        {
          "output_type": "stream",
          "name": "stdout",
          "text": [
            "Writing input2.txt\n"
          ]
        }
      ]
    },
    {
      "cell_type": "code",
      "metadata": {
        "colab": {
          "base_uri": "https://localhost:8080/"
        },
        "id": "Up9gOrxURTmd",
        "outputId": "688ad6b8-04fc-4f39-9aeb-b7088290421e"
      },
      "source": [
        "%%writefile output2.txt\n",
        "4"
      ],
      "execution_count": null,
      "outputs": [
        {
          "output_type": "stream",
          "name": "stdout",
          "text": [
            "Writing output2.txt\n"
          ]
        }
      ]
    },
    {
      "cell_type": "code",
      "metadata": {
        "colab": {
          "base_uri": "https://localhost:8080/"
        },
        "id": "PST6G-s-Pwgc",
        "outputId": "a5a9b0aa-a04a-4c9d-8bf8-fa1afc1fed18"
      },
      "source": [
        "!./APlusB < input1.txt"
      ],
      "execution_count": null,
      "outputs": [
        {
          "output_type": "stream",
          "name": "stdout",
          "text": [
            "12"
          ]
        }
      ]
    },
    {
      "cell_type": "code",
      "metadata": {
        "colab": {
          "base_uri": "https://localhost:8080/"
        },
        "id": "cKxZOjSlRfIN",
        "outputId": "34171c41-dc46-4853-9ed7-325b2df27d36"
      },
      "source": [
        "!./APlusB < input2.txt"
      ],
      "execution_count": null,
      "outputs": [
        {
          "output_type": "stream",
          "name": "stdout",
          "text": [
            "4"
          ]
        }
      ]
    },
    {
      "cell_type": "markdown",
      "metadata": {
        "id": "Qw2TQWCCUwqk"
      },
      "source": [
        "### Comparing files with grep\n",
        "\n",
        "https://askubuntu.com/questions/546796/comparing-two-text-files"
      ]
    },
    {
      "cell_type": "code",
      "metadata": {
        "id": "WVIaAmMKU4QM"
      },
      "source": [
        "!grep -xvFf output1.txt output1.txt "
      ],
      "execution_count": null,
      "outputs": []
    },
    {
      "cell_type": "code",
      "metadata": {
        "colab": {
          "base_uri": "https://localhost:8080/"
        },
        "id": "MQU8gPPjQuYO",
        "outputId": "3a24ba2b-1a81-47c8-ba98-3d91661343ec"
      },
      "source": [
        "!grep -xvFf output1.txt output2.txt "
      ],
      "execution_count": null,
      "outputs": [
        {
          "output_type": "stream",
          "name": "stdout",
          "text": [
            "4\n"
          ]
        }
      ]
    },
    {
      "cell_type": "code",
      "metadata": {
        "colab": {
          "base_uri": "https://localhost:8080/"
        },
        "id": "jYL9OuYBTD_l",
        "outputId": "ee0293ea-886b-40a7-c469-8676e300037b"
      },
      "source": [
        "!grep -xvFf output2.txt output1.txt "
      ],
      "execution_count": null,
      "outputs": [
        {
          "output_type": "stream",
          "name": "stdout",
          "text": [
            "12\n"
          ]
        }
      ]
    },
    {
      "cell_type": "code",
      "metadata": {
        "id": "Jlja0Xm4TX9M"
      },
      "source": [
        "!./APlusB < input1.txt> ctest1.txt\n",
        "!grep -xvFf output1.txt ctest1.txt"
      ],
      "execution_count": null,
      "outputs": []
    },
    {
      "cell_type": "code",
      "metadata": {
        "id": "g9OIUZA_QLCQ"
      },
      "source": [
        "!./APlusB < input2.txt > ctest2.txt\n",
        "!grep -xvFf output2.txt ctest2.txt"
      ],
      "execution_count": null,
      "outputs": []
    },
    {
      "cell_type": "markdown",
      "metadata": {
        "id": "3BgOaDjUVJk6"
      },
      "source": [
        "## Python"
      ]
    },
    {
      "cell_type": "code",
      "metadata": {
        "colab": {
          "base_uri": "https://localhost:8080/"
        },
        "id": "DBvl-T0CTN_8",
        "outputId": "7adef4ab-087e-48ae-afc3-7152f72c15a2"
      },
      "source": [
        "%%writefile sum.py\n",
        "# python3\n",
        "\n",
        "def sum_of_two_digits(first_digit, second_digit):\n",
        "    return first_digit + second_digit\n",
        "\n",
        "if __name__ == '__main__':\n",
        "    a, b = map(int, input().split())\n",
        "    print(sum_of_two_digits(a, b))"
      ],
      "execution_count": null,
      "outputs": [
        {
          "output_type": "stream",
          "name": "stdout",
          "text": [
            "Writing sum.py\n"
          ]
        }
      ]
    },
    {
      "cell_type": "code",
      "metadata": {
        "colab": {
          "base_uri": "https://localhost:8080/"
        },
        "id": "QKoKM11_WGyF",
        "outputId": "d1cb7eaa-d227-4a6d-ffca-85e5885caeff"
      },
      "source": [
        "!python sum.py"
      ],
      "execution_count": null,
      "outputs": [
        {
          "output_type": "stream",
          "name": "stdout",
          "text": [
            "23 45\n",
            "68\n"
          ]
        }
      ]
    },
    {
      "cell_type": "code",
      "metadata": {
        "id": "cocFbPRTWrqt"
      },
      "source": [
        "!python sum.py  < input1.txt> ptest1.txt\n",
        "!grep -xvFf output1.txt ptest1.txt"
      ],
      "execution_count": null,
      "outputs": []
    },
    {
      "cell_type": "code",
      "metadata": {
        "id": "MorKTa-XXASN"
      },
      "source": [
        "!python sum.py  < input2.txt> ptest2.txt\n",
        "!grep -xvFf output2.txt ptest2.txt"
      ],
      "execution_count": null,
      "outputs": []
    },
    {
      "cell_type": "markdown",
      "metadata": {
        "id": "uvP-mOubW_5F"
      },
      "source": [
        "# II Solving The Maximum Pairwise Product Programming Challenge in C++"
      ]
    },
    {
      "cell_type": "markdown",
      "metadata": {
        "id": "C12yoFR6Xonl"
      },
      "source": [
        "## C++"
      ]
    },
    {
      "cell_type": "code",
      "metadata": {
        "colab": {
          "base_uri": "https://localhost:8080/"
        },
        "id": "YL4qJX3tXxdd",
        "outputId": "b1ef2d2a-c3e0-43da-8e7b-2b380e96b056"
      },
      "source": [
        "%%writefile max_pairwise_product.cpp\n",
        "#include <iostream>\n",
        "#include <vector>\n",
        "#include <algorithm>\n",
        "\n",
        "int MaxPairwiseProduct(const std::vector<int>& numbers) {\n",
        "    int max_product = 0;\n",
        "    int n = numbers.size();\n",
        "\n",
        "    for (int first = 0; first < n; ++first) {\n",
        "        for (int second = first + 1; second < n; ++second) {\n",
        "            max_product = std::max(max_product,\n",
        "                numbers[first] * numbers[second]);\n",
        "        }\n",
        "    }\n",
        "\n",
        "    return max_product;\n",
        "}\n",
        "\n",
        "int main() {\n",
        "    int n;\n",
        "    std::cin >> n;\n",
        "    std::vector<int> numbers(n);\n",
        "    for (int i = 0; i < n; ++i) {\n",
        "        std::cin >> numbers[i];\n",
        "    }\n",
        "\n",
        "    std::cout << MaxPairwiseProduct(numbers) << \"\\n\";\n",
        "    return 0;\n",
        "}\n"
      ],
      "execution_count": null,
      "outputs": [
        {
          "output_type": "stream",
          "name": "stdout",
          "text": [
            "Writing max_pairwise_product.cpp\n"
          ]
        }
      ]
    },
    {
      "cell_type": "code",
      "metadata": {
        "colab": {
          "base_uri": "https://localhost:8080/"
        },
        "id": "KGxaEjvWX__O",
        "outputId": "168bd1e5-877f-43d9-b320-848dd60bf034"
      },
      "source": [
        "!g++ max_pairwise_product.cpp -o max_pairwise_product\n",
        "!./max_pairwise_product"
      ],
      "execution_count": null,
      "outputs": [
        {
          "output_type": "stream",
          "name": "stdout",
          "text": [
            "4\n",
            "2\n",
            "3\n",
            "3\n",
            "-3\n",
            "9\n"
          ]
        }
      ]
    },
    {
      "cell_type": "markdown",
      "metadata": {
        "id": "e7KhxHGNS3i0"
      },
      "source": [
        "### Test 1: Small numbers"
      ]
    },
    {
      "cell_type": "code",
      "metadata": {
        "colab": {
          "base_uri": "https://localhost:8080/"
        },
        "id": "e1mmTzBgShT-",
        "outputId": "19693862-a211-44ac-d399-9ff9384ac180"
      },
      "source": [
        "%%writefile input1.txt\n",
        "10\n",
        "1 2 3 4 5 6 7 8 9 10"
      ],
      "execution_count": null,
      "outputs": [
        {
          "output_type": "stream",
          "name": "stdout",
          "text": [
            "Overwriting input1.txt\n"
          ]
        }
      ]
    },
    {
      "cell_type": "code",
      "metadata": {
        "colab": {
          "base_uri": "https://localhost:8080/"
        },
        "id": "vy_uI0x7TCId",
        "outputId": "ef7f08a3-7024-40ed-88f0-8fc7c4e03e99"
      },
      "source": [
        "!./max_pairwise_product < input1.txt"
      ],
      "execution_count": null,
      "outputs": [
        {
          "output_type": "stream",
          "name": "stdout",
          "text": [
            "90\n"
          ]
        }
      ]
    },
    {
      "cell_type": "markdown",
      "metadata": {
        "id": "IeZ3kTjpYmR9"
      },
      "source": [
        "### Test 2: largest input numbers 200000 200000 in the input"
      ]
    },
    {
      "cell_type": "code",
      "metadata": {
        "colab": {
          "base_uri": "https://localhost:8080/"
        },
        "id": "LQNlZqaqYt7U",
        "outputId": "028bae35-e27e-454d-e943-91ae6be10ed0"
      },
      "source": [
        "%%writefile input2.txt\n",
        "6\n",
        "1 3 200000 9 200000 23"
      ],
      "execution_count": null,
      "outputs": [
        {
          "output_type": "stream",
          "name": "stdout",
          "text": [
            "Overwriting input2.txt\n"
          ]
        }
      ]
    },
    {
      "cell_type": "code",
      "metadata": {
        "colab": {
          "base_uri": "https://localhost:8080/"
        },
        "id": "2Wad2VZUZDxR",
        "outputId": "29d0d26f-5dce-43fe-8718-626a29dfcf93"
      },
      "source": [
        "!./max_pairwise_product < input2.txt"
      ],
      "execution_count": null,
      "outputs": [
        {
          "output_type": "stream",
          "name": "stdout",
          "text": [
            "1345294336\n"
          ]
        }
      ]
    },
    {
      "cell_type": "markdown",
      "metadata": {
        "id": "H2SC0Qt5HCzz"
      },
      "source": [
        "Changing the variables to long long"
      ]
    },
    {
      "cell_type": "code",
      "metadata": {
        "colab": {
          "base_uri": "https://localhost:8080/"
        },
        "id": "MPcmsxiQZSfE",
        "outputId": "0e2bbdc7-e38d-46a8-825a-508c2ca917a5"
      },
      "source": [
        "%%writefile max_pairwise_product_long.cpp\n",
        "#include <iostream>\n",
        "#include <vector>\n",
        "#include <algorithm>\n",
        "\n",
        "long long MaxPairwiseProduct(const std::vector<int>& numbers) {\n",
        "    long long max_product = 0LL;\n",
        "\t  long long aux_product = 0LL;\n",
        "    int n = numbers.size();\n",
        "\n",
        "    for (int first = 0; first < n; ++first) {\n",
        "        for (int second = first + 1; second < n; ++second) {\n",
        "\t\t\t       aux_product =  (long long) numbers[first] * numbers[second];\n",
        "            if ( max_product < aux_product)  {\n",
        "\t\t\t\t        max_product = aux_product;\n",
        "             }\n",
        "        }\n",
        "    }\n",
        "\n",
        "    return max_product;\n",
        "}\n",
        "\n",
        "int main() {\n",
        "    int n;\n",
        "    std::cin >> n;\n",
        "    std::vector<int> numbers(n);\n",
        "    for (int i = 0; i < n; ++i) {\n",
        "        std::cin >> numbers[i];\n",
        "    }\n",
        "\n",
        "    std::cout << MaxPairwiseProduct(numbers) << \"\\n\";\n",
        "    return 0;\n",
        "}\n"
      ],
      "execution_count": null,
      "outputs": [
        {
          "output_type": "stream",
          "name": "stdout",
          "text": [
            "Writing max_pairwise_product_long.cpp\n"
          ]
        }
      ]
    },
    {
      "cell_type": "code",
      "metadata": {
        "colab": {
          "base_uri": "https://localhost:8080/"
        },
        "id": "I5pCeOG1Zm7s",
        "outputId": "51ff5656-0391-4564-d288-baff4186d386"
      },
      "source": [
        "!g++ max_pairwise_product_long.cpp -o max_pairwise_product_long\n",
        "!./max_pairwise_product_long < input1.txt\n",
        "!./max_pairwise_product_long < input2.txt"
      ],
      "execution_count": null,
      "outputs": [
        {
          "output_type": "stream",
          "name": "stdout",
          "text": [
            "90\n",
            "40000000000\n"
          ]
        }
      ]
    },
    {
      "cell_type": "markdown",
      "metadata": {
        "id": "XPVHkHxH6_7s"
      },
      "source": [
        "### Test 3  stress tests 20  times  random n in [2, 20] "
      ]
    },
    {
      "cell_type": "code",
      "metadata": {
        "id": "PwqpBmYr69fu",
        "outputId": "ec802315-1ed2-4d98-aada-003ffe439c9e",
        "colab": {
          "base_uri": "https://localhost:8080/"
        }
      },
      "source": [
        "%%writefile input3.txt\n",
        "20"
      ],
      "execution_count": null,
      "outputs": [
        {
          "output_type": "stream",
          "name": "stdout",
          "text": [
            "Writing input3.txt\n"
          ]
        }
      ]
    },
    {
      "cell_type": "code",
      "source": [
        "%%writefile random_stress_test.cpp\n",
        "#include <iostream>\n",
        "#include <cstdlib>\n",
        "#include <ctime>\n",
        "\n",
        "using namespace std;\n",
        "\n",
        "int main() {\n",
        "    int n;\n",
        "    cin >> n; // If you want 20, put 20\n",
        "    \n",
        "    // Seed the random number generator\n",
        "    srand(time(NULL));\n",
        "    \n",
        "    // Generate n random numbers and write them to the output file\n",
        "    for (int i = 0; i < n; i++) {\n",
        "        int num = rand() % 19 + 2;\n",
        "        cout << num << endl;\n",
        "    }\n",
        "\n",
        "    return 0;\n",
        "}\n"
      ],
      "metadata": {
        "id": "93K2vDUUGFD3",
        "outputId": "e792ea5f-7b5f-4c1f-d17a-43289191f6ca",
        "colab": {
          "base_uri": "https://localhost:8080/"
        }
      },
      "execution_count": null,
      "outputs": [
        {
          "output_type": "stream",
          "name": "stdout",
          "text": [
            "Writing random_stress_test.cpp\n"
          ]
        }
      ]
    },
    {
      "cell_type": "code",
      "source": [
        "!g++ random_stress_test.cpp -o random_stress_test\n",
        "!./random_stress_test < input3.txt"
      ],
      "metadata": {
        "id": "eHEm7bBrH2Tc",
        "outputId": "815ff5ed-e7f4-4e85-ed2e-351211319065",
        "colab": {
          "base_uri": "https://localhost:8080/"
        }
      },
      "execution_count": null,
      "outputs": [
        {
          "output_type": "stream",
          "name": "stdout",
          "text": [
            "10\n",
            "18\n",
            "19\n",
            "20\n",
            "19\n",
            "11\n",
            "19\n",
            "14\n",
            "3\n",
            "6\n",
            "19\n",
            "2\n",
            "7\n",
            "2\n",
            "2\n",
            "5\n",
            "8\n",
            "19\n",
            "10\n",
            "11\n"
          ]
        }
      ]
    },
    {
      "cell_type": "markdown",
      "metadata": {
        "id": "9z9yr5QkeyJF"
      },
      "source": [
        "### Test 4  time test  measure the execution time running with the the largest worst case file (200000 increasing numbers, 200000 and 200000 the end) "
      ]
    },
    {
      "cell_type": "code",
      "metadata": {
        "id": "oLiMjbAIfPlX",
        "colab": {
          "base_uri": "https://localhost:8080/"
        },
        "outputId": "bce3ecc3-cf1d-41fa-de9c-9a6ba5787241"
      },
      "source": [
        "%%writefile Test2Write.cpp\n",
        "\n",
        "#include <iostream>\n",
        "#include <fstream>\n",
        "#include <cstdlib>\n",
        "\n",
        "using namespace std;\n",
        "\n",
        "int main() {\n",
        "  // Create and open a text file\n",
        "  ofstream MyFile(\"input3.txt\");\n",
        "\n",
        " MyFile << 200000 <<\"\\n\";  // n \n",
        " for (int i=1; i < 200001; i++){\n",
        "     MyFile << i <<\" \";\n",
        " }\n",
        "  \n",
        "  // Close the file\n",
        "  MyFile.close();\n",
        "}"
      ],
      "execution_count": null,
      "outputs": [
        {
          "output_type": "stream",
          "name": "stdout",
          "text": [
            "Overwriting Test2Write.cpp\n"
          ]
        }
      ]
    },
    {
      "cell_type": "code",
      "metadata": {
        "id": "EH25TkOkZfD9"
      },
      "source": [
        "!g++ Test2Write.cpp -o Test2Write\n",
        "!./Test2Write"
      ],
      "execution_count": null,
      "outputs": []
    },
    {
      "cell_type": "markdown",
      "metadata": {
        "id": "JB6f03qO-lj9"
      },
      "source": [
        "Measure time\n",
        "\n",
        "https://askubuntu.com/questions/53444/how-can-i-measure-the-execution-time-of-a-terminal-process"
      ]
    },
    {
      "cell_type": "code",
      "metadata": {
        "colab": {
          "base_uri": "https://localhost:8080/"
        },
        "id": "6p2QLEr576zk",
        "outputId": "3168b40b-e796-426c-a474-4dcb81dcd956"
      },
      "source": [
        "!g++ max_pairwise_product_long.cpp -o max_pairwise_product_long\n",
        "!time ./max_pairwise_product_long < input3.txt"
      ],
      "execution_count": null,
      "outputs": [
        {
          "output_type": "stream",
          "name": "stdout",
          "text": [
            "39999800000\n",
            "\n",
            "real\t1m34.474s\n",
            "user\t1m33.882s\n",
            "sys\t0m0.040s\n"
          ]
        }
      ]
    },
    {
      "cell_type": "markdown",
      "metadata": {
        "id": "AmZeB2wYjxy5"
      },
      "source": [
        "##### Calculate  the number of instructions executed by the algorithm as a function of n, add in each line a comment with the number of instructions that are executed in that line \n",
        "\n",
        "```cpp\n",
        " int main() {                         //N inst exec by line executed  \n",
        "   \n",
        "    int n;                            //1                      \n",
        "    std::cin >> n;                    //1\n",
        "                                              \n",
        "    std::vector<int> numbers(n);      //n    init vector\n",
        "    .\n",
        "    .\n",
        " }\n",
        "\n",
        "```"
      ]
    },
    {
      "cell_type": "code",
      "metadata": {
        "colab": {
          "base_uri": "https://localhost:8080/"
        },
        "id": "djGX3FL13g9b",
        "outputId": "270176eb-1660-419e-de67-2c8f8c3c7f74"
      },
      "source": [
        "%%writefile test_init_vectors.cpp\n",
        "#include <iostream>\n",
        "#include <vector>\n",
        "#include <algorithm>\n",
        "int main() {                                                               \n",
        "    int n = 10;                                                                                                                            //1\n",
        "    std::vector<int> numbers(n);                                            \n",
        "    for (int i = 0; i < n; ++i) {                                           \n",
        "        std::cout << numbers[i];                                             \n",
        "    }\n",
        "\n",
        "    std::cout << \"\\n\";                       \n",
        "    return 0;                                                              \n",
        "}  "
      ],
      "execution_count": null,
      "outputs": [
        {
          "output_type": "stream",
          "text": [
            "Overwriting test_init_vectors.cpp\n"
          ],
          "name": "stdout"
        }
      ]
    },
    {
      "cell_type": "code",
      "metadata": {
        "colab": {
          "base_uri": "https://localhost:8080/"
        },
        "id": "44gZcuE237-1",
        "outputId": "7f5f9c2a-bed0-4223-ee39-3290f70db610"
      },
      "source": [
        "!g++ test_init_vectors.cpp -o test_init_vectors\n",
        "!./test_init_vectors"
      ],
      "execution_count": null,
      "outputs": [
        {
          "output_type": "stream",
          "text": [
            "0000000000\n"
          ],
          "name": "stdout"
        }
      ]
    },
    {
      "cell_type": "code",
      "metadata": {
        "colab": {
          "base_uri": "https://localhost:8080/"
        },
        "id": "uG6Mv-Pwlkii",
        "outputId": "8b4b2a48-2fc3-4feb-81ab-088e183a49f5"
      },
      "source": [
        "%%writefile max_pairwise_product_long.cpp\n",
        "#include <iostream>\n",
        "#include <vector>\n",
        "#include <algorithm>\n",
        "\n",
        "long long MaxPairwiseProduct(const std::vector<int>& numbers) {              //N inst exec by line executed \n",
        "    long long max_product = 0LL;                                             //1                                          \n",
        "\t  long long aux_product = 0LL;                                             //1 \n",
        "    int n = numbers.size();                                                  //1 \n",
        "                                                                             \n",
        "    for (int first = 0; first < n; ++first) {                                //1+2n  \n",
        "        for (int second = first + 1; second < n; ++second) {                 //n + (n-1)n \n",
        "\t\t\t       aux_product =  (long long) numbers[first] * numbers[second];    //(n-1)n/2 \n",
        "            if (max_product < aux_product)  {                                //(n-1)n/2 \n",
        "\t\t\t\t        max_product = aux_product;                                   //[0, (n-1)n/2] \n",
        "             }\n",
        "        }\n",
        "    }\n",
        "                                                                             // -------------- \n",
        "    return max_product;                                                      // 4 + 3n + [2(n-1)n, 2.5 (n-1)n] \n",
        "}\n",
        "\n",
        "int main() {                                              //N inst exec by line executed \n",
        "    int n;                                                //1  \n",
        "    std::cin >> n;                                        //1\n",
        "    std::vector<int> numbers(n);                          //n\n",
        "    for (int i = 0; i < n; ++i) {                         //1 + 2n\n",
        "        std::cin >> numbers[i];                           //n\n",
        "    }\n",
        "\n",
        "    std::cout << MaxPairwiseProduct(numbers) << \"\\n\";     //1 + 1  + 4 + 3n + [2(n-1)n, 2.5 (n-1)n]\n",
        "    return 0;                                             // -------------- \n",
        "}                                                         // 9 + 7n + [2(n-1)n, 2.5 (n-1)n]\n"
      ],
      "execution_count": null,
      "outputs": [
        {
          "output_type": "stream",
          "text": [
            "Overwriting max_pairwise_product_long.cpp\n"
          ],
          "name": "stdout"
        }
      ]
    },
    {
      "cell_type": "markdown",
      "metadata": {
        "id": "0vTsUg8OwcHs"
      },
      "source": [
        "Count executed intructions in code and verify with inputs 1, 2 and 3"
      ]
    },
    {
      "cell_type": "code",
      "metadata": {
        "colab": {
          "base_uri": "https://localhost:8080/"
        },
        "id": "CuRKkqQc137V",
        "outputId": "58b72004-01f8-4734-96f8-5ff1a32cdd31"
      },
      "source": [
        "%%writefile max_pairwise_product_long_execints.cpp\n",
        "#include <iostream>\n",
        "#include <vector>\n",
        "#include <algorithm>\n",
        "\n",
        "long long MaxPairwiseProduct(const std::vector<int>& numbers, long long &execints) {              //N inst exec by line executed \n",
        "    \n",
        "    long long m = 0LL;                                                       //1\n",
        "    \n",
        "    long long max_product = 0LL;                                             //1\n",
        "    execints++;\n",
        "\n",
        "\t  long long aux_product = 0LL;                                             //1\n",
        "    execints++;\n",
        "\n",
        "    int n = numbers.size();                                                  //1 \n",
        "    execints++;\n",
        "\n",
        "    execints++;                                                                         \n",
        "    for (int first = 0; first < n; ++first) {                                //1+2n  \n",
        "        execints += 2;\n",
        "\n",
        "        long long m = 0LL;\n",
        "\n",
        "        execints++;                                    \n",
        "        for (int second = first + 1; second < n; ++second) {                 //n+ (n-1)n \n",
        "            execints += 2;                                                \n",
        "\n",
        "\t\t\t      aux_product =  (long long) numbers[first] * numbers[second];    //(n-1)n/2 \n",
        "            execints++; \n",
        "\n",
        "            execints++; \n",
        "            if ( max_product < aux_product)  {                               //(n-1)n/2 \n",
        "                       \n",
        "\t\t\t\t        max_product = aux_product;                                   //[0, (n-1)n/2] \n",
        "                execints++; \n",
        "                m++;\n",
        "             }\n",
        "        }\n",
        "        if ( (first <= 10) || (n- first <= 10)) std::cout << m << \"\\n\";\n",
        "    }\n",
        "                                                                            // -------------- \n",
        "    return max_product;                                                     // 4 + 3n + [2(n-1)n, 2.5 (n-1)n] \n",
        "}\n",
        "\n",
        "int main() {                                                 //N inst exec by line executed \n",
        "    long long execints =0LL;\n",
        "\n",
        "    int n;                                                   //1\n",
        "    execints++;                                                              \n",
        "    \n",
        "    std::cin >> n;                                           //1\n",
        "    execints++;\n",
        "\n",
        "    std::vector<int> numbers(n);                             //n\n",
        "    execints += n;\n",
        "    \n",
        "    execints++;\n",
        "    for (int i = 0; i < n; ++i) {                            //1 + 2n\n",
        "        execints += 2;\n",
        "\n",
        "        std::cin >> numbers[i];\n",
        "        execints++;                                          //n\n",
        "    }\n",
        "    \n",
        "    //std::cout << MaxPairwiseProduct(numbers) << \"\\n\";      //1 + 1  + 4 + 3n + [2(n-1)n, 2.5 (n-1)n]\n",
        "\n",
        "    execints++;\n",
        "    int M = MaxPairwiseProduct(numbers,execints);\n",
        "\n",
        "    execints++;\n",
        "    std::cout <<  execints << \"\\n\";                       \n",
        "    return 0;                                                // -------------- \n",
        "}                                                            // 9 + 7n + [2(n-1)n, 2.5 (n-1)n]"
      ],
      "execution_count": null,
      "outputs": [
        {
          "output_type": "stream",
          "text": [
            "Overwriting max_pairwise_product_long_execints.cpp\n"
          ],
          "name": "stdout"
        }
      ]
    },
    {
      "cell_type": "code",
      "metadata": {
        "colab": {
          "base_uri": "https://localhost:8080/"
        },
        "id": "Kuvm1C05ly2a",
        "outputId": "f8e2f872-e7d9-4732-acb4-5ffe2e6568d1"
      },
      "source": [
        "!g++ max_pairwise_product_long_execints.cpp -o max_pairwise_product_long_execints\n",
        "!./max_pairwise_product_long_execints < input1.txt\n",
        "!./max_pairwise_product_long_execints < input2.txt\n",
        "!./max_pairwise_product_long_execints < input3.txt"
      ],
      "execution_count": null,
      "outputs": [
        {
          "output_type": "stream",
          "text": [
            "9\n",
            "5\n",
            "4\n",
            "3\n",
            "2\n",
            "2\n",
            "2\n",
            "2\n",
            "1\n",
            "0\n",
            "289\n",
            "2\n",
            "1\n",
            "2\n",
            "0\n",
            "0\n",
            "0\n",
            "116\n",
            "199999\n",
            "100000\n",
            "66667\n",
            "50000\n",
            "40000\n",
            "33334\n",
            "28572\n",
            "25000\n",
            "22223\n",
            "20000\n",
            "18182\n",
            "2\n",
            "2\n",
            "2\n",
            "2\n",
            "2\n",
            "2\n",
            "2\n",
            "2\n",
            "1\n",
            "0\n",
            "80003672077\n"
          ],
          "name": "stdout"
        }
      ]
    },
    {
      "cell_type": "markdown",
      "metadata": {
        "id": "L_uaamxeAHK7"
      },
      "source": [
        "The number of instructions executed by the algooirithm with a list of size $n$ is  \n",
        "\n",
        "$$T = 9 + 7n + [2(n-1)n, 2.5 (n-1)n]$$\n",
        "\n",
        "It depends on the size of the lists and  the order of the list.\n",
        "\n",
        "For the input1.txt \n",
        "```\n",
        "10\n",
        "1 2 3 4 5 6 7 8 9 10\n",
        "```\n",
        "$$T = 9 + 7(10) + 2(9)(10) +  9 + 5 + 4 + 3 + 2 + 2 + 2 + 2 + 1 + 0  = 289 $$\n",
        "\n",
        "For the input2.txt \n",
        "```\n",
        "6\n",
        "1 3 200000 9 200000 23\n",
        "```\n",
        "$$T = 9 + 7(6) + 2(5)(6)  +  2 + 1 + 2 + 0 + 0 + 0 = 116 $$\n",
        "\n",
        "\n",
        "For the input3.txt that is the worst case (n=200000 and list in incresing order)\n",
        "\n",
        "```\n",
        "200000\n",
        "1 2 3 4 5 6 7 8 9 10 ... 199998 199999 200000\n",
        "```\n",
        "\n",
        "$$\n",
        "\\begin{array}{ll}\n",
        "T &= 9 + 7(200000) + (2)(199999)(200000)  + (199999 +\n",
        "100000 + 66667 +50000 \\cdots 2 + 2 + 1)\\\\\n",
        "&= 80003672077  \\\\\n",
        "  &< 9 + 7(200000) + (2.5)(199999)(200000) \\\\\n",
        "  & = 100000900009\n",
        "\\end{array}\n",
        "  $$"
      ]
    },
    {
      "cell_type": "markdown",
      "metadata": {
        "id": "NXW7QkoBL6xH"
      },
      "source": [
        "Calculate estimated time by instruction and number of instructions by second"
      ]
    },
    {
      "cell_type": "code",
      "metadata": {
        "colab": {
          "base_uri": "https://localhost:8080/"
        },
        "id": "pKqB3i7dIxnc",
        "outputId": "cec850f5-16e3-4cd6-bf9b-6f5f2fd7b076"
      },
      "source": [
        "# Estimated time by instruction\n",
        "\n",
        "128/80003672077 \n"
      ],
      "execution_count": null,
      "outputs": [
        {
          "output_type": "execute_result",
          "data": {
            "text/plain": [
              "1.5999265618308827e-09"
            ]
          },
          "metadata": {
            "tags": []
          },
          "execution_count": 34
        }
      ]
    },
    {
      "cell_type": "code",
      "metadata": {
        "colab": {
          "base_uri": "https://localhost:8080/"
        },
        "id": "18N1ouqeMhE1",
        "outputId": "d7d4d1bf-b899-4c01-8ecb-e30da3ae6468"
      },
      "source": [
        "# Estimated number of instructions by second\n",
        "\n",
        "1/(128/80003672077) "
      ],
      "execution_count": null,
      "outputs": [
        {
          "output_type": "execute_result",
          "data": {
            "text/plain": [
              "625028688.1015625"
            ]
          },
          "metadata": {
            "tags": []
          },
          "execution_count": 35
        }
      ]
    },
    {
      "cell_type": "markdown",
      "metadata": {
        "id": "CQufozXLNJwO"
      },
      "source": [
        "### Efficient solution"
      ]
    },
    {
      "cell_type": "markdown",
      "metadata": {
        "id": "nLcKBwbU0QsE"
      },
      "source": [
        "Add in each line a coment with the number of intstrcution that are executed in that line"
      ]
    },
    {
      "cell_type": "code",
      "metadata": {
        "id": "knls5Fh3NSt_"
      },
      "source": [],
      "execution_count": null,
      "outputs": []
    },
    {
      "cell_type": "markdown",
      "metadata": {
        "id": "-JCijbWxNSii"
      },
      "source": [
        "Test with inputs 1 and 2\n",
        "\n"
      ]
    },
    {
      "cell_type": "code",
      "metadata": {
        "id": "TrTGAfqlNVXT"
      },
      "source": [],
      "execution_count": null,
      "outputs": []
    },
    {
      "cell_type": "markdown",
      "metadata": {
        "id": "PRX51wADNR8b"
      },
      "source": [
        "Test and time it with input 3"
      ]
    },
    {
      "cell_type": "code",
      "metadata": {
        "id": "v4z7-Is_NRt7"
      },
      "source": [],
      "execution_count": null,
      "outputs": []
    },
    {
      "cell_type": "markdown",
      "metadata": {
        "id": "rpdfs0_TNZJf"
      },
      "source": [
        "20 stress tests"
      ]
    },
    {
      "cell_type": "code",
      "metadata": {
        "id": "Lu4tYcKzNcTT"
      },
      "source": [],
      "execution_count": null,
      "outputs": []
    },
    {
      "cell_type": "markdown",
      "metadata": {
        "id": "L8U4151JNbxk"
      },
      "source": [
        "Count executed instructions in code and verify with inputs 1,2 and 3\n"
      ]
    },
    {
      "cell_type": "code",
      "metadata": {
        "id": "dh85RM8vNhFz"
      },
      "source": [],
      "execution_count": null,
      "outputs": []
    },
    {
      "cell_type": "markdown",
      "metadata": {
        "id": "K6ybgCmpNygr"
      },
      "source": [
        "Calculate estimated time by instruction and number of instructions by second"
      ]
    },
    {
      "cell_type": "code",
      "metadata": {
        "id": "kwe3G1O3Nz1w"
      },
      "source": [],
      "execution_count": null,
      "outputs": []
    },
    {
      "cell_type": "markdown",
      "metadata": {
        "id": "sc9nOLQrfTm0"
      },
      "source": [
        "### Super efficient solution\n",
        "\n",
        "Whitout storing the list in memory and whitout calling a function, add in each line a coment with the number of intstrcution that are executed in that line "
      ]
    },
    {
      "cell_type": "code",
      "metadata": {
        "id": "hBLt_xBQLy8E"
      },
      "source": [],
      "execution_count": null,
      "outputs": []
    },
    {
      "cell_type": "markdown",
      "metadata": {
        "id": "683gc3roHqzb"
      },
      "source": [
        "Test with inputs 1 and 2\n",
        "\n",
        "\n",
        " "
      ]
    },
    {
      "cell_type": "code",
      "metadata": {
        "id": "b7d4LA8OIc2_"
      },
      "source": [],
      "execution_count": null,
      "outputs": []
    },
    {
      "cell_type": "markdown",
      "metadata": {
        "id": "36Ugn1odIeJz"
      },
      "source": [
        "Test and time it with input 3"
      ]
    },
    {
      "cell_type": "code",
      "metadata": {
        "id": "jDyMbCnxHqSN"
      },
      "source": [],
      "execution_count": null,
      "outputs": []
    },
    {
      "cell_type": "markdown",
      "metadata": {
        "id": "bhqiKQG6fjKM"
      },
      "source": [
        "20 stress tests "
      ]
    },
    {
      "cell_type": "code",
      "metadata": {
        "id": "2KsiXKhALzwm"
      },
      "source": [],
      "execution_count": null,
      "outputs": []
    },
    {
      "cell_type": "markdown",
      "metadata": {
        "id": "fEXj8GHJH5p1"
      },
      "source": [
        "Count executed instructions in code and verify with inputs 1,2 and 3"
      ]
    },
    {
      "cell_type": "code",
      "metadata": {
        "id": "LF1DHjKXIAsF"
      },
      "source": [],
      "execution_count": null,
      "outputs": []
    },
    {
      "cell_type": "markdown",
      "metadata": {
        "id": "yae7sSm2IG9U"
      },
      "source": [
        "Calculate estimated time by instruction and number of instructions by second"
      ]
    },
    {
      "cell_type": "code",
      "metadata": {
        "id": "suouY7BYL2dz"
      },
      "source": [],
      "execution_count": null,
      "outputs": []
    },
    {
      "cell_type": "markdown",
      "metadata": {
        "id": "LkVxxlhl9H98"
      },
      "source": [
        "# Codeforces problem https://codeforces.com/contest/1619/problem/A \n",
        "\n",
        "Solve the problem in Colab, submit the solution to Codeforces and add a screenshoot of the submission."
      ]
    },
    {
      "cell_type": "markdown",
      "source": [
        "![Captura de pantalla 2023-03-22 093726.png](data:image/png;base64,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)"
      ],
      "metadata": {
        "id": "ufcWAYEiwQoB"
      }
    },
    {
      "cell_type": "markdown",
      "source": [
        "The problem was solve with the following code:"
      ],
      "metadata": {
        "id": "vINLw1_UwXEh"
      }
    },
    {
      "cell_type": "code",
      "source": [
        "t = int(input())  # read the number of test cases\n",
        "\n",
        "for _ in range(t):  # iterate over each test case\n",
        "    s = input().strip()  # read the string and remove any leading/trailing whitespaces\n",
        "    n = len(s)  # find the length of the string\n",
        "\n",
        "    if n % 2 != 0:  # if the length is odd, the string cannot be square\n",
        "        print(\"NO\")\n",
        "    else:\n",
        "        half = n // 2  # find the midpoint of the string\n",
        "        if s[:half] == s[half:]:  # check if the first half of the string is the same as the second half\n",
        "            print(\"YES\")\n",
        "        else:\n",
        "            print(\"NO\")"
      ],
      "metadata": {
        "id": "iPERhSAxwTm1",
        "outputId": "a56d173d-6357-4617-a21e-01fd02fcb3c7",
        "colab": {
          "base_uri": "https://localhost:8080/"
        }
      },
      "execution_count": 2,
      "outputs": [
        {
          "output_type": "stream",
          "name": "stdout",
          "text": [
            "10\n",
            "a\n",
            "NO\n",
            "aa\n",
            "YES\n",
            "aaa\n",
            "NO\n",
            "aaaa\n",
            "YES\n",
            "abab\n",
            "YES\n",
            "abcabc\n",
            "YES\n",
            "abacaba\n",
            "NO\n",
            "xxyy\n",
            "NO\n",
            "xyyx\n",
            "NO\n",
            "xyxy\n",
            "YES\n"
          ]
        }
      ]
    }
  ]
}