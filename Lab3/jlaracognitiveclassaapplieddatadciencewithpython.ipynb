{
  "nbformat": 4,
  "nbformat_minor": 0,
  "metadata": {
    "colab": {
      "provenance": [],
      "toc_visible": true,
      "include_colab_link": true
    },
    "kernelspec": {
      "name": "python3",
      "display_name": "Python 3"
    },
    "language_info": {
      "name": "python"
    }
  },
  "cells": [
    {
      "cell_type": "markdown",
      "metadata": {
        "id": "view-in-github",
        "colab_type": "text"
      },
      "source": [
        "<a href=\"https://colab.research.google.com/github/JuanLara18/AlgorithmsUN2023I/blob/main/Lab3/jlaracognitiveclassaapplieddatadciencewithpython.ipynb\" target=\"_parent\"><img src=\"https://colab.research.google.com/assets/colab-badge.svg\" alt=\"Open In Colab\"/></a>"
      ]
    },
    {
      "cell_type": "markdown",
      "source": [
        "# LinkedIn\n"
      ],
      "metadata": {
        "id": "LSbPe8A0X146"
      }
    },
    {
      "cell_type": "markdown",
      "source": [
        "The link of the LinkdIn can be found [here](https://www.linkedin.com/in/juandavidlara/)."
      ],
      "metadata": {
        "id": "neZJDWeuYAdv"
      }
    },
    {
      "cell_type": "markdown",
      "source": [
        "# **Certificados**"
      ],
      "metadata": {
        "id": "ENdxMQkTYY7q"
      }
    }
  ]
}