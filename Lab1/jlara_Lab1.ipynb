{
  "cells": [
    {
      "cell_type": "markdown",
      "metadata": {
        "id": "view-in-github",
        "colab_type": "text"
      },
      "source": [
        "<a href=\"https://colab.research.google.com/github/JuanLara18/AlgorithmsUN2023I/blob/main/Lab1/jlara_Lab1.ipynb\" target=\"_parent\"><img src=\"https://colab.research.google.com/assets/colab-badge.svg\" alt=\"Open In Colab\"/></a>"
      ]
    },
    {
      "cell_type": "markdown",
      "metadata": {
        "id": "IV9AKKVNtM6O"
      },
      "source": [
        "# Introduction to the Python Laboratory Task with Numpy, Pandas, and Data Visualization\n",
        "\n",
        "In this laboratory task, we will apply and expand our knowledge of Python programming, using the Google Colab environment as our development platform. The task is based on a Colab notebook provided by the instructor [here](https://colab.research.google.com/drive/13Hhgq-EFl9oPVmHh7cBfq19ZBjNjTWaa?usp=sharing#scrollTo=DQ49NGLoEnEk), which covers various aspects of Python programming, including variables, data types, control structures, functions, and more.\n",
        "\n",
        "The notebook also provides an introduction to two powerful libraries for data analysis and manipulation: NumPy and Pandas. NumPy is a fundamental library for scientific computing in Python, providing support for powerful N-dimensional arrays and a wide range of mathematical functions. Pandas, on the other hand, is a popular library for data manipulation and analysis, providing powerful data structures for working with tabular data.\n",
        "\n",
        "We will also learn about data visualization using the Matplotlib library, which provides a comprehensive set of tools for creating a wide range of visualizations, including line charts, bar charts, scatter plots, and more.\n",
        "\n",
        "During the laboratory task, we will have the opportunity to work on our own examples, applying the concepts and techniques covered in the notebook to real-world problems. By the end of the task, we will have gained valuable experience working with Python and the NumPy and Pandas libraries, as well as data visualization, which will prepare us for more advanced programming tasks in the future."
      ]
    },
    {
      "cell_type": "markdown",
      "source": [
        "## Introduction to Research"
      ],
      "metadata": {
        "id": "t0MaXFpGn4WA"
      }
    },
    {
      "cell_type": "markdown",
      "metadata": {
        "id": "Pw1gHZW-tM6U"
      },
      "source": [
        "My own example 1:"
      ]
    },
    {
      "cell_type": "code",
      "execution_count": 1,
      "metadata": {
        "colab": {
          "base_uri": "https://localhost:8080/"
        },
        "id": "CvcZ8LCctM6V",
        "outputId": "867d90b3-7c45-4fd9-cb29-f57acbf22447"
      },
      "outputs": [
        {
          "output_type": "execute_result",
          "data": {
            "text/plain": [
              "4"
            ]
          },
          "metadata": {},
          "execution_count": 1
        }
      ],
      "source": [
        "2+2"
      ]
    },
    {
      "cell_type": "markdown",
      "metadata": {
        "id": "gj1J9LfKtM6Y"
      },
      "source": [
        "My own example 2:"
      ]
    },
    {
      "cell_type": "code",
      "execution_count": 2,
      "metadata": {
        "id": "tDaisxvDtM6Y"
      },
      "outputs": [],
      "source": [
        "x = 2.1"
      ]
    },
    {
      "cell_type": "markdown",
      "metadata": {
        "id": "z6jPxDHttM6Z"
      },
      "source": [
        "My own example 3:"
      ]
    },
    {
      "cell_type": "code",
      "execution_count": 3,
      "metadata": {
        "id": "Qc7qdEPPtM6Z"
      },
      "outputs": [],
      "source": [
        "arr = [1, 2, 3, 4, 5, 10]"
      ]
    },
    {
      "cell_type": "markdown",
      "metadata": {
        "id": "p5qqm94dtM6a"
      },
      "source": [
        "My own example 4:\n"
      ]
    },
    {
      "cell_type": "code",
      "execution_count": 4,
      "metadata": {
        "id": "roYmGMvJtM6a"
      },
      "outputs": [],
      "source": [
        "Y = [2*i for i in arr]"
      ]
    },
    {
      "cell_type": "markdown",
      "metadata": {
        "id": "dzvlQhNBtM6c"
      },
      "source": [
        "My own example 5:"
      ]
    },
    {
      "cell_type": "code",
      "execution_count": 5,
      "metadata": {
        "id": "TKICqUb3tM6c"
      },
      "outputs": [],
      "source": [
        "import numpy as np"
      ]
    },
    {
      "cell_type": "markdown",
      "metadata": {
        "id": "z7OFdEmStM6d"
      },
      "source": [
        "My own example 6:"
      ]
    },
    {
      "cell_type": "code",
      "execution_count": 6,
      "metadata": {
        "id": "oOTuzKmOtM6d"
      },
      "outputs": [],
      "source": [
        "mu, sigma = 0, 0.1\n",
        "s = np.random.normal(mu, sigma, 1000)"
      ]
    },
    {
      "cell_type": "markdown",
      "source": [
        "My own example 7:"
      ],
      "metadata": {
        "id": "W6onRRZci_Wg"
      }
    },
    {
      "cell_type": "code",
      "source": [
        "numbers = [1, 2, 3, 4, 5]\n",
        "average = sum(numbers) / len(numbers)\n",
        "print(average)"
      ],
      "metadata": {
        "id": "6hiUu-xFi_tK",
        "outputId": "98a6506b-51de-4bca-dec5-09edf6785f6f",
        "colab": {
          "base_uri": "https://localhost:8080/"
        }
      },
      "execution_count": 7,
      "outputs": [
        {
          "output_type": "stream",
          "name": "stdout",
          "text": [
            "3.0\n"
          ]
        }
      ]
    },
    {
      "cell_type": "markdown",
      "source": [
        "My own example 8:"
      ],
      "metadata": {
        "id": "TCpr8YvqjBBI"
      }
    },
    {
      "cell_type": "code",
      "source": [
        "def factorial(n):\n",
        "    if n == 0:\n",
        "        return 1\n",
        "    else:\n",
        "        return n * factorial(n-1)\n",
        "\n",
        "print(factorial(5))"
      ],
      "metadata": {
        "id": "VFBf-nWYjBKN",
        "outputId": "eaed25ec-5e7c-485a-96cd-7557e7f41607",
        "colab": {
          "base_uri": "https://localhost:8080/"
        }
      },
      "execution_count": 8,
      "outputs": [
        {
          "output_type": "stream",
          "name": "stdout",
          "text": [
            "120\n"
          ]
        }
      ]
    },
    {
      "cell_type": "markdown",
      "source": [
        "My own example 9:"
      ],
      "metadata": {
        "id": "4wwYZeuOjBSR"
      }
    },
    {
      "cell_type": "code",
      "source": [
        "import random\n",
        "\n",
        "number = random.randint(1, 10)\n",
        "print(number)"
      ],
      "metadata": {
        "id": "J_LWGaS6jBZj",
        "outputId": "4ecc76d2-195b-41ee-b59c-5279f5eb2907",
        "colab": {
          "base_uri": "https://localhost:8080/"
        }
      },
      "execution_count": 9,
      "outputs": [
        {
          "output_type": "stream",
          "name": "stdout",
          "text": [
            "8\n"
          ]
        }
      ]
    },
    {
      "cell_type": "markdown",
      "source": [
        "My own example 10:"
      ],
      "metadata": {
        "id": "aHzWa20ujBgc"
      }
    },
    {
      "cell_type": "code",
      "source": [
        "dictionary = {\"key1\": \"value1\", \"key2\": \"value2\", \"key3\": \"value3\"}\n",
        "for key, value in dictionary.items():\n",
        "    print(key, value)"
      ],
      "metadata": {
        "id": "1LmVIqlPjBq_",
        "outputId": "fc5e44a4-e2af-4800-b0c0-7c6cefa9de4b",
        "colab": {
          "base_uri": "https://localhost:8080/"
        }
      },
      "execution_count": 10,
      "outputs": [
        {
          "output_type": "stream",
          "name": "stdout",
          "text": [
            "key1 value1\n",
            "key2 value2\n",
            "key3 value3\n"
          ]
        }
      ]
    },
    {
      "cell_type": "markdown",
      "source": [
        "My own example 11:"
      ],
      "metadata": {
        "id": "wd91ZZdbjBz4"
      }
    },
    {
      "cell_type": "code",
      "source": [
        "a = 5\n",
        "b = 7\n",
        "c = a + b\n",
        "print(c)"
      ],
      "metadata": {
        "id": "ER0uGCOIjB8j",
        "outputId": "f848d22b-e091-4fca-ef80-46b1e994ce32",
        "colab": {
          "base_uri": "https://localhost:8080/"
        }
      },
      "execution_count": 11,
      "outputs": [
        {
          "output_type": "stream",
          "name": "stdout",
          "text": [
            "12\n"
          ]
        }
      ]
    },
    {
      "cell_type": "markdown",
      "source": [
        "My own example 12:"
      ],
      "metadata": {
        "id": "TuZs9xEUjCDn"
      }
    },
    {
      "cell_type": "code",
      "source": [
        "a = 10\n",
        "b = 3\n",
        "c = a - b\n",
        "print(c) "
      ],
      "metadata": {
        "id": "wpcH66TZjCJo",
        "outputId": "da30984e-d716-4a14-e9d8-aae864db5d16",
        "colab": {
          "base_uri": "https://localhost:8080/"
        }
      },
      "execution_count": 12,
      "outputs": [
        {
          "output_type": "stream",
          "name": "stdout",
          "text": [
            "7\n"
          ]
        }
      ]
    },
    {
      "cell_type": "markdown",
      "source": [
        "My own example 13:"
      ],
      "metadata": {
        "id": "mAon9v-TjCQD"
      }
    },
    {
      "cell_type": "code",
      "source": [
        "a = 6\n",
        "b = 4\n",
        "c = a * b\n",
        "print(c) "
      ],
      "metadata": {
        "id": "ZQicliucjCWa",
        "outputId": "ea2df712-4527-4202-e46a-7bf0d8bb0078",
        "colab": {
          "base_uri": "https://localhost:8080/"
        }
      },
      "execution_count": 13,
      "outputs": [
        {
          "output_type": "stream",
          "name": "stdout",
          "text": [
            "24\n"
          ]
        }
      ]
    },
    {
      "cell_type": "markdown",
      "source": [
        "My own example 14:"
      ],
      "metadata": {
        "id": "Fw2Svlq8jCdN"
      }
    },
    {
      "cell_type": "code",
      "source": [
        "a = 20\n",
        "b = 5\n",
        "c = a / b\n",
        "print(c) "
      ],
      "metadata": {
        "id": "F6aX-EySjCjf",
        "outputId": "60f642ad-42f0-4019-af48-8e79e48ddbec",
        "colab": {
          "base_uri": "https://localhost:8080/"
        }
      },
      "execution_count": 14,
      "outputs": [
        {
          "output_type": "stream",
          "name": "stdout",
          "text": [
            "4.0\n"
          ]
        }
      ]
    },
    {
      "cell_type": "markdown",
      "source": [
        "My own example 15:"
      ],
      "metadata": {
        "id": "DoJQ5dE7jCoa"
      }
    },
    {
      "cell_type": "code",
      "source": [
        "a = 20\n",
        "b = 3\n",
        "c = a // b\n",
        "print(c) "
      ],
      "metadata": {
        "id": "gGzNz3yXjCuw",
        "outputId": "0fc0283b-e526-4039-c003-0b4731f1ba69",
        "colab": {
          "base_uri": "https://localhost:8080/"
        }
      },
      "execution_count": 15,
      "outputs": [
        {
          "output_type": "stream",
          "name": "stdout",
          "text": [
            "6\n"
          ]
        }
      ]
    },
    {
      "cell_type": "markdown",
      "source": [
        "My own example 16:"
      ],
      "metadata": {
        "id": "RuPSwbxwjC0C"
      }
    },
    {
      "cell_type": "code",
      "source": [
        "a = 20\n",
        "b = 3\n",
        "c = a % b\n",
        "print(c)"
      ],
      "metadata": {
        "id": "MntcptMPjC5q",
        "outputId": "4b598965-d802-4cce-8ce7-bac75fd9ae3c",
        "colab": {
          "base_uri": "https://localhost:8080/"
        }
      },
      "execution_count": 16,
      "outputs": [
        {
          "output_type": "stream",
          "name": "stdout",
          "text": [
            "2\n"
          ]
        }
      ]
    },
    {
      "cell_type": "markdown",
      "source": [
        "My own example 17:"
      ],
      "metadata": {
        "id": "k5GIrLtjjC_j"
      }
    },
    {
      "cell_type": "code",
      "source": [
        "a = 2\n",
        "b = 5\n",
        "c = a ** b\n",
        "print(c)"
      ],
      "metadata": {
        "id": "CL1754NijDF1",
        "outputId": "8a85245c-6de1-4b4d-e5fb-ecc79788155f",
        "colab": {
          "base_uri": "https://localhost:8080/"
        }
      },
      "execution_count": 17,
      "outputs": [
        {
          "output_type": "stream",
          "name": "stdout",
          "text": [
            "32\n"
          ]
        }
      ]
    },
    {
      "cell_type": "markdown",
      "source": [
        "My own example 18:"
      ],
      "metadata": {
        "id": "4tSzE7ALjDKx"
      }
    },
    {
      "cell_type": "code",
      "source": [
        "a = 5\n",
        "b = a\n",
        "print(b) "
      ],
      "metadata": {
        "id": "FN5yKiXXjDRU",
        "outputId": "0725aa1a-1852-476f-f80e-1781fb49754a",
        "colab": {
          "base_uri": "https://localhost:8080/"
        }
      },
      "execution_count": 18,
      "outputs": [
        {
          "output_type": "stream",
          "name": "stdout",
          "text": [
            "5\n"
          ]
        }
      ]
    },
    {
      "cell_type": "markdown",
      "source": [
        "My own example 19:"
      ],
      "metadata": {
        "id": "HB4ZMRwRjDWv"
      }
    },
    {
      "cell_type": "code",
      "source": [
        "a = 3\n",
        "b = 7\n",
        "print(a < b) \n",
        "print(a == b) \n",
        "print(a != b) "
      ],
      "metadata": {
        "id": "ZuZ8q1AQjDbz",
        "outputId": "ddb322e5-d880-4d90-f7eb-f6a8820b1b49",
        "colab": {
          "base_uri": "https://localhost:8080/"
        }
      },
      "execution_count": 19,
      "outputs": [
        {
          "output_type": "stream",
          "name": "stdout",
          "text": [
            "True\n",
            "False\n",
            "True\n"
          ]
        }
      ]
    },
    {
      "cell_type": "markdown",
      "source": [
        "My own example 20:"
      ],
      "metadata": {
        "id": "G5WE1dKupcdL"
      }
    },
    {
      "cell_type": "code",
      "source": [
        "a = \"Hola \"\n",
        "b = \"Mundo\"\n",
        "c = a + b\n",
        "print(c)"
      ],
      "metadata": {
        "id": "XNWPDT4UpdvB",
        "outputId": "9c24bc56-9f68-4340-8fbb-5da1b5be090b",
        "colab": {
          "base_uri": "https://localhost:8080/"
        }
      },
      "execution_count": 20,
      "outputs": [
        {
          "output_type": "stream",
          "name": "stdout",
          "text": [
            "Hola Mundo\n"
          ]
        }
      ]
    },
    {
      "cell_type": "markdown",
      "source": [
        "## Introduction to Python"
      ],
      "metadata": {
        "id": "OWBnr6oXoLWh"
      }
    },
    {
      "cell_type": "markdown",
      "metadata": {
        "id": "OjhIPqOmtM6e"
      },
      "source": [
        "My own example 1:"
      ]
    },
    {
      "cell_type": "code",
      "source": [
        "def add_nums(a, b):\n",
        "    return a + b"
      ],
      "metadata": {
        "id": "CBXeFTwp1IG6"
      },
      "execution_count": 21,
      "outputs": []
    },
    {
      "cell_type": "markdown",
      "metadata": {
        "id": "DNRY44hqtM6f"
      },
      "source": [
        "My own example 2:"
      ]
    },
    {
      "cell_type": "code",
      "execution_count": 22,
      "metadata": {
        "id": "ZmPe_2h7tM6f"
      },
      "outputs": [],
      "source": [
        "original_list = [1, 2, 3, 4, 5]\n",
        "new_list = [x * 2 for x in original_list]"
      ]
    },
    {
      "cell_type": "markdown",
      "metadata": {
        "id": "cgNTQPn8tM6g"
      },
      "source": [
        "My own example 3:"
      ]
    },
    {
      "cell_type": "code",
      "execution_count": 23,
      "metadata": {
        "id": "1ukq2gCZtM6g",
        "outputId": "26ab60bc-9bb0-4dc0-976b-818728b231b3",
        "colab": {
          "base_uri": "https://localhost:8080/"
        }
      },
      "outputs": [
        {
          "output_type": "stream",
          "name": "stdout",
          "text": [
            "4.0\n"
          ]
        }
      ],
      "source": [
        "import math\n",
        "print(math.sqrt(16))"
      ]
    },
    {
      "cell_type": "markdown",
      "source": [
        "My own example 4:"
      ],
      "metadata": {
        "id": "BIIFPpxSqVRh"
      }
    },
    {
      "cell_type": "code",
      "source": [
        "dictionary = {\"key1\": \"value1\", \"key2\": \"value2\", \"key3\": \"value3\"}\n",
        "for key, value in dictionary.items():\n",
        "    print(key, value)"
      ],
      "metadata": {
        "id": "iXzY3tkZqVRh",
        "outputId": "50913512-5ac5-49d9-fa65-6dc3bf8351fd",
        "colab": {
          "base_uri": "https://localhost:8080/"
        }
      },
      "execution_count": 24,
      "outputs": [
        {
          "output_type": "stream",
          "name": "stdout",
          "text": [
            "key1 value1\n",
            "key2 value2\n",
            "key3 value3\n"
          ]
        }
      ]
    },
    {
      "cell_type": "markdown",
      "source": [
        "My own example 5:"
      ],
      "metadata": {
        "id": "GMrw7OopqVRh"
      }
    },
    {
      "cell_type": "code",
      "source": [
        "multiply_by_two = lambda x: x * 2\n",
        "print(multiply_by_two(5))"
      ],
      "metadata": {
        "id": "15VKt1p8qVRh",
        "outputId": "fbf5d5de-35c8-423c-f169-75a8d7a27d26",
        "colab": {
          "base_uri": "https://localhost:8080/"
        }
      },
      "execution_count": 25,
      "outputs": [
        {
          "output_type": "stream",
          "name": "stdout",
          "text": [
            "10\n"
          ]
        }
      ]
    },
    {
      "cell_type": "markdown",
      "source": [
        "My own example 6:"
      ],
      "metadata": {
        "id": "sto4LoyyqVRi"
      }
    },
    {
      "cell_type": "code",
      "source": [
        "original_list = [1, 2, 3, 4, 5]\n",
        "new_list = list(map(lambda x: x * 2, original_list))"
      ],
      "metadata": {
        "id": "LK9Val2CqVRi"
      },
      "execution_count": 26,
      "outputs": []
    },
    {
      "cell_type": "markdown",
      "source": [
        "My own example 7:"
      ],
      "metadata": {
        "id": "YX36R8aFqVRi"
      }
    },
    {
      "cell_type": "code",
      "source": [
        "original_list = [1, 2, 3, 4, 5]\n",
        "new_list = list(filter(lambda x: x % 2 == 0, original_list))"
      ],
      "metadata": {
        "id": "sDf6UJhnqVRi"
      },
      "execution_count": 27,
      "outputs": []
    },
    {
      "cell_type": "markdown",
      "source": [
        "My own example 8:"
      ],
      "metadata": {
        "id": "mSQBUv0fqVRi"
      }
    },
    {
      "cell_type": "code",
      "source": [
        "original_list = [1, 2, 3, 4, 5]\n",
        "for num in original_list:\n",
        "    print(num)"
      ],
      "metadata": {
        "id": "dv_a_s2cqVRi",
        "outputId": "53ebe5f3-6575-41e6-f67c-ed177544d9bb",
        "colab": {
          "base_uri": "https://localhost:8080/"
        }
      },
      "execution_count": 28,
      "outputs": [
        {
          "output_type": "stream",
          "name": "stdout",
          "text": [
            "1\n",
            "2\n",
            "3\n",
            "4\n",
            "5\n"
          ]
        }
      ]
    },
    {
      "cell_type": "markdown",
      "source": [
        "My own example 9:"
      ],
      "metadata": {
        "id": "nTPFjLbAqVRi"
      }
    },
    {
      "cell_type": "code",
      "source": [
        "list_1 = [1, 2, 3]\n",
        "list_2 = ['a', 'b', 'c']\n",
        "zipped = list(zip(list_1, list_2))"
      ],
      "metadata": {
        "id": "ctWXY4CBqVRi"
      },
      "execution_count": 29,
      "outputs": []
    },
    {
      "cell_type": "markdown",
      "source": [
        "My own example 10:"
      ],
      "metadata": {
        "id": "yQvA-sX5qM49"
      }
    },
    {
      "cell_type": "code",
      "source": [
        "original_list = ['a', 'b', 'c']\n",
        "for index, value in enumerate(original_list):\n",
        "    print(index, value)"
      ],
      "metadata": {
        "id": "Uvud0Z9aqM4-",
        "outputId": "44ab262b-2817-41c4-e545-a0b95fa74057",
        "colab": {
          "base_uri": "https://localhost:8080/"
        }
      },
      "execution_count": 30,
      "outputs": [
        {
          "output_type": "stream",
          "name": "stdout",
          "text": [
            "0 a\n",
            "1 b\n",
            "2 c\n"
          ]
        }
      ]
    },
    {
      "cell_type": "markdown",
      "source": [
        "My own example 11:"
      ],
      "metadata": {
        "id": "pwyVPj4QqM5A"
      }
    },
    {
      "cell_type": "code",
      "source": [
        "original_list = [3, 2, 1, 5, 4]\n",
        "sorted_list = sorted(original_list)"
      ],
      "metadata": {
        "id": "Ity10D-7qM5B"
      },
      "execution_count": 31,
      "outputs": []
    },
    {
      "cell_type": "markdown",
      "source": [
        "My own example 12:"
      ],
      "metadata": {
        "id": "cGYPBcEEqM5B"
      }
    },
    {
      "cell_type": "code",
      "source": [
        "original_list = [1, 2, 3]\n",
        "reversed_list = list(reversed(original_list))"
      ],
      "metadata": {
        "id": "9RTLv-rlqM5B"
      },
      "execution_count": 32,
      "outputs": []
    },
    {
      "cell_type": "markdown",
      "source": [
        "My own example 13:"
      ],
      "metadata": {
        "id": "BwblJkNEqM5B"
      }
    },
    {
      "cell_type": "code",
      "source": [
        "original_list = ['a', 'b', 'c']\n",
        "joined_string = ''.join(original_list)"
      ],
      "metadata": {
        "id": "RS0qlCCXqM5B"
      },
      "execution_count": 33,
      "outputs": []
    },
    {
      "cell_type": "markdown",
      "source": [
        "My own example 14:"
      ],
      "metadata": {
        "id": "1W0OEKtdqM5C"
      }
    },
    {
      "cell_type": "code",
      "source": [
        "original_string = '   hello world   '\n",
        "stripped_string = original_string.strip()"
      ],
      "metadata": {
        "id": "aAtizJVXqM5C"
      },
      "execution_count": 34,
      "outputs": []
    },
    {
      "cell_type": "markdown",
      "source": [
        "My own example 15:"
      ],
      "metadata": {
        "id": "RTKLYWgSqM5C"
      }
    },
    {
      "cell_type": "code",
      "source": [
        "original_string = 'hello awesome world'\n",
        "new_string = original_string.replace('world', 'python')"
      ],
      "metadata": {
        "id": "aLM-CY28qM5C"
      },
      "execution_count": 35,
      "outputs": []
    },
    {
      "cell_type": "markdown",
      "source": [
        "My own example 16:"
      ],
      "metadata": {
        "id": "f82gu9s-qM5C"
      }
    },
    {
      "cell_type": "code",
      "source": [
        "original_string = 'hello amazing world'\n",
        "split_list = original_string.split(' ')"
      ],
      "metadata": {
        "id": "FsItyjodqM5D"
      },
      "execution_count": 36,
      "outputs": []
    },
    {
      "cell_type": "markdown",
      "source": [
        "My own example 17:"
      ],
      "metadata": {
        "id": "0-ZqdAy3qM5D"
      }
    },
    {
      "cell_type": "code",
      "source": [
        "class Person:\n",
        "    def __init__(self, name, age):\n",
        "        self.name = name\n",
        "        self.age = age\n",
        "    \n",
        "    def greet(self):\n",
        "        print(\"Hello, my name is \" + self.name + \" and I am \" + str(self.age) + \" years old.\")\n",
        "    \n",
        "person = Person(\"Alice\", 30)\n",
        "person.greet()"
      ],
      "metadata": {
        "id": "U1lrxVtEqM5D",
        "outputId": "5ebdf3e5-c75c-4ba1-aad1-b9ec96ca4ba7",
        "colab": {
          "base_uri": "https://localhost:8080/"
        }
      },
      "execution_count": 37,
      "outputs": [
        {
          "output_type": "stream",
          "name": "stdout",
          "text": [
            "Hello, my name is Alice and I am 30 years old.\n"
          ]
        }
      ]
    },
    {
      "cell_type": "markdown",
      "source": [
        "My own example 18:"
      ],
      "metadata": {
        "id": "atKcI8AwqM5D"
      }
    },
    {
      "cell_type": "code",
      "source": [
        "with open(\"data.txt\") as f:\n",
        "    lines = f.readlines()\n",
        "    \n",
        "for line in lines:\n",
        "    values = line.split(\",\")\n",
        "    total = 0\n",
        "    for value in values:\n",
        "        total += int(value)\n",
        "    average = total / len(values)\n",
        "    print(\"Average: \" + str(average))\n"
      ],
      "metadata": {
        "id": "Cd79LT8IqM5D",
        "outputId": "38a64108-2fc8-468e-800b-acd8f19b852a",
        "colab": {
          "base_uri": "https://localhost:8080/"
        }
      },
      "execution_count": 38,
      "outputs": [
        {
          "output_type": "stream",
          "name": "stdout",
          "text": [
            "Average: 15.5\n",
            "Average: 2.1666666666666665\n"
          ]
        }
      ]
    },
    {
      "cell_type": "markdown",
      "source": [
        "My own example 19:"
      ],
      "metadata": {
        "id": "g-lTD45-qM5D"
      }
    },
    {
      "cell_type": "code",
      "source": [
        "def fibonacci():\n",
        "    a, b = 0, 1\n",
        "    while True:\n",
        "        yield a\n",
        "        a, b = b, a + b\n",
        "        \n",
        "for i, fib in enumerate(fibonacci()):\n",
        "    if i == 10:\n",
        "        break\n",
        "    print(fib)"
      ],
      "metadata": {
        "id": "4UA6pGpCqM5D",
        "outputId": "219233ee-036c-40f9-8fca-f4eddb6cb731",
        "colab": {
          "base_uri": "https://localhost:8080/"
        }
      },
      "execution_count": 39,
      "outputs": [
        {
          "output_type": "stream",
          "name": "stdout",
          "text": [
            "0\n",
            "1\n",
            "1\n",
            "2\n",
            "3\n",
            "5\n",
            "8\n",
            "13\n",
            "21\n",
            "34\n"
          ]
        }
      ]
    },
    {
      "cell_type": "markdown",
      "source": [
        "My own example 20:"
      ],
      "metadata": {
        "id": "HjcjuBJ4qM5D"
      }
    },
    {
      "cell_type": "code",
      "source": [
        "!pip install scipy"
      ],
      "metadata": {
        "id": "l9TbsLMoDE1V",
        "outputId": "320fb9bc-3fb2-440b-f51f-4551912756a3",
        "colab": {
          "base_uri": "https://localhost:8080/"
        }
      },
      "execution_count": 40,
      "outputs": [
        {
          "output_type": "stream",
          "name": "stdout",
          "text": [
            "Looking in indexes: https://pypi.org/simple, https://us-python.pkg.dev/colab-wheels/public/simple/\n",
            "Requirement already satisfied: scipy in /usr/local/lib/python3.8/dist-packages (1.7.3)\n",
            "Requirement already satisfied: numpy<1.23.0,>=1.16.5 in /usr/local/lib/python3.8/dist-packages (from scipy) (1.21.6)\n"
          ]
        }
      ]
    },
    {
      "cell_type": "code",
      "source": [
        "from scipy import optimize\n",
        "\n",
        "# Definimos la sucesión (en este ejemplo, la sucesión de Fibonacci)\n",
        "def fibonacci(n):\n",
        "    if n <= 1:\n",
        "        return n\n",
        "    else:\n",
        "        return fibonacci(n-1) + fibonacci(n-2)\n",
        "\n",
        "# Encontramos el valor de n para el cual la sucesión alcanza el valor objetivo\n",
        "objetivo = 8\n",
        "n = optimize.bisect(lambda n: fibonacci(n) - objetivo, 5, 10)\n",
        "\n",
        "# Imprimimos el valor de n y el valor correspondiente de la sucesión\n",
        "print(\"n = \", int(n))\n",
        "print(\"Valor correspondiente de la sucesión = \", fibonacci(int(n)))"
      ],
      "metadata": {
        "id": "Iz_AI6rkqM5D",
        "outputId": "58d66b91-735a-4a4e-e45c-1e0f03f17dde",
        "colab": {
          "base_uri": "https://localhost:8080/"
        }
      },
      "execution_count": 41,
      "outputs": [
        {
          "output_type": "stream",
          "name": "stdout",
          "text": [
            "n =  8\n",
            "Valor correspondiente de la sucesión =  21\n"
          ]
        }
      ]
    },
    {
      "cell_type": "markdown",
      "source": [
        "## Data Types and Data Structures"
      ],
      "metadata": {
        "id": "yHnz7u39oT53"
      }
    },
    {
      "cell_type": "markdown",
      "metadata": {
        "id": "TKVD4zzZtM6g"
      },
      "source": [
        "My own example 1:"
      ]
    },
    {
      "cell_type": "code",
      "execution_count": 42,
      "metadata": {
        "id": "8gDnGzfdtM6h"
      },
      "outputs": [],
      "source": [
        "#Integer:\n",
        "\n",
        "x = 10"
      ]
    },
    {
      "cell_type": "markdown",
      "metadata": {
        "id": "pClXYLVVtM6h"
      },
      "source": [
        "My own example 2:"
      ]
    },
    {
      "cell_type": "code",
      "execution_count": 43,
      "metadata": {
        "id": "A4U5tpgetM6i"
      },
      "outputs": [],
      "source": [
        "#Float:\n",
        "\n",
        "y = 3.14"
      ]
    },
    {
      "cell_type": "markdown",
      "metadata": {
        "id": "gOVLQuIttM6i"
      },
      "source": [
        "My own example 3:"
      ]
    },
    {
      "cell_type": "code",
      "execution_count": 44,
      "metadata": {
        "id": "5jgqrojAtM6i"
      },
      "outputs": [],
      "source": [
        "#Boolean\n",
        "\n",
        "z = True"
      ]
    },
    {
      "cell_type": "markdown",
      "metadata": {
        "id": "syYM2SoatM6i"
      },
      "source": [
        "My own example 4:"
      ]
    },
    {
      "cell_type": "code",
      "execution_count": 45,
      "metadata": {
        "id": "T0Cky3lWtM6j"
      },
      "outputs": [],
      "source": [
        "#String:\n",
        "\n",
        "name = 'Auris'"
      ]
    },
    {
      "cell_type": "markdown",
      "metadata": {
        "id": "Y1qlbnvZtM6j"
      },
      "source": [
        "My own example 5:"
      ]
    },
    {
      "cell_type": "code",
      "execution_count": 46,
      "metadata": {
        "id": "4YvABjyatM6j"
      },
      "outputs": [],
      "source": [
        "#List:\n",
        "\n",
        "fruits = [\"apple\", \"banana\", \"cherry\"]"
      ]
    },
    {
      "cell_type": "markdown",
      "metadata": {
        "id": "lOGOOrpPtM6j"
      },
      "source": [
        "My own example 6:"
      ]
    },
    {
      "cell_type": "code",
      "execution_count": 47,
      "metadata": {
        "id": "B76P6yintM6k"
      },
      "outputs": [],
      "source": [
        "#Tuple:\n",
        "\n",
        "point = (2,4)"
      ]
    },
    {
      "cell_type": "markdown",
      "metadata": {
        "id": "gi5sPVLstM6k"
      },
      "source": [
        "My own example 7:"
      ]
    },
    {
      "cell_type": "code",
      "execution_count": 48,
      "metadata": {
        "id": "OH1pKFYKtM6k"
      },
      "outputs": [],
      "source": [
        "#Set:\n",
        "\n",
        "numbers = {1,3,5,7,9}"
      ]
    },
    {
      "cell_type": "markdown",
      "metadata": {
        "id": "MhIRdgdgtM6l"
      },
      "source": [
        "My own example 8:"
      ]
    },
    {
      "cell_type": "code",
      "execution_count": 49,
      "metadata": {
        "id": "MGc0SUI7tM6l"
      },
      "outputs": [],
      "source": [
        "#Dictionary:\n",
        "\n",
        "person = {\"name\": \"Alice\", \"age\": 30}"
      ]
    },
    {
      "cell_type": "markdown",
      "metadata": {
        "id": "B1JFpR52tM6l"
      },
      "source": [
        "My own example 9:"
      ]
    },
    {
      "cell_type": "code",
      "execution_count": 50,
      "metadata": {
        "id": "89n1PNeHtM6m"
      },
      "outputs": [],
      "source": [
        "#Array:\n",
        "\n",
        "import array\n",
        "a = array.array('i', [1, 2, 3, 4, 5])"
      ]
    },
    {
      "cell_type": "markdown",
      "source": [
        "My own example 10:"
      ],
      "metadata": {
        "id": "PHl_TIyAoRzB"
      }
    },
    {
      "cell_type": "code",
      "execution_count": 51,
      "metadata": {
        "id": "X9ShPxDPtM6m"
      },
      "outputs": [],
      "source": [
        "#Stack:\n",
        "\n",
        "stack = []\n",
        "stack.append(1)\n",
        "stack.append(2)\n",
        "stack.append(3)\n",
        "top = stack.pop()"
      ]
    },
    {
      "cell_type": "markdown",
      "metadata": {
        "id": "dlUar4CFtM6m"
      },
      "source": [
        "My own example 11:"
      ]
    },
    {
      "cell_type": "code",
      "execution_count": 52,
      "metadata": {
        "id": "8j58FyWCtM6n"
      },
      "outputs": [],
      "source": [
        "#Complx number:\n",
        "\n",
        "z = 2 + 3j"
      ]
    },
    {
      "cell_type": "markdown",
      "metadata": {
        "id": "BuPFc_nltM6n"
      },
      "source": [
        "My own example 12:"
      ]
    },
    {
      "cell_type": "code",
      "execution_count": 53,
      "metadata": {
        "id": "r-__N2NItM6n",
        "colab": {
          "base_uri": "https://localhost:8080/"
        },
        "outputId": "c617ab02-ad6d-4781-c3bb-a3c576e3da55"
      },
      "outputs": [
        {
          "output_type": "execute_result",
          "data": {
            "text/plain": [
              "{3, 5, 7, 11, 13, 17, 19, 23, 29, 31}"
            ]
          },
          "metadata": {},
          "execution_count": 53
        }
      ],
      "source": [
        "evens = {2, 4, 6, 8, 10}\n",
        "prime_numbers = {2, 3, 5, 7, 11, 13, 17, 19, 23, 29, 31}\n",
        "prime_numbers.difference(evens)"
      ]
    },
    {
      "cell_type": "markdown",
      "metadata": {
        "id": "dtVsBoKctM6n"
      },
      "source": [
        "My own example 13:"
      ]
    },
    {
      "cell_type": "code",
      "execution_count": 54,
      "metadata": {
        "id": "ehDvd4V2tM6o",
        "colab": {
          "base_uri": "https://localhost:8080/"
        },
        "outputId": "672a8d1a-0c85-4edd-b3af-7ba83ca39b94"
      },
      "outputs": [
        {
          "output_type": "stream",
          "name": "stdout",
          "text": [
            "John: 90\n",
            "Alice: 85\n",
            "Bob: 70\n"
          ]
        }
      ],
      "source": [
        "students = {\"John\": 90, \"Alice\": 85, \"Bob\": 70}\n",
        "\n",
        "for k,v in students.items():\n",
        "  print(k + \": \" + str(v))"
      ]
    },
    {
      "cell_type": "markdown",
      "metadata": {
        "id": "MttDAsn5tM6o"
      },
      "source": [
        "My own example 14:"
      ]
    },
    {
      "cell_type": "code",
      "execution_count": 55,
      "metadata": {
        "id": "o_IwUcVYtM6o"
      },
      "outputs": [],
      "source": [
        "#Frozen set:\n",
        "\n",
        "numbers = frozenset([1, 2, 3, 4, 5])"
      ]
    },
    {
      "cell_type": "markdown",
      "metadata": {
        "id": "ZPTaBPB-tM6o"
      },
      "source": [
        "My own example 15:"
      ]
    },
    {
      "cell_type": "code",
      "execution_count": 56,
      "metadata": {
        "id": "c3s71xibtM6p"
      },
      "outputs": [],
      "source": [
        "#Deque:\n",
        "\n",
        "from collections import deque\n",
        "queue = deque()\n",
        "queue.append(1)\n",
        "queue.append(2)\n",
        "queue.append(3)\n",
        "front = queue.popleft()"
      ]
    },
    {
      "cell_type": "markdown",
      "metadata": {
        "id": "3wGMfDazsWLw"
      },
      "source": [
        "My own example 16:"
      ]
    },
    {
      "cell_type": "code",
      "execution_count": 57,
      "metadata": {
        "id": "rPWQfmTOsWLw"
      },
      "outputs": [],
      "source": [
        "#Heap:\n",
        "\n",
        "import heapq\n",
        "numbers = [3, 1, 4, 1, 5, 9, 2, 6, 5, 3, 5]\n",
        "heapq.heapify(numbers)\n",
        "top = heapq.heappop(numbers)"
      ]
    },
    {
      "cell_type": "markdown",
      "metadata": {
        "id": "YhGO8AT4sWLx"
      },
      "source": [
        "My own example 17:"
      ]
    },
    {
      "cell_type": "code",
      "execution_count": 58,
      "metadata": {
        "id": "ckG4Mo8bsWLx"
      },
      "outputs": [],
      "source": [
        "#Counter:\n",
        "\n",
        "from collections import Counter\n",
        "words = [\"apple\", \"banana\", \"cherry\", \"apple\", \"cherry\", \"cherry\"]\n",
        "counts = Counter(words)"
      ]
    },
    {
      "cell_type": "markdown",
      "metadata": {
        "id": "KWqllAVZsWLx"
      },
      "source": [
        "My own example 18:"
      ]
    },
    {
      "cell_type": "code",
      "execution_count": 59,
      "metadata": {
        "id": "3IXZMAM0sWLx"
      },
      "outputs": [],
      "source": [
        "#Default dictionary:\n",
        "\n",
        "from collections import defaultdict\n",
        "fruit_counts = defaultdict(int)\n",
        "fruit_counts[\"apple\"] += 1\n",
        "fruit_counts[\"banana\"] += 1"
      ]
    },
    {
      "cell_type": "markdown",
      "metadata": {
        "id": "7kxqJB_CsWLx"
      },
      "source": [
        "My own example 19:"
      ]
    },
    {
      "cell_type": "code",
      "execution_count": 60,
      "metadata": {
        "id": "Wj9O1MTBsWLx"
      },
      "outputs": [],
      "source": [
        "#Named tuple:\n",
        "\n",
        "from collections import namedtuple\n",
        "Person = namedtuple(\"Person\", [\"name\", \"age\"])\n",
        "person = Person(\"Alice\", 30)"
      ]
    },
    {
      "cell_type": "markdown",
      "source": [
        "My own example 20:"
      ],
      "metadata": {
        "id": "of7zLsjGsWLy"
      }
    },
    {
      "cell_type": "code",
      "execution_count": 61,
      "metadata": {
        "id": "ElFWW0m3sWLy"
      },
      "outputs": [],
      "source": [
        "#Byte array:\n",
        "\n",
        "data = bytearray(b\"Hello, world!\")"
      ]
    },
    {
      "cell_type": "markdown",
      "source": [
        "## Logical Operations and Loops"
      ],
      "metadata": {
        "id": "03b0hyK7j1pf"
      }
    },
    {
      "cell_type": "markdown",
      "metadata": {
        "id": "023u_1A4r8BJ"
      },
      "source": [
        "My own example 1:"
      ]
    },
    {
      "cell_type": "code",
      "execution_count": 62,
      "metadata": {
        "colab": {
          "base_uri": "https://localhost:8080/"
        },
        "outputId": "3fb6dbf9-e7ec-44e5-82d7-7058efebd4f6",
        "id": "ZgwLROAhr8BJ"
      },
      "outputs": [
        {
          "output_type": "stream",
          "name": "stdout",
          "text": [
            "Both x and y are positive\n"
          ]
        }
      ],
      "source": [
        "x = 5\n",
        "y = 10\n",
        "if x > 0 and y > 0:\n",
        "    print(\"Both x and y are positive\")"
      ]
    },
    {
      "cell_type": "markdown",
      "metadata": {
        "id": "sMCxQ4-0r8BK"
      },
      "source": [
        "My own example 2:"
      ]
    },
    {
      "cell_type": "code",
      "execution_count": 63,
      "metadata": {
        "colab": {
          "base_uri": "https://localhost:8080/"
        },
        "outputId": "934204f9-1383-4333-80f2-a4214b7edb5b",
        "id": "J8GByW_Kr8BK"
      },
      "outputs": [
        {
          "output_type": "stream",
          "name": "stdout",
          "text": [
            "At least one of x and y is positive\n"
          ]
        }
      ],
      "source": [
        "x = -5\n",
        "y = 10\n",
        "if x > 0 or y > 0:\n",
        "    print(\"At least one of x and y is positive\")"
      ]
    },
    {
      "cell_type": "markdown",
      "metadata": {
        "id": "IDgIZDCkr8BK"
      },
      "source": [
        "My own example 3:"
      ]
    },
    {
      "cell_type": "code",
      "execution_count": 64,
      "metadata": {
        "id": "e7ySJAqbr8BK"
      },
      "outputs": [],
      "source": [
        "x = 5\n",
        "y = 10\n",
        "if not (x > 0 and y > 0):\n",
        "    print(\"Either x or y (or both) are non-positive\")\n"
      ]
    },
    {
      "cell_type": "markdown",
      "metadata": {
        "id": "3tEcHlbnr8BK"
      },
      "source": [
        "My own example 4:"
      ]
    },
    {
      "cell_type": "code",
      "execution_count": 65,
      "metadata": {
        "colab": {
          "base_uri": "https://localhost:8080/"
        },
        "outputId": "fd70bba1-9b4a-488f-cc92-5bf7d91a3792",
        "id": "a70OAWVQr8BL"
      },
      "outputs": [
        {
          "output_type": "stream",
          "name": "stdout",
          "text": [
            "1\n",
            "2\n",
            "3\n",
            "4\n",
            "5\n"
          ]
        }
      ],
      "source": [
        "numbers = [1, 2, 3, 4, 5, 6, 7, 8, 9, 10]\n",
        "\n",
        "for num in numbers:\n",
        "    # Break out of the loop if we reach a number greater than 5\n",
        "    if num > 5:\n",
        "        break\n",
        "    print(num)"
      ]
    },
    {
      "cell_type": "markdown",
      "metadata": {
        "id": "7a0uNHfXr8BL"
      },
      "source": [
        "My own example 5:"
      ]
    },
    {
      "cell_type": "code",
      "execution_count": 66,
      "metadata": {
        "colab": {
          "base_uri": "https://localhost:8080/"
        },
        "outputId": "c76063b0-4473-4db1-e163-b1aa36564a1f",
        "id": "SxInoWPKr8BL"
      },
      "outputs": [
        {
          "output_type": "stream",
          "name": "stdout",
          "text": [
            "1\n",
            "3\n",
            "5\n",
            "7\n",
            "9\n"
          ]
        }
      ],
      "source": [
        "i = 0\n",
        "\n",
        "while i < len(numbers):\n",
        "    # If the current number is even, skip it\n",
        "    if numbers[i] % 2 == 0:\n",
        "        i += 1\n",
        "        continue\n",
        "    print(numbers[i])\n",
        "    i += 1"
      ]
    },
    {
      "cell_type": "markdown",
      "source": [
        "My own example 6:"
      ],
      "metadata": {
        "id": "y-AWAQbdsAGN"
      }
    },
    {
      "cell_type": "code",
      "source": [
        "grades = {'Alice': 85, 'Bob': 92, 'Charlie': 78, 'David': 80}\n",
        "\n",
        "for name, grade in grades.items():\n",
        "    # If the grade is below 80, break out of the loop\n",
        "    if grade < 80:\n",
        "        print(name + ' has a failing grade')\n",
        "        break\n",
        "    print(name + ' has a passing grade')"
      ],
      "metadata": {
        "colab": {
          "base_uri": "https://localhost:8080/"
        },
        "id": "WxHY7S3osAXt",
        "outputId": "751aee90-21c3-4d94-fdd5-2eee4ab9b544"
      },
      "execution_count": 67,
      "outputs": [
        {
          "output_type": "stream",
          "name": "stdout",
          "text": [
            "Alice has a passing grade\n",
            "Bob has a passing grade\n",
            "Charlie has a failing grade\n"
          ]
        }
      ]
    },
    {
      "cell_type": "markdown",
      "metadata": {
        "id": "zKw-EEEZsGXa"
      },
      "source": [
        "My own example 7:"
      ]
    },
    {
      "cell_type": "code",
      "execution_count": 68,
      "metadata": {
        "colab": {
          "base_uri": "https://localhost:8080/"
        },
        "outputId": "e8411652-7a77-49c8-ec7f-80c0401f187a",
        "id": "GmpItlnVsGXa"
      },
      "outputs": [
        {
          "output_type": "stream",
          "name": "stdout",
          "text": [
            "Apple is in the list\n"
          ]
        }
      ],
      "source": [
        "fruits = [\"apple\", \"banana\", \"cherry\"]\n",
        "if \"apple\" in fruits:\n",
        "    print(\"Apple is in the list\")"
      ]
    },
    {
      "cell_type": "markdown",
      "metadata": {
        "id": "8YYxGd-_sGXa"
      },
      "source": [
        "My own example 8:"
      ]
    },
    {
      "cell_type": "code",
      "execution_count": 69,
      "metadata": {
        "colab": {
          "base_uri": "https://localhost:8080/"
        },
        "outputId": "45b684d0-2c4f-4847-8f7b-dfe6f65f4f67",
        "id": "z_caIpcnsGXa"
      },
      "outputs": [
        {
          "output_type": "stream",
          "name": "stdout",
          "text": [
            "x and y refer to the same list\n"
          ]
        }
      ],
      "source": [
        "x = [1, 2, 3]\n",
        "y = x\n",
        "if x is y:\n",
        "    print(\"x and y refer to the same list\")"
      ]
    },
    {
      "cell_type": "markdown",
      "metadata": {
        "id": "PUw0l-YxsGXb"
      },
      "source": [
        "My own example 9:"
      ]
    },
    {
      "cell_type": "code",
      "execution_count": 70,
      "metadata": {
        "colab": {
          "base_uri": "https://localhost:8080/"
        },
        "outputId": "0de94f52-0d10-42a2-d3e7-3aa0a87d5e47",
        "id": "mqpMlfu0sGXb"
      },
      "outputs": [
        {
          "output_type": "stream",
          "name": "stdout",
          "text": [
            "x and y do not refer to the same list\n"
          ]
        }
      ],
      "source": [
        "x = [1, 2, 3]\n",
        "y = [1, 2, 3]\n",
        "if x is not y:\n",
        "    print(\"x and y do not refer to the same list\")"
      ]
    },
    {
      "cell_type": "markdown",
      "metadata": {
        "id": "r2BSvYPGsGXb"
      },
      "source": [
        "My own example 10:"
      ]
    },
    {
      "cell_type": "code",
      "execution_count": 71,
      "metadata": {
        "colab": {
          "base_uri": "https://localhost:8080/"
        },
        "outputId": "ab2ba42f-dc0a-422d-e4c4-1bb4839eb2bf",
        "id": "vdUS20hFsGXb"
      },
      "outputs": [
        {
          "output_type": "stream",
          "name": "stdout",
          "text": [
            "At least one fruit starts with c\n"
          ]
        }
      ],
      "source": [
        "fruits = [\"apple\", \"banana\", \"cherry\"]\n",
        "if any(fruit.startswith(\"c\") for fruit in fruits):\n",
        "    print(\"At least one fruit starts with c\")\n"
      ]
    },
    {
      "cell_type": "markdown",
      "metadata": {
        "id": "fGzjsYPssGXb"
      },
      "source": [
        "My own example 11:"
      ]
    },
    {
      "cell_type": "code",
      "execution_count": 72,
      "metadata": {
        "colab": {
          "base_uri": "https://localhost:8080/"
        },
        "outputId": "aa794fe6-0ec9-404c-81eb-fc7b94eff602",
        "id": "WxoISCiKsGXc"
      },
      "outputs": [
        {
          "output_type": "stream",
          "name": "stdout",
          "text": [
            "1\n",
            "2\n",
            "3\n",
            "4\n",
            "5\n",
            "6\n",
            "7\n",
            "8\n",
            "9\n"
          ]
        }
      ],
      "source": [
        "matrix = [[1, 2, 3], [4, 5, 6], [7, 8, 9]]\n",
        "for row in matrix:\n",
        "    for element in row:\n",
        "        print(element)"
      ]
    },
    {
      "cell_type": "markdown",
      "metadata": {
        "id": "GSSOPto2tQ-X"
      },
      "source": [
        "My own example 12:"
      ]
    },
    {
      "cell_type": "code",
      "execution_count": 73,
      "metadata": {
        "colab": {
          "base_uri": "https://localhost:8080/"
        },
        "outputId": "1edd25d0-892b-4c2a-adff-bfd1ede0ce96",
        "id": "9-Xv5dKFtQ-X"
      },
      "outputs": [
        {
          "output_type": "stream",
          "name": "stdout",
          "text": [
            "[1, 4, 9, 16, 25]\n"
          ]
        }
      ],
      "source": [
        "numbers = [1, 2, 3, 4, 5]\n",
        "squares = [num**2 for num in numbers]\n",
        "print(squares)"
      ]
    },
    {
      "cell_type": "markdown",
      "metadata": {
        "id": "Fq9by_-ftQ-Y"
      },
      "source": [
        "My own example 13:"
      ]
    },
    {
      "cell_type": "code",
      "execution_count": 74,
      "metadata": {
        "colab": {
          "base_uri": "https://localhost:8080/"
        },
        "outputId": "1f8597cc-04ac-4f6b-e450-07ca44e77ce0",
        "id": "x9auGWCVtQ-Y"
      },
      "outputs": [
        {
          "output_type": "stream",
          "name": "stdout",
          "text": [
            "The apple is red\n",
            "The banana is yellow\n",
            "The cherry is red\n"
          ]
        }
      ],
      "source": [
        "fruits = [\"apple\", \"banana\", \"cherry\"]\n",
        "colors = [\"red\", \"yellow\", \"red\"]\n",
        "for fruit, color in zip(fruits, colors):\n",
        "    print(f\"The {fruit} is {color}\")"
      ]
    },
    {
      "cell_type": "markdown",
      "metadata": {
        "id": "ZVbxEQZLtQ-Y"
      },
      "source": [
        "My own example 14:"
      ]
    },
    {
      "cell_type": "code",
      "execution_count": 75,
      "metadata": {
        "colab": {
          "base_uri": "https://localhost:8080/"
        },
        "outputId": "82670524-46ad-42fa-f168-a42781ff17b6",
        "id": "MfHVFprGtQ-Y"
      },
      "outputs": [
        {
          "output_type": "stream",
          "name": "stdout",
          "text": [
            "0: apple\n",
            "1: banana\n",
            "2: cherry\n"
          ]
        }
      ],
      "source": [
        "fruits = [\"apple\", \"banana\", \"cherry\"]\n",
        "for i, fruit in enumerate(fruits):\n",
        "    print(f\"{i}: {fruit}\")"
      ]
    },
    {
      "cell_type": "markdown",
      "metadata": {
        "id": "BFiKZB7XtQ-Y"
      },
      "source": [
        "My own example 15:"
      ]
    },
    {
      "cell_type": "code",
      "execution_count": 76,
      "metadata": {
        "colab": {
          "base_uri": "https://localhost:8080/"
        },
        "outputId": "55754143-d546-4ac3-9936-e3e90523036b",
        "id": "4iIgSTO9tQ-Y"
      },
      "outputs": [
        {
          "output_type": "stream",
          "name": "stdout",
          "text": [
            "('red', 'green')\n",
            "('red', 'blue')\n",
            "('green', 'blue')\n"
          ]
        }
      ],
      "source": [
        "import itertools\n",
        "\n",
        "colors = [\"red\", \"green\", \"blue\"]\n",
        "combinations = itertools.combinations(colors, 2)\n",
        "for combo in combinations:\n",
        "    print(combo)"
      ]
    },
    {
      "cell_type": "markdown",
      "source": [
        "My own example 16:"
      ],
      "metadata": {
        "id": "NSmyYEoStQ-Z"
      }
    },
    {
      "cell_type": "code",
      "source": [
        "def fibonacci():\n",
        "    a, b = 0, 1\n",
        "    while True:\n",
        "        yield a\n",
        "        a, b = b, a + b\n",
        "\n",
        "for i, fib in enumerate(fibonacci()):\n",
        "    if i >= 10:\n",
        "        break\n",
        "    print(fib)"
      ],
      "metadata": {
        "colab": {
          "base_uri": "https://localhost:8080/"
        },
        "outputId": "0fa35d13-617c-4c09-c68a-5518241f20af",
        "id": "4MXQGw_DtQ-Z"
      },
      "execution_count": 77,
      "outputs": [
        {
          "output_type": "stream",
          "name": "stdout",
          "text": [
            "0\n",
            "1\n",
            "1\n",
            "2\n",
            "3\n",
            "5\n",
            "8\n",
            "13\n",
            "21\n",
            "34\n"
          ]
        }
      ]
    },
    {
      "cell_type": "markdown",
      "metadata": {
        "id": "3j4a0OlTtQ-Z"
      },
      "source": [
        "My own example 17:"
      ]
    },
    {
      "cell_type": "code",
      "execution_count": 78,
      "metadata": {
        "colab": {
          "base_uri": "https://localhost:8080/"
        },
        "outputId": "53153ad9-6922-4361-e71d-885dafbe27a9",
        "id": "LVWKR66BtQ-Z"
      },
      "outputs": [
        {
          "output_type": "stream",
          "name": "stdout",
          "text": [
            "[1, 4, 9, 16, 25]\n"
          ]
        }
      ],
      "source": [
        "def square(x):\n",
        "    return x**2\n",
        "\n",
        "numbers = [1, 2, 3, 4, 5]\n",
        "squares = map(square, numbers)\n",
        "print(list(squares))"
      ]
    },
    {
      "cell_type": "markdown",
      "metadata": {
        "id": "BdvODdlYtQ-Z"
      },
      "source": [
        "My own example 18:"
      ]
    },
    {
      "cell_type": "code",
      "execution_count": 79,
      "metadata": {
        "colab": {
          "base_uri": "https://localhost:8080/"
        },
        "outputId": "0f2cf1bd-0292-48a2-e449-e1b006152af0",
        "id": "KUCdIF7ltQ-Z"
      },
      "outputs": [
        {
          "output_type": "stream",
          "name": "stdout",
          "text": [
            "[2, 4]\n"
          ]
        }
      ],
      "source": [
        "def is_even(x):\n",
        "    return x % 2 == 0\n",
        "\n",
        "numbers = [1, 2, 3, 4, 5]\n",
        "evens = filter(is_even, numbers)\n",
        "print(list(evens))"
      ]
    },
    {
      "cell_type": "markdown",
      "metadata": {
        "id": "-xVeOtjZtQ-a"
      },
      "source": [
        "My own example 19:"
      ]
    },
    {
      "cell_type": "code",
      "execution_count": 80,
      "metadata": {
        "colab": {
          "base_uri": "https://localhost:8080/"
        },
        "outputId": "428efcf2-3b11-4378-9c3d-1bbb0f3ac753",
        "id": "I11a-OgHtQ-a"
      },
      "outputs": [
        {
          "output_type": "stream",
          "name": "stdout",
          "text": [
            "15\n"
          ]
        }
      ],
      "source": [
        "from functools import reduce\n",
        "\n",
        "def add(x, y):\n",
        "    return x + y\n",
        "\n",
        "numbers = [1, 2, 3, 4, 5]\n",
        "total = reduce(add, numbers)\n",
        "print(total)"
      ]
    },
    {
      "cell_type": "markdown",
      "metadata": {
        "id": "g0Cth7eItQ-a"
      },
      "source": [
        "My own example 20:"
      ]
    },
    {
      "cell_type": "code",
      "execution_count": 81,
      "metadata": {
        "colab": {
          "base_uri": "https://localhost:8080/"
        },
        "outputId": "0b80184f-0f1f-4700-c6f6-779630d596e4",
        "id": "6emx-FF1tQ-a"
      },
      "outputs": [
        {
          "output_type": "stream",
          "name": "stdout",
          "text": [
            "red\n",
            "green\n",
            "blue\n"
          ]
        }
      ],
      "source": [
        "import itertools\n",
        "\n",
        "colors = [\"red\", \"green\", \"blue\"]\n",
        "for color in itertools.cycle(colors):\n",
        "    print(color)\n",
        "    if color == \"blue\":\n",
        "        break"
      ]
    },
    {
      "cell_type": "markdown",
      "source": [
        "## Functions and Objective-Oriented Programming"
      ],
      "metadata": {
        "id": "HU41xiDbs_9U"
      }
    },
    {
      "cell_type": "markdown",
      "source": [
        "My own example 1:\n",
        "\n",
        "Python code that use object-oriented programming to create a character object for the game **Mario Bros** and use a graphics library to display the character running:\n",
        "\n",
        "In this example, the `Mario` class and the `Luigi` class inherit from the `Character` class. The `Character` class has methods common to all characters in the game, such as `update`, `jump`, `move_left` and `move_right`. The Mario class and Luigi class define their own draw method to draw their specific character.\n",
        "\n",
        "With this example, you can create objects from the `Mario` class and the Luigi class, and call the methods defined in the `Character` class and in the `Mario` and `Luigi` classes."
      ],
      "metadata": {
        "id": "BEHYdaPSsAsg"
      }
    },
    {
      "cell_type": "code",
      "source": [
        "!pip install arcade"
      ],
      "metadata": {
        "id": "yvzl8ZGPFBeV",
        "outputId": "fd6c6545-761d-4192-c930-1565e06982f6",
        "colab": {
          "base_uri": "https://localhost:8080/"
        }
      },
      "execution_count": 82,
      "outputs": [
        {
          "output_type": "stream",
          "name": "stdout",
          "text": [
            "Looking in indexes: https://pypi.org/simple, https://us-python.pkg.dev/colab-wheels/public/simple/\n",
            "Requirement already satisfied: arcade in /usr/local/lib/python3.8/dist-packages (2.6.17)\n",
            "Requirement already satisfied: pillow~=9.3.0 in /usr/local/lib/python3.8/dist-packages (from arcade) (9.3.0)\n",
            "Requirement already satisfied: pyglet==2.0.dev23 in /usr/local/lib/python3.8/dist-packages (from arcade) (2.0.dev23)\n",
            "Requirement already satisfied: pytiled-parser==2.2.0 in /usr/local/lib/python3.8/dist-packages (from arcade) (2.2.0)\n",
            "Requirement already satisfied: pymunk~=6.4.0 in /usr/local/lib/python3.8/dist-packages (from arcade) (6.4.0)\n",
            "Requirement already satisfied: typing-extensions in /usr/local/lib/python3.8/dist-packages (from pytiled-parser==2.2.0->arcade) (4.5.0)\n",
            "Requirement already satisfied: attrs>=18.2.0 in /usr/local/lib/python3.8/dist-packages (from pytiled-parser==2.2.0->arcade) (22.2.0)\n",
            "Requirement already satisfied: cffi>=1.15.0 in /usr/local/lib/python3.8/dist-packages (from pymunk~=6.4.0->arcade) (1.15.1)\n",
            "Requirement already satisfied: pycparser in /usr/local/lib/python3.8/dist-packages (from cffi>=1.15.0->pymunk~=6.4.0->arcade) (2.21)\n"
          ]
        }
      ]
    },
    {
      "cell_type": "code",
      "source": [
        "class Character:\n",
        "    def __init__(self, x, y):\n",
        "        # Initialize the Character object with an x and y position, and a velocity\n",
        "        self.x = x\n",
        "        self.y = y\n",
        "        self.velocity = 0\n",
        "\n",
        "    def update(self):\n",
        "        # Update the Character object's position based on its velocity\n",
        "        self.y += self.velocity\n",
        "        if self.y < 0:\n",
        "            self.y = 0\n",
        "\n",
        "    def jump(self):\n",
        "        # Make the Character object jump by setting its velocity to a positive value\n",
        "        self.velocity = 10\n",
        "\n",
        "    def move_left(self):\n",
        "        # Move the Character object to the left by adjusting its x position\n",
        "        self.x -= 5\n",
        "\n",
        "    def move_right(self):\n",
        "        # Move the Character object to the right by adjusting its x position\n",
        "        self.x += 5"
      ],
      "metadata": {
        "id": "0EXuywGvsA-K"
      },
      "execution_count": 83,
      "outputs": []
    },
    {
      "cell_type": "markdown",
      "source": [
        "My own example 2:"
      ],
      "metadata": {
        "id": "N1vHPnq6sBNm"
      }
    },
    {
      "cell_type": "code",
      "source": [
        "class Mario(Character):\n",
        "    def __init__(self, x, y):\n",
        "        # Initialize the Mario object with the superclass's constructor\n",
        "        super().__init__(x, y)\n",
        "\n",
        "    def draw(self):\n",
        "        # Draw the Mario character\n",
        "        arcade.draw_circle_filled(self.x, self.y + 20, 20, arcade.color.RED)\n",
        "        arcade.draw_rectangle_filled(self.x, self.y, 40, 40, arcade.color.RED)\n",
        "\n",
        "class Luigi(Character):\n",
        "    def __init__(self, x, y):\n",
        "        # Initialize the Luigi object with the superclass's constructor\n",
        "        super().__init__(x, y)\n",
        "\n",
        "    def draw(self):\n",
        "        # Draw the Luigi character\n",
        "        arcade.draw_circle_filled(self.x, self.y + 20, 20, arcade.color.GREEN)\n",
        "        arcade.draw_rectangle_filled(self.x, self.y, 40, 40, arcade.color.GREEN)"
      ],
      "metadata": {
        "id": "2HKmXbEw4QO_"
      },
      "execution_count": 84,
      "outputs": []
    },
    {
      "cell_type": "markdown",
      "metadata": {
        "id": "92TnfWsqttNm"
      },
      "source": [
        "My own example 3:"
      ]
    },
    {
      "cell_type": "code",
      "execution_count": 85,
      "metadata": {
        "colab": {
          "base_uri": "https://localhost:8080/"
        },
        "outputId": "42fb2980-e224-44e8-c9ec-fb6aa22dbc34",
        "id": "MSZOdQZLttNm"
      },
      "outputs": [
        {
          "output_type": "stream",
          "name": "stdout",
          "text": [
            "25\n"
          ]
        }
      ],
      "source": [
        "square = lambda x: x**2\n",
        "print(square(5))"
      ]
    },
    {
      "cell_type": "markdown",
      "metadata": {
        "id": "DQn0Rni4ttNm"
      },
      "source": [
        "My own example 4:"
      ]
    },
    {
      "cell_type": "code",
      "execution_count": 86,
      "metadata": {
        "colab": {
          "base_uri": "https://localhost:8080/"
        },
        "outputId": "494da53b-68a6-498a-a557-f9835e65dfdb",
        "id": "9NM_ntAuttNm"
      },
      "outputs": [
        {
          "output_type": "stream",
          "name": "stdout",
          "text": [
            "1\n",
            "hello\n",
            "name: Alice\n",
            "age: 30\n"
          ]
        }
      ],
      "source": [
        "def print_all(*args, **kwargs):\n",
        "    for arg in args:\n",
        "        print(arg)\n",
        "    for key, value in kwargs.items():\n",
        "        print(f\"{key}: {value}\")\n",
        "\n",
        "print_all(1, \"hello\", name=\"Alice\", age=30)"
      ]
    },
    {
      "cell_type": "markdown",
      "metadata": {
        "id": "GBOuG-eOttNn"
      },
      "source": [
        "My own example 5:"
      ]
    },
    {
      "cell_type": "code",
      "execution_count": 87,
      "metadata": {
        "colab": {
          "base_uri": "https://localhost:8080/"
        },
        "outputId": "234ab90b-add8-48d0-8151-21562a2a97c5",
        "id": "aJ67nQ27ttNn"
      },
      "outputs": [
        {
          "output_type": "stream",
          "name": "stdout",
          "text": [
            "0\n",
            "1\n",
            "1\n",
            "2\n",
            "3\n",
            "5\n",
            "8\n",
            "13\n",
            "21\n",
            "34\n"
          ]
        }
      ],
      "source": [
        "def fibonacci():\n",
        "    a, b = 0, 1\n",
        "    while True:\n",
        "        yield a\n",
        "        a, b = b, a + b\n",
        "\n",
        "fib = fibonacci()\n",
        "for i in range(10):\n",
        "    print(next(fib))"
      ]
    },
    {
      "cell_type": "markdown",
      "source": [
        "My own example 6:"
      ],
      "metadata": {
        "id": "6FZgGqfLttNn"
      }
    },
    {
      "cell_type": "code",
      "source": [
        "class Person:\n",
        "    def __init__(self, name, age):\n",
        "        self.name = name\n",
        "        self.age = age\n",
        "\n",
        "    def greet(self):\n",
        "        print(f\"Hello, my name is {self.name} and I am {self.age} years old.\")\n",
        "\n",
        "person = Person(\"Alice\", 30)\n",
        "person.greet()"
      ],
      "metadata": {
        "colab": {
          "base_uri": "https://localhost:8080/"
        },
        "outputId": "a5f715ad-cd93-4467-d8e7-31caa13a8082",
        "id": "HIHU8lEettNn"
      },
      "execution_count": 88,
      "outputs": [
        {
          "output_type": "stream",
          "name": "stdout",
          "text": [
            "Hello, my name is Alice and I am 30 years old.\n"
          ]
        }
      ]
    },
    {
      "cell_type": "markdown",
      "metadata": {
        "id": "j0mTG2idttNn"
      },
      "source": [
        "My own example 7:"
      ]
    },
    {
      "cell_type": "code",
      "execution_count": 89,
      "metadata": {
        "colab": {
          "base_uri": "https://localhost:8080/"
        },
        "outputId": "afed2f2d-5d9a-4f17-8a86-11be6b4d4c6a",
        "id": "LSxc-eX5ttNn"
      },
      "outputs": [
        {
          "output_type": "stream",
          "name": "stdout",
          "text": [
            "Hello, my name is Bob and I am 20 years old.\n",
            "I am studying Computer Science.\n"
          ]
        }
      ],
      "source": [
        "class Student(Person):\n",
        "    def __init__(self, name, age, major):\n",
        "        super().__init__(name, age)\n",
        "        self.major = major\n",
        "\n",
        "    def study(self):\n",
        "        print(f\"I am studying {self.major}.\")\n",
        "\n",
        "student = Student(\"Bob\", 20, \"Computer Science\")\n",
        "student.greet()\n",
        "student.study()"
      ]
    },
    {
      "cell_type": "markdown",
      "metadata": {
        "id": "ktx7g4UnttNn"
      },
      "source": [
        "My own example 8:"
      ]
    },
    {
      "cell_type": "code",
      "execution_count": 90,
      "metadata": {
        "colab": {
          "base_uri": "https://localhost:8080/"
        },
        "outputId": "a9dea5e6-7b73-48ae-abe9-b43910ad0bdd",
        "id": "OIX_IRpwttNn"
      },
      "outputs": [
        {
          "output_type": "stream",
          "name": "stdout",
          "text": [
            "78.53975\n",
            "5.0\n"
          ]
        }
      ],
      "source": [
        "class Circle:\n",
        "    pi = 3.14\n",
        "\n",
        "    def __init__(self, radius):\n",
        "        self.radius = radius\n",
        "\n",
        "    def area(self):\n",
        "        return self.pi * self.radius**2\n",
        "\n",
        "    @classmethod\n",
        "    def set_pi(cls, value):\n",
        "        cls.pi = value\n",
        "\n",
        "    @staticmethod\n",
        "    def diameter_to_radius(diameter):\n",
        "        return diameter / 2\n",
        "\n",
        "Circle.set_pi(3.14159)\n",
        "circle = Circle(5)\n",
        "print(circle.area())\n",
        "print(Circle.diameter_to_radius(10))"
      ]
    },
    {
      "cell_type": "markdown",
      "metadata": {
        "id": "Vmzu6Bo_ttNo"
      },
      "source": [
        "My own example 9:"
      ]
    },
    {
      "cell_type": "code",
      "execution_count": 91,
      "metadata": {
        "colab": {
          "base_uri": "https://localhost:8080/"
        },
        "outputId": "3aa070d3-7794-4262-94c3-0ed970526658",
        "id": "pYTo2SN7ttNo"
      },
      "outputs": [
        {
          "output_type": "stream",
          "name": "stdout",
          "text": [
            "A.foo()\n"
          ]
        }
      ],
      "source": [
        "class A:\n",
        "    def foo(self):\n",
        "        print(\"A.foo()\")\n",
        "\n",
        "class B:\n",
        "    def foo(self):\n",
        "        print(\"B.foo()\")\n",
        "\n",
        "class C(A, B):\n",
        "    pass\n",
        "\n",
        "obj = C()\n",
        "obj.foo() # prints \"A.foo()\""
      ]
    },
    {
      "cell_type": "markdown",
      "metadata": {
        "id": "3PBaD23ottNo"
      },
      "source": [
        "My own example 10:"
      ]
    },
    {
      "cell_type": "code",
      "execution_count": 92,
      "metadata": {
        "colab": {
          "base_uri": "https://localhost:8080/"
        },
        "outputId": "b712e5bc-f4cf-4eff-ef83-7a0719252962",
        "id": "d-evOH07ttNo"
      },
      "outputs": [
        {
          "output_type": "stream",
          "name": "stdout",
          "text": [
            "20\n",
            "20.0 4.0 5.0\n"
          ]
        }
      ],
      "source": [
        "class Rectangle:\n",
        "    def __init__(self, width, height):\n",
        "        self.width = width\n",
        "        self.height = height\n",
        "\n",
        "    @property\n",
        "    def area(self):\n",
        "        return self.width * self.height\n",
        "\n",
        "    @area.setter\n",
        "    def area(self, value):\n",
        "        ratio = (value / self.area)**0.5\n",
        "        self.width *= ratio\n",
        "        self.height *= ratio\n",
        "\n",
        "rect = Rectangle(4, 5)\n",
        "print(rect.area)\n",
        "rect.area = 20\n",
        "print(rect.area, rect.width, rect.height)"
      ]
    },
    {
      "cell_type": "markdown",
      "metadata": {
        "id": "ZHC_o4QGttNo"
      },
      "source": [
        "My own example 11:"
      ]
    },
    {
      "cell_type": "code",
      "execution_count": 93,
      "metadata": {
        "id": "giOCDb9FttNo"
      },
      "outputs": [],
      "source": [
        "from abc import ABC, abstractmethod\n",
        "\n",
        "class Animal(ABC):\n",
        "    @abstractmethod\n",
        "    def speak(self):\n",
        "        pass"
      ]
    },
    {
      "cell_type": "markdown",
      "metadata": {
        "id": "ex6E8ejAttNo"
      },
      "source": [
        "My own example 12:"
      ]
    },
    {
      "cell_type": "code",
      "execution_count": 94,
      "metadata": {
        "colab": {
          "base_uri": "https://localhost:8080/"
        },
        "outputId": "7bcba19a-522b-4cda-be49-465eceb3d565",
        "id": "4kweaQ1BttNo"
      },
      "outputs": [
        {
          "output_type": "stream",
          "name": "stdout",
          "text": [
            "8\n",
            "13\n"
          ]
        }
      ],
      "source": [
        "def make_adder(x):\n",
        "    def adder(y):\n",
        "        return x + y\n",
        "    return adder\n",
        "\n",
        "add5 = make_adder(5)\n",
        "add10 = make_adder(10)\n",
        "print(add5(3)) # prints 8\n",
        "print(add10(3)) # prints 13"
      ]
    },
    {
      "cell_type": "markdown",
      "metadata": {
        "id": "MTrCP4WittNp"
      },
      "source": [
        "My own example 13:"
      ]
    },
    {
      "cell_type": "code",
      "execution_count": 95,
      "metadata": {
        "colab": {
          "base_uri": "https://localhost:8080/"
        },
        "outputId": "c1ff5b48-5408-4268-f1f7-25f2c7400c52",
        "id": "9jFqey_qttNp"
      },
      "outputs": [
        {
          "output_type": "stream",
          "name": "stdout",
          "text": [
            "A.foo()\n",
            "B.foo()\n"
          ]
        }
      ],
      "source": [
        "class A:\n",
        "    def foo(self):\n",
        "        print(\"A.foo()\")\n",
        "\n",
        "class B(A):\n",
        "    def foo(self):\n",
        "        super().foo()\n",
        "        print(\"B.foo()\")\n",
        "\n",
        "obj = B()\n",
        "obj.foo() # prints \"A.foo()\" followed by \"B.foo()\""
      ]
    },
    {
      "cell_type": "markdown",
      "metadata": {
        "id": "FST9RKq8ttNp"
      },
      "source": [
        "My own example 14:"
      ]
    },
    {
      "cell_type": "code",
      "execution_count": 96,
      "metadata": {
        "colab": {
          "base_uri": "https://localhost:8080/"
        },
        "outputId": "b9e8b467-23bd-4d6b-aea6-43968758bfa5",
        "id": "-C7WZV5_ttNp"
      },
      "outputs": [
        {
          "output_type": "stream",
          "name": "stdout",
          "text": [
            "8\n"
          ]
        }
      ],
      "source": [
        "class MyClass:\n",
        "    x = 0\n",
        "\n",
        "    @classmethod\n",
        "    def class_method(cls, x):\n",
        "        cls.x = x\n",
        "\n",
        "    @staticmethod\n",
        "    def static_method(y):\n",
        "        return MyClass.x + y\n",
        "\n",
        "MyClass.class_method(5)\n",
        "print(MyClass.static_method(3)) # prints 8"
      ]
    },
    {
      "cell_type": "markdown",
      "metadata": {
        "id": "m2_TC5ymttNp"
      },
      "source": [
        "My own example 15:"
      ]
    },
    {
      "cell_type": "code",
      "execution_count": 98,
      "metadata": {
        "colab": {
          "base_uri": "https://localhost:8080/"
        },
        "outputId": "ea5406c9-3567-4135-ce31-f783d93ac3bb",
        "id": "gs7dxUEwttNp"
      },
      "outputs": [
        {
          "output_type": "stream",
          "name": "stdout",
          "text": [
            "A.foo()\n"
          ]
        }
      ],
      "source": [
        "class A:\n",
        "    def foo(self):\n",
        "        print(\"A.foo()\")\n",
        "\n",
        "class B:\n",
        "    def foo(self):\n",
        "        print(\"B.foo()\")\n",
        "\n",
        "obj = A()\n",
        "obj.foo() # prints \"A.foo()\""
      ]
    },
    {
      "cell_type": "markdown",
      "source": [
        "My own example 16:"
      ],
      "metadata": {
        "id": "sBLb3p2pttNp"
      }
    },
    {
      "cell_type": "code",
      "source": [
        "grades = {'Alice': 85, 'Bob': 92, 'Charlie': 78, 'David': 80}\n",
        "\n",
        "for name, grade in grades.items():\n",
        "    # If the grade is below 80, break out of the loop\n",
        "    if grade < 80:\n",
        "        print(name + ' has a failing grade')\n",
        "        break\n",
        "    print(name + ' has a passing grade')"
      ],
      "metadata": {
        "colab": {
          "base_uri": "https://localhost:8080/"
        },
        "outputId": "dded2903-6227-4af8-d23c-ef700b0ee615",
        "id": "V8x2620fttNp"
      },
      "execution_count": 99,
      "outputs": [
        {
          "output_type": "stream",
          "name": "stdout",
          "text": [
            "Alice has a passing grade\n",
            "Bob has a passing grade\n",
            "Charlie has a failing grade\n"
          ]
        }
      ]
    },
    {
      "cell_type": "markdown",
      "metadata": {
        "id": "Lz_qltjmttNq"
      },
      "source": [
        "My own example 17:"
      ]
    },
    {
      "cell_type": "code",
      "execution_count": 145,
      "metadata": {
        "id": "y8mHynrXttNq"
      },
      "outputs": [],
      "source": [
        "class Rectangle:\n",
        "    def __init__(self, width, height):\n",
        "        self._width = width\n",
        "        self._height = height\n",
        "\n",
        "    @property\n",
        "    def width(self):\n",
        "        return self._width\n",
        "\n",
        "    @width.setter\n",
        "    def width(self, value):\n",
        "        if value < 0:\n",
        "            raise ValueError(\"Width cannot be negative\")\n",
        "        self._width = value\n",
        "\n",
        "    @property\n",
        "    def height(self):\n",
        "        return self._height\n",
        "\n",
        "    @height.setter\n",
        "    def height(self, value):\n",
        "        if value < 0:\n",
        "            raise ValueError(\"Height cannot be negative\")\n",
        "        self._height = value"
      ]
    },
    {
      "cell_type": "markdown",
      "metadata": {
        "id": "2vFlieSJttNq"
      },
      "source": [
        "My own example 18:"
      ]
    },
    {
      "cell_type": "code",
      "execution_count": 146,
      "metadata": {
        "colab": {
          "base_uri": "https://localhost:8080/"
        },
        "outputId": "0ce16009-b02a-4c1f-960a-b8aa59ef8f6d",
        "id": "Ho1TRjpmttNr"
      },
      "outputs": [
        {
          "output_type": "stream",
          "name": "stdout",
          "text": [
            "4 5 20\n",
            "6 7 42\n"
          ]
        }
      ],
      "source": [
        "class Rectangle:\n",
        "    def __init__(self, width, height):\n",
        "        self._width = width\n",
        "        self._height = height\n",
        "\n",
        "    @property\n",
        "    def width(self):\n",
        "        return self._width\n",
        "\n",
        "    @width.setter\n",
        "    def width(self, value):\n",
        "        if value < 0:\n",
        "            raise ValueError(\"Width cannot be negative\")\n",
        "        self._width = value\n",
        "\n",
        "    @property\n",
        "    def height(self):\n",
        "        return self._height\n",
        "\n",
        "    @height.setter\n",
        "    def height(self, value):\n",
        "        if value < 0:\n",
        "            raise ValueError(\"Height cannot be negative\")\n",
        "        self._height = value\n",
        "\n",
        "    @property\n",
        "    def area(self):\n",
        "        return self._width * self._height\n",
        "\n",
        "rect = Rectangle(4, 5)\n",
        "print(rect.width, rect.height, rect.area)\n",
        "rect.width = 6\n",
        "rect.height = 7\n",
        "print(rect.width, rect.height, rect.area)"
      ]
    },
    {
      "cell_type": "markdown",
      "metadata": {
        "id": "vfC8y4YEttNr"
      },
      "source": [
        "My own example 19:"
      ]
    },
    {
      "cell_type": "code",
      "execution_count": 150,
      "metadata": {
        "colab": {
          "base_uri": "https://localhost:8080/"
        },
        "outputId": "7ee1aa16-d34e-48bc-d26f-afa533881df5",
        "id": "c32vHAfNttNr"
      },
      "outputs": [
        {
          "output_type": "stream",
          "name": "stdout",
          "text": [
            "Alice 33\n"
          ]
        }
      ],
      "source": [
        "import datetime\n",
        "\n",
        "class Person:\n",
        "    def __init__(self, name, age):\n",
        "        self.name = name\n",
        "        self.age = age\n",
        "\n",
        "    @classmethod\n",
        "    def from_birth_year(cls, name, birth_year):\n",
        "        age = datetime.date.today().year - birth_year\n",
        "        return cls(name, age)\n",
        "\n",
        "person = Person.from_birth_year(\"Alice\", 1990)\n",
        "print(person.name, person.age) # prints \"Alice 33\""
      ]
    },
    {
      "cell_type": "markdown",
      "metadata": {
        "id": "xPwoilXQttNr"
      },
      "source": [
        "My own example 20:"
      ]
    },
    {
      "cell_type": "code",
      "execution_count": 151,
      "metadata": {
        "colab": {
          "base_uri": "https://localhost:8080/"
        },
        "outputId": "87379585-a391-4726-a94b-f94fee9d4964",
        "id": "aOIswTJGttNr"
      },
      "outputs": [
        {
          "output_type": "stream",
          "name": "stdout",
          "text": [
            "D.foo()\n",
            "A.foo()\n"
          ]
        }
      ],
      "source": [
        "class A:\n",
        "    def foo(self):\n",
        "        print(\"A.foo()\")\n",
        "\n",
        "class B(A):\n",
        "    def foo(self):\n",
        "        print(\"B.foo()\")\n",
        "        super(A, self).foo()\n",
        "\n",
        "class C(A):\n",
        "    def foo(self):\n",
        "        print(\"C.foo()\")\n",
        "        super(C, self).foo()\n",
        "\n",
        "class D(B, C):\n",
        "    def foo(self):\n",
        "        print(\"D.foo()\")\n",
        "        super(C, self).foo()\n",
        "\n",
        "obj = D()\n",
        "obj.foo() # prints \"D.foo()\", \"B.foo()\", \"C.foo()\", and \"A.foo()\""
      ]
    },
    {
      "cell_type": "markdown",
      "source": [
        "## Introduction to Numpy"
      ],
      "metadata": {
        "id": "QXUJQ8-zHDE8"
      }
    },
    {
      "cell_type": "markdown",
      "source": [
        "My own example 1:"
      ],
      "metadata": {
        "id": "VqO6EOtdt792"
      }
    },
    {
      "cell_type": "code",
      "source": [
        "import numpy as np\n",
        "arr = np.random.rand(3, 3)"
      ],
      "metadata": {
        "id": "qHbglJB_sCRL"
      },
      "execution_count": 152,
      "outputs": []
    },
    {
      "cell_type": "markdown",
      "source": [
        "My own example 2:"
      ],
      "metadata": {
        "id": "tPjVLU1-sCmk"
      }
    },
    {
      "cell_type": "code",
      "source": [
        "arr = np.random.randint(10, size=5)"
      ],
      "metadata": {
        "id": "RiS0VwmUsC5l"
      },
      "execution_count": 153,
      "outputs": []
    },
    {
      "cell_type": "markdown",
      "source": [
        "My own example 3:"
      ],
      "metadata": {
        "id": "I3Bd02ELsDQ3"
      }
    },
    {
      "cell_type": "code",
      "source": [
        "arr = np.array([1, 2, 3, 4, 5, 6, 7, 8, 9, 10])\n",
        "avg = np.mean(arr)"
      ],
      "metadata": {
        "id": "OArbfkApsDiu"
      },
      "execution_count": 154,
      "outputs": []
    },
    {
      "cell_type": "markdown",
      "source": [
        "My own example 4:"
      ],
      "metadata": {
        "id": "dwNQsQlosDvC"
      }
    },
    {
      "cell_type": "code",
      "source": [
        "arr = np.array([1, 2, 3, 4, 5, 6, 7, 8, 9, 10])\n",
        "std = np.std(arr)"
      ],
      "metadata": {
        "id": "MaIUCrKOsEQN"
      },
      "execution_count": 155,
      "outputs": []
    },
    {
      "cell_type": "markdown",
      "source": [
        "My own example 5:"
      ],
      "metadata": {
        "id": "jAVSP76zsEju"
      }
    },
    {
      "cell_type": "code",
      "source": [
        "a = np.array([1, 2, 3])\n",
        "b = np.array([4, 5, 6])\n",
        "c = a + b"
      ],
      "metadata": {
        "id": "gCbLcEW7sE1d"
      },
      "execution_count": 156,
      "outputs": []
    },
    {
      "cell_type": "markdown",
      "source": [
        "My own example 6:"
      ],
      "metadata": {
        "id": "1kLNDLLKsFPm"
      }
    },
    {
      "cell_type": "code",
      "source": [
        "a = np.array([1, 2, 3])\n",
        "b = np.array([4, 5, 6])\n",
        "c = a * b"
      ],
      "metadata": {
        "id": "LGqsoSxksFgy"
      },
      "execution_count": 157,
      "outputs": []
    },
    {
      "cell_type": "markdown",
      "source": [
        "My own example 7:"
      ],
      "metadata": {
        "id": "Fjvs31hmsF0n"
      }
    },
    {
      "cell_type": "code",
      "source": [
        "arr = np.array([1, 2, 3, 4, 5, 6, 7, 8, 9, 10])\n",
        "max_val = np.max(arr)\n",
        "max_index = np.argmax(arr)\n",
        "print(max_val,  max_index)"
      ],
      "metadata": {
        "colab": {
          "base_uri": "https://localhost:8080/"
        },
        "id": "Sr3JtwXxsGF7",
        "outputId": "89fdfd90-c63f-4470-f993-9875fbfa90fe"
      },
      "execution_count": 158,
      "outputs": [
        {
          "output_type": "stream",
          "name": "stdout",
          "text": [
            "10 9\n"
          ]
        }
      ]
    },
    {
      "cell_type": "markdown",
      "source": [
        "My own example 8:"
      ],
      "metadata": {
        "id": "BE6muvlLsGZ1"
      }
    },
    {
      "cell_type": "code",
      "source": [
        "arr = np.ones((2, 2))\n",
        "arr"
      ],
      "metadata": {
        "colab": {
          "base_uri": "https://localhost:8080/"
        },
        "id": "kOvXYviXsHSn",
        "outputId": "509dff40-9514-4278-e1a2-8e607a03d65b"
      },
      "execution_count": 159,
      "outputs": [
        {
          "output_type": "execute_result",
          "data": {
            "text/plain": [
              "array([[1., 1.],\n",
              "       [1., 1.]])"
            ]
          },
          "metadata": {},
          "execution_count": 159
        }
      ]
    },
    {
      "cell_type": "markdown",
      "source": [
        "My own example 9:"
      ],
      "metadata": {
        "id": "6GgSpeiEsG7R"
      }
    },
    {
      "cell_type": "code",
      "source": [
        "A = np.array([[1, 2], [3, 4]])\n",
        "\n",
        "B = np.array([[5], [6]])\n",
        "\n",
        "# Use the dot product to calculate the matrix product of A and B\n",
        "C = np.dot(A, B)\n",
        "\n",
        "print(C)"
      ],
      "metadata": {
        "colab": {
          "base_uri": "https://localhost:8080/"
        },
        "id": "lWlMdcHbsIBe",
        "outputId": "c607a3e3-30d1-40cf-f92e-26f4237b9447"
      },
      "execution_count": 160,
      "outputs": [
        {
          "output_type": "stream",
          "name": "stdout",
          "text": [
            "[[17]\n",
            " [39]]\n"
          ]
        }
      ]
    },
    {
      "cell_type": "markdown",
      "source": [
        "My own example 10:"
      ],
      "metadata": {
        "id": "yfiKXAxfsHvj"
      }
    },
    {
      "cell_type": "code",
      "source": [
        "A = np.array([[1, 2, 3], [1, 5, 6], [7, 8, 9]])\n",
        "\n",
        "A_inv = np.linalg.inv(A)\n",
        "\n",
        "I = np.eye(3)\n",
        "\n",
        "A_Ainv = np.matmul(A, A_inv)\n",
        "\n",
        "assert np.allclose(A_Ainv, I)"
      ],
      "metadata": {
        "id": "nXtINO0LsGuK"
      },
      "execution_count": 161,
      "outputs": []
    },
    {
      "cell_type": "markdown",
      "metadata": {
        "id": "XsaX6juPuRW8"
      },
      "source": [
        "My own example 11:"
      ]
    },
    {
      "cell_type": "code",
      "execution_count": 162,
      "metadata": {
        "colab": {
          "base_uri": "https://localhost:8080/"
        },
        "outputId": "683e6b7d-61b0-44f0-dde9-c971d663ba33",
        "id": "E-In2xPmuRW8"
      },
      "outputs": [
        {
          "output_type": "stream",
          "name": "stdout",
          "text": [
            "1\n",
            "3\n",
            "5\n",
            "7\n",
            "9\n"
          ]
        }
      ],
      "source": [
        "i = 0\n",
        "\n",
        "while i < len(numbers):\n",
        "    # If the current number is even, skip it\n",
        "    if numbers[i] % 2 == 0:\n",
        "        i += 1\n",
        "        continue\n",
        "    print(numbers[i])\n",
        "    i += 1"
      ]
    },
    {
      "cell_type": "markdown",
      "metadata": {
        "id": "lsTNoDuzuRW9"
      },
      "source": [
        "My own example 12:"
      ]
    },
    {
      "cell_type": "code",
      "execution_count": 163,
      "metadata": {
        "colab": {
          "base_uri": "https://localhost:8080/"
        },
        "outputId": "0db4074c-b56d-4f17-b09c-b9d6ac3adc6c",
        "id": "BpV365onuRW9"
      },
      "outputs": [
        {
          "output_type": "execute_result",
          "data": {
            "text/plain": [
              "{2, 3, 5, 7, 11, 13, 17, 19, 23, 29, 31}"
            ]
          },
          "metadata": {},
          "execution_count": 163
        }
      ],
      "source": [
        "prime_numbers = {2, 3, 5, 7, 11, 13, 17, 19, 23, 29, 31}\n",
        "prime_numbers.difference(evens)"
      ]
    },
    {
      "cell_type": "markdown",
      "metadata": {
        "id": "Uf8Dtf4BuRW9"
      },
      "source": [
        "My own example 13:"
      ]
    },
    {
      "cell_type": "code",
      "execution_count": 164,
      "metadata": {
        "colab": {
          "base_uri": "https://localhost:8080/"
        },
        "outputId": "ff582780-cd2d-4abe-b0fa-b54911ccdc58",
        "id": "163P0VBOuRW9"
      },
      "outputs": [
        {
          "output_type": "stream",
          "name": "stdout",
          "text": [
            "John: 90\n",
            "Alice: 85\n",
            "Bob: 70\n"
          ]
        }
      ],
      "source": [
        "students = {\"John\": 90, \"Alice\": 85, \"Bob\": 70}\n",
        "\n",
        "for k,v in students.items():\n",
        "  print(k + \": \" + str(v))"
      ]
    },
    {
      "cell_type": "markdown",
      "metadata": {
        "id": "d7I6mNfFuRW9"
      },
      "source": [
        "My own example 14:"
      ]
    },
    {
      "cell_type": "code",
      "execution_count": 165,
      "metadata": {
        "colab": {
          "base_uri": "https://localhost:8080/"
        },
        "outputId": "0eea52a9-8675-4b9b-fd5a-41d5f39affd7",
        "id": "EFgyi2W6uRW9"
      },
      "outputs": [
        {
          "output_type": "stream",
          "name": "stdout",
          "text": [
            "1\n",
            "2\n",
            "3\n",
            "4\n",
            "5\n"
          ]
        }
      ],
      "source": [
        "numbers = [1, 2, 3, 4, 5, 6, 7, 8, 9, 10]\n",
        "\n",
        "for num in numbers:\n",
        "    # Break out of the loop if we reach a number greater than 5\n",
        "    if num > 5:\n",
        "        break\n",
        "    print(num)"
      ]
    },
    {
      "cell_type": "markdown",
      "metadata": {
        "id": "WgVjrEzGuRW9"
      },
      "source": [
        "My own example 15:"
      ]
    },
    {
      "cell_type": "code",
      "execution_count": 166,
      "metadata": {
        "colab": {
          "base_uri": "https://localhost:8080/"
        },
        "outputId": "fd73db5f-c4bb-4fd3-e78e-be2c07d09197",
        "id": "tWx1LBEluRW-"
      },
      "outputs": [
        {
          "output_type": "stream",
          "name": "stdout",
          "text": [
            "1\n",
            "3\n",
            "5\n",
            "7\n",
            "9\n"
          ]
        }
      ],
      "source": [
        "i = 0\n",
        "\n",
        "while i < len(numbers):\n",
        "    # If the current number is even, skip it\n",
        "    if numbers[i] % 2 == 0:\n",
        "        i += 1\n",
        "        continue\n",
        "    print(numbers[i])\n",
        "    i += 1"
      ]
    },
    {
      "cell_type": "markdown",
      "source": [
        "My own example 16:"
      ],
      "metadata": {
        "id": "F3eilXFNuRW-"
      }
    },
    {
      "cell_type": "code",
      "source": [
        "grades = {'Alice': 85, 'Bob': 92, 'Charlie': 78, 'David': 80}\n",
        "\n",
        "for name, grade in grades.items():\n",
        "    # If the grade is below 80, break out of the loop\n",
        "    if grade < 80:\n",
        "        print(name + ' has a failing grade')\n",
        "        break\n",
        "    print(name + ' has a passing grade')"
      ],
      "metadata": {
        "colab": {
          "base_uri": "https://localhost:8080/"
        },
        "outputId": "2cc73fb3-e6aa-4de5-b937-54449cf8def0",
        "id": "2BLxveh4uRW-"
      },
      "execution_count": 167,
      "outputs": [
        {
          "output_type": "stream",
          "name": "stdout",
          "text": [
            "Alice has a passing grade\n",
            "Bob has a passing grade\n",
            "Charlie has a failing grade\n"
          ]
        }
      ]
    },
    {
      "cell_type": "markdown",
      "metadata": {
        "id": "qiSvYHrWuRW-"
      },
      "source": [
        "My own example 17:"
      ]
    },
    {
      "cell_type": "code",
      "execution_count": 168,
      "metadata": {
        "colab": {
          "base_uri": "https://localhost:8080/",
          "height": 35
        },
        "outputId": "2c06a9de-0211-4498-eda5-99986af2cf9e",
        "id": "5UKBmnc0uRW-"
      },
      "outputs": [
        {
          "output_type": "execute_result",
          "data": {
            "text/plain": [
              "'blue'"
            ],
            "application/vnd.google.colaboratory.intrinsic+json": {
              "type": "string"
            }
          },
          "metadata": {},
          "execution_count": 168
        }
      ],
      "source": [
        "colors = (\"red\", \"green\", \"blue\")\n",
        "colors[2]"
      ]
    },
    {
      "cell_type": "markdown",
      "metadata": {
        "id": "0bMeWPezuRW-"
      },
      "source": [
        "My own example 18:"
      ]
    },
    {
      "cell_type": "code",
      "execution_count": 169,
      "metadata": {
        "colab": {
          "base_uri": "https://localhost:8080/"
        },
        "outputId": "2f9e533d-0c0d-4ef2-8a59-03dcaca800e6",
        "id": "BJVG0bg8uRW-"
      },
      "outputs": [
        {
          "output_type": "execute_result",
          "data": {
            "text/plain": [
              "{2, 3, 5, 7, 11, 13, 17, 19, 23, 29, 31}"
            ]
          },
          "metadata": {},
          "execution_count": 169
        }
      ],
      "source": [
        "prime_numbers = {2, 3, 5, 7, 11, 13, 17, 19, 23, 29, 31}\n",
        "prime_numbers.difference(evens)"
      ]
    },
    {
      "cell_type": "markdown",
      "metadata": {
        "id": "lD22YCJ2uRW-"
      },
      "source": [
        "My own example 19:"
      ]
    },
    {
      "cell_type": "code",
      "execution_count": 170,
      "metadata": {
        "colab": {
          "base_uri": "https://localhost:8080/"
        },
        "outputId": "1856e41d-587a-4e3b-acbb-8a1835e8c362",
        "id": "elbv6TSwuRW-"
      },
      "outputs": [
        {
          "output_type": "stream",
          "name": "stdout",
          "text": [
            "John: 90\n",
            "Alice: 85\n",
            "Bob: 70\n"
          ]
        }
      ],
      "source": [
        "students = {\"John\": 90, \"Alice\": 85, \"Bob\": 70}\n",
        "\n",
        "for k,v in students.items():\n",
        "  print(k + \": \" + str(v))"
      ]
    },
    {
      "cell_type": "markdown",
      "metadata": {
        "id": "BEn5bvl0uRW-"
      },
      "source": [
        "My own example 20:"
      ]
    },
    {
      "cell_type": "code",
      "execution_count": 171,
      "metadata": {
        "colab": {
          "base_uri": "https://localhost:8080/"
        },
        "outputId": "467d6cd5-174c-4428-feaf-45a0444e0a3b",
        "id": "B8jntIHOuRW_"
      },
      "outputs": [
        {
          "output_type": "stream",
          "name": "stdout",
          "text": [
            "1\n",
            "2\n",
            "3\n",
            "4\n",
            "5\n"
          ]
        }
      ],
      "source": [
        "numbers = [1, 2, 3, 4, 5, 6, 7, 8, 9, 10]\n",
        "\n",
        "for num in numbers:\n",
        "    # Break out of the loop if we reach a number greater than 5\n",
        "    if num > 5:\n",
        "        break\n",
        "    print(num)"
      ]
    },
    {
      "cell_type": "markdown",
      "source": [
        "## Introduction to Pandas"
      ],
      "metadata": {
        "id": "VF3At_qfHP7f"
      }
    },
    {
      "cell_type": "markdown",
      "source": [
        "My own example 1:"
      ],
      "metadata": {
        "id": "PUbzRHTzHSAk"
      }
    },
    {
      "cell_type": "code",
      "source": [
        "import pandas as pd\n",
        "url = 'https://people.sc.fsu.edu/~jburkardt/data/csv/hw_200.csv'\n",
        "df = pd.read_csv(url)"
      ],
      "metadata": {
        "id": "w28tzpg8HRcT"
      },
      "execution_count": 172,
      "outputs": []
    },
    {
      "cell_type": "markdown",
      "source": [
        "My own example 2:"
      ],
      "metadata": {
        "id": "wSvF-m0OHTI6"
      }
    },
    {
      "cell_type": "code",
      "source": [
        "url = 'https://en.wikipedia.org/wiki/List_of_countries_and_dependencies_by_population'\n",
        "tables = pd.read_html(url)"
      ],
      "metadata": {
        "id": "Y3HB39MBHSj7"
      },
      "execution_count": 173,
      "outputs": []
    },
    {
      "cell_type": "markdown",
      "source": [
        "My own example 3:"
      ],
      "metadata": {
        "id": "_LM2XtgfHzfA"
      }
    },
    {
      "cell_type": "code",
      "source": [
        "df = tables[1]\n",
        "df.head()"
      ],
      "metadata": {
        "colab": {
          "base_uri": "https://localhost:8080/",
          "height": 238
        },
        "id": "Kb6EVBLlKx4g",
        "outputId": "88bed47f-d4f3-4a97-afdb-a6c2acd024a5"
      },
      "execution_count": 174,
      "outputs": [
        {
          "output_type": "execute_result",
          "data": {
            "text/plain": [
              "  Rank Country / Dependency  Population                        Date  \\\n",
              "  Rank Country / Dependency     Numbers % of the world         Date   \n",
              "0    –                World  8013669000           100%  20 Feb 2023   \n",
              "1    1                China  1411750000            NaN  31 Dec 2022   \n",
              "2    2                India  1375586000            NaN   1 Mar 2022   \n",
              "3    3        United States   334394874            NaN  17 Feb 2023   \n",
              "4    4            Indonesia   275773800            NaN   1 Jul 2022   \n",
              "\n",
              "  Source (official or from the United Nations)  \\\n",
              "  Source (official or from the United Nations)   \n",
              "0                             UN projection[3]   \n",
              "1                         Official estimate[4]   \n",
              "2                       Official projection[5]   \n",
              "3                 National population clock[6]   \n",
              "4                         Official estimate[7]   \n",
              "\n",
              "                                               Notes  \n",
              "                                               Notes  \n",
              "0                                                NaN  \n",
              "1  The population figure refers to mainland China...  \n",
              "2  The figure includes the population of the Indi...  \n",
              "3  The figure includes the 50 states and the Dist...  \n",
              "4                                                NaN  "
            ],
            "text/html": [
              "\n",
              "  <div id=\"df-f7bea4c0-2f01-4bb6-bd1c-e9599861c6c2\">\n",
              "    <div class=\"colab-df-container\">\n",
              "      <div>\n",
              "<style scoped>\n",
              "    .dataframe tbody tr th:only-of-type {\n",
              "        vertical-align: middle;\n",
              "    }\n",
              "\n",
              "    .dataframe tbody tr th {\n",
              "        vertical-align: top;\n",
              "    }\n",
              "\n",
              "    .dataframe thead tr th {\n",
              "        text-align: left;\n",
              "    }\n",
              "</style>\n",
              "<table border=\"1\" class=\"dataframe\">\n",
              "  <thead>\n",
              "    <tr>\n",
              "      <th></th>\n",
              "      <th>Rank</th>\n",
              "      <th>Country / Dependency</th>\n",
              "      <th colspan=\"2\" halign=\"left\">Population</th>\n",
              "      <th>Date</th>\n",
              "      <th>Source (official or from the United Nations)</th>\n",
              "      <th>Notes</th>\n",
              "    </tr>\n",
              "    <tr>\n",
              "      <th></th>\n",
              "      <th>Rank</th>\n",
              "      <th>Country / Dependency</th>\n",
              "      <th>Numbers</th>\n",
              "      <th>% of the world</th>\n",
              "      <th>Date</th>\n",
              "      <th>Source (official or from the United Nations)</th>\n",
              "      <th>Notes</th>\n",
              "    </tr>\n",
              "  </thead>\n",
              "  <tbody>\n",
              "    <tr>\n",
              "      <th>0</th>\n",
              "      <td>–</td>\n",
              "      <td>World</td>\n",
              "      <td>8013669000</td>\n",
              "      <td>100%</td>\n",
              "      <td>20 Feb 2023</td>\n",
              "      <td>UN projection[3]</td>\n",
              "      <td>NaN</td>\n",
              "    </tr>\n",
              "    <tr>\n",
              "      <th>1</th>\n",
              "      <td>1</td>\n",
              "      <td>China</td>\n",
              "      <td>1411750000</td>\n",
              "      <td>NaN</td>\n",
              "      <td>31 Dec 2022</td>\n",
              "      <td>Official estimate[4]</td>\n",
              "      <td>The population figure refers to mainland China...</td>\n",
              "    </tr>\n",
              "    <tr>\n",
              "      <th>2</th>\n",
              "      <td>2</td>\n",
              "      <td>India</td>\n",
              "      <td>1375586000</td>\n",
              "      <td>NaN</td>\n",
              "      <td>1 Mar 2022</td>\n",
              "      <td>Official projection[5]</td>\n",
              "      <td>The figure includes the population of the Indi...</td>\n",
              "    </tr>\n",
              "    <tr>\n",
              "      <th>3</th>\n",
              "      <td>3</td>\n",
              "      <td>United States</td>\n",
              "      <td>334394874</td>\n",
              "      <td>NaN</td>\n",
              "      <td>17 Feb 2023</td>\n",
              "      <td>National population clock[6]</td>\n",
              "      <td>The figure includes the 50 states and the Dist...</td>\n",
              "    </tr>\n",
              "    <tr>\n",
              "      <th>4</th>\n",
              "      <td>4</td>\n",
              "      <td>Indonesia</td>\n",
              "      <td>275773800</td>\n",
              "      <td>NaN</td>\n",
              "      <td>1 Jul 2022</td>\n",
              "      <td>Official estimate[7]</td>\n",
              "      <td>NaN</td>\n",
              "    </tr>\n",
              "  </tbody>\n",
              "</table>\n",
              "</div>\n",
              "      <button class=\"colab-df-convert\" onclick=\"convertToInteractive('df-f7bea4c0-2f01-4bb6-bd1c-e9599861c6c2')\"\n",
              "              title=\"Convert this dataframe to an interactive table.\"\n",
              "              style=\"display:none;\">\n",
              "        \n",
              "  <svg xmlns=\"http://www.w3.org/2000/svg\" height=\"24px\"viewBox=\"0 0 24 24\"\n",
              "       width=\"24px\">\n",
              "    <path d=\"M0 0h24v24H0V0z\" fill=\"none\"/>\n",
              "    <path d=\"M18.56 5.44l.94 2.06.94-2.06 2.06-.94-2.06-.94-.94-2.06-.94 2.06-2.06.94zm-11 1L8.5 8.5l.94-2.06 2.06-.94-2.06-.94L8.5 2.5l-.94 2.06-2.06.94zm10 10l.94 2.06.94-2.06 2.06-.94-2.06-.94-.94-2.06-.94 2.06-2.06.94z\"/><path d=\"M17.41 7.96l-1.37-1.37c-.4-.4-.92-.59-1.43-.59-.52 0-1.04.2-1.43.59L10.3 9.45l-7.72 7.72c-.78.78-.78 2.05 0 2.83L4 21.41c.39.39.9.59 1.41.59.51 0 1.02-.2 1.41-.59l7.78-7.78 2.81-2.81c.8-.78.8-2.07 0-2.86zM5.41 20L4 18.59l7.72-7.72 1.47 1.35L5.41 20z\"/>\n",
              "  </svg>\n",
              "      </button>\n",
              "      \n",
              "  <style>\n",
              "    .colab-df-container {\n",
              "      display:flex;\n",
              "      flex-wrap:wrap;\n",
              "      gap: 12px;\n",
              "    }\n",
              "\n",
              "    .colab-df-convert {\n",
              "      background-color: #E8F0FE;\n",
              "      border: none;\n",
              "      border-radius: 50%;\n",
              "      cursor: pointer;\n",
              "      display: none;\n",
              "      fill: #1967D2;\n",
              "      height: 32px;\n",
              "      padding: 0 0 0 0;\n",
              "      width: 32px;\n",
              "    }\n",
              "\n",
              "    .colab-df-convert:hover {\n",
              "      background-color: #E2EBFA;\n",
              "      box-shadow: 0px 1px 2px rgba(60, 64, 67, 0.3), 0px 1px 3px 1px rgba(60, 64, 67, 0.15);\n",
              "      fill: #174EA6;\n",
              "    }\n",
              "\n",
              "    [theme=dark] .colab-df-convert {\n",
              "      background-color: #3B4455;\n",
              "      fill: #D2E3FC;\n",
              "    }\n",
              "\n",
              "    [theme=dark] .colab-df-convert:hover {\n",
              "      background-color: #434B5C;\n",
              "      box-shadow: 0px 1px 3px 1px rgba(0, 0, 0, 0.15);\n",
              "      filter: drop-shadow(0px 1px 2px rgba(0, 0, 0, 0.3));\n",
              "      fill: #FFFFFF;\n",
              "    }\n",
              "  </style>\n",
              "\n",
              "      <script>\n",
              "        const buttonEl =\n",
              "          document.querySelector('#df-f7bea4c0-2f01-4bb6-bd1c-e9599861c6c2 button.colab-df-convert');\n",
              "        buttonEl.style.display =\n",
              "          google.colab.kernel.accessAllowed ? 'block' : 'none';\n",
              "\n",
              "        async function convertToInteractive(key) {\n",
              "          const element = document.querySelector('#df-f7bea4c0-2f01-4bb6-bd1c-e9599861c6c2');\n",
              "          const dataTable =\n",
              "            await google.colab.kernel.invokeFunction('convertToInteractive',\n",
              "                                                     [key], {});\n",
              "          if (!dataTable) return;\n",
              "\n",
              "          const docLinkHtml = 'Like what you see? Visit the ' +\n",
              "            '<a target=\"_blank\" href=https://colab.research.google.com/notebooks/data_table.ipynb>data table notebook</a>'\n",
              "            + ' to learn more about interactive tables.';\n",
              "          element.innerHTML = '';\n",
              "          dataTable['output_type'] = 'display_data';\n",
              "          await google.colab.output.renderOutput(dataTable, element);\n",
              "          const docLink = document.createElement('div');\n",
              "          docLink.innerHTML = docLinkHtml;\n",
              "          element.appendChild(docLink);\n",
              "        }\n",
              "      </script>\n",
              "    </div>\n",
              "  </div>\n",
              "  "
            ]
          },
          "metadata": {},
          "execution_count": 174
        }
      ]
    },
    {
      "cell_type": "markdown",
      "source": [
        "My own example 4:"
      ],
      "metadata": {
        "id": "D0SqMIurH0jg"
      }
    },
    {
      "cell_type": "code",
      "source": [
        "print(df.columns)"
      ],
      "metadata": {
        "colab": {
          "base_uri": "https://localhost:8080/"
        },
        "id": "zrmhBgINLEzk",
        "outputId": "52e0d6f8-2adf-4824-df18-6f40f3346a75"
      },
      "execution_count": 175,
      "outputs": [
        {
          "output_type": "stream",
          "name": "stdout",
          "text": [
            "MultiIndex([(                                        'Rank', ...),\n",
            "            (                        'Country / Dependency', ...),\n",
            "            (                                  'Population', ...),\n",
            "            (                                  'Population', ...),\n",
            "            (                                        'Date', ...),\n",
            "            ('Source (official or from the United Nations)', ...),\n",
            "            (                                       'Notes', ...)],\n",
            "           )\n"
          ]
        }
      ]
    },
    {
      "cell_type": "markdown",
      "source": [
        "My own example 5:"
      ],
      "metadata": {
        "id": "QbN_2F4wH0zw"
      }
    },
    {
      "cell_type": "code",
      "source": [
        "df.sort_values(by=(\"Population\", \"Numbers\"), ascending=True, inplace=True)\n",
        "df.head()"
      ],
      "metadata": {
        "colab": {
          "base_uri": "https://localhost:8080/",
          "height": 238
        },
        "id": "daPd3fv0H0se",
        "outputId": "a7bd1962-88e0-4072-8885-f2229f81b55b"
      },
      "execution_count": 176,
      "outputs": [
        {
          "output_type": "execute_result",
          "data": {
            "text/plain": [
              "    Rank                 Country / Dependency Population                 \\\n",
              "    Rank                 Country / Dependency    Numbers % of the world   \n",
              "241    –    Pitcairn Islands (United Kingdom)         47            NaN   \n",
              "240    –  Cocos (Keeling) Islands (Australia)        593            NaN   \n",
              "239  195                         Vatican City        825            NaN   \n",
              "238    –                                 Niue       1549            NaN   \n",
              "237    –                Tokelau (New Zealand)       1647            NaN   \n",
              "\n",
              "            Date Source (official or from the United Nations)  \\\n",
              "            Date Source (official or from the United Nations)   \n",
              "241   1 Jul 2021                       Official estimate[210]   \n",
              "240  30 Jun 2020                             2021 Census[209]   \n",
              "239   1 Feb 2019               Monthly national estimate[208]   \n",
              "238   1 Jul 2021               National annual projection[96]   \n",
              "237   1 Jan 2019                            2019 Census [207]   \n",
              "\n",
              "                                                 Notes  \n",
              "                                                 Notes  \n",
              "241                                                NaN  \n",
              "240                                                NaN  \n",
              "239  The total population of 825 consisted of 453 r...  \n",
              "238                                                NaN  \n",
              "237                                                NaN  "
            ],
            "text/html": [
              "\n",
              "  <div id=\"df-7efbd0bc-4470-4eb2-8114-d6d84f1aa42a\">\n",
              "    <div class=\"colab-df-container\">\n",
              "      <div>\n",
              "<style scoped>\n",
              "    .dataframe tbody tr th:only-of-type {\n",
              "        vertical-align: middle;\n",
              "    }\n",
              "\n",
              "    .dataframe tbody tr th {\n",
              "        vertical-align: top;\n",
              "    }\n",
              "\n",
              "    .dataframe thead tr th {\n",
              "        text-align: left;\n",
              "    }\n",
              "</style>\n",
              "<table border=\"1\" class=\"dataframe\">\n",
              "  <thead>\n",
              "    <tr>\n",
              "      <th></th>\n",
              "      <th>Rank</th>\n",
              "      <th>Country / Dependency</th>\n",
              "      <th colspan=\"2\" halign=\"left\">Population</th>\n",
              "      <th>Date</th>\n",
              "      <th>Source (official or from the United Nations)</th>\n",
              "      <th>Notes</th>\n",
              "    </tr>\n",
              "    <tr>\n",
              "      <th></th>\n",
              "      <th>Rank</th>\n",
              "      <th>Country / Dependency</th>\n",
              "      <th>Numbers</th>\n",
              "      <th>% of the world</th>\n",
              "      <th>Date</th>\n",
              "      <th>Source (official or from the United Nations)</th>\n",
              "      <th>Notes</th>\n",
              "    </tr>\n",
              "  </thead>\n",
              "  <tbody>\n",
              "    <tr>\n",
              "      <th>241</th>\n",
              "      <td>–</td>\n",
              "      <td>Pitcairn Islands (United Kingdom)</td>\n",
              "      <td>47</td>\n",
              "      <td>NaN</td>\n",
              "      <td>1 Jul 2021</td>\n",
              "      <td>Official estimate[210]</td>\n",
              "      <td>NaN</td>\n",
              "    </tr>\n",
              "    <tr>\n",
              "      <th>240</th>\n",
              "      <td>–</td>\n",
              "      <td>Cocos (Keeling) Islands (Australia)</td>\n",
              "      <td>593</td>\n",
              "      <td>NaN</td>\n",
              "      <td>30 Jun 2020</td>\n",
              "      <td>2021 Census[209]</td>\n",
              "      <td>NaN</td>\n",
              "    </tr>\n",
              "    <tr>\n",
              "      <th>239</th>\n",
              "      <td>195</td>\n",
              "      <td>Vatican City</td>\n",
              "      <td>825</td>\n",
              "      <td>NaN</td>\n",
              "      <td>1 Feb 2019</td>\n",
              "      <td>Monthly national estimate[208]</td>\n",
              "      <td>The total population of 825 consisted of 453 r...</td>\n",
              "    </tr>\n",
              "    <tr>\n",
              "      <th>238</th>\n",
              "      <td>–</td>\n",
              "      <td>Niue</td>\n",
              "      <td>1549</td>\n",
              "      <td>NaN</td>\n",
              "      <td>1 Jul 2021</td>\n",
              "      <td>National annual projection[96]</td>\n",
              "      <td>NaN</td>\n",
              "    </tr>\n",
              "    <tr>\n",
              "      <th>237</th>\n",
              "      <td>–</td>\n",
              "      <td>Tokelau (New Zealand)</td>\n",
              "      <td>1647</td>\n",
              "      <td>NaN</td>\n",
              "      <td>1 Jan 2019</td>\n",
              "      <td>2019 Census [207]</td>\n",
              "      <td>NaN</td>\n",
              "    </tr>\n",
              "  </tbody>\n",
              "</table>\n",
              "</div>\n",
              "      <button class=\"colab-df-convert\" onclick=\"convertToInteractive('df-7efbd0bc-4470-4eb2-8114-d6d84f1aa42a')\"\n",
              "              title=\"Convert this dataframe to an interactive table.\"\n",
              "              style=\"display:none;\">\n",
              "        \n",
              "  <svg xmlns=\"http://www.w3.org/2000/svg\" height=\"24px\"viewBox=\"0 0 24 24\"\n",
              "       width=\"24px\">\n",
              "    <path d=\"M0 0h24v24H0V0z\" fill=\"none\"/>\n",
              "    <path d=\"M18.56 5.44l.94 2.06.94-2.06 2.06-.94-2.06-.94-.94-2.06-.94 2.06-2.06.94zm-11 1L8.5 8.5l.94-2.06 2.06-.94-2.06-.94L8.5 2.5l-.94 2.06-2.06.94zm10 10l.94 2.06.94-2.06 2.06-.94-2.06-.94-.94-2.06-.94 2.06-2.06.94z\"/><path d=\"M17.41 7.96l-1.37-1.37c-.4-.4-.92-.59-1.43-.59-.52 0-1.04.2-1.43.59L10.3 9.45l-7.72 7.72c-.78.78-.78 2.05 0 2.83L4 21.41c.39.39.9.59 1.41.59.51 0 1.02-.2 1.41-.59l7.78-7.78 2.81-2.81c.8-.78.8-2.07 0-2.86zM5.41 20L4 18.59l7.72-7.72 1.47 1.35L5.41 20z\"/>\n",
              "  </svg>\n",
              "      </button>\n",
              "      \n",
              "  <style>\n",
              "    .colab-df-container {\n",
              "      display:flex;\n",
              "      flex-wrap:wrap;\n",
              "      gap: 12px;\n",
              "    }\n",
              "\n",
              "    .colab-df-convert {\n",
              "      background-color: #E8F0FE;\n",
              "      border: none;\n",
              "      border-radius: 50%;\n",
              "      cursor: pointer;\n",
              "      display: none;\n",
              "      fill: #1967D2;\n",
              "      height: 32px;\n",
              "      padding: 0 0 0 0;\n",
              "      width: 32px;\n",
              "    }\n",
              "\n",
              "    .colab-df-convert:hover {\n",
              "      background-color: #E2EBFA;\n",
              "      box-shadow: 0px 1px 2px rgba(60, 64, 67, 0.3), 0px 1px 3px 1px rgba(60, 64, 67, 0.15);\n",
              "      fill: #174EA6;\n",
              "    }\n",
              "\n",
              "    [theme=dark] .colab-df-convert {\n",
              "      background-color: #3B4455;\n",
              "      fill: #D2E3FC;\n",
              "    }\n",
              "\n",
              "    [theme=dark] .colab-df-convert:hover {\n",
              "      background-color: #434B5C;\n",
              "      box-shadow: 0px 1px 3px 1px rgba(0, 0, 0, 0.15);\n",
              "      filter: drop-shadow(0px 1px 2px rgba(0, 0, 0, 0.3));\n",
              "      fill: #FFFFFF;\n",
              "    }\n",
              "  </style>\n",
              "\n",
              "      <script>\n",
              "        const buttonEl =\n",
              "          document.querySelector('#df-7efbd0bc-4470-4eb2-8114-d6d84f1aa42a button.colab-df-convert');\n",
              "        buttonEl.style.display =\n",
              "          google.colab.kernel.accessAllowed ? 'block' : 'none';\n",
              "\n",
              "        async function convertToInteractive(key) {\n",
              "          const element = document.querySelector('#df-7efbd0bc-4470-4eb2-8114-d6d84f1aa42a');\n",
              "          const dataTable =\n",
              "            await google.colab.kernel.invokeFunction('convertToInteractive',\n",
              "                                                     [key], {});\n",
              "          if (!dataTable) return;\n",
              "\n",
              "          const docLinkHtml = 'Like what you see? Visit the ' +\n",
              "            '<a target=\"_blank\" href=https://colab.research.google.com/notebooks/data_table.ipynb>data table notebook</a>'\n",
              "            + ' to learn more about interactive tables.';\n",
              "          element.innerHTML = '';\n",
              "          dataTable['output_type'] = 'display_data';\n",
              "          await google.colab.output.renderOutput(dataTable, element);\n",
              "          const docLink = document.createElement('div');\n",
              "          docLink.innerHTML = docLinkHtml;\n",
              "          element.appendChild(docLink);\n",
              "        }\n",
              "      </script>\n",
              "    </div>\n",
              "  </div>\n",
              "  "
            ]
          },
          "metadata": {},
          "execution_count": 176
        }
      ]
    },
    {
      "cell_type": "markdown",
      "source": [
        "My own example 6:"
      ],
      "metadata": {
        "id": "2lwUuuMvH1C9"
      }
    },
    {
      "cell_type": "code",
      "source": [
        "df.drop('Rank', axis=1, inplace=True)"
      ],
      "metadata": {
        "colab": {
          "base_uri": "https://localhost:8080/"
        },
        "id": "1DCTDYkDH1X0",
        "outputId": "32d96130-2217-4d8e-cfd1-5406c032c028"
      },
      "execution_count": 177,
      "outputs": [
        {
          "output_type": "stream",
          "name": "stderr",
          "text": [
            "/usr/local/lib/python3.8/dist-packages/pandas/core/generic.py:4150: PerformanceWarning: dropping on a non-lexsorted multi-index without a level parameter may impact performance.\n",
            "  obj = obj._drop_axis(labels, axis, level=level, errors=errors)\n"
          ]
        }
      ]
    },
    {
      "cell_type": "markdown",
      "source": [
        "My own example 7:"
      ],
      "metadata": {
        "id": "LfHXgzFSu5Dd"
      }
    },
    {
      "cell_type": "code",
      "source": [
        "arr = np.array([1, 2, 3, 4, 5, 6, 7, 8, 9, 10])\n",
        "max_val = np.max(arr)\n",
        "max_index = np.argmax(arr)\n",
        "print(max_val,  max_index)"
      ],
      "metadata": {
        "colab": {
          "base_uri": "https://localhost:8080/"
        },
        "outputId": "4642544e-e457-4b2f-b411-4e6e616b27b7",
        "id": "vsSxy19ru5Dd"
      },
      "execution_count": 178,
      "outputs": [
        {
          "output_type": "stream",
          "name": "stdout",
          "text": [
            "10 9\n"
          ]
        }
      ]
    },
    {
      "cell_type": "markdown",
      "source": [
        "My own example 8:"
      ],
      "metadata": {
        "id": "WyAu3TXGu5Df"
      }
    },
    {
      "cell_type": "code",
      "source": [
        "arr = np.ones((2, 2))\n",
        "arr"
      ],
      "metadata": {
        "colab": {
          "base_uri": "https://localhost:8080/"
        },
        "outputId": "2b581664-e517-4808-d0c3-809c9c9a606a",
        "id": "KoYy1hSMu5Dg"
      },
      "execution_count": 179,
      "outputs": [
        {
          "output_type": "execute_result",
          "data": {
            "text/plain": [
              "array([[1., 1.],\n",
              "       [1., 1.]])"
            ]
          },
          "metadata": {},
          "execution_count": 179
        }
      ]
    },
    {
      "cell_type": "markdown",
      "source": [
        "My own example 9:"
      ],
      "metadata": {
        "id": "RGAIMkSbu5Dg"
      }
    },
    {
      "cell_type": "code",
      "source": [
        "A = np.array([[1, 2], [3, 4]])\n",
        "\n",
        "B = np.array([[5], [6]])\n",
        "\n",
        "# Use the dot product to calculate the matrix product of A and B\n",
        "C = np.dot(A, B)\n",
        "\n",
        "print(C)"
      ],
      "metadata": {
        "colab": {
          "base_uri": "https://localhost:8080/"
        },
        "outputId": "de0192ba-1d42-4d63-bbba-0ae1eb0455ba",
        "id": "r2KzW5vhu5Dh"
      },
      "execution_count": 180,
      "outputs": [
        {
          "output_type": "stream",
          "name": "stdout",
          "text": [
            "[[17]\n",
            " [39]]\n"
          ]
        }
      ]
    },
    {
      "cell_type": "markdown",
      "source": [
        "My own example 10:"
      ],
      "metadata": {
        "id": "sCcWYnjru5Dh"
      }
    },
    {
      "cell_type": "code",
      "source": [
        "A = np.array([[1, 2, 3], [1, 5, 6], [7, 8, 9]])\n",
        "\n",
        "A_inv = np.linalg.inv(A)\n",
        "\n",
        "I = np.eye(3)\n",
        "\n",
        "A_Ainv = np.matmul(A, A_inv)\n",
        "\n",
        "assert np.allclose(A_Ainv, I)"
      ],
      "metadata": {
        "id": "1qW_Epgmu5Dh"
      },
      "execution_count": 181,
      "outputs": []
    },
    {
      "cell_type": "markdown",
      "metadata": {
        "id": "XqgtMLUOu5Dh"
      },
      "source": [
        "My own example 11:"
      ]
    },
    {
      "cell_type": "code",
      "execution_count": 182,
      "metadata": {
        "colab": {
          "base_uri": "https://localhost:8080/"
        },
        "outputId": "f9805e0f-760a-4e08-94b7-14cabf74d2d7",
        "id": "CUVcn5Fbu5Dh"
      },
      "outputs": [
        {
          "output_type": "stream",
          "name": "stdout",
          "text": [
            "1\n",
            "3\n",
            "5\n",
            "7\n",
            "9\n"
          ]
        }
      ],
      "source": [
        "i = 0\n",
        "\n",
        "while i < len(numbers):\n",
        "    # If the current number is even, skip it\n",
        "    if numbers[i] % 2 == 0:\n",
        "        i += 1\n",
        "        continue\n",
        "    print(numbers[i])\n",
        "    i += 1"
      ]
    },
    {
      "cell_type": "markdown",
      "metadata": {
        "id": "WqtGmNmCu5Dh"
      },
      "source": [
        "My own example 12:"
      ]
    },
    {
      "cell_type": "code",
      "execution_count": 183,
      "metadata": {
        "colab": {
          "base_uri": "https://localhost:8080/"
        },
        "outputId": "1691f881-56a5-45e2-a0e4-8648ae69f4ca",
        "id": "baxTqdGTu5Dh"
      },
      "outputs": [
        {
          "output_type": "execute_result",
          "data": {
            "text/plain": [
              "{2, 3, 5, 7, 11, 13, 17, 19, 23, 29, 31}"
            ]
          },
          "metadata": {},
          "execution_count": 183
        }
      ],
      "source": [
        "prime_numbers = {2, 3, 5, 7, 11, 13, 17, 19, 23, 29, 31}\n",
        "prime_numbers.difference(evens)"
      ]
    },
    {
      "cell_type": "markdown",
      "metadata": {
        "id": "xAPKy5Z4u5Di"
      },
      "source": [
        "My own example 13:"
      ]
    },
    {
      "cell_type": "code",
      "execution_count": 184,
      "metadata": {
        "colab": {
          "base_uri": "https://localhost:8080/"
        },
        "outputId": "958a3063-d678-415a-d940-c9a0a7c9f448",
        "id": "TikpdmiKu5Di"
      },
      "outputs": [
        {
          "output_type": "stream",
          "name": "stdout",
          "text": [
            "John: 90\n",
            "Alice: 85\n",
            "Bob: 70\n"
          ]
        }
      ],
      "source": [
        "students = {\"John\": 90, \"Alice\": 85, \"Bob\": 70}\n",
        "\n",
        "for k,v in students.items():\n",
        "  print(k + \": \" + str(v))"
      ]
    },
    {
      "cell_type": "markdown",
      "metadata": {
        "id": "qbQBoECbu5Di"
      },
      "source": [
        "My own example 14:"
      ]
    },
    {
      "cell_type": "code",
      "execution_count": 185,
      "metadata": {
        "colab": {
          "base_uri": "https://localhost:8080/"
        },
        "outputId": "ab99e5ac-3a5c-47a4-a998-986d42c0b464",
        "id": "zr4klTaxu5Di"
      },
      "outputs": [
        {
          "output_type": "stream",
          "name": "stdout",
          "text": [
            "1\n",
            "2\n",
            "3\n",
            "4\n",
            "5\n"
          ]
        }
      ],
      "source": [
        "numbers = [1, 2, 3, 4, 5, 6, 7, 8, 9, 10]\n",
        "\n",
        "for num in numbers:\n",
        "    # Break out of the loop if we reach a number greater than 5\n",
        "    if num > 5:\n",
        "        break\n",
        "    print(num)"
      ]
    },
    {
      "cell_type": "markdown",
      "metadata": {
        "id": "39ETLrNmu5Di"
      },
      "source": [
        "My own example 15:"
      ]
    },
    {
      "cell_type": "code",
      "execution_count": 186,
      "metadata": {
        "colab": {
          "base_uri": "https://localhost:8080/"
        },
        "outputId": "5e01f31b-7dfe-430b-fecb-c2f2eadbe79d",
        "id": "9mBe8nV_u5Di"
      },
      "outputs": [
        {
          "output_type": "stream",
          "name": "stdout",
          "text": [
            "1\n",
            "3\n",
            "5\n",
            "7\n",
            "9\n"
          ]
        }
      ],
      "source": [
        "i = 0\n",
        "\n",
        "while i < len(numbers):\n",
        "    # If the current number is even, skip it\n",
        "    if numbers[i] % 2 == 0:\n",
        "        i += 1\n",
        "        continue\n",
        "    print(numbers[i])\n",
        "    i += 1"
      ]
    },
    {
      "cell_type": "markdown",
      "source": [
        "My own example 16:"
      ],
      "metadata": {
        "id": "xu5E_0syu5Di"
      }
    },
    {
      "cell_type": "code",
      "source": [
        "grades = {'Alice': 85, 'Bob': 92, 'Charlie': 78, 'David': 80}\n",
        "\n",
        "for name, grade in grades.items():\n",
        "    # If the grade is below 80, break out of the loop\n",
        "    if grade < 80:\n",
        "        print(name + ' has a failing grade')\n",
        "        break\n",
        "    print(name + ' has a passing grade')"
      ],
      "metadata": {
        "colab": {
          "base_uri": "https://localhost:8080/"
        },
        "outputId": "4a5c0605-c48b-4a4d-b4d3-edfeb3dff5d0",
        "id": "MuPVlpfmu5Di"
      },
      "execution_count": 187,
      "outputs": [
        {
          "output_type": "stream",
          "name": "stdout",
          "text": [
            "Alice has a passing grade\n",
            "Bob has a passing grade\n",
            "Charlie has a failing grade\n"
          ]
        }
      ]
    },
    {
      "cell_type": "markdown",
      "metadata": {
        "id": "eRgdGq3uu5Di"
      },
      "source": [
        "My own example 17:"
      ]
    },
    {
      "cell_type": "code",
      "execution_count": 188,
      "metadata": {
        "colab": {
          "base_uri": "https://localhost:8080/",
          "height": 35
        },
        "outputId": "f5c14f5e-0609-49ec-95dc-6741a2846334",
        "id": "yMExYOSOu5Dj"
      },
      "outputs": [
        {
          "output_type": "execute_result",
          "data": {
            "text/plain": [
              "'blue'"
            ],
            "application/vnd.google.colaboratory.intrinsic+json": {
              "type": "string"
            }
          },
          "metadata": {},
          "execution_count": 188
        }
      ],
      "source": [
        "colors = (\"red\", \"green\", \"blue\")\n",
        "colors[2]"
      ]
    },
    {
      "cell_type": "markdown",
      "metadata": {
        "id": "G8Rp9fvru5Dj"
      },
      "source": [
        "My own example 18:"
      ]
    },
    {
      "cell_type": "code",
      "execution_count": 189,
      "metadata": {
        "colab": {
          "base_uri": "https://localhost:8080/"
        },
        "outputId": "b234fcae-cc59-48cd-dae2-3ee7e2e1bbe0",
        "id": "XkUsDZKpu5Dj"
      },
      "outputs": [
        {
          "output_type": "execute_result",
          "data": {
            "text/plain": [
              "{2, 3, 5, 7, 11, 13, 17, 19, 23, 29, 31}"
            ]
          },
          "metadata": {},
          "execution_count": 189
        }
      ],
      "source": [
        "prime_numbers = {2, 3, 5, 7, 11, 13, 17, 19, 23, 29, 31}\n",
        "prime_numbers.difference(evens)"
      ]
    },
    {
      "cell_type": "markdown",
      "metadata": {
        "id": "AKskV9NGu5Dj"
      },
      "source": [
        "My own example 19:"
      ]
    },
    {
      "cell_type": "code",
      "execution_count": 190,
      "metadata": {
        "colab": {
          "base_uri": "https://localhost:8080/"
        },
        "outputId": "51a1a7eb-a303-4981-866b-accda329dd46",
        "id": "FdfxErQnu5Dj"
      },
      "outputs": [
        {
          "output_type": "stream",
          "name": "stdout",
          "text": [
            "John: 90\n",
            "Alice: 85\n",
            "Bob: 70\n"
          ]
        }
      ],
      "source": [
        "students = {\"John\": 90, \"Alice\": 85, \"Bob\": 70}\n",
        "\n",
        "for k,v in students.items():\n",
        "  print(k + \": \" + str(v))"
      ]
    },
    {
      "cell_type": "markdown",
      "metadata": {
        "id": "lIjNbz2Lu5Dj"
      },
      "source": [
        "My own example 20:"
      ]
    },
    {
      "cell_type": "code",
      "execution_count": 191,
      "metadata": {
        "colab": {
          "base_uri": "https://localhost:8080/"
        },
        "outputId": "bc23b25d-97b5-403d-890e-0e7d425e39bc",
        "id": "K1xLNGAEu5Dj"
      },
      "outputs": [
        {
          "output_type": "stream",
          "name": "stdout",
          "text": [
            "1\n",
            "2\n",
            "3\n",
            "4\n",
            "5\n"
          ]
        }
      ],
      "source": [
        "numbers = [1, 2, 3, 4, 5, 6, 7, 8, 9, 10]\n",
        "\n",
        "for num in numbers:\n",
        "    # Break out of the loop if we reach a number greater than 5\n",
        "    if num > 5:\n",
        "        break\n",
        "    print(num)"
      ]
    },
    {
      "cell_type": "markdown",
      "source": [
        "## Numpy and Basic Pandas"
      ],
      "metadata": {
        "id": "x3M927ODNxK-"
      }
    },
    {
      "cell_type": "markdown",
      "source": [
        "My own example 1:"
      ],
      "metadata": {
        "id": "iOhPmu3dH1Q8"
      }
    },
    {
      "cell_type": "code",
      "source": [
        "url = 'https://raw.githubusercontent.com/mwaskom/seaborn-data/master/iris.csv'\n",
        "df = pd.read_csv(url)\n",
        "\n",
        "mean_sepal_length = np.mean(df['sepal_length'])\n",
        "print(mean_sepal_length)"
      ],
      "metadata": {
        "colab": {
          "base_uri": "https://localhost:8080/"
        },
        "id": "Qvve6-C-NJ4h",
        "outputId": "77939d8e-d96f-4a2f-a72f-6172fafabc98"
      },
      "execution_count": 192,
      "outputs": [
        {
          "output_type": "stream",
          "name": "stdout",
          "text": [
            "5.843333333333334\n"
          ]
        }
      ]
    },
    {
      "cell_type": "markdown",
      "source": [
        "My own example 2:"
      ],
      "metadata": {
        "id": "qYZqwbb1H1cr"
      }
    },
    {
      "cell_type": "code",
      "source": [
        "url = 'https://jsonplaceholder.typicode.com/todos'\n",
        "df = pd.read_json(url)\n",
        "\n",
        "std_id = np.std(df['id'])\n",
        "print(std_id)"
      ],
      "metadata": {
        "colab": {
          "base_uri": "https://localhost:8080/"
        },
        "id": "MjHtmWxKNOfM",
        "outputId": "4499269b-d3db-4a33-f1f1-b59d63fcc473"
      },
      "execution_count": 193,
      "outputs": [
        {
          "output_type": "stream",
          "name": "stdout",
          "text": [
            "57.73430522661548\n"
          ]
        }
      ]
    },
    {
      "cell_type": "markdown",
      "source": [
        "My own example 3:"
      ],
      "metadata": {
        "id": "sIm_E0a7H1n2"
      }
    },
    {
      "cell_type": "code",
      "source": [
        "url = 'https://archive.ics.uci.edu/ml/machine-learning-databases/iris/iris.data'\n",
        "df = pd.read_csv(url, header=None, names=['sepal_length', 'sepal_width', 'petal_length', 'petal_width', 'class'])\n",
        "\n",
        "mean = np.mean(df.iloc[:, 0:4], axis=0)\n",
        "\n",
        "filtered = df[df['sepal_length'] > 5]\n",
        "\n",
        "df['sepal_area'] = np.multiply(df['sepal_length'], df['sepal_width'])\n",
        "\n",
        "sorted_df = df.sort_values(by='petal_length')\n",
        "\n",
        "sorted_df.head()"
      ],
      "metadata": {
        "colab": {
          "base_uri": "https://localhost:8080/",
          "height": 206
        },
        "id": "luUDRCwmNkf_",
        "outputId": "808b1cb9-eaf0-48cf-d686-bff7ce893e4f"
      },
      "execution_count": 194,
      "outputs": [
        {
          "output_type": "execute_result",
          "data": {
            "text/plain": [
              "    sepal_length  sepal_width  petal_length  petal_width        class  \\\n",
              "22           4.6          3.6           1.0          0.2  Iris-setosa   \n",
              "13           4.3          3.0           1.1          0.1  Iris-setosa   \n",
              "14           5.8          4.0           1.2          0.2  Iris-setosa   \n",
              "35           5.0          3.2           1.2          0.2  Iris-setosa   \n",
              "36           5.5          3.5           1.3          0.2  Iris-setosa   \n",
              "\n",
              "    sepal_area  \n",
              "22       16.56  \n",
              "13       12.90  \n",
              "14       23.20  \n",
              "35       16.00  \n",
              "36       19.25  "
            ],
            "text/html": [
              "\n",
              "  <div id=\"df-39a4e37a-7068-4184-9b90-12cf6dd639b8\">\n",
              "    <div class=\"colab-df-container\">\n",
              "      <div>\n",
              "<style scoped>\n",
              "    .dataframe tbody tr th:only-of-type {\n",
              "        vertical-align: middle;\n",
              "    }\n",
              "\n",
              "    .dataframe tbody tr th {\n",
              "        vertical-align: top;\n",
              "    }\n",
              "\n",
              "    .dataframe thead th {\n",
              "        text-align: right;\n",
              "    }\n",
              "</style>\n",
              "<table border=\"1\" class=\"dataframe\">\n",
              "  <thead>\n",
              "    <tr style=\"text-align: right;\">\n",
              "      <th></th>\n",
              "      <th>sepal_length</th>\n",
              "      <th>sepal_width</th>\n",
              "      <th>petal_length</th>\n",
              "      <th>petal_width</th>\n",
              "      <th>class</th>\n",
              "      <th>sepal_area</th>\n",
              "    </tr>\n",
              "  </thead>\n",
              "  <tbody>\n",
              "    <tr>\n",
              "      <th>22</th>\n",
              "      <td>4.6</td>\n",
              "      <td>3.6</td>\n",
              "      <td>1.0</td>\n",
              "      <td>0.2</td>\n",
              "      <td>Iris-setosa</td>\n",
              "      <td>16.56</td>\n",
              "    </tr>\n",
              "    <tr>\n",
              "      <th>13</th>\n",
              "      <td>4.3</td>\n",
              "      <td>3.0</td>\n",
              "      <td>1.1</td>\n",
              "      <td>0.1</td>\n",
              "      <td>Iris-setosa</td>\n",
              "      <td>12.90</td>\n",
              "    </tr>\n",
              "    <tr>\n",
              "      <th>14</th>\n",
              "      <td>5.8</td>\n",
              "      <td>4.0</td>\n",
              "      <td>1.2</td>\n",
              "      <td>0.2</td>\n",
              "      <td>Iris-setosa</td>\n",
              "      <td>23.20</td>\n",
              "    </tr>\n",
              "    <tr>\n",
              "      <th>35</th>\n",
              "      <td>5.0</td>\n",
              "      <td>3.2</td>\n",
              "      <td>1.2</td>\n",
              "      <td>0.2</td>\n",
              "      <td>Iris-setosa</td>\n",
              "      <td>16.00</td>\n",
              "    </tr>\n",
              "    <tr>\n",
              "      <th>36</th>\n",
              "      <td>5.5</td>\n",
              "      <td>3.5</td>\n",
              "      <td>1.3</td>\n",
              "      <td>0.2</td>\n",
              "      <td>Iris-setosa</td>\n",
              "      <td>19.25</td>\n",
              "    </tr>\n",
              "  </tbody>\n",
              "</table>\n",
              "</div>\n",
              "      <button class=\"colab-df-convert\" onclick=\"convertToInteractive('df-39a4e37a-7068-4184-9b90-12cf6dd639b8')\"\n",
              "              title=\"Convert this dataframe to an interactive table.\"\n",
              "              style=\"display:none;\">\n",
              "        \n",
              "  <svg xmlns=\"http://www.w3.org/2000/svg\" height=\"24px\"viewBox=\"0 0 24 24\"\n",
              "       width=\"24px\">\n",
              "    <path d=\"M0 0h24v24H0V0z\" fill=\"none\"/>\n",
              "    <path d=\"M18.56 5.44l.94 2.06.94-2.06 2.06-.94-2.06-.94-.94-2.06-.94 2.06-2.06.94zm-11 1L8.5 8.5l.94-2.06 2.06-.94-2.06-.94L8.5 2.5l-.94 2.06-2.06.94zm10 10l.94 2.06.94-2.06 2.06-.94-2.06-.94-.94-2.06-.94 2.06-2.06.94z\"/><path d=\"M17.41 7.96l-1.37-1.37c-.4-.4-.92-.59-1.43-.59-.52 0-1.04.2-1.43.59L10.3 9.45l-7.72 7.72c-.78.78-.78 2.05 0 2.83L4 21.41c.39.39.9.59 1.41.59.51 0 1.02-.2 1.41-.59l7.78-7.78 2.81-2.81c.8-.78.8-2.07 0-2.86zM5.41 20L4 18.59l7.72-7.72 1.47 1.35L5.41 20z\"/>\n",
              "  </svg>\n",
              "      </button>\n",
              "      \n",
              "  <style>\n",
              "    .colab-df-container {\n",
              "      display:flex;\n",
              "      flex-wrap:wrap;\n",
              "      gap: 12px;\n",
              "    }\n",
              "\n",
              "    .colab-df-convert {\n",
              "      background-color: #E8F0FE;\n",
              "      border: none;\n",
              "      border-radius: 50%;\n",
              "      cursor: pointer;\n",
              "      display: none;\n",
              "      fill: #1967D2;\n",
              "      height: 32px;\n",
              "      padding: 0 0 0 0;\n",
              "      width: 32px;\n",
              "    }\n",
              "\n",
              "    .colab-df-convert:hover {\n",
              "      background-color: #E2EBFA;\n",
              "      box-shadow: 0px 1px 2px rgba(60, 64, 67, 0.3), 0px 1px 3px 1px rgba(60, 64, 67, 0.15);\n",
              "      fill: #174EA6;\n",
              "    }\n",
              "\n",
              "    [theme=dark] .colab-df-convert {\n",
              "      background-color: #3B4455;\n",
              "      fill: #D2E3FC;\n",
              "    }\n",
              "\n",
              "    [theme=dark] .colab-df-convert:hover {\n",
              "      background-color: #434B5C;\n",
              "      box-shadow: 0px 1px 3px 1px rgba(0, 0, 0, 0.15);\n",
              "      filter: drop-shadow(0px 1px 2px rgba(0, 0, 0, 0.3));\n",
              "      fill: #FFFFFF;\n",
              "    }\n",
              "  </style>\n",
              "\n",
              "      <script>\n",
              "        const buttonEl =\n",
              "          document.querySelector('#df-39a4e37a-7068-4184-9b90-12cf6dd639b8 button.colab-df-convert');\n",
              "        buttonEl.style.display =\n",
              "          google.colab.kernel.accessAllowed ? 'block' : 'none';\n",
              "\n",
              "        async function convertToInteractive(key) {\n",
              "          const element = document.querySelector('#df-39a4e37a-7068-4184-9b90-12cf6dd639b8');\n",
              "          const dataTable =\n",
              "            await google.colab.kernel.invokeFunction('convertToInteractive',\n",
              "                                                     [key], {});\n",
              "          if (!dataTable) return;\n",
              "\n",
              "          const docLinkHtml = 'Like what you see? Visit the ' +\n",
              "            '<a target=\"_blank\" href=https://colab.research.google.com/notebooks/data_table.ipynb>data table notebook</a>'\n",
              "            + ' to learn more about interactive tables.';\n",
              "          element.innerHTML = '';\n",
              "          dataTable['output_type'] = 'display_data';\n",
              "          await google.colab.output.renderOutput(dataTable, element);\n",
              "          const docLink = document.createElement('div');\n",
              "          docLink.innerHTML = docLinkHtml;\n",
              "          element.appendChild(docLink);\n",
              "        }\n",
              "      </script>\n",
              "    </div>\n",
              "  </div>\n",
              "  "
            ]
          },
          "metadata": {},
          "execution_count": 194
        }
      ]
    },
    {
      "cell_type": "markdown",
      "source": [
        "My own example 4:"
      ],
      "metadata": {
        "id": "NZPk76Wbvuxi"
      }
    },
    {
      "cell_type": "code",
      "source": [],
      "metadata": {
        "id": "c0WmsKnxvrkx"
      },
      "execution_count": 195,
      "outputs": []
    },
    {
      "cell_type": "markdown",
      "source": [
        "My own example 5:"
      ],
      "metadata": {
        "id": "hR-IB9WSH1zD"
      }
    },
    {
      "cell_type": "code",
      "source": [
        "import matplotlib.pyplot as plt\n",
        "\n",
        "url = 'https://jsonplaceholder.typicode.com/posts'\n",
        "df = pd.read_json(url)\n",
        "\n",
        "x = df['id']\n",
        "y = df['userId']\n",
        "coefficients = np.polyfit(x, y, 1)\n",
        "p = np.poly1d(coefficients)\n",
        "\n",
        "plt.scatter(x, y)\n",
        "plt.plot(x, p(x), color='red')\n",
        "plt.show()"
      ],
      "metadata": {
        "colab": {
          "base_uri": "https://localhost:8080/",
          "height": 265
        },
        "id": "ujQXhSR1H2D1",
        "outputId": "f14aef18-fc46-453d-e233-bdb65cd3df9e"
      },
      "execution_count": 216,
      "outputs": [
        {
          "output_type": "display_data",
          "data": {
            "text/plain": [
              "<Figure size 432x288 with 1 Axes>"
            ],
            "image/png": "[encoded data removed]"
          },
          "metadata": {
            "needs_background": "light"
          }
        }
      ]
    },
    {
      "cell_type": "markdown",
      "source": [
        "My own example 6:"
      ],
      "metadata": {
        "id": "uFXMwKCvH1-X"
      }
    },
    {
      "cell_type": "code",
      "source": [
        "dates = pd.date_range('20220101', periods=6)\n",
        "\n",
        "df = pd.DataFrame({'data': [11, 22, 33, 44, 55, 66]}, index=dates)\n",
        "\n",
        "print(df)"
      ],
      "metadata": {
        "colab": {
          "base_uri": "https://localhost:8080/"
        },
        "id": "qcrwS3QrNlaz",
        "outputId": "f0c13af8-9819-4382-8a3e-a337221f4344"
      },
      "execution_count": 197,
      "outputs": [
        {
          "output_type": "stream",
          "name": "stdout",
          "text": [
            "            data\n",
            "2022-01-01    11\n",
            "2022-01-02    22\n",
            "2022-01-03    33\n",
            "2022-01-04    44\n",
            "2022-01-05    55\n",
            "2022-01-06    66\n"
          ]
        }
      ]
    },
    {
      "cell_type": "markdown",
      "source": [
        "My own example 7:"
      ],
      "metadata": {
        "id": "E4lh0OBsH2Iq"
      }
    },
    {
      "cell_type": "code",
      "source": [
        "df = pd.DataFrame({'fecha': ['2022-02-23', '2022-02-24', '2022-02-25'],\n",
        "                   'valor': [10, 20, 30]})\n",
        "\n",
        "print('Dataframe original:')\n",
        "df.head()"
      ],
      "metadata": {
        "colab": {
          "base_uri": "https://localhost:8080/",
          "height": 161
        },
        "id": "4t4M5ME9II63",
        "outputId": "c988e407-1cbc-4009-bcbb-2e2f770850f6"
      },
      "execution_count": 198,
      "outputs": [
        {
          "output_type": "stream",
          "name": "stdout",
          "text": [
            "Dataframe original:\n"
          ]
        },
        {
          "output_type": "execute_result",
          "data": {
            "text/plain": [
              "        fecha  valor\n",
              "0  2022-02-23     10\n",
              "1  2022-02-24     20\n",
              "2  2022-02-25     30"
            ],
            "text/html": [
              "\n",
              "  <div id=\"df-f90241d2-f719-4c33-a5ef-859784f3d613\">\n",
              "    <div class=\"colab-df-container\">\n",
              "      <div>\n",
              "<style scoped>\n",
              "    .dataframe tbody tr th:only-of-type {\n",
              "        vertical-align: middle;\n",
              "    }\n",
              "\n",
              "    .dataframe tbody tr th {\n",
              "        vertical-align: top;\n",
              "    }\n",
              "\n",
              "    .dataframe thead th {\n",
              "        text-align: right;\n",
              "    }\n",
              "</style>\n",
              "<table border=\"1\" class=\"dataframe\">\n",
              "  <thead>\n",
              "    <tr style=\"text-align: right;\">\n",
              "      <th></th>\n",
              "      <th>fecha</th>\n",
              "      <th>valor</th>\n",
              "    </tr>\n",
              "  </thead>\n",
              "  <tbody>\n",
              "    <tr>\n",
              "      <th>0</th>\n",
              "      <td>2022-02-23</td>\n",
              "      <td>10</td>\n",
              "    </tr>\n",
              "    <tr>\n",
              "      <th>1</th>\n",
              "      <td>2022-02-24</td>\n",
              "      <td>20</td>\n",
              "    </tr>\n",
              "    <tr>\n",
              "      <th>2</th>\n",
              "      <td>2022-02-25</td>\n",
              "      <td>30</td>\n",
              "    </tr>\n",
              "  </tbody>\n",
              "</table>\n",
              "</div>\n",
              "      <button class=\"colab-df-convert\" onclick=\"convertToInteractive('df-f90241d2-f719-4c33-a5ef-859784f3d613')\"\n",
              "              title=\"Convert this dataframe to an interactive table.\"\n",
              "              style=\"display:none;\">\n",
              "        \n",
              "  <svg xmlns=\"http://www.w3.org/2000/svg\" height=\"24px\"viewBox=\"0 0 24 24\"\n",
              "       width=\"24px\">\n",
              "    <path d=\"M0 0h24v24H0V0z\" fill=\"none\"/>\n",
              "    <path d=\"M18.56 5.44l.94 2.06.94-2.06 2.06-.94-2.06-.94-.94-2.06-.94 2.06-2.06.94zm-11 1L8.5 8.5l.94-2.06 2.06-.94-2.06-.94L8.5 2.5l-.94 2.06-2.06.94zm10 10l.94 2.06.94-2.06 2.06-.94-2.06-.94-.94-2.06-.94 2.06-2.06.94z\"/><path d=\"M17.41 7.96l-1.37-1.37c-.4-.4-.92-.59-1.43-.59-.52 0-1.04.2-1.43.59L10.3 9.45l-7.72 7.72c-.78.78-.78 2.05 0 2.83L4 21.41c.39.39.9.59 1.41.59.51 0 1.02-.2 1.41-.59l7.78-7.78 2.81-2.81c.8-.78.8-2.07 0-2.86zM5.41 20L4 18.59l7.72-7.72 1.47 1.35L5.41 20z\"/>\n",
              "  </svg>\n",
              "      </button>\n",
              "      \n",
              "  <style>\n",
              "    .colab-df-container {\n",
              "      display:flex;\n",
              "      flex-wrap:wrap;\n",
              "      gap: 12px;\n",
              "    }\n",
              "\n",
              "    .colab-df-convert {\n",
              "      background-color: #E8F0FE;\n",
              "      border: none;\n",
              "      border-radius: 50%;\n",
              "      cursor: pointer;\n",
              "      display: none;\n",
              "      fill: #1967D2;\n",
              "      height: 32px;\n",
              "      padding: 0 0 0 0;\n",
              "      width: 32px;\n",
              "    }\n",
              "\n",
              "    .colab-df-convert:hover {\n",
              "      background-color: #E2EBFA;\n",
              "      box-shadow: 0px 1px 2px rgba(60, 64, 67, 0.3), 0px 1px 3px 1px rgba(60, 64, 67, 0.15);\n",
              "      fill: #174EA6;\n",
              "    }\n",
              "\n",
              "    [theme=dark] .colab-df-convert {\n",
              "      background-color: #3B4455;\n",
              "      fill: #D2E3FC;\n",
              "    }\n",
              "\n",
              "    [theme=dark] .colab-df-convert:hover {\n",
              "      background-color: #434B5C;\n",
              "      box-shadow: 0px 1px 3px 1px rgba(0, 0, 0, 0.15);\n",
              "      filter: drop-shadow(0px 1px 2px rgba(0, 0, 0, 0.3));\n",
              "      fill: #FFFFFF;\n",
              "    }\n",
              "  </style>\n",
              "\n",
              "      <script>\n",
              "        const buttonEl =\n",
              "          document.querySelector('#df-f90241d2-f719-4c33-a5ef-859784f3d613 button.colab-df-convert');\n",
              "        buttonEl.style.display =\n",
              "          google.colab.kernel.accessAllowed ? 'block' : 'none';\n",
              "\n",
              "        async function convertToInteractive(key) {\n",
              "          const element = document.querySelector('#df-f90241d2-f719-4c33-a5ef-859784f3d613');\n",
              "          const dataTable =\n",
              "            await google.colab.kernel.invokeFunction('convertToInteractive',\n",
              "                                                     [key], {});\n",
              "          if (!dataTable) return;\n",
              "\n",
              "          const docLinkHtml = 'Like what you see? Visit the ' +\n",
              "            '<a target=\"_blank\" href=https://colab.research.google.com/notebooks/data_table.ipynb>data table notebook</a>'\n",
              "            + ' to learn more about interactive tables.';\n",
              "          element.innerHTML = '';\n",
              "          dataTable['output_type'] = 'display_data';\n",
              "          await google.colab.output.renderOutput(dataTable, element);\n",
              "          const docLink = document.createElement('div');\n",
              "          docLink.innerHTML = docLinkHtml;\n",
              "          element.appendChild(docLink);\n",
              "        }\n",
              "      </script>\n",
              "    </div>\n",
              "  </div>\n",
              "  "
            ]
          },
          "metadata": {},
          "execution_count": 198
        }
      ]
    },
    {
      "cell_type": "markdown",
      "source": [
        "My own example 8:"
      ],
      "metadata": {
        "id": "wjGDt7KIvaPm"
      }
    },
    {
      "cell_type": "code",
      "source": [
        "df['fecha'] = pd.to_datetime(df['fecha'])\n",
        "\n",
        "df['anio'] = df['fecha'].dt.year\n",
        "df['mes'] = df['fecha'].dt.month\n",
        "df['dia'] = df['fecha'].dt.day\n",
        "\n",
        "print('Dataframe with dd-mm--yy:')\n",
        "df.head()"
      ],
      "metadata": {
        "colab": {
          "base_uri": "https://localhost:8080/",
          "height": 161
        },
        "id": "4oCWQYZoP5lb",
        "outputId": "65a2d4dd-414e-4331-df65-a6f2f6fe75e4"
      },
      "execution_count": 199,
      "outputs": [
        {
          "output_type": "stream",
          "name": "stdout",
          "text": [
            "Dataframe with dd-mm--yy:\n"
          ]
        },
        {
          "output_type": "execute_result",
          "data": {
            "text/plain": [
              "       fecha  valor  anio  mes  dia\n",
              "0 2022-02-23     10  2022    2   23\n",
              "1 2022-02-24     20  2022    2   24\n",
              "2 2022-02-25     30  2022    2   25"
            ],
            "text/html": [
              "\n",
              "  <div id=\"df-71f7aa20-d6c6-4eef-8eba-4cd8439f5d66\">\n",
              "    <div class=\"colab-df-container\">\n",
              "      <div>\n",
              "<style scoped>\n",
              "    .dataframe tbody tr th:only-of-type {\n",
              "        vertical-align: middle;\n",
              "    }\n",
              "\n",
              "    .dataframe tbody tr th {\n",
              "        vertical-align: top;\n",
              "    }\n",
              "\n",
              "    .dataframe thead th {\n",
              "        text-align: right;\n",
              "    }\n",
              "</style>\n",
              "<table border=\"1\" class=\"dataframe\">\n",
              "  <thead>\n",
              "    <tr style=\"text-align: right;\">\n",
              "      <th></th>\n",
              "      <th>fecha</th>\n",
              "      <th>valor</th>\n",
              "      <th>anio</th>\n",
              "      <th>mes</th>\n",
              "      <th>dia</th>\n",
              "    </tr>\n",
              "  </thead>\n",
              "  <tbody>\n",
              "    <tr>\n",
              "      <th>0</th>\n",
              "      <td>2022-02-23</td>\n",
              "      <td>10</td>\n",
              "      <td>2022</td>\n",
              "      <td>2</td>\n",
              "      <td>23</td>\n",
              "    </tr>\n",
              "    <tr>\n",
              "      <th>1</th>\n",
              "      <td>2022-02-24</td>\n",
              "      <td>20</td>\n",
              "      <td>2022</td>\n",
              "      <td>2</td>\n",
              "      <td>24</td>\n",
              "    </tr>\n",
              "    <tr>\n",
              "      <th>2</th>\n",
              "      <td>2022-02-25</td>\n",
              "      <td>30</td>\n",
              "      <td>2022</td>\n",
              "      <td>2</td>\n",
              "      <td>25</td>\n",
              "    </tr>\n",
              "  </tbody>\n",
              "</table>\n",
              "</div>\n",
              "      <button class=\"colab-df-convert\" onclick=\"convertToInteractive('df-71f7aa20-d6c6-4eef-8eba-4cd8439f5d66')\"\n",
              "              title=\"Convert this dataframe to an interactive table.\"\n",
              "              style=\"display:none;\">\n",
              "        \n",
              "  <svg xmlns=\"http://www.w3.org/2000/svg\" height=\"24px\"viewBox=\"0 0 24 24\"\n",
              "       width=\"24px\">\n",
              "    <path d=\"M0 0h24v24H0V0z\" fill=\"none\"/>\n",
              "    <path d=\"M18.56 5.44l.94 2.06.94-2.06 2.06-.94-2.06-.94-.94-2.06-.94 2.06-2.06.94zm-11 1L8.5 8.5l.94-2.06 2.06-.94-2.06-.94L8.5 2.5l-.94 2.06-2.06.94zm10 10l.94 2.06.94-2.06 2.06-.94-2.06-.94-.94-2.06-.94 2.06-2.06.94z\"/><path d=\"M17.41 7.96l-1.37-1.37c-.4-.4-.92-.59-1.43-.59-.52 0-1.04.2-1.43.59L10.3 9.45l-7.72 7.72c-.78.78-.78 2.05 0 2.83L4 21.41c.39.39.9.59 1.41.59.51 0 1.02-.2 1.41-.59l7.78-7.78 2.81-2.81c.8-.78.8-2.07 0-2.86zM5.41 20L4 18.59l7.72-7.72 1.47 1.35L5.41 20z\"/>\n",
              "  </svg>\n",
              "      </button>\n",
              "      \n",
              "  <style>\n",
              "    .colab-df-container {\n",
              "      display:flex;\n",
              "      flex-wrap:wrap;\n",
              "      gap: 12px;\n",
              "    }\n",
              "\n",
              "    .colab-df-convert {\n",
              "      background-color: #E8F0FE;\n",
              "      border: none;\n",
              "      border-radius: 50%;\n",
              "      cursor: pointer;\n",
              "      display: none;\n",
              "      fill: #1967D2;\n",
              "      height: 32px;\n",
              "      padding: 0 0 0 0;\n",
              "      width: 32px;\n",
              "    }\n",
              "\n",
              "    .colab-df-convert:hover {\n",
              "      background-color: #E2EBFA;\n",
              "      box-shadow: 0px 1px 2px rgba(60, 64, 67, 0.3), 0px 1px 3px 1px rgba(60, 64, 67, 0.15);\n",
              "      fill: #174EA6;\n",
              "    }\n",
              "\n",
              "    [theme=dark] .colab-df-convert {\n",
              "      background-color: #3B4455;\n",
              "      fill: #D2E3FC;\n",
              "    }\n",
              "\n",
              "    [theme=dark] .colab-df-convert:hover {\n",
              "      background-color: #434B5C;\n",
              "      box-shadow: 0px 1px 3px 1px rgba(0, 0, 0, 0.15);\n",
              "      filter: drop-shadow(0px 1px 2px rgba(0, 0, 0, 0.3));\n",
              "      fill: #FFFFFF;\n",
              "    }\n",
              "  </style>\n",
              "\n",
              "      <script>\n",
              "        const buttonEl =\n",
              "          document.querySelector('#df-71f7aa20-d6c6-4eef-8eba-4cd8439f5d66 button.colab-df-convert');\n",
              "        buttonEl.style.display =\n",
              "          google.colab.kernel.accessAllowed ? 'block' : 'none';\n",
              "\n",
              "        async function convertToInteractive(key) {\n",
              "          const element = document.querySelector('#df-71f7aa20-d6c6-4eef-8eba-4cd8439f5d66');\n",
              "          const dataTable =\n",
              "            await google.colab.kernel.invokeFunction('convertToInteractive',\n",
              "                                                     [key], {});\n",
              "          if (!dataTable) return;\n",
              "\n",
              "          const docLinkHtml = 'Like what you see? Visit the ' +\n",
              "            '<a target=\"_blank\" href=https://colab.research.google.com/notebooks/data_table.ipynb>data table notebook</a>'\n",
              "            + ' to learn more about interactive tables.';\n",
              "          element.innerHTML = '';\n",
              "          dataTable['output_type'] = 'display_data';\n",
              "          await google.colab.output.renderOutput(dataTable, element);\n",
              "          const docLink = document.createElement('div');\n",
              "          docLink.innerHTML = docLinkHtml;\n",
              "          element.appendChild(docLink);\n",
              "        }\n",
              "      </script>\n",
              "    </div>\n",
              "  </div>\n",
              "  "
            ]
          },
          "metadata": {},
          "execution_count": 199
        }
      ]
    },
    {
      "cell_type": "markdown",
      "source": [
        "My own example 9:"
      ],
      "metadata": {
        "id": "NfhQJoGqvj-S"
      }
    },
    {
      "cell_type": "code",
      "source": [
        "A = np.array([[1, 2], [3, 4]])\n",
        "\n",
        "B = np.array([[5], [6]])\n",
        "\n",
        "# Use the dot product to calculate the matrix product of A and B\n",
        "C = np.dot(A, B)\n",
        "\n",
        "print(C)"
      ],
      "metadata": {
        "colab": {
          "base_uri": "https://localhost:8080/"
        },
        "outputId": "caaca139-1ae2-4d55-d17d-8fc6c6eb6923",
        "id": "SxeoCg0evj-S"
      },
      "execution_count": 200,
      "outputs": [
        {
          "output_type": "stream",
          "name": "stdout",
          "text": [
            "[[17]\n",
            " [39]]\n"
          ]
        }
      ]
    },
    {
      "cell_type": "markdown",
      "source": [
        "My own example 10:"
      ],
      "metadata": {
        "id": "7oh2Lrngvj-T"
      }
    },
    {
      "cell_type": "code",
      "source": [
        "A = np.array([[1, 2, 3], [1, 5, 6], [7, 8, 9]])\n",
        "\n",
        "A_inv = np.linalg.inv(A)\n",
        "\n",
        "I = np.eye(3)\n",
        "\n",
        "A_Ainv = np.matmul(A, A_inv)\n",
        "\n",
        "assert np.allclose(A_Ainv, I)"
      ],
      "metadata": {
        "id": "AyXNfuMkvj-T"
      },
      "execution_count": 201,
      "outputs": []
    },
    {
      "cell_type": "markdown",
      "metadata": {
        "id": "L-94pHcivj-T"
      },
      "source": [
        "My own example 11:"
      ]
    },
    {
      "cell_type": "code",
      "execution_count": 202,
      "metadata": {
        "colab": {
          "base_uri": "https://localhost:8080/"
        },
        "outputId": "1202ec29-99ed-4953-bc6a-279f8f8d9b02",
        "id": "Th9XUxg1vj-T"
      },
      "outputs": [
        {
          "output_type": "stream",
          "name": "stdout",
          "text": [
            "1\n",
            "3\n",
            "5\n",
            "7\n",
            "9\n"
          ]
        }
      ],
      "source": [
        "i = 0\n",
        "\n",
        "while i < len(numbers):\n",
        "    # If the current number is even, skip it\n",
        "    if numbers[i] % 2 == 0:\n",
        "        i += 1\n",
        "        continue\n",
        "    print(numbers[i])\n",
        "    i += 1"
      ]
    },
    {
      "cell_type": "markdown",
      "metadata": {
        "id": "OK4J6awLvj-U"
      },
      "source": [
        "My own example 12:"
      ]
    },
    {
      "cell_type": "code",
      "execution_count": 203,
      "metadata": {
        "colab": {
          "base_uri": "https://localhost:8080/"
        },
        "outputId": "61c13639-5dab-4e49-f87b-431965e5b8e1",
        "id": "mUxBh8Devj-U"
      },
      "outputs": [
        {
          "output_type": "execute_result",
          "data": {
            "text/plain": [
              "{2, 3, 5, 7, 11, 13, 17, 19, 23, 29, 31}"
            ]
          },
          "metadata": {},
          "execution_count": 203
        }
      ],
      "source": [
        "prime_numbers = {2, 3, 5, 7, 11, 13, 17, 19, 23, 29, 31}\n",
        "prime_numbers.difference(evens)"
      ]
    },
    {
      "cell_type": "markdown",
      "metadata": {
        "id": "OSGvahBivj-U"
      },
      "source": [
        "My own example 13:"
      ]
    },
    {
      "cell_type": "code",
      "execution_count": 204,
      "metadata": {
        "colab": {
          "base_uri": "https://localhost:8080/"
        },
        "outputId": "1003cabd-54e3-462e-a653-1d4fad6b80fc",
        "id": "X9ePnzsvvj-U"
      },
      "outputs": [
        {
          "output_type": "stream",
          "name": "stdout",
          "text": [
            "John: 90\n",
            "Alice: 85\n",
            "Bob: 70\n"
          ]
        }
      ],
      "source": [
        "students = {\"John\": 90, \"Alice\": 85, \"Bob\": 70}\n",
        "\n",
        "for k,v in students.items():\n",
        "  print(k + \": \" + str(v))"
      ]
    },
    {
      "cell_type": "markdown",
      "metadata": {
        "id": "gLZEV4_Bvj-U"
      },
      "source": [
        "My own example 14:"
      ]
    },
    {
      "cell_type": "code",
      "execution_count": 205,
      "metadata": {
        "colab": {
          "base_uri": "https://localhost:8080/"
        },
        "outputId": "2b9798a2-aeeb-4840-c33e-96dd526c910b",
        "id": "sdZNWkxkvj-U"
      },
      "outputs": [
        {
          "output_type": "stream",
          "name": "stdout",
          "text": [
            "1\n",
            "2\n",
            "3\n",
            "4\n",
            "5\n"
          ]
        }
      ],
      "source": [
        "numbers = [1, 2, 3, 4, 5, 6, 7, 8, 9, 10]\n",
        "\n",
        "for num in numbers:\n",
        "    # Break out of the loop if we reach a number greater than 5\n",
        "    if num > 5:\n",
        "        break\n",
        "    print(num)"
      ]
    },
    {
      "cell_type": "markdown",
      "metadata": {
        "id": "lFP1WpbYvj-U"
      },
      "source": [
        "My own example 15:"
      ]
    },
    {
      "cell_type": "code",
      "execution_count": 206,
      "metadata": {
        "colab": {
          "base_uri": "https://localhost:8080/"
        },
        "outputId": "6d554f6c-50f6-46a8-a011-e0d79ac0a3b4",
        "id": "pk0cPOWavj-V"
      },
      "outputs": [
        {
          "output_type": "stream",
          "name": "stdout",
          "text": [
            "1\n",
            "3\n",
            "5\n",
            "7\n",
            "9\n"
          ]
        }
      ],
      "source": [
        "i = 0\n",
        "\n",
        "while i < len(numbers):\n",
        "    # If the current number is even, skip it\n",
        "    if numbers[i] % 2 == 0:\n",
        "        i += 1\n",
        "        continue\n",
        "    print(numbers[i])\n",
        "    i += 1"
      ]
    },
    {
      "cell_type": "markdown",
      "source": [
        "My own example 16:"
      ],
      "metadata": {
        "id": "LtHylDY7vj-V"
      }
    },
    {
      "cell_type": "code",
      "source": [
        "grades = {'Alice': 85, 'Bob': 92, 'Charlie': 78, 'David': 80}\n",
        "\n",
        "for name, grade in grades.items():\n",
        "    # If the grade is below 80, break out of the loop\n",
        "    if grade < 80:\n",
        "        print(name + ' has a failing grade')\n",
        "        break\n",
        "    print(name + ' has a passing grade')"
      ],
      "metadata": {
        "colab": {
          "base_uri": "https://localhost:8080/"
        },
        "outputId": "1a985923-91d6-462a-ba92-a68f74fc1b5d",
        "id": "QiHVCwVuvj-V"
      },
      "execution_count": 207,
      "outputs": [
        {
          "output_type": "stream",
          "name": "stdout",
          "text": [
            "Alice has a passing grade\n",
            "Bob has a passing grade\n",
            "Charlie has a failing grade\n"
          ]
        }
      ]
    },
    {
      "cell_type": "markdown",
      "metadata": {
        "id": "NMGVZhdNvj-V"
      },
      "source": [
        "My own example 17:"
      ]
    },
    {
      "cell_type": "code",
      "execution_count": 208,
      "metadata": {
        "colab": {
          "base_uri": "https://localhost:8080/",
          "height": 35
        },
        "outputId": "e37a1cb4-57a0-4ec9-c177-a158fee57480",
        "id": "Tab-uJe7vj-V"
      },
      "outputs": [
        {
          "output_type": "execute_result",
          "data": {
            "text/plain": [
              "'blue'"
            ],
            "application/vnd.google.colaboratory.intrinsic+json": {
              "type": "string"
            }
          },
          "metadata": {},
          "execution_count": 208
        }
      ],
      "source": [
        "colors = (\"red\", \"green\", \"blue\")\n",
        "colors[2]"
      ]
    },
    {
      "cell_type": "markdown",
      "metadata": {
        "id": "yBMePUosvj-V"
      },
      "source": [
        "My own example 18:"
      ]
    },
    {
      "cell_type": "code",
      "execution_count": 209,
      "metadata": {
        "colab": {
          "base_uri": "https://localhost:8080/"
        },
        "outputId": "2169a98f-e116-45d2-c40b-83f4ffc22fc5",
        "id": "DjKR1tPBvj-V"
      },
      "outputs": [
        {
          "output_type": "execute_result",
          "data": {
            "text/plain": [
              "{2, 3, 5, 7, 11, 13, 17, 19, 23, 29, 31}"
            ]
          },
          "metadata": {},
          "execution_count": 209
        }
      ],
      "source": [
        "prime_numbers = {2, 3, 5, 7, 11, 13, 17, 19, 23, 29, 31}\n",
        "prime_numbers.difference(evens)"
      ]
    },
    {
      "cell_type": "markdown",
      "metadata": {
        "id": "AzwQrT8Vvj-V"
      },
      "source": [
        "My own example 19:"
      ]
    },
    {
      "cell_type": "code",
      "execution_count": 210,
      "metadata": {
        "colab": {
          "base_uri": "https://localhost:8080/"
        },
        "outputId": "b0e1d572-a6f1-42f9-bf56-07a3d1547595",
        "id": "iEP02uwHvj-W"
      },
      "outputs": [
        {
          "output_type": "stream",
          "name": "stdout",
          "text": [
            "John: 90\n",
            "Alice: 85\n",
            "Bob: 70\n"
          ]
        }
      ],
      "source": [
        "students = {\"John\": 90, \"Alice\": 85, \"Bob\": 70}\n",
        "\n",
        "for k,v in students.items():\n",
        "  print(k + \": \" + str(v))"
      ]
    },
    {
      "cell_type": "markdown",
      "metadata": {
        "id": "FHrFMmllvj-W"
      },
      "source": [
        "My own example 20:"
      ]
    },
    {
      "cell_type": "code",
      "execution_count": 211,
      "metadata": {
        "colab": {
          "base_uri": "https://localhost:8080/"
        },
        "outputId": "036db86b-32e5-4d56-bdc5-d00a2fbb125b",
        "id": "nD8SiiH2vj-W"
      },
      "outputs": [
        {
          "output_type": "stream",
          "name": "stdout",
          "text": [
            "1\n",
            "2\n",
            "3\n",
            "4\n",
            "5\n"
          ]
        }
      ],
      "source": [
        "numbers = [1, 2, 3, 4, 5, 6, 7, 8, 9, 10]\n",
        "\n",
        "for num in numbers:\n",
        "    # Break out of the loop if we reach a number greater than 5\n",
        "    if num > 5:\n",
        "        break\n",
        "    print(num)"
      ]
    },
    {
      "cell_type": "markdown",
      "source": [
        "## Pandas-Resampling and DataFrame"
      ],
      "metadata": {
        "id": "xxTzW8nlQhUt"
      }
    },
    {
      "cell_type": "markdown",
      "source": [
        "My own example 1:"
      ],
      "metadata": {
        "id": "mzzFHONEvyr-"
      }
    },
    {
      "cell_type": "code",
      "source": [
        "!pip install yfinance"
      ],
      "metadata": {
        "colab": {
          "base_uri": "https://localhost:8080/",
          "height": 971
        },
        "id": "48aQm82TQx4E",
        "outputId": "f71da8a8-351c-429f-8586-5204dc47e794"
      },
      "execution_count": 212,
      "outputs": [
        {
          "output_type": "stream",
          "name": "stdout",
          "text": [
            "Looking in indexes: https://pypi.org/simple, https://us-python.pkg.dev/colab-wheels/public/simple/\n",
            "Collecting yfinance\n",
            "  Downloading yfinance-0.2.12-py2.py3-none-any.whl (59 kB)\n",
            "\u001b[2K     \u001b[90m━━━━━━━━━━━━━━━━━━━━━━━━━━━━━━━━━━━━━━━━\u001b[0m \u001b[32m59.2/59.2 KB\u001b[0m \u001b[31m3.7 MB/s\u001b[0m eta \u001b[36m0:00:00\u001b[0m\n",
            "\u001b[?25hCollecting beautifulsoup4>=4.11.1\n",
            "  Downloading beautifulsoup4-4.11.2-py3-none-any.whl (129 kB)\n",
            "\u001b[2K     \u001b[90m━━━━━━━━━━━━━━━━━━━━━━━━━━━━━━━━━━━━━━\u001b[0m \u001b[32m129.4/129.4 KB\u001b[0m \u001b[31m10.0 MB/s\u001b[0m eta \u001b[36m0:00:00\u001b[0m\n",
            "\u001b[?25hRequirement already satisfied: numpy>=1.16.5 in /usr/local/lib/python3.8/dist-packages (from yfinance) (1.21.6)\n",
            "Collecting html5lib>=1.1\n",
            "  Downloading html5lib-1.1-py2.py3-none-any.whl (112 kB)\n",
            "\u001b[2K     \u001b[90m━━━━━━━━━━━━━━━━━━━━━━━━━━━━━━━━━━━━━━━\u001b[0m \u001b[32m112.2/112.2 KB\u001b[0m \u001b[31m6.7 MB/s\u001b[0m eta \u001b[36m0:00:00\u001b[0m\n",
            "\u001b[?25hCollecting cryptography>=3.3.2\n",
            "  Downloading cryptography-39.0.1-cp36-abi3-manylinux_2_28_x86_64.whl (4.2 MB)\n",
            "\u001b[2K     \u001b[90m━━━━━━━━━━━━━━━━━━━━━━━━━━━━━━━━━━━━━━━━\u001b[0m \u001b[32m4.2/4.2 MB\u001b[0m \u001b[31m45.0 MB/s\u001b[0m eta \u001b[36m0:00:00\u001b[0m\n",
            "\u001b[?25hRequirement already satisfied: pandas>=1.3.0 in /usr/local/lib/python3.8/dist-packages (from yfinance) (1.3.5)\n",
            "Collecting requests>=2.26\n",
            "  Downloading requests-2.28.2-py3-none-any.whl (62 kB)\n",
            "\u001b[2K     \u001b[90m━━━━━━━━━━━━━━━━━━━━━━━━━━━━━━━━━━━━━━━━\u001b[0m \u001b[32m62.8/62.8 KB\u001b[0m \u001b[31m7.0 MB/s\u001b[0m eta \u001b[36m0:00:00\u001b[0m\n",
            "\u001b[?25hRequirement already satisfied: pytz>=2022.5 in /usr/local/lib/python3.8/dist-packages (from yfinance) (2022.7.1)\n",
            "Collecting frozendict>=2.3.4\n",
            "  Downloading frozendict-2.3.5-cp38-cp38-manylinux_2_17_x86_64.manylinux2014_x86_64.whl (111 kB)\n",
            "\u001b[2K     \u001b[90m━━━━━━━━━━━━━━━━━━━━━━━━━━━━━━━━━━━━━━\u001b[0m \u001b[32m111.2/111.2 KB\u001b[0m \u001b[31m13.8 MB/s\u001b[0m eta \u001b[36m0:00:00\u001b[0m\n",
            "\u001b[?25hRequirement already satisfied: multitasking>=0.0.7 in /usr/local/lib/python3.8/dist-packages (from yfinance) (0.0.11)\n",
            "Requirement already satisfied: lxml>=4.9.1 in /usr/local/lib/python3.8/dist-packages (from yfinance) (4.9.2)\n",
            "Requirement already satisfied: appdirs>=1.4.4 in /usr/local/lib/python3.8/dist-packages (from yfinance) (1.4.4)\n",
            "Collecting soupsieve>1.2\n",
            "  Downloading soupsieve-2.4-py3-none-any.whl (37 kB)\n",
            "Requirement already satisfied: cffi>=1.12 in /usr/local/lib/python3.8/dist-packages (from cryptography>=3.3.2->yfinance) (1.15.1)\n",
            "Requirement already satisfied: six>=1.9 in /usr/local/lib/python3.8/dist-packages (from html5lib>=1.1->yfinance) (1.15.0)\n",
            "Requirement already satisfied: webencodings in /usr/local/lib/python3.8/dist-packages (from html5lib>=1.1->yfinance) (0.5.1)\n",
            "Requirement already satisfied: python-dateutil>=2.7.3 in /usr/local/lib/python3.8/dist-packages (from pandas>=1.3.0->yfinance) (2.8.2)\n",
            "Requirement already satisfied: charset-normalizer<4,>=2 in /usr/local/lib/python3.8/dist-packages (from requests>=2.26->yfinance) (3.0.1)\n",
            "Requirement already satisfied: idna<4,>=2.5 in /usr/local/lib/python3.8/dist-packages (from requests>=2.26->yfinance) (2.10)\n",
            "Requirement already satisfied: certifi>=2017.4.17 in /usr/local/lib/python3.8/dist-packages (from requests>=2.26->yfinance) (2022.12.7)\n",
            "Requirement already satisfied: urllib3<1.27,>=1.21.1 in /usr/local/lib/python3.8/dist-packages (from requests>=2.26->yfinance) (1.24.3)\n",
            "Requirement already satisfied: pycparser in /usr/local/lib/python3.8/dist-packages (from cffi>=1.12->cryptography>=3.3.2->yfinance) (2.21)\n",
            "Installing collected packages: soupsieve, requests, html5lib, frozendict, cryptography, beautifulsoup4, yfinance\n",
            "  Attempting uninstall: requests\n",
            "    Found existing installation: requests 2.25.1\n",
            "    Uninstalling requests-2.25.1:\n",
            "      Successfully uninstalled requests-2.25.1\n",
            "  Attempting uninstall: html5lib\n",
            "    Found existing installation: html5lib 1.0.1\n",
            "    Uninstalling html5lib-1.0.1:\n",
            "      Successfully uninstalled html5lib-1.0.1\n",
            "  Attempting uninstall: beautifulsoup4\n",
            "    Found existing installation: beautifulsoup4 4.6.3\n",
            "    Uninstalling beautifulsoup4-4.6.3:\n",
            "      Successfully uninstalled beautifulsoup4-4.6.3\n",
            "Successfully installed beautifulsoup4-4.11.2 cryptography-39.0.1 frozendict-2.3.5 html5lib-1.1 requests-2.28.2 soupsieve-2.4 yfinance-0.2.12\n"
          ]
        },
        {
          "output_type": "display_data",
          "data": {
            "application/vnd.colab-display-data+json": {
              "pip_warning": {
                "packages": [
                  "bs4",
                  "html5lib"
                ]
              }
            }
          },
          "metadata": {}
        }
      ]
    },
    {
      "cell_type": "markdown",
      "source": [
        "My own example 2:"
      ],
      "metadata": {
        "id": "RSu_e-8uv03Y"
      }
    },
    {
      "cell_type": "code",
      "source": [
        "import yfinance as yf\n",
        "import pandas as pd\n",
        "import numpy as np\n",
        "import matplotlib.pyplot as plt\n",
        "\n",
        "# Tesla\n",
        "tesla = yf.Ticker(\"TSLA\")\n",
        "tesla_df = tesla.history(period=\"max\")\n",
        "\n",
        "plt.plot(tesla_df.index, tesla_df[\"Close\"], 'o', markersize=1)\n",
        "plt.xlabel(\"Date\")\n",
        "plt.ylabel(\"Closing Price\")\n",
        "plt.title(\"Tesla Stock Price\")\n",
        "plt.show()"
      ],
      "metadata": {
        "colab": {
          "base_uri": "https://localhost:8080/",
          "height": 295
        },
        "id": "gT2ilwtLQEwu",
        "outputId": "8cbef0c9-a5af-4f65-8df8-34b2c79f9fc3"
      },
      "execution_count": 213,
      "outputs": [
        {
          "output_type": "display_data",
          "data": {
            "text/plain": [
              "<Figure size 432x288 with 1 Axes>"
            ],
            "image/png": "[encoded data removed]"
          },
          "metadata": {
            "needs_background": "light"
          }
        }
      ]
    },
    {
      "cell_type": "markdown",
      "source": [
        "My own example 3:"
      ],
      "metadata": {
        "id": "saJBarLtQjCX"
      }
    },
    {
      "cell_type": "code",
      "source": [
        "# Tesla and Apple\n",
        "tesla = yf.Ticker(\"TSLA\")\n",
        "apple = yf.Ticker(\"AAPL\")\n",
        "tesla_df = tesla.history(period=\"max\")\n",
        "apple_df = apple.history(period=\"max\")\n",
        "\n",
        "plt.plot(tesla_df.index, tesla_df[\"Close\"], label=\"Tesla\")\n",
        "plt.plot(apple_df.index, apple_df[\"Close\"], label=\"Apple\")\n",
        "plt.xlabel(\"Date\")\n",
        "plt.ylabel(\"Closing Price\")\n",
        "plt.title(\"Tesla and Apple Stock Prices\")\n",
        "plt.legend()\n",
        "plt.show()"
      ],
      "metadata": {
        "colab": {
          "base_uri": "https://localhost:8080/",
          "height": 295
        },
        "id": "uROjD7SLQjOV",
        "outputId": "0331c3f0-0bcc-434d-fe91-0fd72c34ee58"
      },
      "execution_count": 214,
      "outputs": [
        {
          "output_type": "display_data",
          "data": {
            "text/plain": [
              "<Figure size 432x288 with 1 Axes>"
            ],
            "image/png": "[encoded data removed]"
          },
          "metadata": {
            "needs_background": "light"
          }
        }
      ]
    },
    {
      "cell_type": "markdown",
      "source": [
        "My own example 4:"
      ],
      "metadata": {
        "id": "f-LI2G_ZwDT_"
      }
    },
    {
      "cell_type": "code",
      "source": [
        "print?"
      ],
      "metadata": {
        "id": "wdQBvUMfwDUA"
      },
      "execution_count": 217,
      "outputs": []
    },
    {
      "cell_type": "markdown",
      "source": [
        "My own example 5:"
      ],
      "metadata": {
        "id": "txNIfXNYwDUA"
      }
    },
    {
      "cell_type": "code",
      "source": [
        "url = 'https://jsonplaceholder.typicode.com/posts'\n",
        "df = pd.read_json(url)\n",
        "\n",
        "x = df['id']\n",
        "y = df['userId']\n",
        "coefficients = np.polyfit(x, y, 1)\n",
        "p = np.poly1d(coefficients)\n",
        "\n",
        "plt.scatter(x, y)\n",
        "plt.plot(x, p(x), color='red')\n",
        "plt.show()"
      ],
      "metadata": {
        "colab": {
          "base_uri": "https://localhost:8080/",
          "height": 265
        },
        "outputId": "a7b8507b-5f99-47e1-d60d-24bd1351f884",
        "id": "JPF2-0cpwDUA"
      },
      "execution_count": 218,
      "outputs": [
        {
          "output_type": "display_data",
          "data": {
            "text/plain": [
              "<Figure size 432x288 with 1 Axes>"
            ],
            "image/png": "[encoded data removed]"
          },
          "metadata": {
            "needs_background": "light"
          }
        }
      ]
    },
    {
      "cell_type": "markdown",
      "source": [
        "My own example 6:"
      ],
      "metadata": {
        "id": "YZHSVhbxwDUA"
      }
    },
    {
      "cell_type": "code",
      "source": [
        "dates = pd.date_range('20220101', periods=6)\n",
        "\n",
        "df = pd.DataFrame({'data': [11, 22, 33, 44, 55, 66]}, index=dates)\n",
        "\n",
        "print(df)"
      ],
      "metadata": {
        "colab": {
          "base_uri": "https://localhost:8080/"
        },
        "outputId": "bb39946a-cf41-4c14-85f6-bbaeb5e3f350",
        "id": "uhPWw87pwDUA"
      },
      "execution_count": 219,
      "outputs": [
        {
          "output_type": "stream",
          "name": "stdout",
          "text": [
            "            data\n",
            "2022-01-01    11\n",
            "2022-01-02    22\n",
            "2022-01-03    33\n",
            "2022-01-04    44\n",
            "2022-01-05    55\n",
            "2022-01-06    66\n"
          ]
        }
      ]
    },
    {
      "cell_type": "markdown",
      "source": [
        "My own example 7:"
      ],
      "metadata": {
        "id": "SEfIDXYHwDUA"
      }
    },
    {
      "cell_type": "code",
      "source": [
        "df = pd.DataFrame({'fecha': ['2022-02-23', '2022-02-24', '2022-02-25'],\n",
        "                   'valor': [10, 20, 30]})\n",
        "\n",
        "print('Dataframe original:')\n",
        "df.head()"
      ],
      "metadata": {
        "colab": {
          "base_uri": "https://localhost:8080/",
          "height": 161
        },
        "outputId": "c8fd639f-35dc-47bc-9a9f-8c50534af45b",
        "id": "z-a4343OwDUB"
      },
      "execution_count": 220,
      "outputs": [
        {
          "output_type": "stream",
          "name": "stdout",
          "text": [
            "Dataframe original:\n"
          ]
        },
        {
          "output_type": "execute_result",
          "data": {
            "text/plain": [
              "        fecha  valor\n",
              "0  2022-02-23     10\n",
              "1  2022-02-24     20\n",
              "2  2022-02-25     30"
            ],
            "text/html": [
              "\n",
              "  <div id=\"df-24e785e3-6339-4738-8488-2a7d8fc52168\">\n",
              "    <div class=\"colab-df-container\">\n",
              "      <div>\n",
              "<style scoped>\n",
              "    .dataframe tbody tr th:only-of-type {\n",
              "        vertical-align: middle;\n",
              "    }\n",
              "\n",
              "    .dataframe tbody tr th {\n",
              "        vertical-align: top;\n",
              "    }\n",
              "\n",
              "    .dataframe thead th {\n",
              "        text-align: right;\n",
              "    }\n",
              "</style>\n",
              "<table border=\"1\" class=\"dataframe\">\n",
              "  <thead>\n",
              "    <tr style=\"text-align: right;\">\n",
              "      <th></th>\n",
              "      <th>fecha</th>\n",
              "      <th>valor</th>\n",
              "    </tr>\n",
              "  </thead>\n",
              "  <tbody>\n",
              "    <tr>\n",
              "      <th>0</th>\n",
              "      <td>2022-02-23</td>\n",
              "      <td>10</td>\n",
              "    </tr>\n",
              "    <tr>\n",
              "      <th>1</th>\n",
              "      <td>2022-02-24</td>\n",
              "      <td>20</td>\n",
              "    </tr>\n",
              "    <tr>\n",
              "      <th>2</th>\n",
              "      <td>2022-02-25</td>\n",
              "      <td>30</td>\n",
              "    </tr>\n",
              "  </tbody>\n",
              "</table>\n",
              "</div>\n",
              "      <button class=\"colab-df-convert\" onclick=\"convertToInteractive('df-24e785e3-6339-4738-8488-2a7d8fc52168')\"\n",
              "              title=\"Convert this dataframe to an interactive table.\"\n",
              "              style=\"display:none;\">\n",
              "        \n",
              "  <svg xmlns=\"http://www.w3.org/2000/svg\" height=\"24px\"viewBox=\"0 0 24 24\"\n",
              "       width=\"24px\">\n",
              "    <path d=\"M0 0h24v24H0V0z\" fill=\"none\"/>\n",
              "    <path d=\"M18.56 5.44l.94 2.06.94-2.06 2.06-.94-2.06-.94-.94-2.06-.94 2.06-2.06.94zm-11 1L8.5 8.5l.94-2.06 2.06-.94-2.06-.94L8.5 2.5l-.94 2.06-2.06.94zm10 10l.94 2.06.94-2.06 2.06-.94-2.06-.94-.94-2.06-.94 2.06-2.06.94z\"/><path d=\"M17.41 7.96l-1.37-1.37c-.4-.4-.92-.59-1.43-.59-.52 0-1.04.2-1.43.59L10.3 9.45l-7.72 7.72c-.78.78-.78 2.05 0 2.83L4 21.41c.39.39.9.59 1.41.59.51 0 1.02-.2 1.41-.59l7.78-7.78 2.81-2.81c.8-.78.8-2.07 0-2.86zM5.41 20L4 18.59l7.72-7.72 1.47 1.35L5.41 20z\"/>\n",
              "  </svg>\n",
              "      </button>\n",
              "      \n",
              "  <style>\n",
              "    .colab-df-container {\n",
              "      display:flex;\n",
              "      flex-wrap:wrap;\n",
              "      gap: 12px;\n",
              "    }\n",
              "\n",
              "    .colab-df-convert {\n",
              "      background-color: #E8F0FE;\n",
              "      border: none;\n",
              "      border-radius: 50%;\n",
              "      cursor: pointer;\n",
              "      display: none;\n",
              "      fill: #1967D2;\n",
              "      height: 32px;\n",
              "      padding: 0 0 0 0;\n",
              "      width: 32px;\n",
              "    }\n",
              "\n",
              "    .colab-df-convert:hover {\n",
              "      background-color: #E2EBFA;\n",
              "      box-shadow: 0px 1px 2px rgba(60, 64, 67, 0.3), 0px 1px 3px 1px rgba(60, 64, 67, 0.15);\n",
              "      fill: #174EA6;\n",
              "    }\n",
              "\n",
              "    [theme=dark] .colab-df-convert {\n",
              "      background-color: #3B4455;\n",
              "      fill: #D2E3FC;\n",
              "    }\n",
              "\n",
              "    [theme=dark] .colab-df-convert:hover {\n",
              "      background-color: #434B5C;\n",
              "      box-shadow: 0px 1px 3px 1px rgba(0, 0, 0, 0.15);\n",
              "      filter: drop-shadow(0px 1px 2px rgba(0, 0, 0, 0.3));\n",
              "      fill: #FFFFFF;\n",
              "    }\n",
              "  </style>\n",
              "\n",
              "      <script>\n",
              "        const buttonEl =\n",
              "          document.querySelector('#df-24e785e3-6339-4738-8488-2a7d8fc52168 button.colab-df-convert');\n",
              "        buttonEl.style.display =\n",
              "          google.colab.kernel.accessAllowed ? 'block' : 'none';\n",
              "\n",
              "        async function convertToInteractive(key) {\n",
              "          const element = document.querySelector('#df-24e785e3-6339-4738-8488-2a7d8fc52168');\n",
              "          const dataTable =\n",
              "            await google.colab.kernel.invokeFunction('convertToInteractive',\n",
              "                                                     [key], {});\n",
              "          if (!dataTable) return;\n",
              "\n",
              "          const docLinkHtml = 'Like what you see? Visit the ' +\n",
              "            '<a target=\"_blank\" href=https://colab.research.google.com/notebooks/data_table.ipynb>data table notebook</a>'\n",
              "            + ' to learn more about interactive tables.';\n",
              "          element.innerHTML = '';\n",
              "          dataTable['output_type'] = 'display_data';\n",
              "          await google.colab.output.renderOutput(dataTable, element);\n",
              "          const docLink = document.createElement('div');\n",
              "          docLink.innerHTML = docLinkHtml;\n",
              "          element.appendChild(docLink);\n",
              "        }\n",
              "      </script>\n",
              "    </div>\n",
              "  </div>\n",
              "  "
            ]
          },
          "metadata": {},
          "execution_count": 220
        }
      ]
    },
    {
      "cell_type": "markdown",
      "source": [
        "My own example 8:"
      ],
      "metadata": {
        "id": "3DXpU3s-wDUB"
      }
    },
    {
      "cell_type": "code",
      "source": [
        "df['fecha'] = pd.to_datetime(df['fecha'])\n",
        "\n",
        "df['anio'] = df['fecha'].dt.year\n",
        "df['mes'] = df['fecha'].dt.month\n",
        "df['dia'] = df['fecha'].dt.day\n",
        "\n",
        "print('Dataframe with dd-mm--yy:')\n",
        "df.head()"
      ],
      "metadata": {
        "colab": {
          "base_uri": "https://localhost:8080/",
          "height": 161
        },
        "outputId": "cb6de092-2148-40d9-a39d-a0d8cb02973f",
        "id": "yskgnrrCwDUB"
      },
      "execution_count": 221,
      "outputs": [
        {
          "output_type": "stream",
          "name": "stdout",
          "text": [
            "Dataframe with dd-mm--yy:\n"
          ]
        },
        {
          "output_type": "execute_result",
          "data": {
            "text/plain": [
              "       fecha  valor  anio  mes  dia\n",
              "0 2022-02-23     10  2022    2   23\n",
              "1 2022-02-24     20  2022    2   24\n",
              "2 2022-02-25     30  2022    2   25"
            ],
            "text/html": [
              "\n",
              "  <div id=\"df-7c816085-168c-4a20-a51e-636e2e213ced\">\n",
              "    <div class=\"colab-df-container\">\n",
              "      <div>\n",
              "<style scoped>\n",
              "    .dataframe tbody tr th:only-of-type {\n",
              "        vertical-align: middle;\n",
              "    }\n",
              "\n",
              "    .dataframe tbody tr th {\n",
              "        vertical-align: top;\n",
              "    }\n",
              "\n",
              "    .dataframe thead th {\n",
              "        text-align: right;\n",
              "    }\n",
              "</style>\n",
              "<table border=\"1\" class=\"dataframe\">\n",
              "  <thead>\n",
              "    <tr style=\"text-align: right;\">\n",
              "      <th></th>\n",
              "      <th>fecha</th>\n",
              "      <th>valor</th>\n",
              "      <th>anio</th>\n",
              "      <th>mes</th>\n",
              "      <th>dia</th>\n",
              "    </tr>\n",
              "  </thead>\n",
              "  <tbody>\n",
              "    <tr>\n",
              "      <th>0</th>\n",
              "      <td>2022-02-23</td>\n",
              "      <td>10</td>\n",
              "      <td>2022</td>\n",
              "      <td>2</td>\n",
              "      <td>23</td>\n",
              "    </tr>\n",
              "    <tr>\n",
              "      <th>1</th>\n",
              "      <td>2022-02-24</td>\n",
              "      <td>20</td>\n",
              "      <td>2022</td>\n",
              "      <td>2</td>\n",
              "      <td>24</td>\n",
              "    </tr>\n",
              "    <tr>\n",
              "      <th>2</th>\n",
              "      <td>2022-02-25</td>\n",
              "      <td>30</td>\n",
              "      <td>2022</td>\n",
              "      <td>2</td>\n",
              "      <td>25</td>\n",
              "    </tr>\n",
              "  </tbody>\n",
              "</table>\n",
              "</div>\n",
              "      <button class=\"colab-df-convert\" onclick=\"convertToInteractive('df-7c816085-168c-4a20-a51e-636e2e213ced')\"\n",
              "              title=\"Convert this dataframe to an interactive table.\"\n",
              "              style=\"display:none;\">\n",
              "        \n",
              "  <svg xmlns=\"http://www.w3.org/2000/svg\" height=\"24px\"viewBox=\"0 0 24 24\"\n",
              "       width=\"24px\">\n",
              "    <path d=\"M0 0h24v24H0V0z\" fill=\"none\"/>\n",
              "    <path d=\"M18.56 5.44l.94 2.06.94-2.06 2.06-.94-2.06-.94-.94-2.06-.94 2.06-2.06.94zm-11 1L8.5 8.5l.94-2.06 2.06-.94-2.06-.94L8.5 2.5l-.94 2.06-2.06.94zm10 10l.94 2.06.94-2.06 2.06-.94-2.06-.94-.94-2.06-.94 2.06-2.06.94z\"/><path d=\"M17.41 7.96l-1.37-1.37c-.4-.4-.92-.59-1.43-.59-.52 0-1.04.2-1.43.59L10.3 9.45l-7.72 7.72c-.78.78-.78 2.05 0 2.83L4 21.41c.39.39.9.59 1.41.59.51 0 1.02-.2 1.41-.59l7.78-7.78 2.81-2.81c.8-.78.8-2.07 0-2.86zM5.41 20L4 18.59l7.72-7.72 1.47 1.35L5.41 20z\"/>\n",
              "  </svg>\n",
              "      </button>\n",
              "      \n",
              "  <style>\n",
              "    .colab-df-container {\n",
              "      display:flex;\n",
              "      flex-wrap:wrap;\n",
              "      gap: 12px;\n",
              "    }\n",
              "\n",
              "    .colab-df-convert {\n",
              "      background-color: #E8F0FE;\n",
              "      border: none;\n",
              "      border-radius: 50%;\n",
              "      cursor: pointer;\n",
              "      display: none;\n",
              "      fill: #1967D2;\n",
              "      height: 32px;\n",
              "      padding: 0 0 0 0;\n",
              "      width: 32px;\n",
              "    }\n",
              "\n",
              "    .colab-df-convert:hover {\n",
              "      background-color: #E2EBFA;\n",
              "      box-shadow: 0px 1px 2px rgba(60, 64, 67, 0.3), 0px 1px 3px 1px rgba(60, 64, 67, 0.15);\n",
              "      fill: #174EA6;\n",
              "    }\n",
              "\n",
              "    [theme=dark] .colab-df-convert {\n",
              "      background-color: #3B4455;\n",
              "      fill: #D2E3FC;\n",
              "    }\n",
              "\n",
              "    [theme=dark] .colab-df-convert:hover {\n",
              "      background-color: #434B5C;\n",
              "      box-shadow: 0px 1px 3px 1px rgba(0, 0, 0, 0.15);\n",
              "      filter: drop-shadow(0px 1px 2px rgba(0, 0, 0, 0.3));\n",
              "      fill: #FFFFFF;\n",
              "    }\n",
              "  </style>\n",
              "\n",
              "      <script>\n",
              "        const buttonEl =\n",
              "          document.querySelector('#df-7c816085-168c-4a20-a51e-636e2e213ced button.colab-df-convert');\n",
              "        buttonEl.style.display =\n",
              "          google.colab.kernel.accessAllowed ? 'block' : 'none';\n",
              "\n",
              "        async function convertToInteractive(key) {\n",
              "          const element = document.querySelector('#df-7c816085-168c-4a20-a51e-636e2e213ced');\n",
              "          const dataTable =\n",
              "            await google.colab.kernel.invokeFunction('convertToInteractive',\n",
              "                                                     [key], {});\n",
              "          if (!dataTable) return;\n",
              "\n",
              "          const docLinkHtml = 'Like what you see? Visit the ' +\n",
              "            '<a target=\"_blank\" href=https://colab.research.google.com/notebooks/data_table.ipynb>data table notebook</a>'\n",
              "            + ' to learn more about interactive tables.';\n",
              "          element.innerHTML = '';\n",
              "          dataTable['output_type'] = 'display_data';\n",
              "          await google.colab.output.renderOutput(dataTable, element);\n",
              "          const docLink = document.createElement('div');\n",
              "          docLink.innerHTML = docLinkHtml;\n",
              "          element.appendChild(docLink);\n",
              "        }\n",
              "      </script>\n",
              "    </div>\n",
              "  </div>\n",
              "  "
            ]
          },
          "metadata": {},
          "execution_count": 221
        }
      ]
    },
    {
      "cell_type": "markdown",
      "source": [
        "My own example 9:"
      ],
      "metadata": {
        "id": "D5DTTbklwDUB"
      }
    },
    {
      "cell_type": "code",
      "source": [
        "A = np.array([[1, 2], [3, 4]])\n",
        "\n",
        "B = np.array([[5], [6]])\n",
        "\n",
        "# Use the dot product to calculate the matrix product of A and B\n",
        "C = np.dot(A, B)\n",
        "\n",
        "print(C)"
      ],
      "metadata": {
        "colab": {
          "base_uri": "https://localhost:8080/"
        },
        "outputId": "c2d986de-3228-482c-8eb4-849178b55973",
        "id": "_vU2GG1swDUB"
      },
      "execution_count": 222,
      "outputs": [
        {
          "output_type": "stream",
          "name": "stdout",
          "text": [
            "[[17]\n",
            " [39]]\n"
          ]
        }
      ]
    },
    {
      "cell_type": "markdown",
      "source": [
        "My own example 10:"
      ],
      "metadata": {
        "id": "iKmx7lGiwDUB"
      }
    },
    {
      "cell_type": "code",
      "source": [
        "A = np.array([[1, 2, 3], [1, 5, 6], [7, 8, 9]])\n",
        "\n",
        "A_inv = np.linalg.inv(A)\n",
        "\n",
        "I = np.eye(3)\n",
        "\n",
        "A_Ainv = np.matmul(A, A_inv)\n",
        "\n",
        "assert np.allclose(A_Ainv, I)"
      ],
      "metadata": {
        "id": "Yat5siXQwDUB"
      },
      "execution_count": 223,
      "outputs": []
    },
    {
      "cell_type": "markdown",
      "metadata": {
        "id": "okMYkecHwDUC"
      },
      "source": [
        "My own example 11:"
      ]
    },
    {
      "cell_type": "code",
      "execution_count": 224,
      "metadata": {
        "colab": {
          "base_uri": "https://localhost:8080/"
        },
        "outputId": "f71d618a-78ee-4d4f-f50d-651281e700b5",
        "id": "J7Mt2hUIwDUC"
      },
      "outputs": [
        {
          "output_type": "stream",
          "name": "stdout",
          "text": [
            "1\n",
            "3\n",
            "5\n",
            "7\n",
            "9\n"
          ]
        }
      ],
      "source": [
        "i = 0\n",
        "\n",
        "while i < len(numbers):\n",
        "    # If the current number is even, skip it\n",
        "    if numbers[i] % 2 == 0:\n",
        "        i += 1\n",
        "        continue\n",
        "    print(numbers[i])\n",
        "    i += 1"
      ]
    },
    {
      "cell_type": "markdown",
      "metadata": {
        "id": "RqNbySJuwDUC"
      },
      "source": [
        "My own example 12:"
      ]
    },
    {
      "cell_type": "code",
      "execution_count": 225,
      "metadata": {
        "colab": {
          "base_uri": "https://localhost:8080/"
        },
        "outputId": "c28d9ec2-d18a-4628-b73c-20304bccaa6b",
        "id": "ucgVxgMDwDUC"
      },
      "outputs": [
        {
          "output_type": "execute_result",
          "data": {
            "text/plain": [
              "{2, 3, 5, 7, 11, 13, 17, 19, 23, 29, 31}"
            ]
          },
          "metadata": {},
          "execution_count": 225
        }
      ],
      "source": [
        "prime_numbers = {2, 3, 5, 7, 11, 13, 17, 19, 23, 29, 31}\n",
        "prime_numbers.difference(evens)"
      ]
    },
    {
      "cell_type": "markdown",
      "metadata": {
        "id": "GO84RyUowDUC"
      },
      "source": [
        "My own example 13:"
      ]
    },
    {
      "cell_type": "code",
      "execution_count": 226,
      "metadata": {
        "colab": {
          "base_uri": "https://localhost:8080/"
        },
        "outputId": "c2817dd2-4f35-4495-d9ca-a76c2a0711e0",
        "id": "firnp_sMwDUC"
      },
      "outputs": [
        {
          "output_type": "stream",
          "name": "stdout",
          "text": [
            "John: 90\n",
            "Alice: 85\n",
            "Bob: 70\n"
          ]
        }
      ],
      "source": [
        "students = {\"John\": 90, \"Alice\": 85, \"Bob\": 70}\n",
        "\n",
        "for k,v in students.items():\n",
        "  print(k + \": \" + str(v))"
      ]
    },
    {
      "cell_type": "markdown",
      "metadata": {
        "id": "JIjt_FkTwDUC"
      },
      "source": [
        "My own example 14:"
      ]
    },
    {
      "cell_type": "code",
      "execution_count": 227,
      "metadata": {
        "colab": {
          "base_uri": "https://localhost:8080/"
        },
        "outputId": "816020cb-a98e-48ce-c3db-530f338137fa",
        "id": "vQc9O2nCwDUC"
      },
      "outputs": [
        {
          "output_type": "stream",
          "name": "stdout",
          "text": [
            "1\n",
            "2\n",
            "3\n",
            "4\n",
            "5\n"
          ]
        }
      ],
      "source": [
        "numbers = [1, 2, 3, 4, 5, 6, 7, 8, 9, 10]\n",
        "\n",
        "for num in numbers:\n",
        "    # Break out of the loop if we reach a number greater than 5\n",
        "    if num > 5:\n",
        "        break\n",
        "    print(num)"
      ]
    },
    {
      "cell_type": "markdown",
      "metadata": {
        "id": "kwDf-Bu0wDUD"
      },
      "source": [
        "My own example 15:"
      ]
    },
    {
      "cell_type": "code",
      "execution_count": 228,
      "metadata": {
        "colab": {
          "base_uri": "https://localhost:8080/"
        },
        "outputId": "9be6e255-d383-448b-d929-22c4c9899bf8",
        "id": "Y-SHL3TiwDUD"
      },
      "outputs": [
        {
          "output_type": "stream",
          "name": "stdout",
          "text": [
            "1\n",
            "3\n",
            "5\n",
            "7\n",
            "9\n"
          ]
        }
      ],
      "source": [
        "i = 0\n",
        "\n",
        "while i < len(numbers):\n",
        "    # If the current number is even, skip it\n",
        "    if numbers[i] % 2 == 0:\n",
        "        i += 1\n",
        "        continue\n",
        "    print(numbers[i])\n",
        "    i += 1"
      ]
    },
    {
      "cell_type": "markdown",
      "source": [
        "My own example 16:"
      ],
      "metadata": {
        "id": "Xd1Sv0xxwDUD"
      }
    },
    {
      "cell_type": "code",
      "source": [
        "grades = {'Alice': 85, 'Bob': 92, 'Charlie': 78, 'David': 80}\n",
        "\n",
        "for name, grade in grades.items():\n",
        "    # If the grade is below 80, break out of the loop\n",
        "    if grade < 80:\n",
        "        print(name + ' has a failing grade')\n",
        "        break\n",
        "    print(name + ' has a passing grade')"
      ],
      "metadata": {
        "colab": {
          "base_uri": "https://localhost:8080/"
        },
        "outputId": "2c00f1a7-7114-4b4f-db12-48f5ed3a14b7",
        "id": "cFjG2nGfwDUD"
      },
      "execution_count": 229,
      "outputs": [
        {
          "output_type": "stream",
          "name": "stdout",
          "text": [
            "Alice has a passing grade\n",
            "Bob has a passing grade\n",
            "Charlie has a failing grade\n"
          ]
        }
      ]
    },
    {
      "cell_type": "markdown",
      "metadata": {
        "id": "2AW-1R96wDUD"
      },
      "source": [
        "My own example 17:"
      ]
    },
    {
      "cell_type": "code",
      "execution_count": 230,
      "metadata": {
        "colab": {
          "base_uri": "https://localhost:8080/",
          "height": 35
        },
        "outputId": "594f6a16-d45d-45e1-e091-7da9d4b8a8da",
        "id": "4JL0e_BMwDUD"
      },
      "outputs": [
        {
          "output_type": "execute_result",
          "data": {
            "text/plain": [
              "'blue'"
            ],
            "application/vnd.google.colaboratory.intrinsic+json": {
              "type": "string"
            }
          },
          "metadata": {},
          "execution_count": 230
        }
      ],
      "source": [
        "colors = (\"red\", \"green\", \"blue\")\n",
        "colors[2]"
      ]
    },
    {
      "cell_type": "markdown",
      "metadata": {
        "id": "FqnhFsUkwDUE"
      },
      "source": [
        "My own example 18:"
      ]
    },
    {
      "cell_type": "code",
      "execution_count": 231,
      "metadata": {
        "colab": {
          "base_uri": "https://localhost:8080/"
        },
        "outputId": "d374c272-b682-43cb-b0c3-a65cdd7fd310",
        "id": "NLYxuAo8wDUE"
      },
      "outputs": [
        {
          "output_type": "execute_result",
          "data": {
            "text/plain": [
              "{2, 3, 5, 7, 11, 13, 17, 19, 23, 29, 31}"
            ]
          },
          "metadata": {},
          "execution_count": 231
        }
      ],
      "source": [
        "prime_numbers = {2, 3, 5, 7, 11, 13, 17, 19, 23, 29, 31}\n",
        "prime_numbers.difference(evens)"
      ]
    },
    {
      "cell_type": "markdown",
      "metadata": {
        "id": "ZUlx27oKwDUE"
      },
      "source": [
        "My own example 19:"
      ]
    },
    {
      "cell_type": "code",
      "execution_count": 232,
      "metadata": {
        "colab": {
          "base_uri": "https://localhost:8080/"
        },
        "outputId": "0b46e3e9-5165-4522-e9e1-eb0e6da659c7",
        "id": "U32DVrUawDUE"
      },
      "outputs": [
        {
          "output_type": "stream",
          "name": "stdout",
          "text": [
            "John: 90\n",
            "Alice: 85\n",
            "Bob: 70\n"
          ]
        }
      ],
      "source": [
        "students = {\"John\": 90, \"Alice\": 85, \"Bob\": 70}\n",
        "\n",
        "for k,v in students.items():\n",
        "  print(k + \": \" + str(v))"
      ]
    },
    {
      "cell_type": "markdown",
      "metadata": {
        "id": "jOyDFuEewDUE"
      },
      "source": [
        "My own example 20:"
      ]
    },
    {
      "cell_type": "code",
      "execution_count": 233,
      "metadata": {
        "colab": {
          "base_uri": "https://localhost:8080/"
        },
        "outputId": "194e4537-8dbb-45bd-dc5d-6d926a529dbb",
        "id": "GY18QxpCwDUE"
      },
      "outputs": [
        {
          "output_type": "stream",
          "name": "stdout",
          "text": [
            "1\n",
            "2\n",
            "3\n",
            "4\n",
            "5\n"
          ]
        }
      ],
      "source": [
        "numbers = [1, 2, 3, 4, 5, 6, 7, 8, 9, 10]\n",
        "\n",
        "for num in numbers:\n",
        "    # Break out of the loop if we reach a number greater than 5\n",
        "    if num > 5:\n",
        "        break\n",
        "    print(num)"
      ]
    },
    {
      "cell_type": "markdown",
      "source": [
        "## \"Update version\""
      ],
      "metadata": {
        "id": "l16TGDTpkPR-"
      }
    },
    {
      "cell_type": "markdown",
      "source": [
        "My own example 1:"
      ],
      "metadata": {
        "id": "SPb61X7awd_6"
      }
    },
    {
      "cell_type": "code",
      "source": [
        "tesla = yf.Ticker(\"TSLA\")\n",
        "tesla_df = tesla.history(period=\"max\")\n",
        "\n",
        "# Linear regression\n",
        "coefficients = np.polyfit(np.arange(len(tesla_df)), tesla_df[\"Close\"], 1)\n",
        "p = np.poly1d(coefficients)\n",
        "plt.plot(tesla_df.index, tesla_df[\"Close\"], 'o', markersize=1)\n",
        "plt.plot(tesla_df.index, p(np.arange(len(tesla_df))), \"r--\")\n",
        "plt.xlabel(\"Date\")\n",
        "plt.ylabel(\"Closing Price\")\n",
        "plt.title(\"Tesla Stock Price with Linear Regression\")\n",
        "plt.show()"
      ],
      "metadata": {
        "colab": {
          "base_uri": "https://localhost:8080/",
          "height": 295
        },
        "id": "fCIzf82BQjcZ",
        "outputId": "b9b271fe-b9af-4223-ebc6-e7d690e44b54"
      },
      "execution_count": 234,
      "outputs": [
        {
          "output_type": "display_data",
          "data": {
            "text/plain": [
              "<Figure size 432x288 with 1 Axes>"
            ],
            "image/png": "[encoded data removed]"
          },
          "metadata": {
            "needs_background": "light"
          }
        }
      ]
    },
    {
      "cell_type": "markdown",
      "source": [
        "My own example 2:"
      ],
      "metadata": {
        "id": "qLkuhPQnxd7l"
      }
    },
    {
      "cell_type": "code",
      "source": [
        "import yfinance as yf\n",
        "import pandas as pd\n",
        "import numpy as np\n",
        "import matplotlib.pyplot as plt\n",
        "\n",
        "# Tesla\n",
        "tesla = yf.Ticker(\"TSLA\")\n",
        "tesla_df = tesla.history(period=\"max\")\n",
        "\n",
        "plt.plot(tesla_df.index, tesla_df[\"Close\"], 'o', markersize=1)\n",
        "plt.xlabel(\"Date\")\n",
        "plt.ylabel(\"Closing Price\")\n",
        "plt.title(\"Tesla Stock Price\")\n",
        "plt.show()"
      ],
      "metadata": {
        "colab": {
          "base_uri": "https://localhost:8080/",
          "height": 295
        },
        "outputId": "9d5fa90a-d092-420c-a4eb-bbba0fc4ddfe",
        "id": "m31t4fIKxd7l"
      },
      "execution_count": 235,
      "outputs": [
        {
          "output_type": "display_data",
          "data": {
            "text/plain": [
              "<Figure size 432x288 with 1 Axes>"
            ],
            "image/png": "[encoded data removed]"
          },
          "metadata": {
            "needs_background": "light"
          }
        }
      ]
    },
    {
      "cell_type": "markdown",
      "source": [
        "My own example 3:"
      ],
      "metadata": {
        "id": "oCEBNCIAxd7m"
      }
    },
    {
      "cell_type": "code",
      "source": [
        "# Tesla and Apple\n",
        "tesla = yf.Ticker(\"TSLA\")\n",
        "apple = yf.Ticker(\"AAPL\")\n",
        "tesla_df = tesla.history(period=\"max\")\n",
        "apple_df = apple.history(period=\"max\")\n",
        "\n",
        "plt.plot(tesla_df.index, tesla_df[\"Close\"], label=\"Tesla\")\n",
        "plt.plot(apple_df.index, apple_df[\"Close\"], label=\"Apple\")\n",
        "plt.xlabel(\"Date\")\n",
        "plt.ylabel(\"Closing Price\")\n",
        "plt.title(\"Tesla and Apple Stock Prices\")\n",
        "plt.legend()\n",
        "plt.show()"
      ],
      "metadata": {
        "colab": {
          "base_uri": "https://localhost:8080/",
          "height": 295
        },
        "outputId": "c2bbd0d0-e016-40e9-af4c-31121b4d7a2b",
        "id": "djQm2Gesxd7m"
      },
      "execution_count": 236,
      "outputs": [
        {
          "output_type": "display_data",
          "data": {
            "text/plain": [
              "<Figure size 432x288 with 1 Axes>"
            ],
            "image/png": "[encoded data removed]"
          },
          "metadata": {
            "needs_background": "light"
          }
        }
      ]
    },
    {
      "cell_type": "markdown",
      "source": [
        "My own example 4:"
      ],
      "metadata": {
        "id": "JxIBvGHOxd7m"
      }
    },
    {
      "cell_type": "code",
      "source": [],
      "metadata": {
        "id": "pVDhZr9axd7m",
        "outputId": "9abbd723-828a-4759-ccc8-1cf6f88e8104",
        "colab": {
          "base_uri": "https://localhost:8080/",
          "height": 130
        }
      },
      "execution_count": 237,
      "outputs": [
        {
          "output_type": "error",
          "ename": "SyntaxError",
          "evalue": "ignored",
          "traceback": [
            "\u001b[0;36m  File \u001b[0;32m\"<ipython-input-237-35fd6e51d22c>\"\u001b[0;36m, line \u001b[0;32m1\u001b[0m\n\u001b[0;31m    My own example 4\u001b[0m\n\u001b[0m       ^\u001b[0m\n\u001b[0;31mSyntaxError\u001b[0m\u001b[0;31m:\u001b[0m invalid syntax\n"
          ]
        }
      ]
    },
    {
      "cell_type": "markdown",
      "source": [
        "My own example 5:"
      ],
      "metadata": {
        "id": "9CgxBpFGxd7m"
      }
    },
    {
      "cell_type": "code",
      "source": [
        "url = 'https://jsonplaceholder.typicode.com/posts'\n",
        "df = pd.read_json(url)\n",
        "\n",
        "x = df['id']\n",
        "y = df['userId']\n",
        "coefficients = np.polyfit(x, y, 1)\n",
        "p = np.poly1d(coefficients)\n",
        "\n",
        "plt.scatter(x, y)\n",
        "plt.plot(x, p(x), color='red')\n",
        "plt.show()"
      ],
      "metadata": {
        "colab": {
          "base_uri": "https://localhost:8080/",
          "height": 265
        },
        "outputId": "c9937ce6-cf37-4dca-a80a-37497c56f3a3",
        "id": "yYrwKLn8xd7n"
      },
      "execution_count": 238,
      "outputs": [
        {
          "output_type": "display_data",
          "data": {
            "text/plain": [
              "<Figure size 432x288 with 1 Axes>"
            ],
            "image/png": "[encoded data removed]"
          },
          "metadata": {
            "needs_background": "light"
          }
        }
      ]
    },
    {
      "cell_type": "markdown",
      "source": [
        "My own example 6:"
      ],
      "metadata": {
        "id": "pWkxL1xLxd7n"
      }
    },
    {
      "cell_type": "code",
      "source": [
        "dates = pd.date_range('20220101', periods=6)\n",
        "\n",
        "df = pd.DataFrame({'data': [11, 22, 33, 44, 55, 66]}, index=dates)\n",
        "\n",
        "print(df)"
      ],
      "metadata": {
        "colab": {
          "base_uri": "https://localhost:8080/"
        },
        "outputId": "d31795f2-7463-47ae-d131-d5534115ba61",
        "id": "URnEHwt5xd7n"
      },
      "execution_count": 239,
      "outputs": [
        {
          "output_type": "stream",
          "name": "stdout",
          "text": [
            "            data\n",
            "2022-01-01    11\n",
            "2022-01-02    22\n",
            "2022-01-03    33\n",
            "2022-01-04    44\n",
            "2022-01-05    55\n",
            "2022-01-06    66\n"
          ]
        }
      ]
    },
    {
      "cell_type": "markdown",
      "source": [
        "My own example 7:"
      ],
      "metadata": {
        "id": "9PWGOXV5xd7n"
      }
    },
    {
      "cell_type": "code",
      "source": [
        "df = pd.DataFrame({'fecha': ['2022-02-23', '2022-02-24', '2022-02-25'],\n",
        "                   'valor': [10, 20, 30]})\n",
        "\n",
        "print('Dataframe original:')\n",
        "df.head()"
      ],
      "metadata": {
        "colab": {
          "base_uri": "https://localhost:8080/",
          "height": 161
        },
        "outputId": "1697813c-15a9-4dbf-fcda-b8f7adb0e91f",
        "id": "pMGxUWy0xd7n"
      },
      "execution_count": 240,
      "outputs": [
        {
          "output_type": "stream",
          "name": "stdout",
          "text": [
            "Dataframe original:\n"
          ]
        },
        {
          "output_type": "execute_result",
          "data": {
            "text/plain": [
              "        fecha  valor\n",
              "0  2022-02-23     10\n",
              "1  2022-02-24     20\n",
              "2  2022-02-25     30"
            ],
            "text/html": [
              "\n",
              "  <div id=\"df-d2ebdf59-b716-453c-8334-5dee4f4c1c07\">\n",
              "    <div class=\"colab-df-container\">\n",
              "      <div>\n",
              "<style scoped>\n",
              "    .dataframe tbody tr th:only-of-type {\n",
              "        vertical-align: middle;\n",
              "    }\n",
              "\n",
              "    .dataframe tbody tr th {\n",
              "        vertical-align: top;\n",
              "    }\n",
              "\n",
              "    .dataframe thead th {\n",
              "        text-align: right;\n",
              "    }\n",
              "</style>\n",
              "<table border=\"1\" class=\"dataframe\">\n",
              "  <thead>\n",
              "    <tr style=\"text-align: right;\">\n",
              "      <th></th>\n",
              "      <th>fecha</th>\n",
              "      <th>valor</th>\n",
              "    </tr>\n",
              "  </thead>\n",
              "  <tbody>\n",
              "    <tr>\n",
              "      <th>0</th>\n",
              "      <td>2022-02-23</td>\n",
              "      <td>10</td>\n",
              "    </tr>\n",
              "    <tr>\n",
              "      <th>1</th>\n",
              "      <td>2022-02-24</td>\n",
              "      <td>20</td>\n",
              "    </tr>\n",
              "    <tr>\n",
              "      <th>2</th>\n",
              "      <td>2022-02-25</td>\n",
              "      <td>30</td>\n",
              "    </tr>\n",
              "  </tbody>\n",
              "</table>\n",
              "</div>\n",
              "      <button class=\"colab-df-convert\" onclick=\"convertToInteractive('df-d2ebdf59-b716-453c-8334-5dee4f4c1c07')\"\n",
              "              title=\"Convert this dataframe to an interactive table.\"\n",
              "              style=\"display:none;\">\n",
              "        \n",
              "  <svg xmlns=\"http://www.w3.org/2000/svg\" height=\"24px\"viewBox=\"0 0 24 24\"\n",
              "       width=\"24px\">\n",
              "    <path d=\"M0 0h24v24H0V0z\" fill=\"none\"/>\n",
              "    <path d=\"M18.56 5.44l.94 2.06.94-2.06 2.06-.94-2.06-.94-.94-2.06-.94 2.06-2.06.94zm-11 1L8.5 8.5l.94-2.06 2.06-.94-2.06-.94L8.5 2.5l-.94 2.06-2.06.94zm10 10l.94 2.06.94-2.06 2.06-.94-2.06-.94-.94-2.06-.94 2.06-2.06.94z\"/><path d=\"M17.41 7.96l-1.37-1.37c-.4-.4-.92-.59-1.43-.59-.52 0-1.04.2-1.43.59L10.3 9.45l-7.72 7.72c-.78.78-.78 2.05 0 2.83L4 21.41c.39.39.9.59 1.41.59.51 0 1.02-.2 1.41-.59l7.78-7.78 2.81-2.81c.8-.78.8-2.07 0-2.86zM5.41 20L4 18.59l7.72-7.72 1.47 1.35L5.41 20z\"/>\n",
              "  </svg>\n",
              "      </button>\n",
              "      \n",
              "  <style>\n",
              "    .colab-df-container {\n",
              "      display:flex;\n",
              "      flex-wrap:wrap;\n",
              "      gap: 12px;\n",
              "    }\n",
              "\n",
              "    .colab-df-convert {\n",
              "      background-color: #E8F0FE;\n",
              "      border: none;\n",
              "      border-radius: 50%;\n",
              "      cursor: pointer;\n",
              "      display: none;\n",
              "      fill: #1967D2;\n",
              "      height: 32px;\n",
              "      padding: 0 0 0 0;\n",
              "      width: 32px;\n",
              "    }\n",
              "\n",
              "    .colab-df-convert:hover {\n",
              "      background-color: #E2EBFA;\n",
              "      box-shadow: 0px 1px 2px rgba(60, 64, 67, 0.3), 0px 1px 3px 1px rgba(60, 64, 67, 0.15);\n",
              "      fill: #174EA6;\n",
              "    }\n",
              "\n",
              "    [theme=dark] .colab-df-convert {\n",
              "      background-color: #3B4455;\n",
              "      fill: #D2E3FC;\n",
              "    }\n",
              "\n",
              "    [theme=dark] .colab-df-convert:hover {\n",
              "      background-color: #434B5C;\n",
              "      box-shadow: 0px 1px 3px 1px rgba(0, 0, 0, 0.15);\n",
              "      filter: drop-shadow(0px 1px 2px rgba(0, 0, 0, 0.3));\n",
              "      fill: #FFFFFF;\n",
              "    }\n",
              "  </style>\n",
              "\n",
              "      <script>\n",
              "        const buttonEl =\n",
              "          document.querySelector('#df-d2ebdf59-b716-453c-8334-5dee4f4c1c07 button.colab-df-convert');\n",
              "        buttonEl.style.display =\n",
              "          google.colab.kernel.accessAllowed ? 'block' : 'none';\n",
              "\n",
              "        async function convertToInteractive(key) {\n",
              "          const element = document.querySelector('#df-d2ebdf59-b716-453c-8334-5dee4f4c1c07');\n",
              "          const dataTable =\n",
              "            await google.colab.kernel.invokeFunction('convertToInteractive',\n",
              "                                                     [key], {});\n",
              "          if (!dataTable) return;\n",
              "\n",
              "          const docLinkHtml = 'Like what you see? Visit the ' +\n",
              "            '<a target=\"_blank\" href=https://colab.research.google.com/notebooks/data_table.ipynb>data table notebook</a>'\n",
              "            + ' to learn more about interactive tables.';\n",
              "          element.innerHTML = '';\n",
              "          dataTable['output_type'] = 'display_data';\n",
              "          await google.colab.output.renderOutput(dataTable, element);\n",
              "          const docLink = document.createElement('div');\n",
              "          docLink.innerHTML = docLinkHtml;\n",
              "          element.appendChild(docLink);\n",
              "        }\n",
              "      </script>\n",
              "    </div>\n",
              "  </div>\n",
              "  "
            ]
          },
          "metadata": {},
          "execution_count": 240
        }
      ]
    },
    {
      "cell_type": "markdown",
      "source": [
        "My own example 8:"
      ],
      "metadata": {
        "id": "fcaAXF6Oxd7n"
      }
    },
    {
      "cell_type": "code",
      "source": [
        "df['fecha'] = pd.to_datetime(df['fecha'])\n",
        "\n",
        "df['anio'] = df['fecha'].dt.year\n",
        "df['mes'] = df['fecha'].dt.month\n",
        "df['dia'] = df['fecha'].dt.day\n",
        "\n",
        "print('Dataframe with dd-mm--yy:')\n",
        "df.head()"
      ],
      "metadata": {
        "colab": {
          "base_uri": "https://localhost:8080/",
          "height": 161
        },
        "outputId": "18342383-a3ad-4af1-f1dd-62363a5b96f7",
        "id": "LRd-O25bxd7n"
      },
      "execution_count": 241,
      "outputs": [
        {
          "output_type": "stream",
          "name": "stdout",
          "text": [
            "Dataframe with dd-mm--yy:\n"
          ]
        },
        {
          "output_type": "execute_result",
          "data": {
            "text/plain": [
              "       fecha  valor  anio  mes  dia\n",
              "0 2022-02-23     10  2022    2   23\n",
              "1 2022-02-24     20  2022    2   24\n",
              "2 2022-02-25     30  2022    2   25"
            ],
            "text/html": [
              "\n",
              "  <div id=\"df-0f382dd9-e406-47a2-9c8e-0e2201c015b9\">\n",
              "    <div class=\"colab-df-container\">\n",
              "      <div>\n",
              "<style scoped>\n",
              "    .dataframe tbody tr th:only-of-type {\n",
              "        vertical-align: middle;\n",
              "    }\n",
              "\n",
              "    .dataframe tbody tr th {\n",
              "        vertical-align: top;\n",
              "    }\n",
              "\n",
              "    .dataframe thead th {\n",
              "        text-align: right;\n",
              "    }\n",
              "</style>\n",
              "<table border=\"1\" class=\"dataframe\">\n",
              "  <thead>\n",
              "    <tr style=\"text-align: right;\">\n",
              "      <th></th>\n",
              "      <th>fecha</th>\n",
              "      <th>valor</th>\n",
              "      <th>anio</th>\n",
              "      <th>mes</th>\n",
              "      <th>dia</th>\n",
              "    </tr>\n",
              "  </thead>\n",
              "  <tbody>\n",
              "    <tr>\n",
              "      <th>0</th>\n",
              "      <td>2022-02-23</td>\n",
              "      <td>10</td>\n",
              "      <td>2022</td>\n",
              "      <td>2</td>\n",
              "      <td>23</td>\n",
              "    </tr>\n",
              "    <tr>\n",
              "      <th>1</th>\n",
              "      <td>2022-02-24</td>\n",
              "      <td>20</td>\n",
              "      <td>2022</td>\n",
              "      <td>2</td>\n",
              "      <td>24</td>\n",
              "    </tr>\n",
              "    <tr>\n",
              "      <th>2</th>\n",
              "      <td>2022-02-25</td>\n",
              "      <td>30</td>\n",
              "      <td>2022</td>\n",
              "      <td>2</td>\n",
              "      <td>25</td>\n",
              "    </tr>\n",
              "  </tbody>\n",
              "</table>\n",
              "</div>\n",
              "      <button class=\"colab-df-convert\" onclick=\"convertToInteractive('df-0f382dd9-e406-47a2-9c8e-0e2201c015b9')\"\n",
              "              title=\"Convert this dataframe to an interactive table.\"\n",
              "              style=\"display:none;\">\n",
              "        \n",
              "  <svg xmlns=\"http://www.w3.org/2000/svg\" height=\"24px\"viewBox=\"0 0 24 24\"\n",
              "       width=\"24px\">\n",
              "    <path d=\"M0 0h24v24H0V0z\" fill=\"none\"/>\n",
              "    <path d=\"M18.56 5.44l.94 2.06.94-2.06 2.06-.94-2.06-.94-.94-2.06-.94 2.06-2.06.94zm-11 1L8.5 8.5l.94-2.06 2.06-.94-2.06-.94L8.5 2.5l-.94 2.06-2.06.94zm10 10l.94 2.06.94-2.06 2.06-.94-2.06-.94-.94-2.06-.94 2.06-2.06.94z\"/><path d=\"M17.41 7.96l-1.37-1.37c-.4-.4-.92-.59-1.43-.59-.52 0-1.04.2-1.43.59L10.3 9.45l-7.72 7.72c-.78.78-.78 2.05 0 2.83L4 21.41c.39.39.9.59 1.41.59.51 0 1.02-.2 1.41-.59l7.78-7.78 2.81-2.81c.8-.78.8-2.07 0-2.86zM5.41 20L4 18.59l7.72-7.72 1.47 1.35L5.41 20z\"/>\n",
              "  </svg>\n",
              "      </button>\n",
              "      \n",
              "  <style>\n",
              "    .colab-df-container {\n",
              "      display:flex;\n",
              "      flex-wrap:wrap;\n",
              "      gap: 12px;\n",
              "    }\n",
              "\n",
              "    .colab-df-convert {\n",
              "      background-color: #E8F0FE;\n",
              "      border: none;\n",
              "      border-radius: 50%;\n",
              "      cursor: pointer;\n",
              "      display: none;\n",
              "      fill: #1967D2;\n",
              "      height: 32px;\n",
              "      padding: 0 0 0 0;\n",
              "      width: 32px;\n",
              "    }\n",
              "\n",
              "    .colab-df-convert:hover {\n",
              "      background-color: #E2EBFA;\n",
              "      box-shadow: 0px 1px 2px rgba(60, 64, 67, 0.3), 0px 1px 3px 1px rgba(60, 64, 67, 0.15);\n",
              "      fill: #174EA6;\n",
              "    }\n",
              "\n",
              "    [theme=dark] .colab-df-convert {\n",
              "      background-color: #3B4455;\n",
              "      fill: #D2E3FC;\n",
              "    }\n",
              "\n",
              "    [theme=dark] .colab-df-convert:hover {\n",
              "      background-color: #434B5C;\n",
              "      box-shadow: 0px 1px 3px 1px rgba(0, 0, 0, 0.15);\n",
              "      filter: drop-shadow(0px 1px 2px rgba(0, 0, 0, 0.3));\n",
              "      fill: #FFFFFF;\n",
              "    }\n",
              "  </style>\n",
              "\n",
              "      <script>\n",
              "        const buttonEl =\n",
              "          document.querySelector('#df-0f382dd9-e406-47a2-9c8e-0e2201c015b9 button.colab-df-convert');\n",
              "        buttonEl.style.display =\n",
              "          google.colab.kernel.accessAllowed ? 'block' : 'none';\n",
              "\n",
              "        async function convertToInteractive(key) {\n",
              "          const element = document.querySelector('#df-0f382dd9-e406-47a2-9c8e-0e2201c015b9');\n",
              "          const dataTable =\n",
              "            await google.colab.kernel.invokeFunction('convertToInteractive',\n",
              "                                                     [key], {});\n",
              "          if (!dataTable) return;\n",
              "\n",
              "          const docLinkHtml = 'Like what you see? Visit the ' +\n",
              "            '<a target=\"_blank\" href=https://colab.research.google.com/notebooks/data_table.ipynb>data table notebook</a>'\n",
              "            + ' to learn more about interactive tables.';\n",
              "          element.innerHTML = '';\n",
              "          dataTable['output_type'] = 'display_data';\n",
              "          await google.colab.output.renderOutput(dataTable, element);\n",
              "          const docLink = document.createElement('div');\n",
              "          docLink.innerHTML = docLinkHtml;\n",
              "          element.appendChild(docLink);\n",
              "        }\n",
              "      </script>\n",
              "    </div>\n",
              "  </div>\n",
              "  "
            ]
          },
          "metadata": {},
          "execution_count": 241
        }
      ]
    },
    {
      "cell_type": "markdown",
      "source": [
        "My own example 9:"
      ],
      "metadata": {
        "id": "dFDHcR80xd7o"
      }
    },
    {
      "cell_type": "code",
      "source": [
        "A = np.array([[1, 2], [3, 4]])\n",
        "\n",
        "B = np.array([[5], [6]])\n",
        "\n",
        "# Use the dot product to calculate the matrix product of A and B\n",
        "C = np.dot(A, B)\n",
        "\n",
        "print(C)"
      ],
      "metadata": {
        "colab": {
          "base_uri": "https://localhost:8080/"
        },
        "outputId": "253e94e7-ab72-443a-ea4e-c17d32c4c002",
        "id": "gGqnpr0uxd7o"
      },
      "execution_count": 242,
      "outputs": [
        {
          "output_type": "stream",
          "name": "stdout",
          "text": [
            "[[17]\n",
            " [39]]\n"
          ]
        }
      ]
    },
    {
      "cell_type": "markdown",
      "source": [
        "My own example 10:"
      ],
      "metadata": {
        "id": "01RltAwmxd7o"
      }
    },
    {
      "cell_type": "code",
      "source": [
        "A = np.array([[1, 2, 3], [1, 5, 6], [7, 8, 9]])\n",
        "\n",
        "A_inv = np.linalg.inv(A)\n",
        "\n",
        "I = np.eye(3)\n",
        "\n",
        "A_Ainv = np.matmul(A, A_inv)\n",
        "\n",
        "assert np.allclose(A_Ainv, I)"
      ],
      "metadata": {
        "id": "aS_94gcjxd7o"
      },
      "execution_count": 243,
      "outputs": []
    },
    {
      "cell_type": "markdown",
      "metadata": {
        "id": "LQnv_p8vxd7o"
      },
      "source": [
        "My own example 11:"
      ]
    },
    {
      "cell_type": "code",
      "execution_count": 244,
      "metadata": {
        "colab": {
          "base_uri": "https://localhost:8080/"
        },
        "outputId": "dec9ecdd-662b-433e-93aa-3e7bc4afdf71",
        "id": "cMMH7HnWxd7o"
      },
      "outputs": [
        {
          "output_type": "stream",
          "name": "stdout",
          "text": [
            "1\n",
            "3\n",
            "5\n",
            "7\n",
            "9\n"
          ]
        }
      ],
      "source": [
        "i = 0\n",
        "\n",
        "while i < len(numbers):\n",
        "    # If the current number is even, skip it\n",
        "    if numbers[i] % 2 == 0:\n",
        "        i += 1\n",
        "        continue\n",
        "    print(numbers[i])\n",
        "    i += 1"
      ]
    },
    {
      "cell_type": "markdown",
      "metadata": {
        "id": "w9tigs4Hxd7o"
      },
      "source": [
        "My own example 12:"
      ]
    },
    {
      "cell_type": "code",
      "execution_count": 245,
      "metadata": {
        "colab": {
          "base_uri": "https://localhost:8080/"
        },
        "outputId": "15d003a2-c807-45c9-ec5b-183f59a0fc81",
        "id": "O6DNOrCpxd7o"
      },
      "outputs": [
        {
          "output_type": "execute_result",
          "data": {
            "text/plain": [
              "{2, 3, 5, 7, 11, 13, 17, 19, 23, 29, 31}"
            ]
          },
          "metadata": {},
          "execution_count": 245
        }
      ],
      "source": [
        "prime_numbers = {2, 3, 5, 7, 11, 13, 17, 19, 23, 29, 31}\n",
        "prime_numbers.difference(evens)"
      ]
    },
    {
      "cell_type": "markdown",
      "metadata": {
        "id": "5qMrZABoxd7p"
      },
      "source": [
        "My own example 13:"
      ]
    },
    {
      "cell_type": "code",
      "execution_count": 246,
      "metadata": {
        "colab": {
          "base_uri": "https://localhost:8080/"
        },
        "outputId": "6b0d5729-6570-4913-e7a5-838047d66844",
        "id": "YnxBzrNsxd7p"
      },
      "outputs": [
        {
          "output_type": "stream",
          "name": "stdout",
          "text": [
            "John: 90\n",
            "Alice: 85\n",
            "Bob: 70\n"
          ]
        }
      ],
      "source": [
        "students = {\"John\": 90, \"Alice\": 85, \"Bob\": 70}\n",
        "\n",
        "for k,v in students.items():\n",
        "  print(k + \": \" + str(v))"
      ]
    },
    {
      "cell_type": "markdown",
      "metadata": {
        "id": "XqNenWv9xd7p"
      },
      "source": [
        "My own example 14:"
      ]
    },
    {
      "cell_type": "code",
      "execution_count": 247,
      "metadata": {
        "colab": {
          "base_uri": "https://localhost:8080/"
        },
        "outputId": "cb038325-ea25-4c4b-daa1-83b4104ef580",
        "id": "fMUaT6z6xd7p"
      },
      "outputs": [
        {
          "output_type": "stream",
          "name": "stdout",
          "text": [
            "1\n",
            "2\n",
            "3\n",
            "4\n",
            "5\n"
          ]
        }
      ],
      "source": [
        "numbers = [1, 2, 3, 4, 5, 6, 7, 8, 9, 10]\n",
        "\n",
        "for num in numbers:\n",
        "    # Break out of the loop if we reach a number greater than 5\n",
        "    if num > 5:\n",
        "        break\n",
        "    print(num)"
      ]
    },
    {
      "cell_type": "markdown",
      "metadata": {
        "id": "ogAEzzoAxd7p"
      },
      "source": [
        "My own example 15:"
      ]
    },
    {
      "cell_type": "code",
      "execution_count": 248,
      "metadata": {
        "colab": {
          "base_uri": "https://localhost:8080/"
        },
        "outputId": "9743e5d3-4f7d-4716-8b4d-70825af328e6",
        "id": "TMRRt658xd7p"
      },
      "outputs": [
        {
          "output_type": "stream",
          "name": "stdout",
          "text": [
            "1\n",
            "3\n",
            "5\n",
            "7\n",
            "9\n"
          ]
        }
      ],
      "source": [
        "i = 0\n",
        "\n",
        "while i < len(numbers):\n",
        "    # If the current number is even, skip it\n",
        "    if numbers[i] % 2 == 0:\n",
        "        i += 1\n",
        "        continue\n",
        "    print(numbers[i])\n",
        "    i += 1"
      ]
    },
    {
      "cell_type": "markdown",
      "source": [
        "My own example 16:"
      ],
      "metadata": {
        "id": "eErmRc0Qxd7p"
      }
    },
    {
      "cell_type": "code",
      "source": [
        "grades = {'Alice': 85, 'Bob': 92, 'Charlie': 78, 'David': 80}\n",
        "\n",
        "for name, grade in grades.items():\n",
        "    # If the grade is below 80, break out of the loop\n",
        "    if grade < 80:\n",
        "        print(name + ' has a failing grade')\n",
        "        break\n",
        "    print(name + ' has a passing grade')"
      ],
      "metadata": {
        "colab": {
          "base_uri": "https://localhost:8080/"
        },
        "outputId": "d9ad03d6-f192-4289-fe02-09b803ece844",
        "id": "oTSh871Zxd7p"
      },
      "execution_count": 249,
      "outputs": [
        {
          "output_type": "stream",
          "name": "stdout",
          "text": [
            "Alice has a passing grade\n",
            "Bob has a passing grade\n",
            "Charlie has a failing grade\n"
          ]
        }
      ]
    },
    {
      "cell_type": "markdown",
      "metadata": {
        "id": "apaWjq3Fxd7q"
      },
      "source": [
        "My own example 17:"
      ]
    },
    {
      "cell_type": "code",
      "execution_count": 250,
      "metadata": {
        "colab": {
          "base_uri": "https://localhost:8080/",
          "height": 35
        },
        "outputId": "2bf5d9e2-551b-488b-ab05-0f5c383054b2",
        "id": "t6lCEegixd7q"
      },
      "outputs": [
        {
          "output_type": "execute_result",
          "data": {
            "text/plain": [
              "'blue'"
            ],
            "application/vnd.google.colaboratory.intrinsic+json": {
              "type": "string"
            }
          },
          "metadata": {},
          "execution_count": 250
        }
      ],
      "source": [
        "colors = (\"red\", \"green\", \"blue\")\n",
        "colors[2]"
      ]
    },
    {
      "cell_type": "markdown",
      "metadata": {
        "id": "5ha2HbJRxd7q"
      },
      "source": [
        "My own example 18:"
      ]
    },
    {
      "cell_type": "code",
      "execution_count": 251,
      "metadata": {
        "colab": {
          "base_uri": "https://localhost:8080/"
        },
        "outputId": "d4773bb4-2fb7-4efc-bf4d-959e5dccb9a3",
        "id": "yeB6u8_wxd7q"
      },
      "outputs": [
        {
          "output_type": "execute_result",
          "data": {
            "text/plain": [
              "{2, 3, 5, 7, 11, 13, 17, 19, 23, 29, 31}"
            ]
          },
          "metadata": {},
          "execution_count": 251
        }
      ],
      "source": [
        "prime_numbers = {2, 3, 5, 7, 11, 13, 17, 19, 23, 29, 31}\n",
        "prime_numbers.difference(evens)"
      ]
    },
    {
      "cell_type": "markdown",
      "metadata": {
        "id": "wfh9kB5Mxd7q"
      },
      "source": [
        "My own example 19:"
      ]
    },
    {
      "cell_type": "code",
      "execution_count": 252,
      "metadata": {
        "colab": {
          "base_uri": "https://localhost:8080/"
        },
        "outputId": "b589fe61-672d-4607-ca37-ef23fa213825",
        "id": "cCjtLuFOxd7q"
      },
      "outputs": [
        {
          "output_type": "stream",
          "name": "stdout",
          "text": [
            "John: 90\n",
            "Alice: 85\n",
            "Bob: 70\n"
          ]
        }
      ],
      "source": [
        "students = {\"John\": 90, \"Alice\": 85, \"Bob\": 70}\n",
        "\n",
        "for k,v in students.items():\n",
        "  print(k + \": \" + str(v))"
      ]
    },
    {
      "cell_type": "markdown",
      "metadata": {
        "id": "ClbDQ2oExd7q"
      },
      "source": [
        "My own example 20:"
      ]
    },
    {
      "cell_type": "code",
      "execution_count": 253,
      "metadata": {
        "colab": {
          "base_uri": "https://localhost:8080/"
        },
        "outputId": "94448e40-8580-4ba5-e15f-4a1b6ae20e27",
        "id": "zEFTJg5Axd7q"
      },
      "outputs": [
        {
          "output_type": "stream",
          "name": "stdout",
          "text": [
            "1\n",
            "2\n",
            "3\n",
            "4\n",
            "5\n"
          ]
        }
      ],
      "source": [
        "numbers = [1, 2, 3, 4, 5, 6, 7, 8, 9, 10]\n",
        "\n",
        "for num in numbers:\n",
        "    # Break out of the loop if we reach a number greater than 5\n",
        "    if num > 5:\n",
        "        break\n",
        "    print(num)"
      ]
    },
    {
      "cell_type": "markdown",
      "source": [
        "## Plotting Data"
      ],
      "metadata": {
        "id": "tGS5d2Zljn9I"
      }
    },
    {
      "cell_type": "markdown",
      "source": [
        "My own example 1:"
      ],
      "metadata": {
        "id": "moogSX9Dx_4R"
      }
    },
    {
      "cell_type": "code",
      "source": [
        "tesla = yf.Ticker(\"TSLA\")\n",
        "tesla_df = tesla.history(period=\"max\")\n",
        "\n",
        "tesla_df[\"Daily Return\"] = tesla_df[\"Close\"].pct_change()\n",
        "\n",
        "plt.hist(tesla_df[\"Daily Return\"].dropna(), bins=50)\n",
        "plt.xlabel(\"Daily Return\")\n",
        "plt.ylabel(\"Frequency\")\n",
        "plt.title(\"Tesla Daily Return Histogram\")\n",
        "plt.show()"
      ],
      "metadata": {
        "colab": {
          "base_uri": "https://localhost:8080/",
          "height": 295
        },
        "id": "mIRIA4IaQjoZ",
        "outputId": "d776aebf-b3cd-4975-d661-4ad6c177f160"
      },
      "execution_count": 254,
      "outputs": [
        {
          "output_type": "display_data",
          "data": {
            "text/plain": [
              "<Figure size 432x288 with 1 Axes>"
            ],
            "image/png": "[encoded data removed]"
          },
          "metadata": {
            "needs_background": "light"
          }
        }
      ]
    },
    {
      "cell_type": "markdown",
      "source": [
        "My own example 2:"
      ],
      "metadata": {
        "id": "g5dm_YBnQjvK"
      }
    },
    {
      "cell_type": "code",
      "source": [
        "from bokeh.plotting import figure, show\n",
        "from bokeh.models import HoverTool\n",
        "from bokeh.sampledata.iris import flowers\n",
        "\n",
        "p = figure(title = \"Iris Morphology\")\n",
        "p.circle(flowers[\"petal_length\"], flowers[\"petal_width\"], size=10)\n",
        "\n",
        "hover = HoverTool(tooltips=[(\"Species\", \"@species\"), (\"Petal length\", \"@petal_length\"), (\"Petal width\", \"@petal_width\")])\n",
        "p.add_tools(hover)\n",
        "\n",
        "show(p)"
      ],
      "metadata": {
        "id": "Rtg6MnKbQj04"
      },
      "execution_count": 255,
      "outputs": []
    },
    {
      "cell_type": "markdown",
      "source": [
        "My own example 3:"
      ],
      "metadata": {
        "id": "X_7HvAq4QqM2"
      }
    },
    {
      "cell_type": "code",
      "source": [
        "tickers = [\"AAPL\", \"GOOG\", \"MSFT\", \"AMZN\"]\n",
        "data = yf.download(tickers, start=\"2020-01-01\", end=\"2022-01-01\")\n",
        "\n",
        "close = data.loc[:, \"Close\"]\n",
        "returns = close.pct_change()\n",
        "\n",
        "# Retornos anuales promedio\n",
        "mean_returns = returns.mean() * 252\n",
        "\n",
        "\n",
        "df = pd.DataFrame(mean_returns, columns=[\"mean_return\"])\n",
        "\n",
        "\n",
        "fig, ax = plt.subplots()\n",
        "df.plot(kind=\"bar\", ax=ax, legend=False)\n",
        "ax.set_ylabel(\"Return\")\n",
        "ax.set_title(\"Mean Annual Returns by Stock\")\n",
        "\n",
        "patches, labels = ax.get_legend_handles_labels()\n",
        "ax.legend(patches, labels, loc=\"upper center\", bbox_to_anchor=(0.5, 1.15), ncol=5)\n",
        "\n",
        "plt.savefig(\"investment_returns.png\", dpi=300, bbox_inches=\"tight\")"
      ],
      "metadata": {
        "colab": {
          "base_uri": "https://localhost:8080/",
          "height": 331
        },
        "id": "QtUWcupzRaTR",
        "outputId": "d2e2662a-730d-4c85-899b-e93a0cf7086a"
      },
      "execution_count": 256,
      "outputs": [
        {
          "output_type": "stream",
          "name": "stdout",
          "text": [
            "[*********************100%***********************]  4 of 4 completed\n"
          ]
        },
        {
          "output_type": "display_data",
          "data": {
            "text/plain": [
              "<Figure size 432x288 with 1 Axes>"
            ],
            "image/png": "[encoded data removed]"
          },
          "metadata": {
            "needs_background": "light"
          }
        }
      ]
    },
    {
      "cell_type": "markdown",
      "source": [
        "My own example 4:"
      ],
      "metadata": {
        "id": "uXwAzWq_yeb5"
      }
    },
    {
      "cell_type": "code",
      "source": [
        "import seaborn as sns\n",
        "import pandas as pd\n",
        "\n",
        "df = sns.load_dataset(\"iris\")\n",
        "corr = df.corr()\n",
        "\n",
        "sns.heatmap(corr, annot=True)"
      ],
      "metadata": {
        "colab": {
          "base_uri": "https://localhost:8080/",
          "height": 287
        },
        "id": "WrUslefgyeb5",
        "outputId": "d9c09051-5d1c-40bd-abcb-dc09cb846ba8"
      },
      "execution_count": 257,
      "outputs": [
        {
          "output_type": "execute_result",
          "data": {
            "text/plain": [
              "<matplotlib.axes._subplots.AxesSubplot at 0x7eff91163610>"
            ]
          },
          "metadata": {},
          "execution_count": 257
        },
        {
          "output_type": "display_data",
          "data": {
            "text/plain": [
              "<Figure size 432x288 with 2 Axes>"
            ],
            "image/png": "[encoded data removed]"
          },
          "metadata": {
            "needs_background": "light"
          }
        }
      ]
    },
    {
      "cell_type": "markdown",
      "source": [
        "My own example 5:"
      ],
      "metadata": {
        "id": "7-gnxN6Kyeb6"
      }
    },
    {
      "cell_type": "code",
      "source": [
        "url = 'https://jsonplaceholder.typicode.com/posts'\n",
        "df = pd.read_json(url)\n",
        "\n",
        "x = df['id']\n",
        "y = df['userId']\n",
        "coefficients = np.polyfit(x, y, 1)\n",
        "p = np.poly1d(coefficients)\n",
        "\n",
        "plt.scatter(x, y)\n",
        "plt.plot(x, p(x), color='red')\n",
        "plt.show()"
      ],
      "metadata": {
        "colab": {
          "base_uri": "https://localhost:8080/",
          "height": 265
        },
        "outputId": "e2672a0a-1f1b-4f70-8407-61298a061e25",
        "id": "taD1qFXpyeb6"
      },
      "execution_count": 258,
      "outputs": [
        {
          "output_type": "display_data",
          "data": {
            "text/plain": [
              "<Figure size 432x288 with 1 Axes>"
            ],
            "image/png": "[encoded data removed]"
          },
          "metadata": {
            "needs_background": "light"
          }
        }
      ]
    },
    {
      "cell_type": "markdown",
      "source": [
        "My own example 6:"
      ],
      "metadata": {
        "id": "PRZp7rNIyeb6"
      }
    },
    {
      "cell_type": "code",
      "source": [
        "import seaborn as sns\n",
        "\n",
        "tips = sns.load_dataset(\"tips\")\n",
        "sns.histplot(tips[\"total_bill\"], kde=True)"
      ],
      "metadata": {
        "colab": {
          "base_uri": "https://localhost:8080/",
          "height": 300
        },
        "outputId": "f6335348-d03e-477d-c389-bf6cc9eb4781",
        "id": "BS8r6Usbyeb6"
      },
      "execution_count": 259,
      "outputs": [
        {
          "output_type": "execute_result",
          "data": {
            "text/plain": [
              "<matplotlib.axes._subplots.AxesSubplot at 0x7eff910a1fa0>"
            ]
          },
          "metadata": {},
          "execution_count": 259
        },
        {
          "output_type": "display_data",
          "data": {
            "text/plain": [
              "<Figure size 432x288 with 1 Axes>"
            ],
            "image/png": "[encoded data removed]"
          },
          "metadata": {
            "needs_background": "light"
          }
        }
      ]
    },
    {
      "cell_type": "markdown",
      "source": [
        "My own example 7:"
      ],
      "metadata": {
        "id": "84Hu4OSTyeb6"
      }
    },
    {
      "cell_type": "code",
      "source": [
        "import plotly.express as px\n",
        "import pandas as pd\n",
        "\n",
        "df = pd.DataFrame({\n",
        "    \"x\": [1, 2, 3, 4, 5],\n",
        "    \"y\": [10, 20, 30, 40, 50],\n",
        "    \"size\": [100, 200, 300, 400, 500],\n",
        "    \"color\": [\"red\", \"green\", \"blue\", \"yellow\", \"orange\"]\n",
        "})\n",
        "\n",
        "fig = px.scatter(df, x=\"x\", y=\"y\", size=\"size\", color=\"color\")\n",
        "fig.show()"
      ],
      "metadata": {
        "colab": {
          "base_uri": "https://localhost:8080/",
          "height": 542
        },
        "outputId": "6b2ba4cc-ed93-44d6-a6bf-dd9993976d52",
        "id": "R5c_NMRUyeb6"
      },
      "execution_count": 260,
      "outputs": [
        {
          "output_type": "display_data",
          "data": {
            "text/html": [
              "<html>\n",
              "<head><meta charset=\"utf-8\" /></head>\n",
              "<body>\n",
              "    <div>            <script src=\"https://cdnjs.cloudflare.com/ajax/libs/mathjax/2.7.5/MathJax.js?config=TeX-AMS-MML_SVG\"></script><script type=\"text/javascript\">if (window.MathJax) {MathJax.Hub.Config({SVG: {font: \"STIX-Web\"}});}</script>                <script type=\"text/javascript\">window.PlotlyConfig = {MathJaxConfig: 'local'};</script>\n",
              "        <script src=\"https://cdn.plot.ly/plotly-2.8.3.min.js\"></script>                <div id=\"26abc136-bde3-4743-9e22-80e2b40547fd\" class=\"plotly-graph-div\" style=\"height:525px; width:100%;\"></div>            <script type=\"text/javascript\">                                    window.PLOTLYENV=window.PLOTLYENV || {};                                    if (document.getElementById(\"26abc136-bde3-4743-9e22-80e2b40547fd\")) {                    Plotly.newPlot(                        \"26abc136-bde3-4743-9e22-80e2b40547fd\",                        [{\"hovertemplate\":\"color=red<br>x=%{x}<br>y=%{y}<br>size=%{marker.size}<extra></extra>\",\"legendgroup\":\"red\",\"marker\":{\"color\":\"#636efa\",\"size\":[100],\"sizemode\":\"area\",\"sizeref\":1.25,\"symbol\":\"circle\"},\"mode\":\"markers\",\"name\":\"red\",\"orientation\":\"v\",\"showlegend\":true,\"x\":[1],\"xaxis\":\"x\",\"y\":[10],\"yaxis\":\"y\",\"type\":\"scatter\"},{\"hovertemplate\":\"color=green<br>x=%{x}<br>y=%{y}<br>size=%{marker.size}<extra></extra>\",\"legendgroup\":\"green\",\"marker\":{\"color\":\"#EF553B\",\"size\":[200],\"sizemode\":\"area\",\"sizeref\":1.25,\"symbol\":\"circle\"},\"mode\":\"markers\",\"name\":\"green\",\"orientation\":\"v\",\"showlegend\":true,\"x\":[2],\"xaxis\":\"x\",\"y\":[20],\"yaxis\":\"y\",\"type\":\"scatter\"},{\"hovertemplate\":\"color=blue<br>x=%{x}<br>y=%{y}<br>size=%{marker.size}<extra></extra>\",\"legendgroup\":\"blue\",\"marker\":{\"color\":\"#00cc96\",\"size\":[300],\"sizemode\":\"area\",\"sizeref\":1.25,\"symbol\":\"circle\"},\"mode\":\"markers\",\"name\":\"blue\",\"orientation\":\"v\",\"showlegend\":true,\"x\":[3],\"xaxis\":\"x\",\"y\":[30],\"yaxis\":\"y\",\"type\":\"scatter\"},{\"hovertemplate\":\"color=yellow<br>x=%{x}<br>y=%{y}<br>size=%{marker.size}<extra></extra>\",\"legendgroup\":\"yellow\",\"marker\":{\"color\":\"#ab63fa\",\"size\":[400],\"sizemode\":\"area\",\"sizeref\":1.25,\"symbol\":\"circle\"},\"mode\":\"markers\",\"name\":\"yellow\",\"orientation\":\"v\",\"showlegend\":true,\"x\":[4],\"xaxis\":\"x\",\"y\":[40],\"yaxis\":\"y\",\"type\":\"scatter\"},{\"hovertemplate\":\"color=orange<br>x=%{x}<br>y=%{y}<br>size=%{marker.size}<extra></extra>\",\"legendgroup\":\"orange\",\"marker\":{\"color\":\"#FFA15A\",\"size\":[500],\"sizemode\":\"area\",\"sizeref\":1.25,\"symbol\":\"circle\"},\"mode\":\"markers\",\"name\":\"orange\",\"orientation\":\"v\",\"showlegend\":true,\"x\":[5],\"xaxis\":\"x\",\"y\":[50],\"yaxis\":\"y\",\"type\":\"scatter\"}],                        {\"template\":{\"data\":{\"bar\":[{\"error_x\":{\"color\":\"#2a3f5f\"},\"error_y\":{\"color\":\"#2a3f5f\"},\"marker\":{\"line\":{\"color\":\"#E5ECF6\",\"width\":0.5},\"pattern\":{\"fillmode\":\"overlay\",\"size\":10,\"solidity\":0.2}},\"type\":\"bar\"}],\"barpolar\":[{\"marker\":{\"line\":{\"color\":\"#E5ECF6\",\"width\":0.5},\"pattern\":{\"fillmode\":\"overlay\",\"size\":10,\"solidity\":0.2}},\"type\":\"barpolar\"}],\"carpet\":[{\"aaxis\":{\"endlinecolor\":\"#2a3f5f\",\"gridcolor\":\"white\",\"linecolor\":\"white\",\"minorgridcolor\":\"white\",\"startlinecolor\":\"#2a3f5f\"},\"baxis\":{\"endlinecolor\":\"#2a3f5f\",\"gridcolor\":\"white\",\"linecolor\":\"white\",\"minorgridcolor\":\"white\",\"startlinecolor\":\"#2a3f5f\"},\"type\":\"carpet\"}],\"choropleth\":[{\"colorbar\":{\"outlinewidth\":0,\"ticks\":\"\"},\"type\":\"choropleth\"}],\"contour\":[{\"colorbar\":{\"outlinewidth\":0,\"ticks\":\"\"},\"colorscale\":[[0.0,\"#0d0887\"],[0.1111111111111111,\"#46039f\"],[0.2222222222222222,\"#7201a8\"],[0.3333333333333333,\"#9c179e\"],[0.4444444444444444,\"#bd3786\"],[0.5555555555555556,\"#d8576b\"],[0.6666666666666666,\"#ed7953\"],[0.7777777777777778,\"#fb9f3a\"],[0.8888888888888888,\"#fdca26\"],[1.0,\"#f0f921\"]],\"type\":\"contour\"}],\"contourcarpet\":[{\"colorbar\":{\"outlinewidth\":0,\"ticks\":\"\"},\"type\":\"contourcarpet\"}],\"heatmap\":[{\"colorbar\":{\"outlinewidth\":0,\"ticks\":\"\"},\"colorscale\":[[0.0,\"#0d0887\"],[0.1111111111111111,\"#46039f\"],[0.2222222222222222,\"#7201a8\"],[0.3333333333333333,\"#9c179e\"],[0.4444444444444444,\"#bd3786\"],[0.5555555555555556,\"#d8576b\"],[0.6666666666666666,\"#ed7953\"],[0.7777777777777778,\"#fb9f3a\"],[0.8888888888888888,\"#fdca26\"],[1.0,\"#f0f921\"]],\"type\":\"heatmap\"}],\"heatmapgl\":[{\"colorbar\":{\"outlinewidth\":0,\"ticks\":\"\"},\"colorscale\":[[0.0,\"#0d0887\"],[0.1111111111111111,\"#46039f\"],[0.2222222222222222,\"#7201a8\"],[0.3333333333333333,\"#9c179e\"],[0.4444444444444444,\"#bd3786\"],[0.5555555555555556,\"#d8576b\"],[0.6666666666666666,\"#ed7953\"],[0.7777777777777778,\"#fb9f3a\"],[0.8888888888888888,\"#fdca26\"],[1.0,\"#f0f921\"]],\"type\":\"heatmapgl\"}],\"histogram\":[{\"marker\":{\"pattern\":{\"fillmode\":\"overlay\",\"size\":10,\"solidity\":0.2}},\"type\":\"histogram\"}],\"histogram2d\":[{\"colorbar\":{\"outlinewidth\":0,\"ticks\":\"\"},\"colorscale\":[[0.0,\"#0d0887\"],[0.1111111111111111,\"#46039f\"],[0.2222222222222222,\"#7201a8\"],[0.3333333333333333,\"#9c179e\"],[0.4444444444444444,\"#bd3786\"],[0.5555555555555556,\"#d8576b\"],[0.6666666666666666,\"#ed7953\"],[0.7777777777777778,\"#fb9f3a\"],[0.8888888888888888,\"#fdca26\"],[1.0,\"#f0f921\"]],\"type\":\"histogram2d\"}],\"histogram2dcontour\":[{\"colorbar\":{\"outlinewidth\":0,\"ticks\":\"\"},\"colorscale\":[[0.0,\"#0d0887\"],[0.1111111111111111,\"#46039f\"],[0.2222222222222222,\"#7201a8\"],[0.3333333333333333,\"#9c179e\"],[0.4444444444444444,\"#bd3786\"],[0.5555555555555556,\"#d8576b\"],[0.6666666666666666,\"#ed7953\"],[0.7777777777777778,\"#fb9f3a\"],[0.8888888888888888,\"#fdca26\"],[1.0,\"#f0f921\"]],\"type\":\"histogram2dcontour\"}],\"mesh3d\":[{\"colorbar\":{\"outlinewidth\":0,\"ticks\":\"\"},\"type\":\"mesh3d\"}],\"parcoords\":[{\"line\":{\"colorbar\":{\"outlinewidth\":0,\"ticks\":\"\"}},\"type\":\"parcoords\"}],\"pie\":[{\"automargin\":true,\"type\":\"pie\"}],\"scatter\":[{\"marker\":{\"colorbar\":{\"outlinewidth\":0,\"ticks\":\"\"}},\"type\":\"scatter\"}],\"scatter3d\":[{\"line\":{\"colorbar\":{\"outlinewidth\":0,\"ticks\":\"\"}},\"marker\":{\"colorbar\":{\"outlinewidth\":0,\"ticks\":\"\"}},\"type\":\"scatter3d\"}],\"scattercarpet\":[{\"marker\":{\"colorbar\":{\"outlinewidth\":0,\"ticks\":\"\"}},\"type\":\"scattercarpet\"}],\"scattergeo\":[{\"marker\":{\"colorbar\":{\"outlinewidth\":0,\"ticks\":\"\"}},\"type\":\"scattergeo\"}],\"scattergl\":[{\"marker\":{\"colorbar\":{\"outlinewidth\":0,\"ticks\":\"\"}},\"type\":\"scattergl\"}],\"scattermapbox\":[{\"marker\":{\"colorbar\":{\"outlinewidth\":0,\"ticks\":\"\"}},\"type\":\"scattermapbox\"}],\"scatterpolar\":[{\"marker\":{\"colorbar\":{\"outlinewidth\":0,\"ticks\":\"\"}},\"type\":\"scatterpolar\"}],\"scatterpolargl\":[{\"marker\":{\"colorbar\":{\"outlinewidth\":0,\"ticks\":\"\"}},\"type\":\"scatterpolargl\"}],\"scatterternary\":[{\"marker\":{\"colorbar\":{\"outlinewidth\":0,\"ticks\":\"\"}},\"type\":\"scatterternary\"}],\"surface\":[{\"colorbar\":{\"outlinewidth\":0,\"ticks\":\"\"},\"colorscale\":[[0.0,\"#0d0887\"],[0.1111111111111111,\"#46039f\"],[0.2222222222222222,\"#7201a8\"],[0.3333333333333333,\"#9c179e\"],[0.4444444444444444,\"#bd3786\"],[0.5555555555555556,\"#d8576b\"],[0.6666666666666666,\"#ed7953\"],[0.7777777777777778,\"#fb9f3a\"],[0.8888888888888888,\"#fdca26\"],[1.0,\"#f0f921\"]],\"type\":\"surface\"}],\"table\":[{\"cells\":{\"fill\":{\"color\":\"#EBF0F8\"},\"line\":{\"color\":\"white\"}},\"header\":{\"fill\":{\"color\":\"#C8D4E3\"},\"line\":{\"color\":\"white\"}},\"type\":\"table\"}]},\"layout\":{\"annotationdefaults\":{\"arrowcolor\":\"#2a3f5f\",\"arrowhead\":0,\"arrowwidth\":1},\"autotypenumbers\":\"strict\",\"coloraxis\":{\"colorbar\":{\"outlinewidth\":0,\"ticks\":\"\"}},\"colorscale\":{\"diverging\":[[0,\"#8e0152\"],[0.1,\"#c51b7d\"],[0.2,\"#de77ae\"],[0.3,\"#f1b6da\"],[0.4,\"#fde0ef\"],[0.5,\"#f7f7f7\"],[0.6,\"#e6f5d0\"],[0.7,\"#b8e186\"],[0.8,\"#7fbc41\"],[0.9,\"#4d9221\"],[1,\"#276419\"]],\"sequential\":[[0.0,\"#0d0887\"],[0.1111111111111111,\"#46039f\"],[0.2222222222222222,\"#7201a8\"],[0.3333333333333333,\"#9c179e\"],[0.4444444444444444,\"#bd3786\"],[0.5555555555555556,\"#d8576b\"],[0.6666666666666666,\"#ed7953\"],[0.7777777777777778,\"#fb9f3a\"],[0.8888888888888888,\"#fdca26\"],[1.0,\"#f0f921\"]],\"sequentialminus\":[[0.0,\"#0d0887\"],[0.1111111111111111,\"#46039f\"],[0.2222222222222222,\"#7201a8\"],[0.3333333333333333,\"#9c179e\"],[0.4444444444444444,\"#bd3786\"],[0.5555555555555556,\"#d8576b\"],[0.6666666666666666,\"#ed7953\"],[0.7777777777777778,\"#fb9f3a\"],[0.8888888888888888,\"#fdca26\"],[1.0,\"#f0f921\"]]},\"colorway\":[\"#636efa\",\"#EF553B\",\"#00cc96\",\"#ab63fa\",\"#FFA15A\",\"#19d3f3\",\"#FF6692\",\"#B6E880\",\"#FF97FF\",\"#FECB52\"],\"font\":{\"color\":\"#2a3f5f\"},\"geo\":{\"bgcolor\":\"white\",\"lakecolor\":\"white\",\"landcolor\":\"#E5ECF6\",\"showlakes\":true,\"showland\":true,\"subunitcolor\":\"white\"},\"hoverlabel\":{\"align\":\"left\"},\"hovermode\":\"closest\",\"mapbox\":{\"style\":\"light\"},\"paper_bgcolor\":\"white\",\"plot_bgcolor\":\"#E5ECF6\",\"polar\":{\"angularaxis\":{\"gridcolor\":\"white\",\"linecolor\":\"white\",\"ticks\":\"\"},\"bgcolor\":\"#E5ECF6\",\"radialaxis\":{\"gridcolor\":\"white\",\"linecolor\":\"white\",\"ticks\":\"\"}},\"scene\":{\"xaxis\":{\"backgroundcolor\":\"#E5ECF6\",\"gridcolor\":\"white\",\"gridwidth\":2,\"linecolor\":\"white\",\"showbackground\":true,\"ticks\":\"\",\"zerolinecolor\":\"white\"},\"yaxis\":{\"backgroundcolor\":\"#E5ECF6\",\"gridcolor\":\"white\",\"gridwidth\":2,\"linecolor\":\"white\",\"showbackground\":true,\"ticks\":\"\",\"zerolinecolor\":\"white\"},\"zaxis\":{\"backgroundcolor\":\"#E5ECF6\",\"gridcolor\":\"white\",\"gridwidth\":2,\"linecolor\":\"white\",\"showbackground\":true,\"ticks\":\"\",\"zerolinecolor\":\"white\"}},\"shapedefaults\":{\"line\":{\"color\":\"#2a3f5f\"}},\"ternary\":{\"aaxis\":{\"gridcolor\":\"white\",\"linecolor\":\"white\",\"ticks\":\"\"},\"baxis\":{\"gridcolor\":\"white\",\"linecolor\":\"white\",\"ticks\":\"\"},\"bgcolor\":\"#E5ECF6\",\"caxis\":{\"gridcolor\":\"white\",\"linecolor\":\"white\",\"ticks\":\"\"}},\"title\":{\"x\":0.05},\"xaxis\":{\"automargin\":true,\"gridcolor\":\"white\",\"linecolor\":\"white\",\"ticks\":\"\",\"title\":{\"standoff\":15},\"zerolinecolor\":\"white\",\"zerolinewidth\":2},\"yaxis\":{\"automargin\":true,\"gridcolor\":\"white\",\"linecolor\":\"white\",\"ticks\":\"\",\"title\":{\"standoff\":15},\"zerolinecolor\":\"white\",\"zerolinewidth\":2}}},\"xaxis\":{\"anchor\":\"y\",\"domain\":[0.0,1.0],\"title\":{\"text\":\"x\"}},\"yaxis\":{\"anchor\":\"x\",\"domain\":[0.0,1.0],\"title\":{\"text\":\"y\"}},\"legend\":{\"title\":{\"text\":\"color\"},\"tracegroupgap\":0,\"itemsizing\":\"constant\"},\"margin\":{\"t\":60}},                        {\"responsive\": true}                    ).then(function(){\n",
              "                            \n",
              "var gd = document.getElementById('26abc136-bde3-4743-9e22-80e2b40547fd');\n",
              "var x = new MutationObserver(function (mutations, observer) {{\n",
              "        var display = window.getComputedStyle(gd).display;\n",
              "        if (!display || display === 'none') {{\n",
              "            console.log([gd, 'removed!']);\n",
              "            Plotly.purge(gd);\n",
              "            observer.disconnect();\n",
              "        }}\n",
              "}});\n",
              "\n",
              "// Listen for the removal of the full notebook cells\n",
              "var notebookContainer = gd.closest('#notebook-container');\n",
              "if (notebookContainer) {{\n",
              "    x.observe(notebookContainer, {childList: true});\n",
              "}}\n",
              "\n",
              "// Listen for the clearing of the current output cell\n",
              "var outputEl = gd.closest('.output');\n",
              "if (outputEl) {{\n",
              "    x.observe(outputEl, {childList: true});\n",
              "}}\n",
              "\n",
              "                        })                };                            </script>        </div>\n",
              "</body>\n",
              "</html>"
            ]
          },
          "metadata": {}
        }
      ]
    },
    {
      "cell_type": "markdown",
      "source": [
        "My own example 8:"
      ],
      "metadata": {
        "id": "dYayHXyryeb7"
      }
    },
    {
      "cell_type": "code",
      "source": [
        "import plotly.graph_objs as go\n",
        "import numpy as np\n",
        "\n",
        "z = np.random.rand(10, 10)\n",
        "\n",
        "fig = go.Figure(data=go.Heatmap(z=z))\n",
        "fig.show()"
      ],
      "metadata": {
        "colab": {
          "base_uri": "https://localhost:8080/",
          "height": 542
        },
        "outputId": "4d98d2be-50de-4209-8942-75c1481527fd",
        "id": "Vq9hegpLyeb7"
      },
      "execution_count": 261,
      "outputs": [
        {
          "output_type": "display_data",
          "data": {
            "text/html": [
              "<html>\n",
              "<head><meta charset=\"utf-8\" /></head>\n",
              "<body>\n",
              "    <div>            <script src=\"https://cdnjs.cloudflare.com/ajax/libs/mathjax/2.7.5/MathJax.js?config=TeX-AMS-MML_SVG\"></script><script type=\"text/javascript\">if (window.MathJax) {MathJax.Hub.Config({SVG: {font: \"STIX-Web\"}});}</script>                <script type=\"text/javascript\">window.PlotlyConfig = {MathJaxConfig: 'local'};</script>\n",
              "        <script src=\"https://cdn.plot.ly/plotly-2.8.3.min.js\"></script>                <div id=\"67ef6991-f5b2-4c50-8870-313d40b314b1\" class=\"plotly-graph-div\" style=\"height:525px; width:100%;\"></div>            <script type=\"text/javascript\">                                    window.PLOTLYENV=window.PLOTLYENV || {};                                    if (document.getElementById(\"67ef6991-f5b2-4c50-8870-313d40b314b1\")) {                    Plotly.newPlot(                        \"67ef6991-f5b2-4c50-8870-313d40b314b1\",                        [{\"z\":[[0.9653445496858679,0.8449552891493147,0.1271085472946265,0.25590293386928054,0.07115205765750221,0.45394200240408544,0.14779904347419726,0.266047008966641,0.5926745471176479,0.5556791377339696],[0.4095518210648914,0.5628569591881534,0.7173005879519011,0.5435748019716279,0.9807665257244729,0.8740561412166924,0.4753086622156918,0.30488932098689003,0.18001241475131946,0.20464812857752557],[0.5079501284610978,0.8969288866669145,0.9580728189146037,0.8128026016607629,0.10096674366089886,0.8605260165355513,0.35728408769494524,0.15923514418791718,0.996960320577647,0.13579940613491226],[0.752461794561746,0.23235694201981316,0.8325898203651549,0.3490310082903736,0.03741323127127205,0.9101375182970535,0.5123275316285024,0.22430803294049795,0.05999512039053956,0.18705384030657624],[0.7888798678183094,0.8951536133141111,0.2688274210643439,0.9696169682348561,0.47206197583123555,0.6163802208005591,0.07912282952483962,0.6177524957679643,0.40099986989214254,0.7296780914935914],[0.2787786600521679,0.3463294351801598,0.3773793706892048,0.3402709723865349,0.8491818657261316,0.9977712240664481,0.0522326710560016,0.31334795730956266,0.5446522027258959,0.9411638621447741],[0.4206670211339628,0.9666102834723322,0.9637870903756908,0.1871853337711371,0.18575060932257526,0.391214335398281,0.5697286925584104,0.6163002965651683,0.7966715122483284,0.9873867073584724],[0.5203996131475801,0.2474363205036576,0.3727033910195896,0.5977422836709354,0.278532839009482,0.14509591578351455,0.0810949393845738,0.896694500030551,0.11409913318548726,0.9793060828429879],[0.7061383218078591,0.7573832215907036,0.5527003630245069,0.26267506959523523,0.0903905378549168,0.4574016394289,0.4717616098940022,0.5832907441360791,0.2228794429252886,0.39318480384346066],[0.3814076634655116,0.016433969460456277,0.7167320575804398,0.3469709536753294,0.19718183347360174,0.9352763462995455,0.36657567484563536,0.03908053550834678,0.8001523276132361,0.033062341969692155]],\"type\":\"heatmap\"}],                        {\"template\":{\"data\":{\"bar\":[{\"error_x\":{\"color\":\"#2a3f5f\"},\"error_y\":{\"color\":\"#2a3f5f\"},\"marker\":{\"line\":{\"color\":\"#E5ECF6\",\"width\":0.5},\"pattern\":{\"fillmode\":\"overlay\",\"size\":10,\"solidity\":0.2}},\"type\":\"bar\"}],\"barpolar\":[{\"marker\":{\"line\":{\"color\":\"#E5ECF6\",\"width\":0.5},\"pattern\":{\"fillmode\":\"overlay\",\"size\":10,\"solidity\":0.2}},\"type\":\"barpolar\"}],\"carpet\":[{\"aaxis\":{\"endlinecolor\":\"#2a3f5f\",\"gridcolor\":\"white\",\"linecolor\":\"white\",\"minorgridcolor\":\"white\",\"startlinecolor\":\"#2a3f5f\"},\"baxis\":{\"endlinecolor\":\"#2a3f5f\",\"gridcolor\":\"white\",\"linecolor\":\"white\",\"minorgridcolor\":\"white\",\"startlinecolor\":\"#2a3f5f\"},\"type\":\"carpet\"}],\"choropleth\":[{\"colorbar\":{\"outlinewidth\":0,\"ticks\":\"\"},\"type\":\"choropleth\"}],\"contour\":[{\"colorbar\":{\"outlinewidth\":0,\"ticks\":\"\"},\"colorscale\":[[0.0,\"#0d0887\"],[0.1111111111111111,\"#46039f\"],[0.2222222222222222,\"#7201a8\"],[0.3333333333333333,\"#9c179e\"],[0.4444444444444444,\"#bd3786\"],[0.5555555555555556,\"#d8576b\"],[0.6666666666666666,\"#ed7953\"],[0.7777777777777778,\"#fb9f3a\"],[0.8888888888888888,\"#fdca26\"],[1.0,\"#f0f921\"]],\"type\":\"contour\"}],\"contourcarpet\":[{\"colorbar\":{\"outlinewidth\":0,\"ticks\":\"\"},\"type\":\"contourcarpet\"}],\"heatmap\":[{\"colorbar\":{\"outlinewidth\":0,\"ticks\":\"\"},\"colorscale\":[[0.0,\"#0d0887\"],[0.1111111111111111,\"#46039f\"],[0.2222222222222222,\"#7201a8\"],[0.3333333333333333,\"#9c179e\"],[0.4444444444444444,\"#bd3786\"],[0.5555555555555556,\"#d8576b\"],[0.6666666666666666,\"#ed7953\"],[0.7777777777777778,\"#fb9f3a\"],[0.8888888888888888,\"#fdca26\"],[1.0,\"#f0f921\"]],\"type\":\"heatmap\"}],\"heatmapgl\":[{\"colorbar\":{\"outlinewidth\":0,\"ticks\":\"\"},\"colorscale\":[[0.0,\"#0d0887\"],[0.1111111111111111,\"#46039f\"],[0.2222222222222222,\"#7201a8\"],[0.3333333333333333,\"#9c179e\"],[0.4444444444444444,\"#bd3786\"],[0.5555555555555556,\"#d8576b\"],[0.6666666666666666,\"#ed7953\"],[0.7777777777777778,\"#fb9f3a\"],[0.8888888888888888,\"#fdca26\"],[1.0,\"#f0f921\"]],\"type\":\"heatmapgl\"}],\"histogram\":[{\"marker\":{\"pattern\":{\"fillmode\":\"overlay\",\"size\":10,\"solidity\":0.2}},\"type\":\"histogram\"}],\"histogram2d\":[{\"colorbar\":{\"outlinewidth\":0,\"ticks\":\"\"},\"colorscale\":[[0.0,\"#0d0887\"],[0.1111111111111111,\"#46039f\"],[0.2222222222222222,\"#7201a8\"],[0.3333333333333333,\"#9c179e\"],[0.4444444444444444,\"#bd3786\"],[0.5555555555555556,\"#d8576b\"],[0.6666666666666666,\"#ed7953\"],[0.7777777777777778,\"#fb9f3a\"],[0.8888888888888888,\"#fdca26\"],[1.0,\"#f0f921\"]],\"type\":\"histogram2d\"}],\"histogram2dcontour\":[{\"colorbar\":{\"outlinewidth\":0,\"ticks\":\"\"},\"colorscale\":[[0.0,\"#0d0887\"],[0.1111111111111111,\"#46039f\"],[0.2222222222222222,\"#7201a8\"],[0.3333333333333333,\"#9c179e\"],[0.4444444444444444,\"#bd3786\"],[0.5555555555555556,\"#d8576b\"],[0.6666666666666666,\"#ed7953\"],[0.7777777777777778,\"#fb9f3a\"],[0.8888888888888888,\"#fdca26\"],[1.0,\"#f0f921\"]],\"type\":\"histogram2dcontour\"}],\"mesh3d\":[{\"colorbar\":{\"outlinewidth\":0,\"ticks\":\"\"},\"type\":\"mesh3d\"}],\"parcoords\":[{\"line\":{\"colorbar\":{\"outlinewidth\":0,\"ticks\":\"\"}},\"type\":\"parcoords\"}],\"pie\":[{\"automargin\":true,\"type\":\"pie\"}],\"scatter\":[{\"marker\":{\"colorbar\":{\"outlinewidth\":0,\"ticks\":\"\"}},\"type\":\"scatter\"}],\"scatter3d\":[{\"line\":{\"colorbar\":{\"outlinewidth\":0,\"ticks\":\"\"}},\"marker\":{\"colorbar\":{\"outlinewidth\":0,\"ticks\":\"\"}},\"type\":\"scatter3d\"}],\"scattercarpet\":[{\"marker\":{\"colorbar\":{\"outlinewidth\":0,\"ticks\":\"\"}},\"type\":\"scattercarpet\"}],\"scattergeo\":[{\"marker\":{\"colorbar\":{\"outlinewidth\":0,\"ticks\":\"\"}},\"type\":\"scattergeo\"}],\"scattergl\":[{\"marker\":{\"colorbar\":{\"outlinewidth\":0,\"ticks\":\"\"}},\"type\":\"scattergl\"}],\"scattermapbox\":[{\"marker\":{\"colorbar\":{\"outlinewidth\":0,\"ticks\":\"\"}},\"type\":\"scattermapbox\"}],\"scatterpolar\":[{\"marker\":{\"colorbar\":{\"outlinewidth\":0,\"ticks\":\"\"}},\"type\":\"scatterpolar\"}],\"scatterpolargl\":[{\"marker\":{\"colorbar\":{\"outlinewidth\":0,\"ticks\":\"\"}},\"type\":\"scatterpolargl\"}],\"scatterternary\":[{\"marker\":{\"colorbar\":{\"outlinewidth\":0,\"ticks\":\"\"}},\"type\":\"scatterternary\"}],\"surface\":[{\"colorbar\":{\"outlinewidth\":0,\"ticks\":\"\"},\"colorscale\":[[0.0,\"#0d0887\"],[0.1111111111111111,\"#46039f\"],[0.2222222222222222,\"#7201a8\"],[0.3333333333333333,\"#9c179e\"],[0.4444444444444444,\"#bd3786\"],[0.5555555555555556,\"#d8576b\"],[0.6666666666666666,\"#ed7953\"],[0.7777777777777778,\"#fb9f3a\"],[0.8888888888888888,\"#fdca26\"],[1.0,\"#f0f921\"]],\"type\":\"surface\"}],\"table\":[{\"cells\":{\"fill\":{\"color\":\"#EBF0F8\"},\"line\":{\"color\":\"white\"}},\"header\":{\"fill\":{\"color\":\"#C8D4E3\"},\"line\":{\"color\":\"white\"}},\"type\":\"table\"}]},\"layout\":{\"annotationdefaults\":{\"arrowcolor\":\"#2a3f5f\",\"arrowhead\":0,\"arrowwidth\":1},\"autotypenumbers\":\"strict\",\"coloraxis\":{\"colorbar\":{\"outlinewidth\":0,\"ticks\":\"\"}},\"colorscale\":{\"diverging\":[[0,\"#8e0152\"],[0.1,\"#c51b7d\"],[0.2,\"#de77ae\"],[0.3,\"#f1b6da\"],[0.4,\"#fde0ef\"],[0.5,\"#f7f7f7\"],[0.6,\"#e6f5d0\"],[0.7,\"#b8e186\"],[0.8,\"#7fbc41\"],[0.9,\"#4d9221\"],[1,\"#276419\"]],\"sequential\":[[0.0,\"#0d0887\"],[0.1111111111111111,\"#46039f\"],[0.2222222222222222,\"#7201a8\"],[0.3333333333333333,\"#9c179e\"],[0.4444444444444444,\"#bd3786\"],[0.5555555555555556,\"#d8576b\"],[0.6666666666666666,\"#ed7953\"],[0.7777777777777778,\"#fb9f3a\"],[0.8888888888888888,\"#fdca26\"],[1.0,\"#f0f921\"]],\"sequentialminus\":[[0.0,\"#0d0887\"],[0.1111111111111111,\"#46039f\"],[0.2222222222222222,\"#7201a8\"],[0.3333333333333333,\"#9c179e\"],[0.4444444444444444,\"#bd3786\"],[0.5555555555555556,\"#d8576b\"],[0.6666666666666666,\"#ed7953\"],[0.7777777777777778,\"#fb9f3a\"],[0.8888888888888888,\"#fdca26\"],[1.0,\"#f0f921\"]]},\"colorway\":[\"#636efa\",\"#EF553B\",\"#00cc96\",\"#ab63fa\",\"#FFA15A\",\"#19d3f3\",\"#FF6692\",\"#B6E880\",\"#FF97FF\",\"#FECB52\"],\"font\":{\"color\":\"#2a3f5f\"},\"geo\":{\"bgcolor\":\"white\",\"lakecolor\":\"white\",\"landcolor\":\"#E5ECF6\",\"showlakes\":true,\"showland\":true,\"subunitcolor\":\"white\"},\"hoverlabel\":{\"align\":\"left\"},\"hovermode\":\"closest\",\"mapbox\":{\"style\":\"light\"},\"paper_bgcolor\":\"white\",\"plot_bgcolor\":\"#E5ECF6\",\"polar\":{\"angularaxis\":{\"gridcolor\":\"white\",\"linecolor\":\"white\",\"ticks\":\"\"},\"bgcolor\":\"#E5ECF6\",\"radialaxis\":{\"gridcolor\":\"white\",\"linecolor\":\"white\",\"ticks\":\"\"}},\"scene\":{\"xaxis\":{\"backgroundcolor\":\"#E5ECF6\",\"gridcolor\":\"white\",\"gridwidth\":2,\"linecolor\":\"white\",\"showbackground\":true,\"ticks\":\"\",\"zerolinecolor\":\"white\"},\"yaxis\":{\"backgroundcolor\":\"#E5ECF6\",\"gridcolor\":\"white\",\"gridwidth\":2,\"linecolor\":\"white\",\"showbackground\":true,\"ticks\":\"\",\"zerolinecolor\":\"white\"},\"zaxis\":{\"backgroundcolor\":\"#E5ECF6\",\"gridcolor\":\"white\",\"gridwidth\":2,\"linecolor\":\"white\",\"showbackground\":true,\"ticks\":\"\",\"zerolinecolor\":\"white\"}},\"shapedefaults\":{\"line\":{\"color\":\"#2a3f5f\"}},\"ternary\":{\"aaxis\":{\"gridcolor\":\"white\",\"linecolor\":\"white\",\"ticks\":\"\"},\"baxis\":{\"gridcolor\":\"white\",\"linecolor\":\"white\",\"ticks\":\"\"},\"bgcolor\":\"#E5ECF6\",\"caxis\":{\"gridcolor\":\"white\",\"linecolor\":\"white\",\"ticks\":\"\"}},\"title\":{\"x\":0.05},\"xaxis\":{\"automargin\":true,\"gridcolor\":\"white\",\"linecolor\":\"white\",\"ticks\":\"\",\"title\":{\"standoff\":15},\"zerolinecolor\":\"white\",\"zerolinewidth\":2},\"yaxis\":{\"automargin\":true,\"gridcolor\":\"white\",\"linecolor\":\"white\",\"ticks\":\"\",\"title\":{\"standoff\":15},\"zerolinecolor\":\"white\",\"zerolinewidth\":2}}}},                        {\"responsive\": true}                    ).then(function(){\n",
              "                            \n",
              "var gd = document.getElementById('67ef6991-f5b2-4c50-8870-313d40b314b1');\n",
              "var x = new MutationObserver(function (mutations, observer) {{\n",
              "        var display = window.getComputedStyle(gd).display;\n",
              "        if (!display || display === 'none') {{\n",
              "            console.log([gd, 'removed!']);\n",
              "            Plotly.purge(gd);\n",
              "            observer.disconnect();\n",
              "        }}\n",
              "}});\n",
              "\n",
              "// Listen for the removal of the full notebook cells\n",
              "var notebookContainer = gd.closest('#notebook-container');\n",
              "if (notebookContainer) {{\n",
              "    x.observe(notebookContainer, {childList: true});\n",
              "}}\n",
              "\n",
              "// Listen for the clearing of the current output cell\n",
              "var outputEl = gd.closest('.output');\n",
              "if (outputEl) {{\n",
              "    x.observe(outputEl, {childList: true});\n",
              "}}\n",
              "\n",
              "                        })                };                            </script>        </div>\n",
              "</body>\n",
              "</html>"
            ]
          },
          "metadata": {}
        }
      ]
    },
    {
      "cell_type": "markdown",
      "source": [
        "My own example 9:"
      ],
      "metadata": {
        "id": "cGY-_juVyeb7"
      }
    },
    {
      "cell_type": "code",
      "source": [
        "import matplotlib.pyplot as plt\n",
        "import numpy as np\n",
        "\n",
        "theta = np.linspace(0, 2*np.pi, 100)\n",
        "r = np.sin(3*theta)\n",
        "\n",
        "fig, ax = plt.subplots(subplot_kw={\"projection\": \"polar\"})\n",
        "ax.plot(theta, r, label=\"sin(3*theta)\")\n",
        "ax.scatter(theta[r.argmax()], r.max(), color=\"red\", s=50, label=\"Max value\")\n",
        "ax.legend()\n",
        "plt.show()"
      ],
      "metadata": {
        "colab": {
          "base_uri": "https://localhost:8080/",
          "height": 286
        },
        "outputId": "cbeb91e4-1ff2-4f5a-f511-00cd7010f0a8",
        "id": "8pcJrjaZyeb7"
      },
      "execution_count": 262,
      "outputs": [
        {
          "output_type": "display_data",
          "data": {
            "text/plain": [
              "<Figure size 432x288 with 1 Axes>"
            ],
            "image/png": "[encoded data removed]"
          },
          "metadata": {
            "needs_background": "light"
          }
        }
      ]
    },
    {
      "cell_type": "markdown",
      "source": [
        "My own example 10:"
      ],
      "metadata": {
        "id": "2y17R4RDyeb7"
      }
    },
    {
      "cell_type": "code",
      "source": [
        "import matplotlib.pyplot as plt\n",
        "\n",
        "sizes = [30, 40, 20, 10]\n",
        "labels = [\"A\", \"B\", \"C\", \"D\"]\n",
        "\n",
        "fig, ax = plt.subplots()\n",
        "ax.pie(sizes, labels=labels, autopct='%1.1f%%')\n",
        "plt.show()"
      ],
      "metadata": {
        "colab": {
          "base_uri": "https://localhost:8080/",
          "height": 248
        },
        "id": "YBjgWyeRyeb7",
        "outputId": "811be85e-105d-44cf-8f12-dc8613acfba6"
      },
      "execution_count": 263,
      "outputs": [
        {
          "output_type": "display_data",
          "data": {
            "text/plain": [
              "<Figure size 432x288 with 1 Axes>"
            ],
            "image/png": "[encoded data removed]"
          },
          "metadata": {}
        }
      ]
    },
    {
      "cell_type": "markdown",
      "metadata": {
        "id": "ZVbUty0Yyeb8"
      },
      "source": [
        "My own example 11:"
      ]
    },
    {
      "cell_type": "code",
      "execution_count": 264,
      "metadata": {
        "colab": {
          "base_uri": "https://localhost:8080/",
          "height": 542
        },
        "outputId": "8febefa2-1c6a-44ce-cc17-643aa48db12f",
        "id": "iekrBuJLyeb9"
      },
      "outputs": [
        {
          "output_type": "display_data",
          "data": {
            "text/html": [
              "<html>\n",
              "<head><meta charset=\"utf-8\" /></head>\n",
              "<body>\n",
              "    <div>            <script src=\"https://cdnjs.cloudflare.com/ajax/libs/mathjax/2.7.5/MathJax.js?config=TeX-AMS-MML_SVG\"></script><script type=\"text/javascript\">if (window.MathJax) {MathJax.Hub.Config({SVG: {font: \"STIX-Web\"}});}</script>                <script type=\"text/javascript\">window.PlotlyConfig = {MathJaxConfig: 'local'};</script>\n",
              "        <script src=\"https://cdn.plot.ly/plotly-2.8.3.min.js\"></script>                <div id=\"49b05063-70e8-488e-8702-513b55e68cee\" class=\"plotly-graph-div\" style=\"height:525px; width:100%;\"></div>            <script type=\"text/javascript\">                                    window.PLOTLYENV=window.PLOTLYENV || {};                                    if (document.getElementById(\"49b05063-70e8-488e-8702-513b55e68cee\")) {                    Plotly.newPlot(                        \"49b05063-70e8-488e-8702-513b55e68cee\",                        [{\"branchvalues\":\"total\",\"domain\":{\"x\":[0.0,1.0],\"y\":[0.0,1.0]},\"hovertemplate\":\"labels=%{label}<br>total_bill=%{value}<br>parent=%{parent}<br>id=%{id}<extra></extra>\",\"ids\":[\"Fri/Dinner/Female\",\"Sat/Dinner/Female\",\"Sun/Dinner/Female\",\"Thur/Dinner/Female\",\"Fri/Lunch/Female\",\"Thur/Lunch/Female\",\"Fri/Dinner/Male\",\"Sat/Dinner/Male\",\"Sun/Dinner/Male\",\"Fri/Lunch/Male\",\"Thur/Lunch/Male\",\"Fri/Dinner\",\"Sat/Dinner\",\"Sun/Dinner\",\"Thur/Dinner\",\"Fri/Lunch\",\"Thur/Lunch\",\"Fri\",\"Sat\",\"Sun\",\"Thur\"],\"labels\":[\"Female\",\"Female\",\"Female\",\"Female\",\"Female\",\"Female\",\"Male\",\"Male\",\"Male\",\"Male\",\"Male\",\"Dinner\",\"Dinner\",\"Dinner\",\"Dinner\",\"Lunch\",\"Lunch\",\"Fri\",\"Sat\",\"Sun\",\"Thur\"],\"name\":\"\",\"parents\":[\"Fri/Dinner\",\"Sat/Dinner\",\"Sun/Dinner\",\"Thur/Dinner\",\"Fri/Lunch\",\"Thur/Lunch\",\"Fri/Dinner\",\"Sat/Dinner\",\"Sun/Dinner\",\"Fri/Lunch\",\"Thur/Lunch\",\"Fri\",\"Sat\",\"Sun\",\"Thur\",\"Fri\",\"Thur\",\"\",\"\",\"\",\"\"],\"values\":[71.55,551.05,357.7,18.78,55.760000000000005,516.11,164.41,1227.35,1269.46,34.16,561.4399999999999,235.96,1778.4,1627.16,18.78,89.92,1077.55,325.88,1778.4,1627.16,1096.33],\"type\":\"sunburst\"}],                        {\"template\":{\"data\":{\"bar\":[{\"error_x\":{\"color\":\"#2a3f5f\"},\"error_y\":{\"color\":\"#2a3f5f\"},\"marker\":{\"line\":{\"color\":\"#E5ECF6\",\"width\":0.5},\"pattern\":{\"fillmode\":\"overlay\",\"size\":10,\"solidity\":0.2}},\"type\":\"bar\"}],\"barpolar\":[{\"marker\":{\"line\":{\"color\":\"#E5ECF6\",\"width\":0.5},\"pattern\":{\"fillmode\":\"overlay\",\"size\":10,\"solidity\":0.2}},\"type\":\"barpolar\"}],\"carpet\":[{\"aaxis\":{\"endlinecolor\":\"#2a3f5f\",\"gridcolor\":\"white\",\"linecolor\":\"white\",\"minorgridcolor\":\"white\",\"startlinecolor\":\"#2a3f5f\"},\"baxis\":{\"endlinecolor\":\"#2a3f5f\",\"gridcolor\":\"white\",\"linecolor\":\"white\",\"minorgridcolor\":\"white\",\"startlinecolor\":\"#2a3f5f\"},\"type\":\"carpet\"}],\"choropleth\":[{\"colorbar\":{\"outlinewidth\":0,\"ticks\":\"\"},\"type\":\"choropleth\"}],\"contour\":[{\"colorbar\":{\"outlinewidth\":0,\"ticks\":\"\"},\"colorscale\":[[0.0,\"#0d0887\"],[0.1111111111111111,\"#46039f\"],[0.2222222222222222,\"#7201a8\"],[0.3333333333333333,\"#9c179e\"],[0.4444444444444444,\"#bd3786\"],[0.5555555555555556,\"#d8576b\"],[0.6666666666666666,\"#ed7953\"],[0.7777777777777778,\"#fb9f3a\"],[0.8888888888888888,\"#fdca26\"],[1.0,\"#f0f921\"]],\"type\":\"contour\"}],\"contourcarpet\":[{\"colorbar\":{\"outlinewidth\":0,\"ticks\":\"\"},\"type\":\"contourcarpet\"}],\"heatmap\":[{\"colorbar\":{\"outlinewidth\":0,\"ticks\":\"\"},\"colorscale\":[[0.0,\"#0d0887\"],[0.1111111111111111,\"#46039f\"],[0.2222222222222222,\"#7201a8\"],[0.3333333333333333,\"#9c179e\"],[0.4444444444444444,\"#bd3786\"],[0.5555555555555556,\"#d8576b\"],[0.6666666666666666,\"#ed7953\"],[0.7777777777777778,\"#fb9f3a\"],[0.8888888888888888,\"#fdca26\"],[1.0,\"#f0f921\"]],\"type\":\"heatmap\"}],\"heatmapgl\":[{\"colorbar\":{\"outlinewidth\":0,\"ticks\":\"\"},\"colorscale\":[[0.0,\"#0d0887\"],[0.1111111111111111,\"#46039f\"],[0.2222222222222222,\"#7201a8\"],[0.3333333333333333,\"#9c179e\"],[0.4444444444444444,\"#bd3786\"],[0.5555555555555556,\"#d8576b\"],[0.6666666666666666,\"#ed7953\"],[0.7777777777777778,\"#fb9f3a\"],[0.8888888888888888,\"#fdca26\"],[1.0,\"#f0f921\"]],\"type\":\"heatmapgl\"}],\"histogram\":[{\"marker\":{\"pattern\":{\"fillmode\":\"overlay\",\"size\":10,\"solidity\":0.2}},\"type\":\"histogram\"}],\"histogram2d\":[{\"colorbar\":{\"outlinewidth\":0,\"ticks\":\"\"},\"colorscale\":[[0.0,\"#0d0887\"],[0.1111111111111111,\"#46039f\"],[0.2222222222222222,\"#7201a8\"],[0.3333333333333333,\"#9c179e\"],[0.4444444444444444,\"#bd3786\"],[0.5555555555555556,\"#d8576b\"],[0.6666666666666666,\"#ed7953\"],[0.7777777777777778,\"#fb9f3a\"],[0.8888888888888888,\"#fdca26\"],[1.0,\"#f0f921\"]],\"type\":\"histogram2d\"}],\"histogram2dcontour\":[{\"colorbar\":{\"outlinewidth\":0,\"ticks\":\"\"},\"colorscale\":[[0.0,\"#0d0887\"],[0.1111111111111111,\"#46039f\"],[0.2222222222222222,\"#7201a8\"],[0.3333333333333333,\"#9c179e\"],[0.4444444444444444,\"#bd3786\"],[0.5555555555555556,\"#d8576b\"],[0.6666666666666666,\"#ed7953\"],[0.7777777777777778,\"#fb9f3a\"],[0.8888888888888888,\"#fdca26\"],[1.0,\"#f0f921\"]],\"type\":\"histogram2dcontour\"}],\"mesh3d\":[{\"colorbar\":{\"outlinewidth\":0,\"ticks\":\"\"},\"type\":\"mesh3d\"}],\"parcoords\":[{\"line\":{\"colorbar\":{\"outlinewidth\":0,\"ticks\":\"\"}},\"type\":\"parcoords\"}],\"pie\":[{\"automargin\":true,\"type\":\"pie\"}],\"scatter\":[{\"marker\":{\"colorbar\":{\"outlinewidth\":0,\"ticks\":\"\"}},\"type\":\"scatter\"}],\"scatter3d\":[{\"line\":{\"colorbar\":{\"outlinewidth\":0,\"ticks\":\"\"}},\"marker\":{\"colorbar\":{\"outlinewidth\":0,\"ticks\":\"\"}},\"type\":\"scatter3d\"}],\"scattercarpet\":[{\"marker\":{\"colorbar\":{\"outlinewidth\":0,\"ticks\":\"\"}},\"type\":\"scattercarpet\"}],\"scattergeo\":[{\"marker\":{\"colorbar\":{\"outlinewidth\":0,\"ticks\":\"\"}},\"type\":\"scattergeo\"}],\"scattergl\":[{\"marker\":{\"colorbar\":{\"outlinewidth\":0,\"ticks\":\"\"}},\"type\":\"scattergl\"}],\"scattermapbox\":[{\"marker\":{\"colorbar\":{\"outlinewidth\":0,\"ticks\":\"\"}},\"type\":\"scattermapbox\"}],\"scatterpolar\":[{\"marker\":{\"colorbar\":{\"outlinewidth\":0,\"ticks\":\"\"}},\"type\":\"scatterpolar\"}],\"scatterpolargl\":[{\"marker\":{\"colorbar\":{\"outlinewidth\":0,\"ticks\":\"\"}},\"type\":\"scatterpolargl\"}],\"scatterternary\":[{\"marker\":{\"colorbar\":{\"outlinewidth\":0,\"ticks\":\"\"}},\"type\":\"scatterternary\"}],\"surface\":[{\"colorbar\":{\"outlinewidth\":0,\"ticks\":\"\"},\"colorscale\":[[0.0,\"#0d0887\"],[0.1111111111111111,\"#46039f\"],[0.2222222222222222,\"#7201a8\"],[0.3333333333333333,\"#9c179e\"],[0.4444444444444444,\"#bd3786\"],[0.5555555555555556,\"#d8576b\"],[0.6666666666666666,\"#ed7953\"],[0.7777777777777778,\"#fb9f3a\"],[0.8888888888888888,\"#fdca26\"],[1.0,\"#f0f921\"]],\"type\":\"surface\"}],\"table\":[{\"cells\":{\"fill\":{\"color\":\"#EBF0F8\"},\"line\":{\"color\":\"white\"}},\"header\":{\"fill\":{\"color\":\"#C8D4E3\"},\"line\":{\"color\":\"white\"}},\"type\":\"table\"}]},\"layout\":{\"annotationdefaults\":{\"arrowcolor\":\"#2a3f5f\",\"arrowhead\":0,\"arrowwidth\":1},\"autotypenumbers\":\"strict\",\"coloraxis\":{\"colorbar\":{\"outlinewidth\":0,\"ticks\":\"\"}},\"colorscale\":{\"diverging\":[[0,\"#8e0152\"],[0.1,\"#c51b7d\"],[0.2,\"#de77ae\"],[0.3,\"#f1b6da\"],[0.4,\"#fde0ef\"],[0.5,\"#f7f7f7\"],[0.6,\"#e6f5d0\"],[0.7,\"#b8e186\"],[0.8,\"#7fbc41\"],[0.9,\"#4d9221\"],[1,\"#276419\"]],\"sequential\":[[0.0,\"#0d0887\"],[0.1111111111111111,\"#46039f\"],[0.2222222222222222,\"#7201a8\"],[0.3333333333333333,\"#9c179e\"],[0.4444444444444444,\"#bd3786\"],[0.5555555555555556,\"#d8576b\"],[0.6666666666666666,\"#ed7953\"],[0.7777777777777778,\"#fb9f3a\"],[0.8888888888888888,\"#fdca26\"],[1.0,\"#f0f921\"]],\"sequentialminus\":[[0.0,\"#0d0887\"],[0.1111111111111111,\"#46039f\"],[0.2222222222222222,\"#7201a8\"],[0.3333333333333333,\"#9c179e\"],[0.4444444444444444,\"#bd3786\"],[0.5555555555555556,\"#d8576b\"],[0.6666666666666666,\"#ed7953\"],[0.7777777777777778,\"#fb9f3a\"],[0.8888888888888888,\"#fdca26\"],[1.0,\"#f0f921\"]]},\"colorway\":[\"#636efa\",\"#EF553B\",\"#00cc96\",\"#ab63fa\",\"#FFA15A\",\"#19d3f3\",\"#FF6692\",\"#B6E880\",\"#FF97FF\",\"#FECB52\"],\"font\":{\"color\":\"#2a3f5f\"},\"geo\":{\"bgcolor\":\"white\",\"lakecolor\":\"white\",\"landcolor\":\"#E5ECF6\",\"showlakes\":true,\"showland\":true,\"subunitcolor\":\"white\"},\"hoverlabel\":{\"align\":\"left\"},\"hovermode\":\"closest\",\"mapbox\":{\"style\":\"light\"},\"paper_bgcolor\":\"white\",\"plot_bgcolor\":\"#E5ECF6\",\"polar\":{\"angularaxis\":{\"gridcolor\":\"white\",\"linecolor\":\"white\",\"ticks\":\"\"},\"bgcolor\":\"#E5ECF6\",\"radialaxis\":{\"gridcolor\":\"white\",\"linecolor\":\"white\",\"ticks\":\"\"}},\"scene\":{\"xaxis\":{\"backgroundcolor\":\"#E5ECF6\",\"gridcolor\":\"white\",\"gridwidth\":2,\"linecolor\":\"white\",\"showbackground\":true,\"ticks\":\"\",\"zerolinecolor\":\"white\"},\"yaxis\":{\"backgroundcolor\":\"#E5ECF6\",\"gridcolor\":\"white\",\"gridwidth\":2,\"linecolor\":\"white\",\"showbackground\":true,\"ticks\":\"\",\"zerolinecolor\":\"white\"},\"zaxis\":{\"backgroundcolor\":\"#E5ECF6\",\"gridcolor\":\"white\",\"gridwidth\":2,\"linecolor\":\"white\",\"showbackground\":true,\"ticks\":\"\",\"zerolinecolor\":\"white\"}},\"shapedefaults\":{\"line\":{\"color\":\"#2a3f5f\"}},\"ternary\":{\"aaxis\":{\"gridcolor\":\"white\",\"linecolor\":\"white\",\"ticks\":\"\"},\"baxis\":{\"gridcolor\":\"white\",\"linecolor\":\"white\",\"ticks\":\"\"},\"bgcolor\":\"#E5ECF6\",\"caxis\":{\"gridcolor\":\"white\",\"linecolor\":\"white\",\"ticks\":\"\"}},\"title\":{\"x\":0.05},\"xaxis\":{\"automargin\":true,\"gridcolor\":\"white\",\"linecolor\":\"white\",\"ticks\":\"\",\"title\":{\"standoff\":15},\"zerolinecolor\":\"white\",\"zerolinewidth\":2},\"yaxis\":{\"automargin\":true,\"gridcolor\":\"white\",\"linecolor\":\"white\",\"ticks\":\"\",\"title\":{\"standoff\":15},\"zerolinecolor\":\"white\",\"zerolinewidth\":2}}},\"legend\":{\"tracegroupgap\":0},\"margin\":{\"t\":60}},                        {\"responsive\": true}                    ).then(function(){\n",
              "                            \n",
              "var gd = document.getElementById('49b05063-70e8-488e-8702-513b55e68cee');\n",
              "var x = new MutationObserver(function (mutations, observer) {{\n",
              "        var display = window.getComputedStyle(gd).display;\n",
              "        if (!display || display === 'none') {{\n",
              "            console.log([gd, 'removed!']);\n",
              "            Plotly.purge(gd);\n",
              "            observer.disconnect();\n",
              "        }}\n",
              "}});\n",
              "\n",
              "// Listen for the removal of the full notebook cells\n",
              "var notebookContainer = gd.closest('#notebook-container');\n",
              "if (notebookContainer) {{\n",
              "    x.observe(notebookContainer, {childList: true});\n",
              "}}\n",
              "\n",
              "// Listen for the clearing of the current output cell\n",
              "var outputEl = gd.closest('.output');\n",
              "if (outputEl) {{\n",
              "    x.observe(outputEl, {childList: true});\n",
              "}}\n",
              "\n",
              "                        })                };                            </script>        </div>\n",
              "</body>\n",
              "</html>"
            ]
          },
          "metadata": {}
        }
      ],
      "source": [
        "import plotly.express as px\n",
        "\n",
        "df = px.data.tips()\n",
        "fig = px.sunburst(df, path=['day', 'time', 'sex'], values='total_bill')\n",
        "fig.show()"
      ]
    },
    {
      "cell_type": "markdown",
      "metadata": {
        "id": "X_4dk0wEyeb-"
      },
      "source": [
        "My own example 12:"
      ]
    },
    {
      "cell_type": "code",
      "execution_count": 265,
      "metadata": {
        "colab": {
          "base_uri": "https://localhost:8080/",
          "height": 265
        },
        "outputId": "3de8f60c-2d93-4355-85fb-7444b4f30c83",
        "id": "Q3xCT1Mvyeb-"
      },
      "outputs": [
        {
          "output_type": "display_data",
          "data": {
            "text/plain": [
              "<Figure size 432x288 with 1 Axes>"
            ],
            "image/png": "[encoded data removed]"
          },
          "metadata": {
            "needs_background": "light"
          }
        }
      ],
      "source": [
        "import matplotlib.pyplot as plt\n",
        "\n",
        "# Data\n",
        "labels = ['A', 'B', 'C', 'D']\n",
        "values1 = [10, 20, 30, 40]\n",
        "values2 = [20, 30, 10, 50]\n",
        "\n",
        "# Create bar chart\n",
        "plt.bar(labels, values1, color='red')\n",
        "plt.bar(labels, values2, color='blue', bottom=values1)\n",
        "plt.legend(['Values 1', 'Values 2'])\n",
        "plt.show()"
      ]
    },
    {
      "cell_type": "markdown",
      "metadata": {
        "id": "L2iRG3i_yeb-"
      },
      "source": [
        "My own example 13:"
      ]
    },
    {
      "cell_type": "code",
      "execution_count": 266,
      "metadata": {
        "colab": {
          "base_uri": "https://localhost:8080/",
          "height": 265
        },
        "outputId": "f2f20b49-02a5-41a5-acc3-49f40eadd49c",
        "id": "-hilGn3Yyeb-"
      },
      "outputs": [
        {
          "output_type": "display_data",
          "data": {
            "text/plain": [
              "<Figure size 432x288 with 1 Axes>"
            ],
            "image/png": "[encoded data removed]"
          },
          "metadata": {
            "needs_background": "light"
          }
        }
      ],
      "source": [
        "import matplotlib.pyplot as plt\n",
        "\n",
        "# Data\n",
        "x = [1, 2, 3, 4, 5]\n",
        "y1 = [10, 20, 30, 40, 50]\n",
        "y2 = [5, 10, 15, 20, 25]\n",
        "\n",
        "# Create line chart\n",
        "plt.plot(x, y1, color='red', linestyle='dashed', linewidth=2)\n",
        "plt.plot(x, y2, color='blue', linestyle='dotted', linewidth=2)\n",
        "plt.legend(['Line 1', 'Line 2'])\n",
        "plt.show()"
      ]
    },
    {
      "cell_type": "markdown",
      "metadata": {
        "id": "aKvimpHhyeb-"
      },
      "source": [
        "My own example 14:"
      ]
    },
    {
      "cell_type": "code",
      "execution_count": 267,
      "metadata": {
        "colab": {
          "base_uri": "https://localhost:8080/",
          "height": 264
        },
        "outputId": "4d3e24ef-b0cc-4bd5-be5d-a5019725d0bd",
        "id": "Tj25gdKyyeb-"
      },
      "outputs": [
        {
          "output_type": "display_data",
          "data": {
            "text/plain": [
              "<Figure size 432x288 with 1 Axes>"
            ],
            "image/png": "[encoded data removed]"
          },
          "metadata": {}
        }
      ],
      "source": [
        "import matplotlib.pyplot as plt\n",
        "\n",
        "# Data\n",
        "labels = ['A', 'B', 'C', 'D']\n",
        "values = [10, 20, 30, 40]\n",
        "colors = ['pink', 'lightblue', 'yellow', 'purple']\n",
        "\n",
        "# Create pie chart\n",
        "plt.pie(values, labels=labels, colors=colors, wedgeprops={'linewidth': 2, 'edgecolor': 'white'})\n",
        "plt.title('Pie Chart with Custom Labels')\n",
        "plt.show()"
      ]
    },
    {
      "cell_type": "markdown",
      "metadata": {
        "id": "YTgyWq2Ryeb-"
      },
      "source": [
        "My own example 15:"
      ]
    },
    {
      "cell_type": "code",
      "execution_count": 268,
      "metadata": {
        "colab": {
          "base_uri": "https://localhost:8080/",
          "height": 281
        },
        "outputId": "a4cb1376-ac36-4745-cbe5-87ff5842fc2b",
        "id": "TwOohOMCyeb_"
      },
      "outputs": [
        {
          "output_type": "display_data",
          "data": {
            "text/plain": [
              "<Figure size 432x288 with 2 Axes>"
            ],
            "image/png": "[encoded data removed]"
          },
          "metadata": {
            "needs_background": "light"
          }
        }
      ],
      "source": [
        "import matplotlib.pyplot as plt\n",
        "import numpy as np\n",
        "\n",
        "# Data\n",
        "data = np.random.rand(5, 5)\n",
        "\n",
        "# Create heatmap\n",
        "plt.imshow(data, cmap='cool', interpolation='nearest')\n",
        "plt.colorbar()\n",
        "plt.title('Heatmap with Custom Colors')\n",
        "plt.show()"
      ]
    },
    {
      "cell_type": "markdown",
      "source": [
        "My own example 16:"
      ],
      "metadata": {
        "id": "hbJzkziNyeb_"
      }
    },
    {
      "cell_type": "code",
      "source": [
        "import matplotlib.pyplot as plt\n",
        "\n",
        "# Data\n",
        "labels = ['A', 'B', 'C', 'D']\n",
        "values1 = [10, 20, 30, 40]\n",
        "values2 = [20, 30, 10, 50]\n",
        "\n",
        "# Create bar chart\n",
        "plt.bar(labels, values1, color='lightblue')\n",
        "plt.bar(labels, values2, color='pink', bottom=values1)\n",
        "plt.legend(['Values 1', 'Values 2'])\n",
        "plt.xlabel('Categories')\n",
        "plt.ylabel('Values')\n",
        "plt.title('Bar Chart with Stacked Bars and Annotations')\n",
        "\n",
        "# Add annotations\n",
        "for i, v in enumerate(values1):\n",
        "    plt.text(i, v/2, str(v), ha='center', va='center', color='white')\n",
        "    plt.text(i, v + values2[i]/2, str(values2[i]), ha='center', va='center', color='white')\n",
        "\n",
        "plt.show()"
      ],
      "metadata": {
        "colab": {
          "base_uri": "https://localhost:8080/",
          "height": 295
        },
        "outputId": "74f4f239-9876-4540-d245-897756d6c016",
        "id": "cjeYauKryeb_"
      },
      "execution_count": 269,
      "outputs": [
        {
          "output_type": "display_data",
          "data": {
            "text/plain": [
              "<Figure size 432x288 with 1 Axes>"
            ],
            "image/png": "[encoded data removed]"
          },
          "metadata": {
            "needs_background": "light"
          }
        }
      ]
    },
    {
      "cell_type": "markdown",
      "metadata": {
        "id": "8x5brWuhyeb_"
      },
      "source": [
        "My own example 17:"
      ]
    },
    {
      "cell_type": "code",
      "execution_count": 270,
      "metadata": {
        "colab": {
          "base_uri": "https://localhost:8080/",
          "height": 295
        },
        "outputId": "b52c0145-94e6-4cec-a70f-3ee6398e8930",
        "id": "U9xC1XVfyeb_"
      },
      "outputs": [
        {
          "output_type": "display_data",
          "data": {
            "text/plain": [
              "<Figure size 432x288 with 1 Axes>"
            ],
            "image/png": "[encoded data removed]"
          },
          "metadata": {
            "needs_background": "light"
          }
        }
      ],
      "source": [
        "import matplotlib.pyplot as plt\n",
        "import numpy as np\n",
        "\n",
        "# Data\n",
        "x = [1, 2, 3, 4, 5]\n",
        "y1 = [10, 20, 30, 40, 50]\n",
        "y2 = [5, 10, 15, 20, 25]\n",
        "\n",
        "# Create line chart\n",
        "plt.plot(x, y1, color='purple', linestyle='dashed', linewidth=2)\n",
        "plt.plot(x, y2, color='pink', linestyle='dotted', linewidth=2)\n",
        "plt.legend(['Line 1', 'Line 2'])\n",
        "plt.xlabel('X Values')\n",
        "plt.ylabel('Y Values')\n",
        "plt.title('Line Chart with Multiple Lines and Shaded Area')\n",
        "\n",
        "# Add shaded area\n",
        "y1_array = np.array(y1)\n",
        "y2_array = np.array(y2)\n",
        "plt.fill_between(x, y1_array, y2_array, where=(y1_array > y2_array), alpha=0.2, color='purple')\n",
        "plt.fill_between(x, y1_array, y2_array, where=(y1_array <= y2_array), alpha=0.2, color='pink')\n",
        "\n",
        "plt.show()"
      ]
    },
    {
      "cell_type": "markdown",
      "metadata": {
        "id": "U88WkKTvyeb_"
      },
      "source": [
        "My own example 18:"
      ]
    },
    {
      "cell_type": "code",
      "execution_count": 271,
      "metadata": {
        "colab": {
          "base_uri": "https://localhost:8080/",
          "height": 265
        },
        "outputId": "0234ca8f-c7b5-471a-fa5a-986fbc6bc1bc",
        "id": "42qdlUwJyeb_"
      },
      "outputs": [
        {
          "output_type": "display_data",
          "data": {
            "text/plain": [
              "<Figure size 432x288 with 1 Axes>"
            ],
            "image/png": "[encoded data removed]"
          },
          "metadata": {
            "needs_background": "light"
          }
        }
      ],
      "source": [
        "count, bins, ignored = plt.hist(s, 30, density=True)\n",
        "plt.plot(bins, 1/(sigma * np.sqrt(2 * np.pi)) *\n",
        "               np.exp( - (bins - mu)**2 / (2 * sigma**2) ),\n",
        "         linewidth=2, color='r')\n",
        "plt.show()"
      ]
    },
    {
      "cell_type": "markdown",
      "metadata": {
        "id": "n5_93oZFyeb_"
      },
      "source": [
        "My own example 19:"
      ]
    },
    {
      "cell_type": "code",
      "execution_count": 272,
      "metadata": {
        "colab": {
          "base_uri": "https://localhost:8080/",
          "height": 282
        },
        "outputId": "934c3df6-af17-42c2-851c-d5daf3c3f18c",
        "id": "r-vWhb5HyecA"
      },
      "outputs": [
        {
          "output_type": "execute_result",
          "data": {
            "text/plain": [
              "[<matplotlib.lines.Line2D at 0x7eff839e23a0>]"
            ]
          },
          "metadata": {},
          "execution_count": 272
        },
        {
          "output_type": "display_data",
          "data": {
            "text/plain": [
              "<Figure size 432x288 with 1 Axes>"
            ],
            "image/png": "[encoded data removed]"
          },
          "metadata": {
            "needs_background": "light"
          }
        }
      ],
      "source": [
        "import matplotlib.pyplot as plt\n",
        "plt.plot(s)"
      ]
    },
    {
      "cell_type": "markdown",
      "metadata": {
        "id": "7auFZGziyecA"
      },
      "source": [
        "My own example 20:"
      ]
    },
    {
      "cell_type": "code",
      "execution_count": 273,
      "metadata": {
        "colab": {
          "base_uri": "https://localhost:8080/",
          "height": 265
        },
        "outputId": "c0f8b289-1688-4c2c-c852-d58c169eb43b",
        "id": "71E6D4K9yecA"
      },
      "outputs": [
        {
          "output_type": "display_data",
          "data": {
            "text/plain": [
              "<Figure size 432x288 with 1 Axes>"
            ],
            "image/png": "[encoded data removed]"
          },
          "metadata": {
            "needs_background": "light"
          }
        }
      ],
      "source": [
        "x1 = np.random.chisquare(2, 100)\n",
        "x2 = np.random.chisquare(3, 100)\n",
        "\n",
        "plt.plot(x1);\n",
        "plt.plot(x2);\n",
        "plt.ylabel(r'$\\chi^2$')\n",
        "plt.legend([r'$k=2$', r'$k=3$']);"
      ]
    }
  ],
  "metadata": {
    "kernelspec": {
      "display_name": "Python 3",
      "language": "python",
      "name": "python3"
    },
    "language_info": {
      "codemirror_mode": {
        "name": "ipython",
        "version": 3
      },
      "file_extension": ".py",
      "mimetype": "text/x-python",
      "name": "python",
      "nbconvert_exporter": "python",
      "pygments_lexer": "ipython3",
      "version": "3.10.6"
    },
    "orig_nbformat": 4,
    "vscode": {
      "interpreter": {
        "hash": "fb4569285eef3a3450cb62085a5b1e0da4bce0af555edc33dcf29baf3acc1368"
      }
    },
    "colab": {
      "provenance": [],
      "toc_visible": true,
      "include_colab_link": true
    }
  },
  "nbformat": 4,
  "nbformat_minor": 0
}