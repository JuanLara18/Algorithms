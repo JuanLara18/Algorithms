{
  "cells": [
    {
      "cell_type": "markdown",
      "metadata": {
        "id": "view-in-github",
        "colab_type": "text"
      },
      "source": [
        "<a href=\"https://colab.research.google.com/github/JuanLara18/AlgorithmsUN2023I/blob/main/Lab1/jlara_Lab1.ipynb\" target=\"_parent\"><img src=\"https://colab.research.google.com/assets/colab-badge.svg\" alt=\"Open In Colab\"/></a>"
      ]
    },
    {
      "cell_type": "markdown",
      "metadata": {
        "id": "IV9AKKVNtM6O"
      },
      "source": [
        "# Introduction to the Python Laboratory Task with Numpy, Pandas, and Data Visualization\n",
        "\n",
        "In this laboratory task, we will apply and expand our knowledge of Python programming, using the Google Colab environment as our development platform. The task is based on a Colab notebook provided by the instructor [here](https://colab.research.google.com/drive/13Hhgq-EFl9oPVmHh7cBfq19ZBjNjTWaa?usp=sharing#scrollTo=DQ49NGLoEnEk), which covers various aspects of Python programming, including variables, data types, control structures, functions, and more.\n",
        "\n",
        "The notebook also provides an introduction to two powerful libraries for data analysis and manipulation: NumPy and Pandas. NumPy is a fundamental library for scientific computing in Python, providing support for powerful N-dimensional arrays and a wide range of mathematical functions. Pandas, on the other hand, is a popular library for data manipulation and analysis, providing powerful data structures for working with tabular data.\n",
        "\n",
        "We will also learn about data visualization using the Matplotlib library, which provides a comprehensive set of tools for creating a wide range of visualizations, including line charts, bar charts, scatter plots, and more.\n",
        "\n",
        "During the laboratory task, we will have the opportunity to work on our own examples, applying the concepts and techniques covered in the notebook to real-world problems. By the end of the task, we will have gained valuable experience working with Python and the NumPy and Pandas libraries, as well as data visualization, which will prepare us for more advanced programming tasks in the future."
      ]
    },
    {
      "cell_type": "markdown",
      "source": [
        "## Introduction to Research"
      ],
      "metadata": {
        "id": "t0MaXFpGn4WA"
      }
    },
    {
      "cell_type": "markdown",
      "metadata": {
        "id": "Pw1gHZW-tM6U"
      },
      "source": [
        "My own example 1:"
      ]
    },
    {
      "cell_type": "code",
      "execution_count": null,
      "metadata": {
        "colab": {
          "base_uri": "https://localhost:8080/"
        },
        "id": "CvcZ8LCctM6V",
        "outputId": "7efbcbe7-ac86-4e10-95a6-086473e8cab0"
      },
      "outputs": [
        {
          "output_type": "execute_result",
          "data": {
            "text/plain": [
              "4"
            ]
          },
          "metadata": {},
          "execution_count": 1
        }
      ],
      "source": [
        "2+2"
      ]
    },
    {
      "cell_type": "markdown",
      "metadata": {
        "id": "gj1J9LfKtM6Y"
      },
      "source": [
        "My own example 2:"
      ]
    },
    {
      "cell_type": "code",
      "execution_count": null,
      "metadata": {
        "id": "tDaisxvDtM6Y"
      },
      "outputs": [],
      "source": [
        "x = 2.1"
      ]
    },
    {
      "cell_type": "markdown",
      "metadata": {
        "id": "z6jPxDHttM6Z"
      },
      "source": [
        "My own example 3:"
      ]
    },
    {
      "cell_type": "code",
      "execution_count": null,
      "metadata": {
        "id": "Qc7qdEPPtM6Z"
      },
      "outputs": [],
      "source": [
        "arr = [1, 2, 3, 4, 5, 10]"
      ]
    },
    {
      "cell_type": "markdown",
      "metadata": {
        "id": "p5qqm94dtM6a"
      },
      "source": [
        "My own example 4:\n"
      ]
    },
    {
      "cell_type": "code",
      "execution_count": null,
      "metadata": {
        "id": "roYmGMvJtM6a"
      },
      "outputs": [],
      "source": [
        "Y = [2*i for i in arr]"
      ]
    },
    {
      "cell_type": "markdown",
      "metadata": {
        "id": "dzvlQhNBtM6c"
      },
      "source": [
        "My own example 5:"
      ]
    },
    {
      "cell_type": "code",
      "execution_count": null,
      "metadata": {
        "id": "TKICqUb3tM6c"
      },
      "outputs": [],
      "source": [
        "import numpy as np"
      ]
    },
    {
      "cell_type": "markdown",
      "metadata": {
        "id": "z7OFdEmStM6d"
      },
      "source": [
        "My own example 6:"
      ]
    },
    {
      "cell_type": "code",
      "execution_count": null,
      "metadata": {
        "id": "oOTuzKmOtM6d"
      },
      "outputs": [],
      "source": [
        "mu, sigma = 0, 0.1\n",
        "s = np.random.normal(mu, sigma, 1000)"
      ]
    },
    {
      "cell_type": "markdown",
      "source": [
        "My own example 7:"
      ],
      "metadata": {
        "id": "W6onRRZci_Wg"
      }
    },
    {
      "cell_type": "code",
      "source": [
        "numbers = [1, 2, 3, 4, 5]\n",
        "average = sum(numbers) / len(numbers)\n",
        "print(average)"
      ],
      "metadata": {
        "id": "6hiUu-xFi_tK"
      },
      "execution_count": null,
      "outputs": []
    },
    {
      "cell_type": "markdown",
      "source": [
        "My own example 8:"
      ],
      "metadata": {
        "id": "TCpr8YvqjBBI"
      }
    },
    {
      "cell_type": "code",
      "source": [
        "def factorial(n):\n",
        "    if n == 0:\n",
        "        return 1\n",
        "    else:\n",
        "        return n * factorial(n-1)\n",
        "\n",
        "print(factorial(5))"
      ],
      "metadata": {
        "id": "VFBf-nWYjBKN"
      },
      "execution_count": null,
      "outputs": []
    },
    {
      "cell_type": "markdown",
      "source": [
        "My own example 9:"
      ],
      "metadata": {
        "id": "4wwYZeuOjBSR"
      }
    },
    {
      "cell_type": "code",
      "source": [
        "import random\n",
        "\n",
        "number = random.randint(1, 10)\n",
        "print(number)"
      ],
      "metadata": {
        "id": "J_LWGaS6jBZj"
      },
      "execution_count": null,
      "outputs": []
    },
    {
      "cell_type": "markdown",
      "source": [
        "My own example 10:"
      ],
      "metadata": {
        "id": "aHzWa20ujBgc"
      }
    },
    {
      "cell_type": "code",
      "source": [
        "dictionary = {\"key1\": \"value1\", \"key2\": \"value2\", \"key3\": \"value3\"}\n",
        "for key, value in dictionary.items():\n",
        "    print(key, value)"
      ],
      "metadata": {
        "id": "1LmVIqlPjBq_"
      },
      "execution_count": null,
      "outputs": []
    },
    {
      "cell_type": "markdown",
      "source": [
        "My own example 11:"
      ],
      "metadata": {
        "id": "wd91ZZdbjBz4"
      }
    },
    {
      "cell_type": "code",
      "source": [
        "a = 5\n",
        "b = 7\n",
        "c = a + b\n",
        "print(c)"
      ],
      "metadata": {
        "id": "ER0uGCOIjB8j"
      },
      "execution_count": null,
      "outputs": []
    },
    {
      "cell_type": "markdown",
      "source": [
        "My own example 12:"
      ],
      "metadata": {
        "id": "TuZs9xEUjCDn"
      }
    },
    {
      "cell_type": "code",
      "source": [
        "a = 10\n",
        "b = 3\n",
        "c = a - b\n",
        "print(c) "
      ],
      "metadata": {
        "id": "wpcH66TZjCJo"
      },
      "execution_count": null,
      "outputs": []
    },
    {
      "cell_type": "markdown",
      "source": [
        "My own example 13:"
      ],
      "metadata": {
        "id": "mAon9v-TjCQD"
      }
    },
    {
      "cell_type": "code",
      "source": [
        "a = 6\n",
        "b = 4\n",
        "c = a * b\n",
        "print(c) "
      ],
      "metadata": {
        "id": "ZQicliucjCWa"
      },
      "execution_count": null,
      "outputs": []
    },
    {
      "cell_type": "markdown",
      "source": [
        "My own example 14:"
      ],
      "metadata": {
        "id": "Fw2Svlq8jCdN"
      }
    },
    {
      "cell_type": "code",
      "source": [
        "a = 20\n",
        "b = 5\n",
        "c = a / b\n",
        "print(c) "
      ],
      "metadata": {
        "id": "F6aX-EySjCjf"
      },
      "execution_count": null,
      "outputs": []
    },
    {
      "cell_type": "markdown",
      "source": [
        "My own example 15:"
      ],
      "metadata": {
        "id": "DoJQ5dE7jCoa"
      }
    },
    {
      "cell_type": "code",
      "source": [
        "a = 20\n",
        "b = 3\n",
        "c = a // b\n",
        "print(c) "
      ],
      "metadata": {
        "id": "gGzNz3yXjCuw"
      },
      "execution_count": null,
      "outputs": []
    },
    {
      "cell_type": "markdown",
      "source": [
        "My own example 16:"
      ],
      "metadata": {
        "id": "RuPSwbxwjC0C"
      }
    },
    {
      "cell_type": "code",
      "source": [
        "a = 20\n",
        "b = 3\n",
        "c = a % b\n",
        "print(c)"
      ],
      "metadata": {
        "id": "MntcptMPjC5q"
      },
      "execution_count": null,
      "outputs": []
    },
    {
      "cell_type": "markdown",
      "source": [
        "My own example 17:"
      ],
      "metadata": {
        "id": "k5GIrLtjjC_j"
      }
    },
    {
      "cell_type": "code",
      "source": [
        "a = 2\n",
        "b = 5\n",
        "c = a ** b\n",
        "print(c)"
      ],
      "metadata": {
        "id": "CL1754NijDF1"
      },
      "execution_count": null,
      "outputs": []
    },
    {
      "cell_type": "markdown",
      "source": [
        "My own example 18:"
      ],
      "metadata": {
        "id": "4tSzE7ALjDKx"
      }
    },
    {
      "cell_type": "code",
      "source": [
        "a = 5\n",
        "b = a\n",
        "print(b) "
      ],
      "metadata": {
        "id": "FN5yKiXXjDRU"
      },
      "execution_count": null,
      "outputs": []
    },
    {
      "cell_type": "markdown",
      "source": [
        "My own example 19:"
      ],
      "metadata": {
        "id": "HB4ZMRwRjDWv"
      }
    },
    {
      "cell_type": "code",
      "source": [
        "a = 3\n",
        "b = 7\n",
        "print(a < b) \n",
        "print(a == b) \n",
        "print(a != b) "
      ],
      "metadata": {
        "id": "ZuZ8q1AQjDbz"
      },
      "execution_count": null,
      "outputs": []
    },
    {
      "cell_type": "markdown",
      "source": [
        "My own example 20:"
      ],
      "metadata": {
        "id": "G5WE1dKupcdL"
      }
    },
    {
      "cell_type": "code",
      "source": [
        "a = \"Hola \"\n",
        "b = \"Mundo\"\n",
        "c = a + b\n",
        "print(c)"
      ],
      "metadata": {
        "id": "XNWPDT4UpdvB"
      },
      "execution_count": null,
      "outputs": []
    },
    {
      "cell_type": "markdown",
      "source": [
        "## Introduction to Python"
      ],
      "metadata": {
        "id": "OWBnr6oXoLWh"
      }
    },
    {
      "cell_type": "markdown",
      "metadata": {
        "id": "OjhIPqOmtM6e"
      },
      "source": [
        "My own example 1:"
      ]
    },
    {
      "cell_type": "code",
      "source": [],
      "metadata": {
        "id": "CBXeFTwp1IG6"
      },
      "execution_count": null,
      "outputs": []
    },
    {
      "cell_type": "markdown",
      "metadata": {
        "id": "DNRY44hqtM6f"
      },
      "source": [
        "My own example 2:"
      ]
    },
    {
      "cell_type": "code",
      "execution_count": null,
      "metadata": {
        "id": "ZmPe_2h7tM6f"
      },
      "outputs": [],
      "source": []
    },
    {
      "cell_type": "markdown",
      "metadata": {
        "id": "cgNTQPn8tM6g"
      },
      "source": [
        "My own example 3:"
      ]
    },
    {
      "cell_type": "code",
      "execution_count": null,
      "metadata": {
        "colab": {
          "base_uri": "https://localhost:8080/"
        },
        "id": "1ukq2gCZtM6g",
        "outputId": "c5f84bc1-40fe-4fd5-c411-8e723d7cc49b"
      },
      "outputs": [
        {
          "output_type": "display_data",
          "data": {
            "text/plain": [
              "<Figure size 432x288 with 1 Axes>"
            ],
            "image/png": "[encoded data removed]"
          },
          "metadata": {
            "needs_background": "light"
          }
        }
      ],
      "source": [
        "count, bins, ignored = plt.hist(s, 30, density=True)\n",
        "plt.plot(bins, 1/(sigma * np.sqrt(2 * np.pi)) *\n",
        "               np.exp( - (bins - mu)**2 / (2 * sigma**2) ),\n",
        "         linewidth=2, color='r')\n",
        "plt.show()"
      ]
    },
    {
      "cell_type": "markdown",
      "source": [
        "My own example 4:"
      ],
      "metadata": {
        "id": "BIIFPpxSqVRh"
      }
    },
    {
      "cell_type": "code",
      "source": [
        "dictionary = {\"key1\": \"value1\", \"key2\": \"value2\", \"key3\": \"value3\"}\n",
        "for key, value in dictionary.items():\n",
        "    print(key, value)"
      ],
      "metadata": {
        "id": "iXzY3tkZqVRh"
      },
      "execution_count": null,
      "outputs": []
    },
    {
      "cell_type": "markdown",
      "source": [
        "My own example 5:"
      ],
      "metadata": {
        "id": "GMrw7OopqVRh"
      }
    },
    {
      "cell_type": "code",
      "source": [],
      "metadata": {
        "id": "15VKt1p8qVRh"
      },
      "execution_count": null,
      "outputs": []
    },
    {
      "cell_type": "markdown",
      "source": [
        "My own example 6:"
      ],
      "metadata": {
        "id": "sto4LoyyqVRi"
      }
    },
    {
      "cell_type": "code",
      "source": [],
      "metadata": {
        "id": "LK9Val2CqVRi"
      },
      "execution_count": null,
      "outputs": []
    },
    {
      "cell_type": "markdown",
      "source": [
        "My own example 7:"
      ],
      "metadata": {
        "id": "YX36R8aFqVRi"
      }
    },
    {
      "cell_type": "code",
      "source": [],
      "metadata": {
        "id": "sDf6UJhnqVRi"
      },
      "execution_count": null,
      "outputs": []
    },
    {
      "cell_type": "markdown",
      "source": [
        "My own example 8:"
      ],
      "metadata": {
        "id": "mSQBUv0fqVRi"
      }
    },
    {
      "cell_type": "code",
      "source": [],
      "metadata": {
        "id": "dv_a_s2cqVRi"
      },
      "execution_count": null,
      "outputs": []
    },
    {
      "cell_type": "markdown",
      "source": [
        "My own example 9:"
      ],
      "metadata": {
        "id": "nTPFjLbAqVRi"
      }
    },
    {
      "cell_type": "code",
      "source": [],
      "metadata": {
        "id": "ctWXY4CBqVRi"
      },
      "execution_count": null,
      "outputs": []
    },
    {
      "cell_type": "markdown",
      "source": [
        "My own example 10:"
      ],
      "metadata": {
        "id": "yQvA-sX5qM49"
      }
    },
    {
      "cell_type": "code",
      "source": [
        "dictionary = {\"key1\": \"value1\", \"key2\": \"value2\", \"key3\": \"value3\"}\n",
        "for key, value in dictionary.items():\n",
        "    print(key, value)"
      ],
      "metadata": {
        "id": "Uvud0Z9aqM4-"
      },
      "execution_count": null,
      "outputs": []
    },
    {
      "cell_type": "markdown",
      "source": [
        "My own example 11:"
      ],
      "metadata": {
        "id": "pwyVPj4QqM5A"
      }
    },
    {
      "cell_type": "code",
      "source": [],
      "metadata": {
        "id": "Ity10D-7qM5B"
      },
      "execution_count": null,
      "outputs": []
    },
    {
      "cell_type": "markdown",
      "source": [
        "My own example 12:"
      ],
      "metadata": {
        "id": "cGYPBcEEqM5B"
      }
    },
    {
      "cell_type": "code",
      "source": [],
      "metadata": {
        "id": "9RTLv-rlqM5B"
      },
      "execution_count": null,
      "outputs": []
    },
    {
      "cell_type": "markdown",
      "source": [
        "My own example 13:"
      ],
      "metadata": {
        "id": "BwblJkNEqM5B"
      }
    },
    {
      "cell_type": "code",
      "source": [],
      "metadata": {
        "id": "RS0qlCCXqM5B"
      },
      "execution_count": null,
      "outputs": []
    },
    {
      "cell_type": "markdown",
      "source": [
        "My own example 14:"
      ],
      "metadata": {
        "id": "1W0OEKtdqM5C"
      }
    },
    {
      "cell_type": "code",
      "source": [],
      "metadata": {
        "id": "aAtizJVXqM5C"
      },
      "execution_count": null,
      "outputs": []
    },
    {
      "cell_type": "markdown",
      "source": [
        "My own example 15:"
      ],
      "metadata": {
        "id": "RTKLYWgSqM5C"
      }
    },
    {
      "cell_type": "code",
      "source": [],
      "metadata": {
        "id": "aLM-CY28qM5C"
      },
      "execution_count": null,
      "outputs": []
    },
    {
      "cell_type": "markdown",
      "source": [
        "My own example 16:"
      ],
      "metadata": {
        "id": "f82gu9s-qM5C"
      }
    },
    {
      "cell_type": "code",
      "source": [],
      "metadata": {
        "id": "FsItyjodqM5D"
      },
      "execution_count": null,
      "outputs": []
    },
    {
      "cell_type": "markdown",
      "source": [
        "My own example 17:"
      ],
      "metadata": {
        "id": "0-ZqdAy3qM5D"
      }
    },
    {
      "cell_type": "code",
      "source": [],
      "metadata": {
        "id": "U1lrxVtEqM5D"
      },
      "execution_count": null,
      "outputs": []
    },
    {
      "cell_type": "markdown",
      "source": [
        "My own example 18:"
      ],
      "metadata": {
        "id": "atKcI8AwqM5D"
      }
    },
    {
      "cell_type": "code",
      "source": [],
      "metadata": {
        "id": "Cd79LT8IqM5D"
      },
      "execution_count": null,
      "outputs": []
    },
    {
      "cell_type": "markdown",
      "source": [
        "My own example 19:"
      ],
      "metadata": {
        "id": "g-lTD45-qM5D"
      }
    },
    {
      "cell_type": "code",
      "source": [],
      "metadata": {
        "id": "4UA6pGpCqM5D"
      },
      "execution_count": null,
      "outputs": []
    },
    {
      "cell_type": "markdown",
      "source": [
        "My own example 20:"
      ],
      "metadata": {
        "id": "HjcjuBJ4qM5D"
      }
    },
    {
      "cell_type": "code",
      "source": [],
      "metadata": {
        "id": "Iz_AI6rkqM5D"
      },
      "execution_count": null,
      "outputs": []
    },
    {
      "cell_type": "markdown",
      "source": [
        "## Data Types and Data Structures"
      ],
      "metadata": {
        "id": "yHnz7u39oT53"
      }
    },
    {
      "cell_type": "markdown",
      "metadata": {
        "id": "TKVD4zzZtM6g"
      },
      "source": [
        "My own example 1:"
      ]
    },
    {
      "cell_type": "code",
      "execution_count": null,
      "metadata": {
        "colab": {
          "base_uri": "https://localhost:8080/"
        },
        "id": "8gDnGzfdtM6h",
        "outputId": "fd6ecb9b-54bc-49bf-f459-546dda3496d1"
      },
      "outputs": [
        {
          "output_type": "stream",
          "name": "stdout",
          "text": [
            "Looking in indexes: https://pypi.org/simple, https://us-python.pkg.dev/colab-wheels/public/simple/\n",
            "Requirement already satisfied: yfinance in /usr/local/lib/python3.8/dist-packages (0.2.12)\n",
            "Requirement already satisfied: multitasking>=0.0.7 in /usr/local/lib/python3.8/dist-packages (from yfinance) (0.0.11)\n",
            "Requirement already satisfied: lxml>=4.9.1 in /usr/local/lib/python3.8/dist-packages (from yfinance) (4.9.2)\n",
            "Requirement already satisfied: beautifulsoup4>=4.11.1 in /usr/local/lib/python3.8/dist-packages (from yfinance) (4.11.2)\n",
            "Requirement already satisfied: pandas>=1.3.0 in /usr/local/lib/python3.8/dist-packages (from yfinance) (1.3.5)\n",
            "Requirement already satisfied: pytz>=2022.5 in /usr/local/lib/python3.8/dist-packages (from yfinance) (2022.7.1)\n",
            "Requirement already satisfied: cryptography>=3.3.2 in /usr/local/lib/python3.8/dist-packages (from yfinance) (39.0.1)\n",
            "Requirement already satisfied: frozendict>=2.3.4 in /usr/local/lib/python3.8/dist-packages (from yfinance) (2.3.5)\n",
            "Requirement already satisfied: requests>=2.26 in /usr/local/lib/python3.8/dist-packages (from yfinance) (2.28.2)\n",
            "Requirement already satisfied: html5lib>=1.1 in /usr/local/lib/python3.8/dist-packages (from yfinance) (1.1)\n",
            "Requirement already satisfied: numpy>=1.16.5 in /usr/local/lib/python3.8/dist-packages (from yfinance) (1.21.6)\n",
            "Requirement already satisfied: appdirs>=1.4.4 in /usr/local/lib/python3.8/dist-packages (from yfinance) (1.4.4)\n",
            "Requirement already satisfied: soupsieve>1.2 in /usr/local/lib/python3.8/dist-packages (from beautifulsoup4>=4.11.1->yfinance) (2.4)\n",
            "Requirement already satisfied: cffi>=1.12 in /usr/local/lib/python3.8/dist-packages (from cryptography>=3.3.2->yfinance) (1.15.1)\n",
            "Requirement already satisfied: webencodings in /usr/local/lib/python3.8/dist-packages (from html5lib>=1.1->yfinance) (0.5.1)\n",
            "Requirement already satisfied: six>=1.9 in /usr/local/lib/python3.8/dist-packages (from html5lib>=1.1->yfinance) (1.15.0)\n",
            "Requirement already satisfied: python-dateutil>=2.7.3 in /usr/local/lib/python3.8/dist-packages (from pandas>=1.3.0->yfinance) (2.8.2)\n",
            "Requirement already satisfied: idna<4,>=2.5 in /usr/local/lib/python3.8/dist-packages (from requests>=2.26->yfinance) (2.10)\n",
            "Requirement already satisfied: urllib3<1.27,>=1.21.1 in /usr/local/lib/python3.8/dist-packages (from requests>=2.26->yfinance) (1.24.3)\n",
            "Requirement already satisfied: charset-normalizer<4,>=2 in /usr/local/lib/python3.8/dist-packages (from requests>=2.26->yfinance) (3.0.1)\n",
            "Requirement already satisfied: certifi>=2017.4.17 in /usr/local/lib/python3.8/dist-packages (from requests>=2.26->yfinance) (2022.12.7)\n",
            "Requirement already satisfied: pycparser in /usr/local/lib/python3.8/dist-packages (from cffi>=1.12->cryptography>=3.3.2->yfinance) (2.21)\n",
            "[*********************100%***********************]  1 of 1 completed\n"
          ]
        }
      ],
      "source": [
        "!pip install yfinance\n",
        "\n",
        "import yfinance as yf\n",
        "\n",
        "data = yf.download(\"MSFT\", start=\"2012-1-1\", end=\"2020-6-1\") "
      ]
    },
    {
      "cell_type": "markdown",
      "metadata": {
        "id": "pClXYLVVtM6h"
      },
      "source": [
        "My own example 2:"
      ]
    },
    {
      "cell_type": "code",
      "execution_count": null,
      "metadata": {
        "colab": {
          "base_uri": "https://localhost:8080/"
        },
        "id": "A4U5tpgetM6i",
        "outputId": "a8d9869d-4ae7-468c-b05c-0149c67b7fce"
      },
      "outputs": [
        {
          "output_type": "display_data",
          "data": {
            "text/plain": [
              "<Figure size 432x288 with 1 Axes>"
            ],
            "image/png": "[encoded data removed]"
          },
          "metadata": {
            "needs_background": "light"
          }
        }
      ],
      "source": [
        "X = data['Open']\n",
        "\n",
        "plt.plot(X.index, X.values)\n",
        "plt.ylabel('Price')\n",
        "plt.legend(['MSFT']);"
      ]
    },
    {
      "cell_type": "markdown",
      "metadata": {
        "id": "gOVLQuIttM6i"
      },
      "source": [
        "My own example 3:"
      ]
    },
    {
      "cell_type": "code",
      "execution_count": null,
      "metadata": {
        "colab": {
          "base_uri": "https://localhost:8080/"
        },
        "id": "5jgqrojAtM6i",
        "outputId": "272a0ac2-e6b1-4e6b-c16f-f9ae0bebe4fa"
      },
      "outputs": [
        {
          "output_type": "display_data",
          "data": {
            "text/plain": [
              "<Figure size 432x288 with 1 Axes>"
            ],
            "image/png": "[encoded data removed]"
          },
          "metadata": {
            "needs_background": "light"
          }
        }
      ],
      "source": [
        "R = X.pct_change()[1:]\n",
        "\n",
        "plt.hist(R, bins=20)\n",
        "plt.xlabel('Return')\n",
        "plt.ylabel('Frequency')\n",
        "plt.legend(['MSFT Returns']);"
      ]
    },
    {
      "cell_type": "markdown",
      "metadata": {
        "id": "syYM2SoatM6i"
      },
      "source": [
        "My own example 4:"
      ]
    },
    {
      "cell_type": "code",
      "execution_count": null,
      "metadata": {
        "colab": {
          "base_uri": "https://localhost:8080/"
        },
        "id": "T0Cky3lWtM6j",
        "outputId": "b39106c0-a6fa-4c58-e570-f2f04517b5ec"
      },
      "outputs": [
        {
          "output_type": "stream",
          "name": "stdout",
          "text": [
            "$\\tau:$ 6.283185307179586\n",
            "$\\infty:$ inf\n"
          ]
        }
      ],
      "source": [
        "import math\n",
        "\n",
        "print(r'$\\tau:$', math.tau)\n",
        "print(r'$\\infty:$', math.inf)"
      ]
    },
    {
      "cell_type": "markdown",
      "metadata": {
        "id": "Y1qlbnvZtM6j"
      },
      "source": [
        "My own example 5:"
      ]
    },
    {
      "cell_type": "code",
      "execution_count": null,
      "metadata": {
        "id": "4YvABjyatM6j",
        "colab": {
          "base_uri": "https://localhost:8080/"
        },
        "outputId": "7bda0eec-a2a3-4866-cc85-f83e3fcf4ec7"
      },
      "outputs": [
        {
          "output_type": "stream",
          "name": "stdout",
          "text": [
            "John 25\n"
          ]
        }
      ],
      "source": [
        "age = 25\n",
        "name = \"John\"\n",
        "\n",
        "print(name + \" \" + str(age))"
      ]
    },
    {
      "cell_type": "markdown",
      "metadata": {
        "id": "lOGOOrpPtM6j"
      },
      "source": [
        "My own example 6:"
      ]
    },
    {
      "cell_type": "code",
      "execution_count": null,
      "metadata": {
        "id": "B76P6yintM6k",
        "colab": {
          "base_uri": "https://localhost:8080/"
        },
        "outputId": "90ba2b53-199a-4b80-c616-3d4434cf5237"
      },
      "outputs": [
        {
          "output_type": "execute_result",
          "data": {
            "text/plain": [
              "4"
            ]
          },
          "metadata": {},
          "execution_count": 16
        }
      ],
      "source": [
        "coordinates = (3, 4)\n",
        "coordinates[1]"
      ]
    },
    {
      "cell_type": "markdown",
      "metadata": {
        "id": "gi5sPVLstM6k"
      },
      "source": [
        "My own example 7:"
      ]
    },
    {
      "cell_type": "code",
      "execution_count": null,
      "metadata": {
        "id": "OH1pKFYKtM6k",
        "colab": {
          "base_uri": "https://localhost:8080/"
        },
        "outputId": "cb224816-b995-4230-fb7b-7eb7ca35c12c"
      },
      "outputs": [
        {
          "output_type": "execute_result",
          "data": {
            "text/plain": [
              "{2, 4}"
            ]
          },
          "metadata": {},
          "execution_count": 17
        }
      ],
      "source": [
        "numbers = {1, 2, 3, 4, 5}\n",
        "evens = {2, 4, 6, 8}\n",
        "numbers.intersection(evens)"
      ]
    },
    {
      "cell_type": "markdown",
      "metadata": {
        "id": "MhIRdgdgtM6l"
      },
      "source": [
        "My own example 8:"
      ]
    },
    {
      "cell_type": "code",
      "execution_count": null,
      "metadata": {
        "id": "MGc0SUI7tM6l",
        "colab": {
          "base_uri": "https://localhost:8080/",
          "height": 35
        },
        "outputId": "79f7b0b5-92ec-4990-8a0b-be20354dd1e9"
      },
      "outputs": [
        {
          "output_type": "execute_result",
          "data": {
            "text/plain": [
              "'Alice'"
            ],
            "application/vnd.google.colaboratory.intrinsic+json": {
              "type": "string"
            }
          },
          "metadata": {},
          "execution_count": 18
        }
      ],
      "source": [
        "person = {\"name\": \"Alice\", \"age\": 30, \"city\": \"New York\"}\n",
        "person[\"name\"]"
      ]
    },
    {
      "cell_type": "markdown",
      "metadata": {
        "id": "B1JFpR52tM6l"
      },
      "source": [
        "My own example 9:"
      ]
    },
    {
      "cell_type": "code",
      "execution_count": null,
      "metadata": {
        "id": "89n1PNeHtM6m",
        "colab": {
          "base_uri": "https://localhost:8080/"
        },
        "outputId": "e8606d04-e5e1-4633-a1ec-844fbaf8e208"
      },
      "outputs": [
        {
          "output_type": "stream",
          "name": "stdout",
          "text": [
            "You are an adult.\n"
          ]
        }
      ],
      "source": [
        "if age > 18:\n",
        "    print(\"You are an adult.\")\n",
        "else:\n",
        "    print(\"You are a minor.\")"
      ]
    },
    {
      "cell_type": "markdown",
      "source": [
        "My own example 10:"
      ],
      "metadata": {
        "id": "PHl_TIyAoRzB"
      }
    },
    {
      "cell_type": "code",
      "execution_count": null,
      "metadata": {
        "id": "X9ShPxDPtM6m"
      },
      "outputs": [],
      "source": [
        "def greet(name):\n",
        "    print(\"Hello, \" + name + \"!\")"
      ]
    },
    {
      "cell_type": "markdown",
      "metadata": {
        "id": "dlUar4CFtM6m"
      },
      "source": [
        "My own example 11:"
      ]
    },
    {
      "cell_type": "code",
      "execution_count": null,
      "metadata": {
        "id": "8j58FyWCtM6n",
        "colab": {
          "base_uri": "https://localhost:8080/",
          "height": 35
        },
        "outputId": "b08ff2c8-a778-4ffa-cee3-373796f109b2"
      },
      "outputs": [
        {
          "output_type": "execute_result",
          "data": {
            "text/plain": [
              "'blue'"
            ],
            "application/vnd.google.colaboratory.intrinsic+json": {
              "type": "string"
            }
          },
          "metadata": {},
          "execution_count": 21
        }
      ],
      "source": [
        "colors = (\"red\", \"green\", \"blue\")\n",
        "colors[2]"
      ]
    },
    {
      "cell_type": "markdown",
      "metadata": {
        "id": "BuPFc_nltM6n"
      },
      "source": [
        "My own example 12:"
      ]
    },
    {
      "cell_type": "code",
      "execution_count": null,
      "metadata": {
        "id": "r-__N2NItM6n",
        "colab": {
          "base_uri": "https://localhost:8080/"
        },
        "outputId": "022c0471-51cb-4800-cba8-a9f90266f6b7"
      },
      "outputs": [
        {
          "output_type": "execute_result",
          "data": {
            "text/plain": [
              "{3, 5, 7, 11, 13, 17, 19, 23, 29, 31}"
            ]
          },
          "metadata": {},
          "execution_count": 22
        }
      ],
      "source": [
        "prime_numbers = {2, 3, 5, 7, 11, 13, 17, 19, 23, 29, 31}\n",
        "prime_numbers.difference(evens)"
      ]
    },
    {
      "cell_type": "markdown",
      "metadata": {
        "id": "dtVsBoKctM6n"
      },
      "source": [
        "My own example 13:"
      ]
    },
    {
      "cell_type": "code",
      "execution_count": null,
      "metadata": {
        "id": "ehDvd4V2tM6o",
        "colab": {
          "base_uri": "https://localhost:8080/"
        },
        "outputId": "e46207d0-ee76-4f8d-b47c-498fde9a5329"
      },
      "outputs": [
        {
          "output_type": "stream",
          "name": "stdout",
          "text": [
            "John: 90\n",
            "Alice: 85\n",
            "Bob: 70\n"
          ]
        }
      ],
      "source": [
        "students = {\"John\": 90, \"Alice\": 85, \"Bob\": 70}\n",
        "\n",
        "for k,v in students.items():\n",
        "  print(k + \": \" + str(v))"
      ]
    },
    {
      "cell_type": "markdown",
      "metadata": {
        "id": "MttDAsn5tM6o"
      },
      "source": [
        "My own example 14:"
      ]
    },
    {
      "cell_type": "code",
      "execution_count": null,
      "metadata": {
        "id": "o_IwUcVYtM6o",
        "colab": {
          "base_uri": "https://localhost:8080/"
        },
        "outputId": "d155781f-beee-4b26-8df7-b042025cecd0"
      },
      "outputs": [
        {
          "output_type": "stream",
          "name": "stdout",
          "text": [
            "1\n",
            "2\n",
            "3\n",
            "4\n",
            "5\n"
          ]
        }
      ],
      "source": [
        "numbers = [1, 2, 3, 4, 5, 6, 7, 8, 9, 10]\n",
        "\n",
        "for num in numbers:\n",
        "    # Break out of the loop if we reach a number greater than 5\n",
        "    if num > 5:\n",
        "        break\n",
        "    print(num)"
      ]
    },
    {
      "cell_type": "markdown",
      "metadata": {
        "id": "ZPTaBPB-tM6o"
      },
      "source": [
        "My own example 15:"
      ]
    },
    {
      "cell_type": "code",
      "execution_count": null,
      "metadata": {
        "id": "c3s71xibtM6p",
        "colab": {
          "base_uri": "https://localhost:8080/"
        },
        "outputId": "55c32fa3-87c2-4dc0-fbeb-27e3ecb038e0"
      },
      "outputs": [
        {
          "output_type": "stream",
          "name": "stdout",
          "text": [
            "1\n",
            "3\n",
            "5\n",
            "7\n",
            "9\n"
          ]
        }
      ],
      "source": [
        "i = 0\n",
        "\n",
        "while i < len(numbers):\n",
        "    # If the current number is even, skip it\n",
        "    if numbers[i] % 2 == 0:\n",
        "        i += 1\n",
        "        continue\n",
        "    print(numbers[i])\n",
        "    i += 1"
      ]
    },
    {
      "cell_type": "markdown",
      "metadata": {
        "id": "3wGMfDazsWLw"
      },
      "source": [
        "My own example 16:"
      ]
    },
    {
      "cell_type": "code",
      "execution_count": null,
      "metadata": {
        "colab": {
          "base_uri": "https://localhost:8080/"
        },
        "outputId": "90ba2b53-199a-4b80-c616-3d4434cf5237",
        "id": "rPWQfmTOsWLw"
      },
      "outputs": [
        {
          "output_type": "execute_result",
          "data": {
            "text/plain": [
              "4"
            ]
          },
          "metadata": {},
          "execution_count": 16
        }
      ],
      "source": [
        "coordinates = (3, 4)\n",
        "coordinates[1]"
      ]
    },
    {
      "cell_type": "markdown",
      "metadata": {
        "id": "YhGO8AT4sWLx"
      },
      "source": [
        "My own example 17:"
      ]
    },
    {
      "cell_type": "code",
      "execution_count": null,
      "metadata": {
        "colab": {
          "base_uri": "https://localhost:8080/"
        },
        "outputId": "cb224816-b995-4230-fb7b-7eb7ca35c12c",
        "id": "ckG4Mo8bsWLx"
      },
      "outputs": [
        {
          "output_type": "execute_result",
          "data": {
            "text/plain": [
              "{2, 4}"
            ]
          },
          "metadata": {},
          "execution_count": 17
        }
      ],
      "source": [
        "numbers = {1, 2, 3, 4, 5}\n",
        "evens = {2, 4, 6, 8}\n",
        "numbers.intersection(evens)"
      ]
    },
    {
      "cell_type": "markdown",
      "metadata": {
        "id": "KWqllAVZsWLx"
      },
      "source": [
        "My own example 18:"
      ]
    },
    {
      "cell_type": "code",
      "execution_count": null,
      "metadata": {
        "colab": {
          "base_uri": "https://localhost:8080/",
          "height": 35
        },
        "outputId": "79f7b0b5-92ec-4990-8a0b-be20354dd1e9",
        "id": "3IXZMAM0sWLx"
      },
      "outputs": [
        {
          "output_type": "execute_result",
          "data": {
            "text/plain": [
              "'Alice'"
            ],
            "application/vnd.google.colaboratory.intrinsic+json": {
              "type": "string"
            }
          },
          "metadata": {},
          "execution_count": 18
        }
      ],
      "source": [
        "person = {\"name\": \"Alice\", \"age\": 30, \"city\": \"New York\"}\n",
        "person[\"name\"]"
      ]
    },
    {
      "cell_type": "markdown",
      "metadata": {
        "id": "7kxqJB_CsWLx"
      },
      "source": [
        "My own example 19:"
      ]
    },
    {
      "cell_type": "code",
      "execution_count": null,
      "metadata": {
        "colab": {
          "base_uri": "https://localhost:8080/"
        },
        "outputId": "e8606d04-e5e1-4633-a1ec-844fbaf8e208",
        "id": "Wj9O1MTBsWLx"
      },
      "outputs": [
        {
          "output_type": "stream",
          "name": "stdout",
          "text": [
            "You are an adult.\n"
          ]
        }
      ],
      "source": [
        "if age > 18:\n",
        "    print(\"You are an adult.\")\n",
        "else:\n",
        "    print(\"You are a minor.\")"
      ]
    },
    {
      "cell_type": "markdown",
      "source": [
        "My own example 20:"
      ],
      "metadata": {
        "id": "of7zLsjGsWLy"
      }
    },
    {
      "cell_type": "code",
      "execution_count": null,
      "metadata": {
        "id": "ElFWW0m3sWLy"
      },
      "outputs": [],
      "source": [
        "def greet(name):\n",
        "    print(\"Hello, \" + name + \"!\")"
      ]
    },
    {
      "cell_type": "markdown",
      "source": [
        "## Logical Operations and Loops"
      ],
      "metadata": {
        "id": "03b0hyK7j1pf"
      }
    },
    {
      "cell_type": "markdown",
      "metadata": {
        "id": "023u_1A4r8BJ"
      },
      "source": [
        "My own example 1:"
      ]
    },
    {
      "cell_type": "code",
      "execution_count": null,
      "metadata": {
        "colab": {
          "base_uri": "https://localhost:8080/",
          "height": 35
        },
        "outputId": "b08ff2c8-a778-4ffa-cee3-373796f109b2",
        "id": "ZgwLROAhr8BJ"
      },
      "outputs": [
        {
          "output_type": "execute_result",
          "data": {
            "text/plain": [
              "'blue'"
            ],
            "application/vnd.google.colaboratory.intrinsic+json": {
              "type": "string"
            }
          },
          "metadata": {},
          "execution_count": 21
        }
      ],
      "source": [
        "colors = (\"red\", \"green\", \"blue\")\n",
        "colors[2]"
      ]
    },
    {
      "cell_type": "markdown",
      "metadata": {
        "id": "sMCxQ4-0r8BK"
      },
      "source": [
        "My own example 2:"
      ]
    },
    {
      "cell_type": "code",
      "execution_count": null,
      "metadata": {
        "colab": {
          "base_uri": "https://localhost:8080/"
        },
        "outputId": "022c0471-51cb-4800-cba8-a9f90266f6b7",
        "id": "J8GByW_Kr8BK"
      },
      "outputs": [
        {
          "output_type": "execute_result",
          "data": {
            "text/plain": [
              "{3, 5, 7, 11, 13, 17, 19, 23, 29, 31}"
            ]
          },
          "metadata": {},
          "execution_count": 22
        }
      ],
      "source": [
        "prime_numbers = {2, 3, 5, 7, 11, 13, 17, 19, 23, 29, 31}\n",
        "prime_numbers.difference(evens)"
      ]
    },
    {
      "cell_type": "markdown",
      "metadata": {
        "id": "IDgIZDCkr8BK"
      },
      "source": [
        "My own example 3:"
      ]
    },
    {
      "cell_type": "code",
      "execution_count": null,
      "metadata": {
        "colab": {
          "base_uri": "https://localhost:8080/"
        },
        "outputId": "e46207d0-ee76-4f8d-b47c-498fde9a5329",
        "id": "e7ySJAqbr8BK"
      },
      "outputs": [
        {
          "output_type": "stream",
          "name": "stdout",
          "text": [
            "John: 90\n",
            "Alice: 85\n",
            "Bob: 70\n"
          ]
        }
      ],
      "source": [
        "students = {\"John\": 90, \"Alice\": 85, \"Bob\": 70}\n",
        "\n",
        "for k,v in students.items():\n",
        "  print(k + \": \" + str(v))"
      ]
    },
    {
      "cell_type": "markdown",
      "metadata": {
        "id": "3tEcHlbnr8BK"
      },
      "source": [
        "My own example 4:"
      ]
    },
    {
      "cell_type": "code",
      "execution_count": null,
      "metadata": {
        "colab": {
          "base_uri": "https://localhost:8080/"
        },
        "outputId": "d155781f-beee-4b26-8df7-b042025cecd0",
        "id": "a70OAWVQr8BL"
      },
      "outputs": [
        {
          "output_type": "stream",
          "name": "stdout",
          "text": [
            "1\n",
            "2\n",
            "3\n",
            "4\n",
            "5\n"
          ]
        }
      ],
      "source": [
        "numbers = [1, 2, 3, 4, 5, 6, 7, 8, 9, 10]\n",
        "\n",
        "for num in numbers:\n",
        "    # Break out of the loop if we reach a number greater than 5\n",
        "    if num > 5:\n",
        "        break\n",
        "    print(num)"
      ]
    },
    {
      "cell_type": "markdown",
      "metadata": {
        "id": "7a0uNHfXr8BL"
      },
      "source": [
        "My own example 5:"
      ]
    },
    {
      "cell_type": "code",
      "execution_count": null,
      "metadata": {
        "colab": {
          "base_uri": "https://localhost:8080/"
        },
        "outputId": "55c32fa3-87c2-4dc0-fbeb-27e3ecb038e0",
        "id": "SxInoWPKr8BL"
      },
      "outputs": [
        {
          "output_type": "stream",
          "name": "stdout",
          "text": [
            "1\n",
            "3\n",
            "5\n",
            "7\n",
            "9\n"
          ]
        }
      ],
      "source": [
        "i = 0\n",
        "\n",
        "while i < len(numbers):\n",
        "    # If the current number is even, skip it\n",
        "    if numbers[i] % 2 == 0:\n",
        "        i += 1\n",
        "        continue\n",
        "    print(numbers[i])\n",
        "    i += 1"
      ]
    },
    {
      "cell_type": "markdown",
      "source": [
        "My own example 6:"
      ],
      "metadata": {
        "id": "y-AWAQbdsAGN"
      }
    },
    {
      "cell_type": "code",
      "source": [
        "grades = {'Alice': 85, 'Bob': 92, 'Charlie': 78, 'David': 80}\n",
        "\n",
        "for name, grade in grades.items():\n",
        "    # If the grade is below 80, break out of the loop\n",
        "    if grade < 80:\n",
        "        print(name + ' has a failing grade')\n",
        "        break\n",
        "    print(name + ' has a passing grade')"
      ],
      "metadata": {
        "colab": {
          "base_uri": "https://localhost:8080/"
        },
        "id": "WxHY7S3osAXt",
        "outputId": "052faf8a-b26e-47d1-8643-a9d99612beb1"
      },
      "execution_count": null,
      "outputs": [
        {
          "output_type": "stream",
          "name": "stdout",
          "text": [
            "Alice has a passing grade\n",
            "Bob has a passing grade\n",
            "Charlie has a failing grade\n"
          ]
        }
      ]
    },
    {
      "cell_type": "markdown",
      "metadata": {
        "id": "zKw-EEEZsGXa"
      },
      "source": [
        "My own example 7:"
      ]
    },
    {
      "cell_type": "code",
      "execution_count": null,
      "metadata": {
        "colab": {
          "base_uri": "https://localhost:8080/",
          "height": 35
        },
        "outputId": "b08ff2c8-a778-4ffa-cee3-373796f109b2",
        "id": "GmpItlnVsGXa"
      },
      "outputs": [
        {
          "output_type": "execute_result",
          "data": {
            "text/plain": [
              "'blue'"
            ],
            "application/vnd.google.colaboratory.intrinsic+json": {
              "type": "string"
            }
          },
          "metadata": {},
          "execution_count": 21
        }
      ],
      "source": [
        "colors = (\"red\", \"green\", \"blue\")\n",
        "colors[2]"
      ]
    },
    {
      "cell_type": "markdown",
      "metadata": {
        "id": "8YYxGd-_sGXa"
      },
      "source": [
        "My own example 8:"
      ]
    },
    {
      "cell_type": "code",
      "execution_count": null,
      "metadata": {
        "colab": {
          "base_uri": "https://localhost:8080/"
        },
        "outputId": "022c0471-51cb-4800-cba8-a9f90266f6b7",
        "id": "z_caIpcnsGXa"
      },
      "outputs": [
        {
          "output_type": "execute_result",
          "data": {
            "text/plain": [
              "{3, 5, 7, 11, 13, 17, 19, 23, 29, 31}"
            ]
          },
          "metadata": {},
          "execution_count": 22
        }
      ],
      "source": [
        "prime_numbers = {2, 3, 5, 7, 11, 13, 17, 19, 23, 29, 31}\n",
        "prime_numbers.difference(evens)"
      ]
    },
    {
      "cell_type": "markdown",
      "metadata": {
        "id": "PUw0l-YxsGXb"
      },
      "source": [
        "My own example 9:"
      ]
    },
    {
      "cell_type": "code",
      "execution_count": null,
      "metadata": {
        "colab": {
          "base_uri": "https://localhost:8080/"
        },
        "outputId": "e46207d0-ee76-4f8d-b47c-498fde9a5329",
        "id": "mqpMlfu0sGXb"
      },
      "outputs": [
        {
          "output_type": "stream",
          "name": "stdout",
          "text": [
            "John: 90\n",
            "Alice: 85\n",
            "Bob: 70\n"
          ]
        }
      ],
      "source": [
        "students = {\"John\": 90, \"Alice\": 85, \"Bob\": 70}\n",
        "\n",
        "for k,v in students.items():\n",
        "  print(k + \": \" + str(v))"
      ]
    },
    {
      "cell_type": "markdown",
      "metadata": {
        "id": "r2BSvYPGsGXb"
      },
      "source": [
        "My own example 10:"
      ]
    },
    {
      "cell_type": "code",
      "execution_count": null,
      "metadata": {
        "colab": {
          "base_uri": "https://localhost:8080/"
        },
        "outputId": "d155781f-beee-4b26-8df7-b042025cecd0",
        "id": "vdUS20hFsGXb"
      },
      "outputs": [
        {
          "output_type": "stream",
          "name": "stdout",
          "text": [
            "1\n",
            "2\n",
            "3\n",
            "4\n",
            "5\n"
          ]
        }
      ],
      "source": [
        "numbers = [1, 2, 3, 4, 5, 6, 7, 8, 9, 10]\n",
        "\n",
        "for num in numbers:\n",
        "    # Break out of the loop if we reach a number greater than 5\n",
        "    if num > 5:\n",
        "        break\n",
        "    print(num)"
      ]
    },
    {
      "cell_type": "markdown",
      "metadata": {
        "id": "fGzjsYPssGXb"
      },
      "source": [
        "My own example 11:"
      ]
    },
    {
      "cell_type": "code",
      "execution_count": null,
      "metadata": {
        "colab": {
          "base_uri": "https://localhost:8080/"
        },
        "outputId": "55c32fa3-87c2-4dc0-fbeb-27e3ecb038e0",
        "id": "WxoISCiKsGXc"
      },
      "outputs": [
        {
          "output_type": "stream",
          "name": "stdout",
          "text": [
            "1\n",
            "3\n",
            "5\n",
            "7\n",
            "9\n"
          ]
        }
      ],
      "source": [
        "i = 0\n",
        "\n",
        "while i < len(numbers):\n",
        "    # If the current number is even, skip it\n",
        "    if numbers[i] % 2 == 0:\n",
        "        i += 1\n",
        "        continue\n",
        "    print(numbers[i])\n",
        "    i += 1"
      ]
    },
    {
      "cell_type": "markdown",
      "metadata": {
        "id": "GSSOPto2tQ-X"
      },
      "source": [
        "My own example 12:"
      ]
    },
    {
      "cell_type": "code",
      "execution_count": null,
      "metadata": {
        "colab": {
          "base_uri": "https://localhost:8080/"
        },
        "outputId": "022c0471-51cb-4800-cba8-a9f90266f6b7",
        "id": "9-Xv5dKFtQ-X"
      },
      "outputs": [
        {
          "output_type": "execute_result",
          "data": {
            "text/plain": [
              "{3, 5, 7, 11, 13, 17, 19, 23, 29, 31}"
            ]
          },
          "metadata": {},
          "execution_count": 22
        }
      ],
      "source": [
        "prime_numbers = {2, 3, 5, 7, 11, 13, 17, 19, 23, 29, 31}\n",
        "prime_numbers.difference(evens)"
      ]
    },
    {
      "cell_type": "markdown",
      "metadata": {
        "id": "Fq9by_-ftQ-Y"
      },
      "source": [
        "My own example 13:"
      ]
    },
    {
      "cell_type": "code",
      "execution_count": null,
      "metadata": {
        "colab": {
          "base_uri": "https://localhost:8080/"
        },
        "outputId": "e46207d0-ee76-4f8d-b47c-498fde9a5329",
        "id": "x9auGWCVtQ-Y"
      },
      "outputs": [
        {
          "output_type": "stream",
          "name": "stdout",
          "text": [
            "John: 90\n",
            "Alice: 85\n",
            "Bob: 70\n"
          ]
        }
      ],
      "source": [
        "students = {\"John\": 90, \"Alice\": 85, \"Bob\": 70}\n",
        "\n",
        "for k,v in students.items():\n",
        "  print(k + \": \" + str(v))"
      ]
    },
    {
      "cell_type": "markdown",
      "metadata": {
        "id": "ZVbxEQZLtQ-Y"
      },
      "source": [
        "My own example 14:"
      ]
    },
    {
      "cell_type": "code",
      "execution_count": null,
      "metadata": {
        "colab": {
          "base_uri": "https://localhost:8080/"
        },
        "outputId": "d155781f-beee-4b26-8df7-b042025cecd0",
        "id": "MfHVFprGtQ-Y"
      },
      "outputs": [
        {
          "output_type": "stream",
          "name": "stdout",
          "text": [
            "1\n",
            "2\n",
            "3\n",
            "4\n",
            "5\n"
          ]
        }
      ],
      "source": [
        "numbers = [1, 2, 3, 4, 5, 6, 7, 8, 9, 10]\n",
        "\n",
        "for num in numbers:\n",
        "    # Break out of the loop if we reach a number greater than 5\n",
        "    if num > 5:\n",
        "        break\n",
        "    print(num)"
      ]
    },
    {
      "cell_type": "markdown",
      "metadata": {
        "id": "BFiKZB7XtQ-Y"
      },
      "source": [
        "My own example 15:"
      ]
    },
    {
      "cell_type": "code",
      "execution_count": null,
      "metadata": {
        "colab": {
          "base_uri": "https://localhost:8080/"
        },
        "outputId": "55c32fa3-87c2-4dc0-fbeb-27e3ecb038e0",
        "id": "4iIgSTO9tQ-Y"
      },
      "outputs": [
        {
          "output_type": "stream",
          "name": "stdout",
          "text": [
            "1\n",
            "3\n",
            "5\n",
            "7\n",
            "9\n"
          ]
        }
      ],
      "source": [
        "i = 0\n",
        "\n",
        "while i < len(numbers):\n",
        "    # If the current number is even, skip it\n",
        "    if numbers[i] % 2 == 0:\n",
        "        i += 1\n",
        "        continue\n",
        "    print(numbers[i])\n",
        "    i += 1"
      ]
    },
    {
      "cell_type": "markdown",
      "source": [
        "My own example 16:"
      ],
      "metadata": {
        "id": "NSmyYEoStQ-Z"
      }
    },
    {
      "cell_type": "code",
      "source": [
        "grades = {'Alice': 85, 'Bob': 92, 'Charlie': 78, 'David': 80}\n",
        "\n",
        "for name, grade in grades.items():\n",
        "    # If the grade is below 80, break out of the loop\n",
        "    if grade < 80:\n",
        "        print(name + ' has a failing grade')\n",
        "        break\n",
        "    print(name + ' has a passing grade')"
      ],
      "metadata": {
        "colab": {
          "base_uri": "https://localhost:8080/"
        },
        "outputId": "052faf8a-b26e-47d1-8643-a9d99612beb1",
        "id": "4MXQGw_DtQ-Z"
      },
      "execution_count": null,
      "outputs": [
        {
          "output_type": "stream",
          "name": "stdout",
          "text": [
            "Alice has a passing grade\n",
            "Bob has a passing grade\n",
            "Charlie has a failing grade\n"
          ]
        }
      ]
    },
    {
      "cell_type": "markdown",
      "metadata": {
        "id": "3j4a0OlTtQ-Z"
      },
      "source": [
        "My own example 17:"
      ]
    },
    {
      "cell_type": "code",
      "execution_count": null,
      "metadata": {
        "colab": {
          "base_uri": "https://localhost:8080/",
          "height": 35
        },
        "outputId": "b08ff2c8-a778-4ffa-cee3-373796f109b2",
        "id": "LVWKR66BtQ-Z"
      },
      "outputs": [
        {
          "output_type": "execute_result",
          "data": {
            "text/plain": [
              "'blue'"
            ],
            "application/vnd.google.colaboratory.intrinsic+json": {
              "type": "string"
            }
          },
          "metadata": {},
          "execution_count": 21
        }
      ],
      "source": [
        "colors = (\"red\", \"green\", \"blue\")\n",
        "colors[2]"
      ]
    },
    {
      "cell_type": "markdown",
      "metadata": {
        "id": "BdvODdlYtQ-Z"
      },
      "source": [
        "My own example 18:"
      ]
    },
    {
      "cell_type": "code",
      "execution_count": null,
      "metadata": {
        "colab": {
          "base_uri": "https://localhost:8080/"
        },
        "outputId": "022c0471-51cb-4800-cba8-a9f90266f6b7",
        "id": "KUCdIF7ltQ-Z"
      },
      "outputs": [
        {
          "output_type": "execute_result",
          "data": {
            "text/plain": [
              "{3, 5, 7, 11, 13, 17, 19, 23, 29, 31}"
            ]
          },
          "metadata": {},
          "execution_count": 22
        }
      ],
      "source": [
        "prime_numbers = {2, 3, 5, 7, 11, 13, 17, 19, 23, 29, 31}\n",
        "prime_numbers.difference(evens)"
      ]
    },
    {
      "cell_type": "markdown",
      "metadata": {
        "id": "-xVeOtjZtQ-a"
      },
      "source": [
        "My own example 19:"
      ]
    },
    {
      "cell_type": "code",
      "execution_count": null,
      "metadata": {
        "colab": {
          "base_uri": "https://localhost:8080/"
        },
        "outputId": "e46207d0-ee76-4f8d-b47c-498fde9a5329",
        "id": "I11a-OgHtQ-a"
      },
      "outputs": [
        {
          "output_type": "stream",
          "name": "stdout",
          "text": [
            "John: 90\n",
            "Alice: 85\n",
            "Bob: 70\n"
          ]
        }
      ],
      "source": [
        "students = {\"John\": 90, \"Alice\": 85, \"Bob\": 70}\n",
        "\n",
        "for k,v in students.items():\n",
        "  print(k + \": \" + str(v))"
      ]
    },
    {
      "cell_type": "markdown",
      "metadata": {
        "id": "g0Cth7eItQ-a"
      },
      "source": [
        "My own example 20:"
      ]
    },
    {
      "cell_type": "code",
      "execution_count": null,
      "metadata": {
        "colab": {
          "base_uri": "https://localhost:8080/"
        },
        "outputId": "d155781f-beee-4b26-8df7-b042025cecd0",
        "id": "6emx-FF1tQ-a"
      },
      "outputs": [
        {
          "output_type": "stream",
          "name": "stdout",
          "text": [
            "1\n",
            "2\n",
            "3\n",
            "4\n",
            "5\n"
          ]
        }
      ],
      "source": [
        "numbers = [1, 2, 3, 4, 5, 6, 7, 8, 9, 10]\n",
        "\n",
        "for num in numbers:\n",
        "    # Break out of the loop if we reach a number greater than 5\n",
        "    if num > 5:\n",
        "        break\n",
        "    print(num)"
      ]
    },
    {
      "cell_type": "markdown",
      "source": [
        "## Functions and Objective-Oriented Programming"
      ],
      "metadata": {
        "id": "HU41xiDbs_9U"
      }
    },
    {
      "cell_type": "markdown",
      "source": [
        "My own example 1:\n",
        "\n",
        "Python code that use object-oriented programming to create a character object for the game **Mario Bros** and use a graphics library to display the character running:\n",
        "\n",
        "In this example, the `Mario` class and the `Luigi` class inherit from the `Character` class. The `Character` class has methods common to all characters in the game, such as `update`, `jump`, `move_left` and `move_right`. The Mario class and Luigi class define their own draw method to draw their specific character.\n",
        "\n",
        "With this example, you can create objects from the `Mario` class and the Luigi class, and call the methods defined in the `Character` class and in the `Mario` and `Luigi` classes."
      ],
      "metadata": {
        "id": "BEHYdaPSsAsg"
      }
    },
    {
      "cell_type": "code",
      "source": [
        "class Character:\n",
        "    def __init__(self, x, y):\n",
        "        # Initialize the Character object with an x and y position, and a velocity\n",
        "        self.x = x\n",
        "        self.y = y\n",
        "        self.velocity = 0\n",
        "\n",
        "    def update(self):\n",
        "        # Update the Character object's position based on its velocity\n",
        "        self.y += self.velocity\n",
        "        if self.y < 0:\n",
        "            self.y = 0\n",
        "\n",
        "    def jump(self):\n",
        "        # Make the Character object jump by setting its velocity to a positive value\n",
        "        self.velocity = 10\n",
        "\n",
        "    def move_left(self):\n",
        "        # Move the Character object to the left by adjusting its x position\n",
        "        self.x -= 5\n",
        "\n",
        "    def move_right(self):\n",
        "        # Move the Character object to the right by adjusting its x position\n",
        "        self.x += 5"
      ],
      "metadata": {
        "id": "0EXuywGvsA-K"
      },
      "execution_count": null,
      "outputs": []
    },
    {
      "cell_type": "markdown",
      "source": [
        "My own example 2:"
      ],
      "metadata": {
        "id": "N1vHPnq6sBNm"
      }
    },
    {
      "cell_type": "code",
      "source": [
        "class Mario(Character):\n",
        "    def __init__(self, x, y):\n",
        "        # Initialize the Mario object with the superclass's constructor\n",
        "        super().__init__(x, y)\n",
        "\n",
        "    def draw(self):\n",
        "        # Draw the Mario character\n",
        "        arcade.draw_circle_filled(self.x, self.y + 20, 20, arcade.color.RED)\n",
        "        arcade.draw_rectangle_filled(self.x, self.y, 40, 40, arcade.color.RED)\n",
        "\n",
        "class Luigi(Character):\n",
        "    def __init__(self, x, y):\n",
        "        # Initialize the Luigi object with the superclass's constructor\n",
        "        super().__init__(x, y)\n",
        "\n",
        "    def draw(self):\n",
        "        # Draw the Luigi character\n",
        "        arcade.draw_circle_filled(self.x, self.y + 20, 20, arcade.color.GREEN)\n",
        "        arcade.draw_rectangle_filled(self.x, self.y, 40, 40, arcade.color.GREEN)"
      ],
      "metadata": {
        "id": "2HKmXbEw4QO_"
      },
      "execution_count": null,
      "outputs": []
    },
    {
      "cell_type": "markdown",
      "metadata": {
        "id": "92TnfWsqttNm"
      },
      "source": [
        "My own example 3:"
      ]
    },
    {
      "cell_type": "code",
      "execution_count": null,
      "metadata": {
        "colab": {
          "base_uri": "https://localhost:8080/"
        },
        "outputId": "e46207d0-ee76-4f8d-b47c-498fde9a5329",
        "id": "MSZOdQZLttNm"
      },
      "outputs": [
        {
          "output_type": "stream",
          "name": "stdout",
          "text": [
            "John: 90\n",
            "Alice: 85\n",
            "Bob: 70\n"
          ]
        }
      ],
      "source": [
        "students = {\"John\": 90, \"Alice\": 85, \"Bob\": 70}\n",
        "\n",
        "for k,v in students.items():\n",
        "  print(k + \": \" + str(v))"
      ]
    },
    {
      "cell_type": "markdown",
      "metadata": {
        "id": "DQn0Rni4ttNm"
      },
      "source": [
        "My own example 4:"
      ]
    },
    {
      "cell_type": "code",
      "execution_count": null,
      "metadata": {
        "colab": {
          "base_uri": "https://localhost:8080/"
        },
        "outputId": "d155781f-beee-4b26-8df7-b042025cecd0",
        "id": "9NM_ntAuttNm"
      },
      "outputs": [
        {
          "output_type": "stream",
          "name": "stdout",
          "text": [
            "1\n",
            "2\n",
            "3\n",
            "4\n",
            "5\n"
          ]
        }
      ],
      "source": [
        "numbers = [1, 2, 3, 4, 5, 6, 7, 8, 9, 10]\n",
        "\n",
        "for num in numbers:\n",
        "    # Break out of the loop if we reach a number greater than 5\n",
        "    if num > 5:\n",
        "        break\n",
        "    print(num)"
      ]
    },
    {
      "cell_type": "markdown",
      "metadata": {
        "id": "GBOuG-eOttNn"
      },
      "source": [
        "My own example 5:"
      ]
    },
    {
      "cell_type": "code",
      "execution_count": null,
      "metadata": {
        "colab": {
          "base_uri": "https://localhost:8080/"
        },
        "outputId": "55c32fa3-87c2-4dc0-fbeb-27e3ecb038e0",
        "id": "aJ67nQ27ttNn"
      },
      "outputs": [
        {
          "output_type": "stream",
          "name": "stdout",
          "text": [
            "1\n",
            "3\n",
            "5\n",
            "7\n",
            "9\n"
          ]
        }
      ],
      "source": [
        "i = 0\n",
        "\n",
        "while i < len(numbers):\n",
        "    # If the current number is even, skip it\n",
        "    if numbers[i] % 2 == 0:\n",
        "        i += 1\n",
        "        continue\n",
        "    print(numbers[i])\n",
        "    i += 1"
      ]
    },
    {
      "cell_type": "markdown",
      "source": [
        "My own example 6:"
      ],
      "metadata": {
        "id": "6FZgGqfLttNn"
      }
    },
    {
      "cell_type": "code",
      "source": [
        "grades = {'Alice': 85, 'Bob': 92, 'Charlie': 78, 'David': 80}\n",
        "\n",
        "for name, grade in grades.items():\n",
        "    # If the grade is below 80, break out of the loop\n",
        "    if grade < 80:\n",
        "        print(name + ' has a failing grade')\n",
        "        break\n",
        "    print(name + ' has a passing grade')"
      ],
      "metadata": {
        "colab": {
          "base_uri": "https://localhost:8080/"
        },
        "outputId": "052faf8a-b26e-47d1-8643-a9d99612beb1",
        "id": "HIHU8lEettNn"
      },
      "execution_count": null,
      "outputs": [
        {
          "output_type": "stream",
          "name": "stdout",
          "text": [
            "Alice has a passing grade\n",
            "Bob has a passing grade\n",
            "Charlie has a failing grade\n"
          ]
        }
      ]
    },
    {
      "cell_type": "markdown",
      "metadata": {
        "id": "j0mTG2idttNn"
      },
      "source": [
        "My own example 7:"
      ]
    },
    {
      "cell_type": "code",
      "execution_count": null,
      "metadata": {
        "colab": {
          "base_uri": "https://localhost:8080/",
          "height": 35
        },
        "outputId": "b08ff2c8-a778-4ffa-cee3-373796f109b2",
        "id": "LSxc-eX5ttNn"
      },
      "outputs": [
        {
          "output_type": "execute_result",
          "data": {
            "text/plain": [
              "'blue'"
            ],
            "application/vnd.google.colaboratory.intrinsic+json": {
              "type": "string"
            }
          },
          "metadata": {},
          "execution_count": 21
        }
      ],
      "source": [
        "colors = (\"red\", \"green\", \"blue\")\n",
        "colors[2]"
      ]
    },
    {
      "cell_type": "markdown",
      "metadata": {
        "id": "ktx7g4UnttNn"
      },
      "source": [
        "My own example 8:"
      ]
    },
    {
      "cell_type": "code",
      "execution_count": null,
      "metadata": {
        "colab": {
          "base_uri": "https://localhost:8080/"
        },
        "outputId": "022c0471-51cb-4800-cba8-a9f90266f6b7",
        "id": "OIX_IRpwttNn"
      },
      "outputs": [
        {
          "output_type": "execute_result",
          "data": {
            "text/plain": [
              "{3, 5, 7, 11, 13, 17, 19, 23, 29, 31}"
            ]
          },
          "metadata": {},
          "execution_count": 22
        }
      ],
      "source": [
        "prime_numbers = {2, 3, 5, 7, 11, 13, 17, 19, 23, 29, 31}\n",
        "prime_numbers.difference(evens)"
      ]
    },
    {
      "cell_type": "markdown",
      "metadata": {
        "id": "Vmzu6Bo_ttNo"
      },
      "source": [
        "My own example 9:"
      ]
    },
    {
      "cell_type": "code",
      "execution_count": null,
      "metadata": {
        "colab": {
          "base_uri": "https://localhost:8080/"
        },
        "outputId": "e46207d0-ee76-4f8d-b47c-498fde9a5329",
        "id": "pYTo2SN7ttNo"
      },
      "outputs": [
        {
          "output_type": "stream",
          "name": "stdout",
          "text": [
            "John: 90\n",
            "Alice: 85\n",
            "Bob: 70\n"
          ]
        }
      ],
      "source": [
        "students = {\"John\": 90, \"Alice\": 85, \"Bob\": 70}\n",
        "\n",
        "for k,v in students.items():\n",
        "  print(k + \": \" + str(v))"
      ]
    },
    {
      "cell_type": "markdown",
      "metadata": {
        "id": "3PBaD23ottNo"
      },
      "source": [
        "My own example 10:"
      ]
    },
    {
      "cell_type": "code",
      "execution_count": null,
      "metadata": {
        "colab": {
          "base_uri": "https://localhost:8080/"
        },
        "outputId": "d155781f-beee-4b26-8df7-b042025cecd0",
        "id": "d-evOH07ttNo"
      },
      "outputs": [
        {
          "output_type": "stream",
          "name": "stdout",
          "text": [
            "1\n",
            "2\n",
            "3\n",
            "4\n",
            "5\n"
          ]
        }
      ],
      "source": [
        "numbers = [1, 2, 3, 4, 5, 6, 7, 8, 9, 10]\n",
        "\n",
        "for num in numbers:\n",
        "    # Break out of the loop if we reach a number greater than 5\n",
        "    if num > 5:\n",
        "        break\n",
        "    print(num)"
      ]
    },
    {
      "cell_type": "markdown",
      "metadata": {
        "id": "ZHC_o4QGttNo"
      },
      "source": [
        "My own example 11:"
      ]
    },
    {
      "cell_type": "code",
      "execution_count": null,
      "metadata": {
        "colab": {
          "base_uri": "https://localhost:8080/"
        },
        "outputId": "55c32fa3-87c2-4dc0-fbeb-27e3ecb038e0",
        "id": "giOCDb9FttNo"
      },
      "outputs": [
        {
          "output_type": "stream",
          "name": "stdout",
          "text": [
            "1\n",
            "3\n",
            "5\n",
            "7\n",
            "9\n"
          ]
        }
      ],
      "source": [
        "i = 0\n",
        "\n",
        "while i < len(numbers):\n",
        "    # If the current number is even, skip it\n",
        "    if numbers[i] % 2 == 0:\n",
        "        i += 1\n",
        "        continue\n",
        "    print(numbers[i])\n",
        "    i += 1"
      ]
    },
    {
      "cell_type": "markdown",
      "metadata": {
        "id": "ex6E8ejAttNo"
      },
      "source": [
        "My own example 12:"
      ]
    },
    {
      "cell_type": "code",
      "execution_count": null,
      "metadata": {
        "colab": {
          "base_uri": "https://localhost:8080/"
        },
        "outputId": "022c0471-51cb-4800-cba8-a9f90266f6b7",
        "id": "4kweaQ1BttNo"
      },
      "outputs": [
        {
          "output_type": "execute_result",
          "data": {
            "text/plain": [
              "{3, 5, 7, 11, 13, 17, 19, 23, 29, 31}"
            ]
          },
          "metadata": {},
          "execution_count": 22
        }
      ],
      "source": [
        "prime_numbers = {2, 3, 5, 7, 11, 13, 17, 19, 23, 29, 31}\n",
        "prime_numbers.difference(evens)"
      ]
    },
    {
      "cell_type": "markdown",
      "metadata": {
        "id": "MTrCP4WittNp"
      },
      "source": [
        "My own example 13:"
      ]
    },
    {
      "cell_type": "code",
      "execution_count": null,
      "metadata": {
        "colab": {
          "base_uri": "https://localhost:8080/"
        },
        "outputId": "e46207d0-ee76-4f8d-b47c-498fde9a5329",
        "id": "9jFqey_qttNp"
      },
      "outputs": [
        {
          "output_type": "stream",
          "name": "stdout",
          "text": [
            "John: 90\n",
            "Alice: 85\n",
            "Bob: 70\n"
          ]
        }
      ],
      "source": [
        "students = {\"John\": 90, \"Alice\": 85, \"Bob\": 70}\n",
        "\n",
        "for k,v in students.items():\n",
        "  print(k + \": \" + str(v))"
      ]
    },
    {
      "cell_type": "markdown",
      "metadata": {
        "id": "FST9RKq8ttNp"
      },
      "source": [
        "My own example 14:"
      ]
    },
    {
      "cell_type": "code",
      "execution_count": null,
      "metadata": {
        "colab": {
          "base_uri": "https://localhost:8080/"
        },
        "outputId": "d155781f-beee-4b26-8df7-b042025cecd0",
        "id": "-C7WZV5_ttNp"
      },
      "outputs": [
        {
          "output_type": "stream",
          "name": "stdout",
          "text": [
            "1\n",
            "2\n",
            "3\n",
            "4\n",
            "5\n"
          ]
        }
      ],
      "source": [
        "numbers = [1, 2, 3, 4, 5, 6, 7, 8, 9, 10]\n",
        "\n",
        "for num in numbers:\n",
        "    # Break out of the loop if we reach a number greater than 5\n",
        "    if num > 5:\n",
        "        break\n",
        "    print(num)"
      ]
    },
    {
      "cell_type": "markdown",
      "metadata": {
        "id": "m2_TC5ymttNp"
      },
      "source": [
        "My own example 15:"
      ]
    },
    {
      "cell_type": "code",
      "execution_count": null,
      "metadata": {
        "colab": {
          "base_uri": "https://localhost:8080/"
        },
        "outputId": "55c32fa3-87c2-4dc0-fbeb-27e3ecb038e0",
        "id": "gs7dxUEwttNp"
      },
      "outputs": [
        {
          "output_type": "stream",
          "name": "stdout",
          "text": [
            "1\n",
            "3\n",
            "5\n",
            "7\n",
            "9\n"
          ]
        }
      ],
      "source": [
        "i = 0\n",
        "\n",
        "while i < len(numbers):\n",
        "    # If the current number is even, skip it\n",
        "    if numbers[i] % 2 == 0:\n",
        "        i += 1\n",
        "        continue\n",
        "    print(numbers[i])\n",
        "    i += 1"
      ]
    },
    {
      "cell_type": "markdown",
      "source": [
        "My own example 16:"
      ],
      "metadata": {
        "id": "sBLb3p2pttNp"
      }
    },
    {
      "cell_type": "code",
      "source": [
        "grades = {'Alice': 85, 'Bob': 92, 'Charlie': 78, 'David': 80}\n",
        "\n",
        "for name, grade in grades.items():\n",
        "    # If the grade is below 80, break out of the loop\n",
        "    if grade < 80:\n",
        "        print(name + ' has a failing grade')\n",
        "        break\n",
        "    print(name + ' has a passing grade')"
      ],
      "metadata": {
        "colab": {
          "base_uri": "https://localhost:8080/"
        },
        "outputId": "052faf8a-b26e-47d1-8643-a9d99612beb1",
        "id": "V8x2620fttNp"
      },
      "execution_count": null,
      "outputs": [
        {
          "output_type": "stream",
          "name": "stdout",
          "text": [
            "Alice has a passing grade\n",
            "Bob has a passing grade\n",
            "Charlie has a failing grade\n"
          ]
        }
      ]
    },
    {
      "cell_type": "markdown",
      "metadata": {
        "id": "Lz_qltjmttNq"
      },
      "source": [
        "My own example 17:"
      ]
    },
    {
      "cell_type": "code",
      "execution_count": null,
      "metadata": {
        "colab": {
          "base_uri": "https://localhost:8080/",
          "height": 35
        },
        "outputId": "b08ff2c8-a778-4ffa-cee3-373796f109b2",
        "id": "y8mHynrXttNq"
      },
      "outputs": [
        {
          "output_type": "execute_result",
          "data": {
            "text/plain": [
              "'blue'"
            ],
            "application/vnd.google.colaboratory.intrinsic+json": {
              "type": "string"
            }
          },
          "metadata": {},
          "execution_count": 21
        }
      ],
      "source": [
        "colors = (\"red\", \"green\", \"blue\")\n",
        "colors[2]"
      ]
    },
    {
      "cell_type": "markdown",
      "metadata": {
        "id": "2vFlieSJttNq"
      },
      "source": [
        "My own example 18:"
      ]
    },
    {
      "cell_type": "code",
      "execution_count": null,
      "metadata": {
        "colab": {
          "base_uri": "https://localhost:8080/"
        },
        "outputId": "022c0471-51cb-4800-cba8-a9f90266f6b7",
        "id": "Ho1TRjpmttNr"
      },
      "outputs": [
        {
          "output_type": "execute_result",
          "data": {
            "text/plain": [
              "{3, 5, 7, 11, 13, 17, 19, 23, 29, 31}"
            ]
          },
          "metadata": {},
          "execution_count": 22
        }
      ],
      "source": [
        "prime_numbers = {2, 3, 5, 7, 11, 13, 17, 19, 23, 29, 31}\n",
        "prime_numbers.difference(evens)"
      ]
    },
    {
      "cell_type": "markdown",
      "metadata": {
        "id": "vfC8y4YEttNr"
      },
      "source": [
        "My own example 19:"
      ]
    },
    {
      "cell_type": "code",
      "execution_count": null,
      "metadata": {
        "colab": {
          "base_uri": "https://localhost:8080/"
        },
        "outputId": "e46207d0-ee76-4f8d-b47c-498fde9a5329",
        "id": "c32vHAfNttNr"
      },
      "outputs": [
        {
          "output_type": "stream",
          "name": "stdout",
          "text": [
            "John: 90\n",
            "Alice: 85\n",
            "Bob: 70\n"
          ]
        }
      ],
      "source": [
        "students = {\"John\": 90, \"Alice\": 85, \"Bob\": 70}\n",
        "\n",
        "for k,v in students.items():\n",
        "  print(k + \": \" + str(v))"
      ]
    },
    {
      "cell_type": "markdown",
      "metadata": {
        "id": "xPwoilXQttNr"
      },
      "source": [
        "My own example 20:"
      ]
    },
    {
      "cell_type": "code",
      "execution_count": null,
      "metadata": {
        "colab": {
          "base_uri": "https://localhost:8080/"
        },
        "outputId": "d155781f-beee-4b26-8df7-b042025cecd0",
        "id": "aOIswTJGttNr"
      },
      "outputs": [
        {
          "output_type": "stream",
          "name": "stdout",
          "text": [
            "1\n",
            "2\n",
            "3\n",
            "4\n",
            "5\n"
          ]
        }
      ],
      "source": [
        "numbers = [1, 2, 3, 4, 5, 6, 7, 8, 9, 10]\n",
        "\n",
        "for num in numbers:\n",
        "    # Break out of the loop if we reach a number greater than 5\n",
        "    if num > 5:\n",
        "        break\n",
        "    print(num)"
      ]
    },
    {
      "cell_type": "markdown",
      "source": [
        "## Introduction to Numpy"
      ],
      "metadata": {
        "id": "QXUJQ8-zHDE8"
      }
    },
    {
      "cell_type": "markdown",
      "source": [
        "My own example 1:"
      ],
      "metadata": {
        "id": "VqO6EOtdt792"
      }
    },
    {
      "cell_type": "code",
      "source": [
        "import numpy as np\n",
        "arr = np.random.rand(3, 3)"
      ],
      "metadata": {
        "id": "qHbglJB_sCRL"
      },
      "execution_count": null,
      "outputs": []
    },
    {
      "cell_type": "markdown",
      "source": [
        "My own example 2:"
      ],
      "metadata": {
        "id": "tPjVLU1-sCmk"
      }
    },
    {
      "cell_type": "code",
      "source": [
        "arr = np.random.randint(10, size=5)"
      ],
      "metadata": {
        "id": "RiS0VwmUsC5l"
      },
      "execution_count": null,
      "outputs": []
    },
    {
      "cell_type": "markdown",
      "source": [
        "My own example 3:"
      ],
      "metadata": {
        "id": "I3Bd02ELsDQ3"
      }
    },
    {
      "cell_type": "code",
      "source": [
        "arr = np.array([1, 2, 3, 4, 5, 6, 7, 8, 9, 10])\n",
        "avg = np.mean(arr)"
      ],
      "metadata": {
        "id": "OArbfkApsDiu"
      },
      "execution_count": null,
      "outputs": []
    },
    {
      "cell_type": "markdown",
      "source": [
        "My own example 4:"
      ],
      "metadata": {
        "id": "dwNQsQlosDvC"
      }
    },
    {
      "cell_type": "code",
      "source": [
        "arr = np.array([1, 2, 3, 4, 5, 6, 7, 8, 9, 10])\n",
        "std = np.std(arr)"
      ],
      "metadata": {
        "id": "MaIUCrKOsEQN"
      },
      "execution_count": null,
      "outputs": []
    },
    {
      "cell_type": "markdown",
      "source": [
        "My own example 5:"
      ],
      "metadata": {
        "id": "jAVSP76zsEju"
      }
    },
    {
      "cell_type": "code",
      "source": [
        "a = np.array([1, 2, 3])\n",
        "b = np.array([4, 5, 6])\n",
        "c = a + b"
      ],
      "metadata": {
        "id": "gCbLcEW7sE1d"
      },
      "execution_count": null,
      "outputs": []
    },
    {
      "cell_type": "markdown",
      "source": [
        "My own example 6:"
      ],
      "metadata": {
        "id": "1kLNDLLKsFPm"
      }
    },
    {
      "cell_type": "code",
      "source": [
        "a = np.array([1, 2, 3])\n",
        "b = np.array([4, 5, 6])\n",
        "c = a * b"
      ],
      "metadata": {
        "id": "LGqsoSxksFgy"
      },
      "execution_count": null,
      "outputs": []
    },
    {
      "cell_type": "markdown",
      "source": [
        "My own example 7:"
      ],
      "metadata": {
        "id": "Fjvs31hmsF0n"
      }
    },
    {
      "cell_type": "code",
      "source": [
        "arr = np.array([1, 2, 3, 4, 5, 6, 7, 8, 9, 10])\n",
        "max_val = np.max(arr)\n",
        "max_index = np.argmax(arr)\n",
        "print(max_val,  max_index)"
      ],
      "metadata": {
        "colab": {
          "base_uri": "https://localhost:8080/"
        },
        "id": "Sr3JtwXxsGF7",
        "outputId": "9389bd41-bc5b-48a1-b67d-ba6a183f671d"
      },
      "execution_count": null,
      "outputs": [
        {
          "output_type": "stream",
          "name": "stdout",
          "text": [
            "10 9\n"
          ]
        }
      ]
    },
    {
      "cell_type": "markdown",
      "source": [
        "My own example 8:"
      ],
      "metadata": {
        "id": "BE6muvlLsGZ1"
      }
    },
    {
      "cell_type": "code",
      "source": [
        "arr = np.ones((2, 2))\n",
        "arr"
      ],
      "metadata": {
        "colab": {
          "base_uri": "https://localhost:8080/"
        },
        "id": "kOvXYviXsHSn",
        "outputId": "54b09b7f-a3db-473c-e73b-a59388abc9f6"
      },
      "execution_count": null,
      "outputs": [
        {
          "output_type": "execute_result",
          "data": {
            "text/plain": [
              "array([[1., 1.],\n",
              "       [1., 1.]])"
            ]
          },
          "metadata": {},
          "execution_count": 36
        }
      ]
    },
    {
      "cell_type": "markdown",
      "source": [
        "My own example 9:"
      ],
      "metadata": {
        "id": "6GgSpeiEsG7R"
      }
    },
    {
      "cell_type": "code",
      "source": [
        "A = np.array([[1, 2], [3, 4]])\n",
        "\n",
        "B = np.array([[5], [6]])\n",
        "\n",
        "# Use the dot product to calculate the matrix product of A and B\n",
        "C = np.dot(A, B)\n",
        "\n",
        "print(C)"
      ],
      "metadata": {
        "colab": {
          "base_uri": "https://localhost:8080/"
        },
        "id": "lWlMdcHbsIBe",
        "outputId": "5979c9aa-c8c7-4277-bdf7-1c2ed3d2a6a3"
      },
      "execution_count": null,
      "outputs": [
        {
          "output_type": "stream",
          "name": "stdout",
          "text": [
            "[[17]\n",
            " [39]]\n"
          ]
        }
      ]
    },
    {
      "cell_type": "markdown",
      "source": [
        "My own example 10:"
      ],
      "metadata": {
        "id": "yfiKXAxfsHvj"
      }
    },
    {
      "cell_type": "code",
      "source": [
        "A = np.array([[1, 2, 3], [1, 5, 6], [7, 8, 9]])\n",
        "\n",
        "A_inv = np.linalg.inv(A)\n",
        "\n",
        "I = np.eye(3)\n",
        "\n",
        "A_Ainv = np.matmul(A, A_inv)\n",
        "\n",
        "assert np.allclose(A_Ainv, I)"
      ],
      "metadata": {
        "id": "nXtINO0LsGuK"
      },
      "execution_count": null,
      "outputs": []
    },
    {
      "cell_type": "markdown",
      "metadata": {
        "id": "XsaX6juPuRW8"
      },
      "source": [
        "My own example 11:"
      ]
    },
    {
      "cell_type": "code",
      "execution_count": null,
      "metadata": {
        "colab": {
          "base_uri": "https://localhost:8080/"
        },
        "outputId": "55c32fa3-87c2-4dc0-fbeb-27e3ecb038e0",
        "id": "E-In2xPmuRW8"
      },
      "outputs": [
        {
          "output_type": "stream",
          "name": "stdout",
          "text": [
            "1\n",
            "3\n",
            "5\n",
            "7\n",
            "9\n"
          ]
        }
      ],
      "source": [
        "i = 0\n",
        "\n",
        "while i < len(numbers):\n",
        "    # If the current number is even, skip it\n",
        "    if numbers[i] % 2 == 0:\n",
        "        i += 1\n",
        "        continue\n",
        "    print(numbers[i])\n",
        "    i += 1"
      ]
    },
    {
      "cell_type": "markdown",
      "metadata": {
        "id": "lsTNoDuzuRW9"
      },
      "source": [
        "My own example 12:"
      ]
    },
    {
      "cell_type": "code",
      "execution_count": null,
      "metadata": {
        "colab": {
          "base_uri": "https://localhost:8080/"
        },
        "outputId": "022c0471-51cb-4800-cba8-a9f90266f6b7",
        "id": "BpV365onuRW9"
      },
      "outputs": [
        {
          "output_type": "execute_result",
          "data": {
            "text/plain": [
              "{3, 5, 7, 11, 13, 17, 19, 23, 29, 31}"
            ]
          },
          "metadata": {},
          "execution_count": 22
        }
      ],
      "source": [
        "prime_numbers = {2, 3, 5, 7, 11, 13, 17, 19, 23, 29, 31}\n",
        "prime_numbers.difference(evens)"
      ]
    },
    {
      "cell_type": "markdown",
      "metadata": {
        "id": "Uf8Dtf4BuRW9"
      },
      "source": [
        "My own example 13:"
      ]
    },
    {
      "cell_type": "code",
      "execution_count": null,
      "metadata": {
        "colab": {
          "base_uri": "https://localhost:8080/"
        },
        "outputId": "e46207d0-ee76-4f8d-b47c-498fde9a5329",
        "id": "163P0VBOuRW9"
      },
      "outputs": [
        {
          "output_type": "stream",
          "name": "stdout",
          "text": [
            "John: 90\n",
            "Alice: 85\n",
            "Bob: 70\n"
          ]
        }
      ],
      "source": [
        "students = {\"John\": 90, \"Alice\": 85, \"Bob\": 70}\n",
        "\n",
        "for k,v in students.items():\n",
        "  print(k + \": \" + str(v))"
      ]
    },
    {
      "cell_type": "markdown",
      "metadata": {
        "id": "d7I6mNfFuRW9"
      },
      "source": [
        "My own example 14:"
      ]
    },
    {
      "cell_type": "code",
      "execution_count": null,
      "metadata": {
        "colab": {
          "base_uri": "https://localhost:8080/"
        },
        "outputId": "d155781f-beee-4b26-8df7-b042025cecd0",
        "id": "EFgyi2W6uRW9"
      },
      "outputs": [
        {
          "output_type": "stream",
          "name": "stdout",
          "text": [
            "1\n",
            "2\n",
            "3\n",
            "4\n",
            "5\n"
          ]
        }
      ],
      "source": [
        "numbers = [1, 2, 3, 4, 5, 6, 7, 8, 9, 10]\n",
        "\n",
        "for num in numbers:\n",
        "    # Break out of the loop if we reach a number greater than 5\n",
        "    if num > 5:\n",
        "        break\n",
        "    print(num)"
      ]
    },
    {
      "cell_type": "markdown",
      "metadata": {
        "id": "WgVjrEzGuRW9"
      },
      "source": [
        "My own example 15:"
      ]
    },
    {
      "cell_type": "code",
      "execution_count": null,
      "metadata": {
        "colab": {
          "base_uri": "https://localhost:8080/"
        },
        "outputId": "55c32fa3-87c2-4dc0-fbeb-27e3ecb038e0",
        "id": "tWx1LBEluRW-"
      },
      "outputs": [
        {
          "output_type": "stream",
          "name": "stdout",
          "text": [
            "1\n",
            "3\n",
            "5\n",
            "7\n",
            "9\n"
          ]
        }
      ],
      "source": [
        "i = 0\n",
        "\n",
        "while i < len(numbers):\n",
        "    # If the current number is even, skip it\n",
        "    if numbers[i] % 2 == 0:\n",
        "        i += 1\n",
        "        continue\n",
        "    print(numbers[i])\n",
        "    i += 1"
      ]
    },
    {
      "cell_type": "markdown",
      "source": [
        "My own example 16:"
      ],
      "metadata": {
        "id": "F3eilXFNuRW-"
      }
    },
    {
      "cell_type": "code",
      "source": [
        "grades = {'Alice': 85, 'Bob': 92, 'Charlie': 78, 'David': 80}\n",
        "\n",
        "for name, grade in grades.items():\n",
        "    # If the grade is below 80, break out of the loop\n",
        "    if grade < 80:\n",
        "        print(name + ' has a failing grade')\n",
        "        break\n",
        "    print(name + ' has a passing grade')"
      ],
      "metadata": {
        "colab": {
          "base_uri": "https://localhost:8080/"
        },
        "outputId": "052faf8a-b26e-47d1-8643-a9d99612beb1",
        "id": "2BLxveh4uRW-"
      },
      "execution_count": null,
      "outputs": [
        {
          "output_type": "stream",
          "name": "stdout",
          "text": [
            "Alice has a passing grade\n",
            "Bob has a passing grade\n",
            "Charlie has a failing grade\n"
          ]
        }
      ]
    },
    {
      "cell_type": "markdown",
      "metadata": {
        "id": "qiSvYHrWuRW-"
      },
      "source": [
        "My own example 17:"
      ]
    },
    {
      "cell_type": "code",
      "execution_count": null,
      "metadata": {
        "colab": {
          "base_uri": "https://localhost:8080/",
          "height": 35
        },
        "outputId": "b08ff2c8-a778-4ffa-cee3-373796f109b2",
        "id": "5UKBmnc0uRW-"
      },
      "outputs": [
        {
          "output_type": "execute_result",
          "data": {
            "text/plain": [
              "'blue'"
            ],
            "application/vnd.google.colaboratory.intrinsic+json": {
              "type": "string"
            }
          },
          "metadata": {},
          "execution_count": 21
        }
      ],
      "source": [
        "colors = (\"red\", \"green\", \"blue\")\n",
        "colors[2]"
      ]
    },
    {
      "cell_type": "markdown",
      "metadata": {
        "id": "0bMeWPezuRW-"
      },
      "source": [
        "My own example 18:"
      ]
    },
    {
      "cell_type": "code",
      "execution_count": null,
      "metadata": {
        "colab": {
          "base_uri": "https://localhost:8080/"
        },
        "outputId": "022c0471-51cb-4800-cba8-a9f90266f6b7",
        "id": "BJVG0bg8uRW-"
      },
      "outputs": [
        {
          "output_type": "execute_result",
          "data": {
            "text/plain": [
              "{3, 5, 7, 11, 13, 17, 19, 23, 29, 31}"
            ]
          },
          "metadata": {},
          "execution_count": 22
        }
      ],
      "source": [
        "prime_numbers = {2, 3, 5, 7, 11, 13, 17, 19, 23, 29, 31}\n",
        "prime_numbers.difference(evens)"
      ]
    },
    {
      "cell_type": "markdown",
      "metadata": {
        "id": "lD22YCJ2uRW-"
      },
      "source": [
        "My own example 19:"
      ]
    },
    {
      "cell_type": "code",
      "execution_count": null,
      "metadata": {
        "colab": {
          "base_uri": "https://localhost:8080/"
        },
        "outputId": "e46207d0-ee76-4f8d-b47c-498fde9a5329",
        "id": "elbv6TSwuRW-"
      },
      "outputs": [
        {
          "output_type": "stream",
          "name": "stdout",
          "text": [
            "John: 90\n",
            "Alice: 85\n",
            "Bob: 70\n"
          ]
        }
      ],
      "source": [
        "students = {\"John\": 90, \"Alice\": 85, \"Bob\": 70}\n",
        "\n",
        "for k,v in students.items():\n",
        "  print(k + \": \" + str(v))"
      ]
    },
    {
      "cell_type": "markdown",
      "metadata": {
        "id": "BEn5bvl0uRW-"
      },
      "source": [
        "My own example 20:"
      ]
    },
    {
      "cell_type": "code",
      "execution_count": null,
      "metadata": {
        "colab": {
          "base_uri": "https://localhost:8080/"
        },
        "outputId": "d155781f-beee-4b26-8df7-b042025cecd0",
        "id": "B8jntIHOuRW_"
      },
      "outputs": [
        {
          "output_type": "stream",
          "name": "stdout",
          "text": [
            "1\n",
            "2\n",
            "3\n",
            "4\n",
            "5\n"
          ]
        }
      ],
      "source": [
        "numbers = [1, 2, 3, 4, 5, 6, 7, 8, 9, 10]\n",
        "\n",
        "for num in numbers:\n",
        "    # Break out of the loop if we reach a number greater than 5\n",
        "    if num > 5:\n",
        "        break\n",
        "    print(num)"
      ]
    },
    {
      "cell_type": "markdown",
      "source": [
        "## Introduction to Pandas"
      ],
      "metadata": {
        "id": "VF3At_qfHP7f"
      }
    },
    {
      "cell_type": "markdown",
      "source": [
        "My own example 1:"
      ],
      "metadata": {
        "id": "PUbzRHTzHSAk"
      }
    },
    {
      "cell_type": "code",
      "source": [
        "import pandas as pd\n",
        "url = 'https://people.sc.fsu.edu/~jburkardt/data/csv/hw_200.csv'\n",
        "df = pd.read_csv(url)"
      ],
      "metadata": {
        "id": "w28tzpg8HRcT"
      },
      "execution_count": null,
      "outputs": []
    },
    {
      "cell_type": "markdown",
      "source": [
        "My own example 2:"
      ],
      "metadata": {
        "id": "wSvF-m0OHTI6"
      }
    },
    {
      "cell_type": "code",
      "source": [
        "url = 'https://en.wikipedia.org/wiki/List_of_countries_and_dependencies_by_population'\n",
        "tables = pd.read_html(url)"
      ],
      "metadata": {
        "id": "Y3HB39MBHSj7"
      },
      "execution_count": null,
      "outputs": []
    },
    {
      "cell_type": "markdown",
      "source": [
        "My own example 3:"
      ],
      "metadata": {
        "id": "_LM2XtgfHzfA"
      }
    },
    {
      "cell_type": "code",
      "source": [
        "df = tables[1]\n",
        "df.head()"
      ],
      "metadata": {
        "colab": {
          "base_uri": "https://localhost:8080/",
          "height": 386
        },
        "id": "Kb6EVBLlKx4g",
        "outputId": "542e1c0b-a11e-4591-d94f-500efef79471"
      },
      "execution_count": null,
      "outputs": [
        {
          "output_type": "execute_result",
          "data": {
            "text/plain": [
              "  Rank Country / Dependency  Population                        Date  \\\n",
              "  Rank Country / Dependency     Numbers % of the world         Date   \n",
              "0    –                World  8013072000           100%  17 Feb 2023   \n",
              "1    1                China  1411750000            NaN  31 Dec 2022   \n",
              "2    2                India  1375586000            NaN   1 Mar 2022   \n",
              "3    3        United States   334387067            NaN  15 Feb 2023   \n",
              "4    4            Indonesia   275773800            NaN   1 Jul 2022   \n",
              "\n",
              "  Source (official or from the United Nations)  \\\n",
              "  Source (official or from the United Nations)   \n",
              "0                             UN projection[3]   \n",
              "1                         Official estimate[4]   \n",
              "2                       Official projection[5]   \n",
              "3                 National population clock[6]   \n",
              "4                         Official estimate[7]   \n",
              "\n",
              "                                               Notes  \n",
              "                                               Notes  \n",
              "0                                                NaN  \n",
              "1  The population figure refers to mainland China...  \n",
              "2  The figure includes the population of the Indi...  \n",
              "3  The figure includes the 50 states and the Dist...  \n",
              "4                                                NaN  "
            ],
            "text/html": [
              "\n",
              "  <div id=\"df-c993f05d-7ba5-4cc3-a27d-d565e70009a8\">\n",
              "    <div class=\"colab-df-container\">\n",
              "      <div>\n",
              "<style scoped>\n",
              "    .dataframe tbody tr th:only-of-type {\n",
              "        vertical-align: middle;\n",
              "    }\n",
              "\n",
              "    .dataframe tbody tr th {\n",
              "        vertical-align: top;\n",
              "    }\n",
              "\n",
              "    .dataframe thead tr th {\n",
              "        text-align: left;\n",
              "    }\n",
              "</style>\n",
              "<table border=\"1\" class=\"dataframe\">\n",
              "  <thead>\n",
              "    <tr>\n",
              "      <th></th>\n",
              "      <th>Rank</th>\n",
              "      <th>Country / Dependency</th>\n",
              "      <th colspan=\"2\" halign=\"left\">Population</th>\n",
              "      <th>Date</th>\n",
              "      <th>Source (official or from the United Nations)</th>\n",
              "      <th>Notes</th>\n",
              "    </tr>\n",
              "    <tr>\n",
              "      <th></th>\n",
              "      <th>Rank</th>\n",
              "      <th>Country / Dependency</th>\n",
              "      <th>Numbers</th>\n",
              "      <th>% of the world</th>\n",
              "      <th>Date</th>\n",
              "      <th>Source (official or from the United Nations)</th>\n",
              "      <th>Notes</th>\n",
              "    </tr>\n",
              "  </thead>\n",
              "  <tbody>\n",
              "    <tr>\n",
              "      <th>0</th>\n",
              "      <td>–</td>\n",
              "      <td>World</td>\n",
              "      <td>8013072000</td>\n",
              "      <td>100%</td>\n",
              "      <td>17 Feb 2023</td>\n",
              "      <td>UN projection[3]</td>\n",
              "      <td>NaN</td>\n",
              "    </tr>\n",
              "    <tr>\n",
              "      <th>1</th>\n",
              "      <td>1</td>\n",
              "      <td>China</td>\n",
              "      <td>1411750000</td>\n",
              "      <td>NaN</td>\n",
              "      <td>31 Dec 2022</td>\n",
              "      <td>Official estimate[4]</td>\n",
              "      <td>The population figure refers to mainland China...</td>\n",
              "    </tr>\n",
              "    <tr>\n",
              "      <th>2</th>\n",
              "      <td>2</td>\n",
              "      <td>India</td>\n",
              "      <td>1375586000</td>\n",
              "      <td>NaN</td>\n",
              "      <td>1 Mar 2022</td>\n",
              "      <td>Official projection[5]</td>\n",
              "      <td>The figure includes the population of the Indi...</td>\n",
              "    </tr>\n",
              "    <tr>\n",
              "      <th>3</th>\n",
              "      <td>3</td>\n",
              "      <td>United States</td>\n",
              "      <td>334387067</td>\n",
              "      <td>NaN</td>\n",
              "      <td>15 Feb 2023</td>\n",
              "      <td>National population clock[6]</td>\n",
              "      <td>The figure includes the 50 states and the Dist...</td>\n",
              "    </tr>\n",
              "    <tr>\n",
              "      <th>4</th>\n",
              "      <td>4</td>\n",
              "      <td>Indonesia</td>\n",
              "      <td>275773800</td>\n",
              "      <td>NaN</td>\n",
              "      <td>1 Jul 2022</td>\n",
              "      <td>Official estimate[7]</td>\n",
              "      <td>NaN</td>\n",
              "    </tr>\n",
              "  </tbody>\n",
              "</table>\n",
              "</div>\n",
              "      <button class=\"colab-df-convert\" onclick=\"convertToInteractive('df-c993f05d-7ba5-4cc3-a27d-d565e70009a8')\"\n",
              "              title=\"Convert this dataframe to an interactive table.\"\n",
              "              style=\"display:none;\">\n",
              "        \n",
              "  <svg xmlns=\"http://www.w3.org/2000/svg\" height=\"24px\"viewBox=\"0 0 24 24\"\n",
              "       width=\"24px\">\n",
              "    <path d=\"M0 0h24v24H0V0z\" fill=\"none\"/>\n",
              "    <path d=\"M18.56 5.44l.94 2.06.94-2.06 2.06-.94-2.06-.94-.94-2.06-.94 2.06-2.06.94zm-11 1L8.5 8.5l.94-2.06 2.06-.94-2.06-.94L8.5 2.5l-.94 2.06-2.06.94zm10 10l.94 2.06.94-2.06 2.06-.94-2.06-.94-.94-2.06-.94 2.06-2.06.94z\"/><path d=\"M17.41 7.96l-1.37-1.37c-.4-.4-.92-.59-1.43-.59-.52 0-1.04.2-1.43.59L10.3 9.45l-7.72 7.72c-.78.78-.78 2.05 0 2.83L4 21.41c.39.39.9.59 1.41.59.51 0 1.02-.2 1.41-.59l7.78-7.78 2.81-2.81c.8-.78.8-2.07 0-2.86zM5.41 20L4 18.59l7.72-7.72 1.47 1.35L5.41 20z\"/>\n",
              "  </svg>\n",
              "      </button>\n",
              "      \n",
              "  <style>\n",
              "    .colab-df-container {\n",
              "      display:flex;\n",
              "      flex-wrap:wrap;\n",
              "      gap: 12px;\n",
              "    }\n",
              "\n",
              "    .colab-df-convert {\n",
              "      background-color: #E8F0FE;\n",
              "      border: none;\n",
              "      border-radius: 50%;\n",
              "      cursor: pointer;\n",
              "      display: none;\n",
              "      fill: #1967D2;\n",
              "      height: 32px;\n",
              "      padding: 0 0 0 0;\n",
              "      width: 32px;\n",
              "    }\n",
              "\n",
              "    .colab-df-convert:hover {\n",
              "      background-color: #E2EBFA;\n",
              "      box-shadow: 0px 1px 2px rgba(60, 64, 67, 0.3), 0px 1px 3px 1px rgba(60, 64, 67, 0.15);\n",
              "      fill: #174EA6;\n",
              "    }\n",
              "\n",
              "    [theme=dark] .colab-df-convert {\n",
              "      background-color: #3B4455;\n",
              "      fill: #D2E3FC;\n",
              "    }\n",
              "\n",
              "    [theme=dark] .colab-df-convert:hover {\n",
              "      background-color: #434B5C;\n",
              "      box-shadow: 0px 1px 3px 1px rgba(0, 0, 0, 0.15);\n",
              "      filter: drop-shadow(0px 1px 2px rgba(0, 0, 0, 0.3));\n",
              "      fill: #FFFFFF;\n",
              "    }\n",
              "  </style>\n",
              "\n",
              "      <script>\n",
              "        const buttonEl =\n",
              "          document.querySelector('#df-c993f05d-7ba5-4cc3-a27d-d565e70009a8 button.colab-df-convert');\n",
              "        buttonEl.style.display =\n",
              "          google.colab.kernel.accessAllowed ? 'block' : 'none';\n",
              "\n",
              "        async function convertToInteractive(key) {\n",
              "          const element = document.querySelector('#df-c993f05d-7ba5-4cc3-a27d-d565e70009a8');\n",
              "          const dataTable =\n",
              "            await google.colab.kernel.invokeFunction('convertToInteractive',\n",
              "                                                     [key], {});\n",
              "          if (!dataTable) return;\n",
              "\n",
              "          const docLinkHtml = 'Like what you see? Visit the ' +\n",
              "            '<a target=\"_blank\" href=https://colab.research.google.com/notebooks/data_table.ipynb>data table notebook</a>'\n",
              "            + ' to learn more about interactive tables.';\n",
              "          element.innerHTML = '';\n",
              "          dataTable['output_type'] = 'display_data';\n",
              "          await google.colab.output.renderOutput(dataTable, element);\n",
              "          const docLink = document.createElement('div');\n",
              "          docLink.innerHTML = docLinkHtml;\n",
              "          element.appendChild(docLink);\n",
              "        }\n",
              "      </script>\n",
              "    </div>\n",
              "  </div>\n",
              "  "
            ]
          },
          "metadata": {},
          "execution_count": 41
        }
      ]
    },
    {
      "cell_type": "markdown",
      "source": [
        "My own example 4:"
      ],
      "metadata": {
        "id": "D0SqMIurH0jg"
      }
    },
    {
      "cell_type": "code",
      "source": [
        "print(df.columns)"
      ],
      "metadata": {
        "colab": {
          "base_uri": "https://localhost:8080/"
        },
        "id": "zrmhBgINLEzk",
        "outputId": "49e8347c-6261-43c9-e699-6cba88a50603"
      },
      "execution_count": null,
      "outputs": [
        {
          "output_type": "stream",
          "name": "stdout",
          "text": [
            "MultiIndex([(                                        'Rank', ...),\n",
            "            (                        'Country / Dependency', ...),\n",
            "            (                                  'Population', ...),\n",
            "            (                                  'Population', ...),\n",
            "            (                                        'Date', ...),\n",
            "            ('Source (official or from the United Nations)', ...),\n",
            "            (                                       'Notes', ...)],\n",
            "           )\n"
          ]
        }
      ]
    },
    {
      "cell_type": "markdown",
      "source": [
        "My own example 5:"
      ],
      "metadata": {
        "id": "QbN_2F4wH0zw"
      }
    },
    {
      "cell_type": "code",
      "source": [
        "df.sort_values(by=(\"Population\", \"Numbers\"), ascending=True, inplace=True)\n",
        "df.head()"
      ],
      "metadata": {
        "colab": {
          "base_uri": "https://localhost:8080/",
          "height": 403
        },
        "id": "daPd3fv0H0se",
        "outputId": "18348df3-bfeb-422b-8746-02af59892cef"
      },
      "execution_count": null,
      "outputs": [
        {
          "output_type": "execute_result",
          "data": {
            "text/plain": [
              "    Rank                 Country / Dependency Population                 \\\n",
              "    Rank                 Country / Dependency    Numbers % of the world   \n",
              "241    –    Pitcairn Islands (United Kingdom)         47            NaN   \n",
              "240    –  Cocos (Keeling) Islands (Australia)        593            NaN   \n",
              "239  195                         Vatican City        825            NaN   \n",
              "238    –                                 Niue       1549            NaN   \n",
              "237    –                Tokelau (New Zealand)       1647            NaN   \n",
              "\n",
              "            Date Source (official or from the United Nations)  \\\n",
              "            Date Source (official or from the United Nations)   \n",
              "241   1 Jul 2021                       Official estimate[210]   \n",
              "240  30 Jun 2020                             2021 Census[209]   \n",
              "239   1 Feb 2019               Monthly national estimate[208]   \n",
              "238   1 Jul 2021               National annual projection[96]   \n",
              "237   1 Jan 2019                            2019 Census [207]   \n",
              "\n",
              "                                                 Notes  \n",
              "                                                 Notes  \n",
              "241                                                NaN  \n",
              "240                                                NaN  \n",
              "239  The total population of 825 consisted of 453 r...  \n",
              "238                                                NaN  \n",
              "237                                                NaN  "
            ],
            "text/html": [
              "\n",
              "  <div id=\"df-0a4b4b03-75e2-4325-8d51-23220ecc0b15\">\n",
              "    <div class=\"colab-df-container\">\n",
              "      <div>\n",
              "<style scoped>\n",
              "    .dataframe tbody tr th:only-of-type {\n",
              "        vertical-align: middle;\n",
              "    }\n",
              "\n",
              "    .dataframe tbody tr th {\n",
              "        vertical-align: top;\n",
              "    }\n",
              "\n",
              "    .dataframe thead tr th {\n",
              "        text-align: left;\n",
              "    }\n",
              "</style>\n",
              "<table border=\"1\" class=\"dataframe\">\n",
              "  <thead>\n",
              "    <tr>\n",
              "      <th></th>\n",
              "      <th>Rank</th>\n",
              "      <th>Country / Dependency</th>\n",
              "      <th colspan=\"2\" halign=\"left\">Population</th>\n",
              "      <th>Date</th>\n",
              "      <th>Source (official or from the United Nations)</th>\n",
              "      <th>Notes</th>\n",
              "    </tr>\n",
              "    <tr>\n",
              "      <th></th>\n",
              "      <th>Rank</th>\n",
              "      <th>Country / Dependency</th>\n",
              "      <th>Numbers</th>\n",
              "      <th>% of the world</th>\n",
              "      <th>Date</th>\n",
              "      <th>Source (official or from the United Nations)</th>\n",
              "      <th>Notes</th>\n",
              "    </tr>\n",
              "  </thead>\n",
              "  <tbody>\n",
              "    <tr>\n",
              "      <th>241</th>\n",
              "      <td>–</td>\n",
              "      <td>Pitcairn Islands (United Kingdom)</td>\n",
              "      <td>47</td>\n",
              "      <td>NaN</td>\n",
              "      <td>1 Jul 2021</td>\n",
              "      <td>Official estimate[210]</td>\n",
              "      <td>NaN</td>\n",
              "    </tr>\n",
              "    <tr>\n",
              "      <th>240</th>\n",
              "      <td>–</td>\n",
              "      <td>Cocos (Keeling) Islands (Australia)</td>\n",
              "      <td>593</td>\n",
              "      <td>NaN</td>\n",
              "      <td>30 Jun 2020</td>\n",
              "      <td>2021 Census[209]</td>\n",
              "      <td>NaN</td>\n",
              "    </tr>\n",
              "    <tr>\n",
              "      <th>239</th>\n",
              "      <td>195</td>\n",
              "      <td>Vatican City</td>\n",
              "      <td>825</td>\n",
              "      <td>NaN</td>\n",
              "      <td>1 Feb 2019</td>\n",
              "      <td>Monthly national estimate[208]</td>\n",
              "      <td>The total population of 825 consisted of 453 r...</td>\n",
              "    </tr>\n",
              "    <tr>\n",
              "      <th>238</th>\n",
              "      <td>–</td>\n",
              "      <td>Niue</td>\n",
              "      <td>1549</td>\n",
              "      <td>NaN</td>\n",
              "      <td>1 Jul 2021</td>\n",
              "      <td>National annual projection[96]</td>\n",
              "      <td>NaN</td>\n",
              "    </tr>\n",
              "    <tr>\n",
              "      <th>237</th>\n",
              "      <td>–</td>\n",
              "      <td>Tokelau (New Zealand)</td>\n",
              "      <td>1647</td>\n",
              "      <td>NaN</td>\n",
              "      <td>1 Jan 2019</td>\n",
              "      <td>2019 Census [207]</td>\n",
              "      <td>NaN</td>\n",
              "    </tr>\n",
              "  </tbody>\n",
              "</table>\n",
              "</div>\n",
              "      <button class=\"colab-df-convert\" onclick=\"convertToInteractive('df-0a4b4b03-75e2-4325-8d51-23220ecc0b15')\"\n",
              "              title=\"Convert this dataframe to an interactive table.\"\n",
              "              style=\"display:none;\">\n",
              "        \n",
              "  <svg xmlns=\"http://www.w3.org/2000/svg\" height=\"24px\"viewBox=\"0 0 24 24\"\n",
              "       width=\"24px\">\n",
              "    <path d=\"M0 0h24v24H0V0z\" fill=\"none\"/>\n",
              "    <path d=\"M18.56 5.44l.94 2.06.94-2.06 2.06-.94-2.06-.94-.94-2.06-.94 2.06-2.06.94zm-11 1L8.5 8.5l.94-2.06 2.06-.94-2.06-.94L8.5 2.5l-.94 2.06-2.06.94zm10 10l.94 2.06.94-2.06 2.06-.94-2.06-.94-.94-2.06-.94 2.06-2.06.94z\"/><path d=\"M17.41 7.96l-1.37-1.37c-.4-.4-.92-.59-1.43-.59-.52 0-1.04.2-1.43.59L10.3 9.45l-7.72 7.72c-.78.78-.78 2.05 0 2.83L4 21.41c.39.39.9.59 1.41.59.51 0 1.02-.2 1.41-.59l7.78-7.78 2.81-2.81c.8-.78.8-2.07 0-2.86zM5.41 20L4 18.59l7.72-7.72 1.47 1.35L5.41 20z\"/>\n",
              "  </svg>\n",
              "      </button>\n",
              "      \n",
              "  <style>\n",
              "    .colab-df-container {\n",
              "      display:flex;\n",
              "      flex-wrap:wrap;\n",
              "      gap: 12px;\n",
              "    }\n",
              "\n",
              "    .colab-df-convert {\n",
              "      background-color: #E8F0FE;\n",
              "      border: none;\n",
              "      border-radius: 50%;\n",
              "      cursor: pointer;\n",
              "      display: none;\n",
              "      fill: #1967D2;\n",
              "      height: 32px;\n",
              "      padding: 0 0 0 0;\n",
              "      width: 32px;\n",
              "    }\n",
              "\n",
              "    .colab-df-convert:hover {\n",
              "      background-color: #E2EBFA;\n",
              "      box-shadow: 0px 1px 2px rgba(60, 64, 67, 0.3), 0px 1px 3px 1px rgba(60, 64, 67, 0.15);\n",
              "      fill: #174EA6;\n",
              "    }\n",
              "\n",
              "    [theme=dark] .colab-df-convert {\n",
              "      background-color: #3B4455;\n",
              "      fill: #D2E3FC;\n",
              "    }\n",
              "\n",
              "    [theme=dark] .colab-df-convert:hover {\n",
              "      background-color: #434B5C;\n",
              "      box-shadow: 0px 1px 3px 1px rgba(0, 0, 0, 0.15);\n",
              "      filter: drop-shadow(0px 1px 2px rgba(0, 0, 0, 0.3));\n",
              "      fill: #FFFFFF;\n",
              "    }\n",
              "  </style>\n",
              "\n",
              "      <script>\n",
              "        const buttonEl =\n",
              "          document.querySelector('#df-0a4b4b03-75e2-4325-8d51-23220ecc0b15 button.colab-df-convert');\n",
              "        buttonEl.style.display =\n",
              "          google.colab.kernel.accessAllowed ? 'block' : 'none';\n",
              "\n",
              "        async function convertToInteractive(key) {\n",
              "          const element = document.querySelector('#df-0a4b4b03-75e2-4325-8d51-23220ecc0b15');\n",
              "          const dataTable =\n",
              "            await google.colab.kernel.invokeFunction('convertToInteractive',\n",
              "                                                     [key], {});\n",
              "          if (!dataTable) return;\n",
              "\n",
              "          const docLinkHtml = 'Like what you see? Visit the ' +\n",
              "            '<a target=\"_blank\" href=https://colab.research.google.com/notebooks/data_table.ipynb>data table notebook</a>'\n",
              "            + ' to learn more about interactive tables.';\n",
              "          element.innerHTML = '';\n",
              "          dataTable['output_type'] = 'display_data';\n",
              "          await google.colab.output.renderOutput(dataTable, element);\n",
              "          const docLink = document.createElement('div');\n",
              "          docLink.innerHTML = docLinkHtml;\n",
              "          element.appendChild(docLink);\n",
              "        }\n",
              "      </script>\n",
              "    </div>\n",
              "  </div>\n",
              "  "
            ]
          },
          "metadata": {},
          "execution_count": 43
        }
      ]
    },
    {
      "cell_type": "markdown",
      "source": [
        "My own example 6:"
      ],
      "metadata": {
        "id": "2lwUuuMvH1C9"
      }
    },
    {
      "cell_type": "code",
      "source": [
        "df.drop('Rank', axis=1, inplace=True)"
      ],
      "metadata": {
        "colab": {
          "base_uri": "https://localhost:8080/"
        },
        "id": "1DCTDYkDH1X0",
        "outputId": "c5c368bb-fe57-4976-c8fc-49a416e11496"
      },
      "execution_count": null,
      "outputs": [
        {
          "output_type": "stream",
          "name": "stderr",
          "text": [
            "/usr/local/lib/python3.8/dist-packages/pandas/core/generic.py:4150: PerformanceWarning: dropping on a non-lexsorted multi-index without a level parameter may impact performance.\n",
            "  obj = obj._drop_axis(labels, axis, level=level, errors=errors)\n"
          ]
        }
      ]
    },
    {
      "cell_type": "markdown",
      "source": [
        "My own example 7:"
      ],
      "metadata": {
        "id": "LfHXgzFSu5Dd"
      }
    },
    {
      "cell_type": "code",
      "source": [
        "arr = np.array([1, 2, 3, 4, 5, 6, 7, 8, 9, 10])\n",
        "max_val = np.max(arr)\n",
        "max_index = np.argmax(arr)\n",
        "print(max_val,  max_index)"
      ],
      "metadata": {
        "colab": {
          "base_uri": "https://localhost:8080/"
        },
        "outputId": "9389bd41-bc5b-48a1-b67d-ba6a183f671d",
        "id": "vsSxy19ru5Dd"
      },
      "execution_count": null,
      "outputs": [
        {
          "output_type": "stream",
          "name": "stdout",
          "text": [
            "10 9\n"
          ]
        }
      ]
    },
    {
      "cell_type": "markdown",
      "source": [
        "My own example 8:"
      ],
      "metadata": {
        "id": "WyAu3TXGu5Df"
      }
    },
    {
      "cell_type": "code",
      "source": [
        "arr = np.ones((2, 2))\n",
        "arr"
      ],
      "metadata": {
        "colab": {
          "base_uri": "https://localhost:8080/"
        },
        "outputId": "54b09b7f-a3db-473c-e73b-a59388abc9f6",
        "id": "KoYy1hSMu5Dg"
      },
      "execution_count": null,
      "outputs": [
        {
          "output_type": "execute_result",
          "data": {
            "text/plain": [
              "array([[1., 1.],\n",
              "       [1., 1.]])"
            ]
          },
          "metadata": {},
          "execution_count": 36
        }
      ]
    },
    {
      "cell_type": "markdown",
      "source": [
        "My own example 9:"
      ],
      "metadata": {
        "id": "RGAIMkSbu5Dg"
      }
    },
    {
      "cell_type": "code",
      "source": [
        "A = np.array([[1, 2], [3, 4]])\n",
        "\n",
        "B = np.array([[5], [6]])\n",
        "\n",
        "# Use the dot product to calculate the matrix product of A and B\n",
        "C = np.dot(A, B)\n",
        "\n",
        "print(C)"
      ],
      "metadata": {
        "colab": {
          "base_uri": "https://localhost:8080/"
        },
        "outputId": "5979c9aa-c8c7-4277-bdf7-1c2ed3d2a6a3",
        "id": "r2KzW5vhu5Dh"
      },
      "execution_count": null,
      "outputs": [
        {
          "output_type": "stream",
          "name": "stdout",
          "text": [
            "[[17]\n",
            " [39]]\n"
          ]
        }
      ]
    },
    {
      "cell_type": "markdown",
      "source": [
        "My own example 10:"
      ],
      "metadata": {
        "id": "sCcWYnjru5Dh"
      }
    },
    {
      "cell_type": "code",
      "source": [
        "A = np.array([[1, 2, 3], [1, 5, 6], [7, 8, 9]])\n",
        "\n",
        "A_inv = np.linalg.inv(A)\n",
        "\n",
        "I = np.eye(3)\n",
        "\n",
        "A_Ainv = np.matmul(A, A_inv)\n",
        "\n",
        "assert np.allclose(A_Ainv, I)"
      ],
      "metadata": {
        "id": "1qW_Epgmu5Dh"
      },
      "execution_count": null,
      "outputs": []
    },
    {
      "cell_type": "markdown",
      "metadata": {
        "id": "XqgtMLUOu5Dh"
      },
      "source": [
        "My own example 11:"
      ]
    },
    {
      "cell_type": "code",
      "execution_count": null,
      "metadata": {
        "colab": {
          "base_uri": "https://localhost:8080/"
        },
        "outputId": "55c32fa3-87c2-4dc0-fbeb-27e3ecb038e0",
        "id": "CUVcn5Fbu5Dh"
      },
      "outputs": [
        {
          "output_type": "stream",
          "name": "stdout",
          "text": [
            "1\n",
            "3\n",
            "5\n",
            "7\n",
            "9\n"
          ]
        }
      ],
      "source": [
        "i = 0\n",
        "\n",
        "while i < len(numbers):\n",
        "    # If the current number is even, skip it\n",
        "    if numbers[i] % 2 == 0:\n",
        "        i += 1\n",
        "        continue\n",
        "    print(numbers[i])\n",
        "    i += 1"
      ]
    },
    {
      "cell_type": "markdown",
      "metadata": {
        "id": "WqtGmNmCu5Dh"
      },
      "source": [
        "My own example 12:"
      ]
    },
    {
      "cell_type": "code",
      "execution_count": null,
      "metadata": {
        "colab": {
          "base_uri": "https://localhost:8080/"
        },
        "outputId": "022c0471-51cb-4800-cba8-a9f90266f6b7",
        "id": "baxTqdGTu5Dh"
      },
      "outputs": [
        {
          "output_type": "execute_result",
          "data": {
            "text/plain": [
              "{3, 5, 7, 11, 13, 17, 19, 23, 29, 31}"
            ]
          },
          "metadata": {},
          "execution_count": 22
        }
      ],
      "source": [
        "prime_numbers = {2, 3, 5, 7, 11, 13, 17, 19, 23, 29, 31}\n",
        "prime_numbers.difference(evens)"
      ]
    },
    {
      "cell_type": "markdown",
      "metadata": {
        "id": "xAPKy5Z4u5Di"
      },
      "source": [
        "My own example 13:"
      ]
    },
    {
      "cell_type": "code",
      "execution_count": null,
      "metadata": {
        "colab": {
          "base_uri": "https://localhost:8080/"
        },
        "outputId": "e46207d0-ee76-4f8d-b47c-498fde9a5329",
        "id": "TikpdmiKu5Di"
      },
      "outputs": [
        {
          "output_type": "stream",
          "name": "stdout",
          "text": [
            "John: 90\n",
            "Alice: 85\n",
            "Bob: 70\n"
          ]
        }
      ],
      "source": [
        "students = {\"John\": 90, \"Alice\": 85, \"Bob\": 70}\n",
        "\n",
        "for k,v in students.items():\n",
        "  print(k + \": \" + str(v))"
      ]
    },
    {
      "cell_type": "markdown",
      "metadata": {
        "id": "qbQBoECbu5Di"
      },
      "source": [
        "My own example 14:"
      ]
    },
    {
      "cell_type": "code",
      "execution_count": null,
      "metadata": {
        "colab": {
          "base_uri": "https://localhost:8080/"
        },
        "outputId": "d155781f-beee-4b26-8df7-b042025cecd0",
        "id": "zr4klTaxu5Di"
      },
      "outputs": [
        {
          "output_type": "stream",
          "name": "stdout",
          "text": [
            "1\n",
            "2\n",
            "3\n",
            "4\n",
            "5\n"
          ]
        }
      ],
      "source": [
        "numbers = [1, 2, 3, 4, 5, 6, 7, 8, 9, 10]\n",
        "\n",
        "for num in numbers:\n",
        "    # Break out of the loop if we reach a number greater than 5\n",
        "    if num > 5:\n",
        "        break\n",
        "    print(num)"
      ]
    },
    {
      "cell_type": "markdown",
      "metadata": {
        "id": "39ETLrNmu5Di"
      },
      "source": [
        "My own example 15:"
      ]
    },
    {
      "cell_type": "code",
      "execution_count": null,
      "metadata": {
        "colab": {
          "base_uri": "https://localhost:8080/"
        },
        "outputId": "55c32fa3-87c2-4dc0-fbeb-27e3ecb038e0",
        "id": "9mBe8nV_u5Di"
      },
      "outputs": [
        {
          "output_type": "stream",
          "name": "stdout",
          "text": [
            "1\n",
            "3\n",
            "5\n",
            "7\n",
            "9\n"
          ]
        }
      ],
      "source": [
        "i = 0\n",
        "\n",
        "while i < len(numbers):\n",
        "    # If the current number is even, skip it\n",
        "    if numbers[i] % 2 == 0:\n",
        "        i += 1\n",
        "        continue\n",
        "    print(numbers[i])\n",
        "    i += 1"
      ]
    },
    {
      "cell_type": "markdown",
      "source": [
        "My own example 16:"
      ],
      "metadata": {
        "id": "xu5E_0syu5Di"
      }
    },
    {
      "cell_type": "code",
      "source": [
        "grades = {'Alice': 85, 'Bob': 92, 'Charlie': 78, 'David': 80}\n",
        "\n",
        "for name, grade in grades.items():\n",
        "    # If the grade is below 80, break out of the loop\n",
        "    if grade < 80:\n",
        "        print(name + ' has a failing grade')\n",
        "        break\n",
        "    print(name + ' has a passing grade')"
      ],
      "metadata": {
        "colab": {
          "base_uri": "https://localhost:8080/"
        },
        "outputId": "052faf8a-b26e-47d1-8643-a9d99612beb1",
        "id": "MuPVlpfmu5Di"
      },
      "execution_count": null,
      "outputs": [
        {
          "output_type": "stream",
          "name": "stdout",
          "text": [
            "Alice has a passing grade\n",
            "Bob has a passing grade\n",
            "Charlie has a failing grade\n"
          ]
        }
      ]
    },
    {
      "cell_type": "markdown",
      "metadata": {
        "id": "eRgdGq3uu5Di"
      },
      "source": [
        "My own example 17:"
      ]
    },
    {
      "cell_type": "code",
      "execution_count": null,
      "metadata": {
        "colab": {
          "base_uri": "https://localhost:8080/",
          "height": 35
        },
        "outputId": "b08ff2c8-a778-4ffa-cee3-373796f109b2",
        "id": "yMExYOSOu5Dj"
      },
      "outputs": [
        {
          "output_type": "execute_result",
          "data": {
            "text/plain": [
              "'blue'"
            ],
            "application/vnd.google.colaboratory.intrinsic+json": {
              "type": "string"
            }
          },
          "metadata": {},
          "execution_count": 21
        }
      ],
      "source": [
        "colors = (\"red\", \"green\", \"blue\")\n",
        "colors[2]"
      ]
    },
    {
      "cell_type": "markdown",
      "metadata": {
        "id": "G8Rp9fvru5Dj"
      },
      "source": [
        "My own example 18:"
      ]
    },
    {
      "cell_type": "code",
      "execution_count": null,
      "metadata": {
        "colab": {
          "base_uri": "https://localhost:8080/"
        },
        "outputId": "022c0471-51cb-4800-cba8-a9f90266f6b7",
        "id": "XkUsDZKpu5Dj"
      },
      "outputs": [
        {
          "output_type": "execute_result",
          "data": {
            "text/plain": [
              "{3, 5, 7, 11, 13, 17, 19, 23, 29, 31}"
            ]
          },
          "metadata": {},
          "execution_count": 22
        }
      ],
      "source": [
        "prime_numbers = {2, 3, 5, 7, 11, 13, 17, 19, 23, 29, 31}\n",
        "prime_numbers.difference(evens)"
      ]
    },
    {
      "cell_type": "markdown",
      "metadata": {
        "id": "AKskV9NGu5Dj"
      },
      "source": [
        "My own example 19:"
      ]
    },
    {
      "cell_type": "code",
      "execution_count": null,
      "metadata": {
        "colab": {
          "base_uri": "https://localhost:8080/"
        },
        "outputId": "e46207d0-ee76-4f8d-b47c-498fde9a5329",
        "id": "FdfxErQnu5Dj"
      },
      "outputs": [
        {
          "output_type": "stream",
          "name": "stdout",
          "text": [
            "John: 90\n",
            "Alice: 85\n",
            "Bob: 70\n"
          ]
        }
      ],
      "source": [
        "students = {\"John\": 90, \"Alice\": 85, \"Bob\": 70}\n",
        "\n",
        "for k,v in students.items():\n",
        "  print(k + \": \" + str(v))"
      ]
    },
    {
      "cell_type": "markdown",
      "metadata": {
        "id": "lIjNbz2Lu5Dj"
      },
      "source": [
        "My own example 20:"
      ]
    },
    {
      "cell_type": "code",
      "execution_count": null,
      "metadata": {
        "colab": {
          "base_uri": "https://localhost:8080/"
        },
        "outputId": "d155781f-beee-4b26-8df7-b042025cecd0",
        "id": "K1xLNGAEu5Dj"
      },
      "outputs": [
        {
          "output_type": "stream",
          "name": "stdout",
          "text": [
            "1\n",
            "2\n",
            "3\n",
            "4\n",
            "5\n"
          ]
        }
      ],
      "source": [
        "numbers = [1, 2, 3, 4, 5, 6, 7, 8, 9, 10]\n",
        "\n",
        "for num in numbers:\n",
        "    # Break out of the loop if we reach a number greater than 5\n",
        "    if num > 5:\n",
        "        break\n",
        "    print(num)"
      ]
    },
    {
      "cell_type": "markdown",
      "source": [
        "## Numpy and Basic Pandas"
      ],
      "metadata": {
        "id": "x3M927ODNxK-"
      }
    },
    {
      "cell_type": "markdown",
      "source": [
        "My own example 1:"
      ],
      "metadata": {
        "id": "iOhPmu3dH1Q8"
      }
    },
    {
      "cell_type": "code",
      "source": [
        "url = 'https://raw.githubusercontent.com/mwaskom/seaborn-data/master/iris.csv'\n",
        "df = pd.read_csv(url)\n",
        "\n",
        "mean_sepal_length = np.mean(df['sepal_length'])\n",
        "print(mean_sepal_length)"
      ],
      "metadata": {
        "colab": {
          "base_uri": "https://localhost:8080/"
        },
        "id": "Qvve6-C-NJ4h",
        "outputId": "991b8242-22e4-4767-8164-a1b822bcf832"
      },
      "execution_count": null,
      "outputs": [
        {
          "output_type": "stream",
          "name": "stdout",
          "text": [
            "5.843333333333334\n"
          ]
        }
      ]
    },
    {
      "cell_type": "markdown",
      "source": [
        "My own example 2:"
      ],
      "metadata": {
        "id": "qYZqwbb1H1cr"
      }
    },
    {
      "cell_type": "code",
      "source": [
        "url = 'https://jsonplaceholder.typicode.com/todos'\n",
        "df = pd.read_json(url)\n",
        "\n",
        "std_id = np.std(df['id'])\n",
        "print(std_id)"
      ],
      "metadata": {
        "colab": {
          "base_uri": "https://localhost:8080/"
        },
        "id": "MjHtmWxKNOfM",
        "outputId": "6864a9d0-a11a-4183-d457-1d5d48c8cd1b"
      },
      "execution_count": null,
      "outputs": [
        {
          "output_type": "stream",
          "name": "stdout",
          "text": [
            "57.73430522661548\n"
          ]
        }
      ]
    },
    {
      "cell_type": "markdown",
      "source": [
        "My own example 3:"
      ],
      "metadata": {
        "id": "sIm_E0a7H1n2"
      }
    },
    {
      "cell_type": "code",
      "source": [
        "url = 'https://archive.ics.uci.edu/ml/machine-learning-databases/iris/iris.data'\n",
        "df = pd.read_csv(url, header=None, names=['sepal_length', 'sepal_width', 'petal_length', 'petal_width', 'class'])\n",
        "\n",
        "mean = np.mean(df.iloc[:, 0:4], axis=0)\n",
        "\n",
        "filtered = df[df['sepal_length'] > 5]\n",
        "\n",
        "df['sepal_area'] = np.multiply(df['sepal_length'], df['sepal_width'])\n",
        "\n",
        "sorted_df = df.sort_values(by='petal_length')\n",
        "\n",
        "sorted_df.head()"
      ],
      "metadata": {
        "colab": {
          "base_uri": "https://localhost:8080/",
          "height": 206
        },
        "id": "luUDRCwmNkf_",
        "outputId": "c27e43a8-13a6-4f52-da80-cba4a07ff07d"
      },
      "execution_count": null,
      "outputs": [
        {
          "output_type": "execute_result",
          "data": {
            "text/plain": [
              "    sepal_length  sepal_width  petal_length  petal_width        class  \\\n",
              "22           4.6          3.6           1.0          0.2  Iris-setosa   \n",
              "13           4.3          3.0           1.1          0.1  Iris-setosa   \n",
              "14           5.8          4.0           1.2          0.2  Iris-setosa   \n",
              "35           5.0          3.2           1.2          0.2  Iris-setosa   \n",
              "36           5.5          3.5           1.3          0.2  Iris-setosa   \n",
              "\n",
              "    sepal_area  \n",
              "22       16.56  \n",
              "13       12.90  \n",
              "14       23.20  \n",
              "35       16.00  \n",
              "36       19.25  "
            ],
            "text/html": [
              "\n",
              "  <div id=\"df-deaba14a-932b-45f1-8d66-e7afe272ce8c\">\n",
              "    <div class=\"colab-df-container\">\n",
              "      <div>\n",
              "<style scoped>\n",
              "    .dataframe tbody tr th:only-of-type {\n",
              "        vertical-align: middle;\n",
              "    }\n",
              "\n",
              "    .dataframe tbody tr th {\n",
              "        vertical-align: top;\n",
              "    }\n",
              "\n",
              "    .dataframe thead th {\n",
              "        text-align: right;\n",
              "    }\n",
              "</style>\n",
              "<table border=\"1\" class=\"dataframe\">\n",
              "  <thead>\n",
              "    <tr style=\"text-align: right;\">\n",
              "      <th></th>\n",
              "      <th>sepal_length</th>\n",
              "      <th>sepal_width</th>\n",
              "      <th>petal_length</th>\n",
              "      <th>petal_width</th>\n",
              "      <th>class</th>\n",
              "      <th>sepal_area</th>\n",
              "    </tr>\n",
              "  </thead>\n",
              "  <tbody>\n",
              "    <tr>\n",
              "      <th>22</th>\n",
              "      <td>4.6</td>\n",
              "      <td>3.6</td>\n",
              "      <td>1.0</td>\n",
              "      <td>0.2</td>\n",
              "      <td>Iris-setosa</td>\n",
              "      <td>16.56</td>\n",
              "    </tr>\n",
              "    <tr>\n",
              "      <th>13</th>\n",
              "      <td>4.3</td>\n",
              "      <td>3.0</td>\n",
              "      <td>1.1</td>\n",
              "      <td>0.1</td>\n",
              "      <td>Iris-setosa</td>\n",
              "      <td>12.90</td>\n",
              "    </tr>\n",
              "    <tr>\n",
              "      <th>14</th>\n",
              "      <td>5.8</td>\n",
              "      <td>4.0</td>\n",
              "      <td>1.2</td>\n",
              "      <td>0.2</td>\n",
              "      <td>Iris-setosa</td>\n",
              "      <td>23.20</td>\n",
              "    </tr>\n",
              "    <tr>\n",
              "      <th>35</th>\n",
              "      <td>5.0</td>\n",
              "      <td>3.2</td>\n",
              "      <td>1.2</td>\n",
              "      <td>0.2</td>\n",
              "      <td>Iris-setosa</td>\n",
              "      <td>16.00</td>\n",
              "    </tr>\n",
              "    <tr>\n",
              "      <th>36</th>\n",
              "      <td>5.5</td>\n",
              "      <td>3.5</td>\n",
              "      <td>1.3</td>\n",
              "      <td>0.2</td>\n",
              "      <td>Iris-setosa</td>\n",
              "      <td>19.25</td>\n",
              "    </tr>\n",
              "  </tbody>\n",
              "</table>\n",
              "</div>\n",
              "      <button class=\"colab-df-convert\" onclick=\"convertToInteractive('df-deaba14a-932b-45f1-8d66-e7afe272ce8c')\"\n",
              "              title=\"Convert this dataframe to an interactive table.\"\n",
              "              style=\"display:none;\">\n",
              "        \n",
              "  <svg xmlns=\"http://www.w3.org/2000/svg\" height=\"24px\"viewBox=\"0 0 24 24\"\n",
              "       width=\"24px\">\n",
              "    <path d=\"M0 0h24v24H0V0z\" fill=\"none\"/>\n",
              "    <path d=\"M18.56 5.44l.94 2.06.94-2.06 2.06-.94-2.06-.94-.94-2.06-.94 2.06-2.06.94zm-11 1L8.5 8.5l.94-2.06 2.06-.94-2.06-.94L8.5 2.5l-.94 2.06-2.06.94zm10 10l.94 2.06.94-2.06 2.06-.94-2.06-.94-.94-2.06-.94 2.06-2.06.94z\"/><path d=\"M17.41 7.96l-1.37-1.37c-.4-.4-.92-.59-1.43-.59-.52 0-1.04.2-1.43.59L10.3 9.45l-7.72 7.72c-.78.78-.78 2.05 0 2.83L4 21.41c.39.39.9.59 1.41.59.51 0 1.02-.2 1.41-.59l7.78-7.78 2.81-2.81c.8-.78.8-2.07 0-2.86zM5.41 20L4 18.59l7.72-7.72 1.47 1.35L5.41 20z\"/>\n",
              "  </svg>\n",
              "      </button>\n",
              "      \n",
              "  <style>\n",
              "    .colab-df-container {\n",
              "      display:flex;\n",
              "      flex-wrap:wrap;\n",
              "      gap: 12px;\n",
              "    }\n",
              "\n",
              "    .colab-df-convert {\n",
              "      background-color: #E8F0FE;\n",
              "      border: none;\n",
              "      border-radius: 50%;\n",
              "      cursor: pointer;\n",
              "      display: none;\n",
              "      fill: #1967D2;\n",
              "      height: 32px;\n",
              "      padding: 0 0 0 0;\n",
              "      width: 32px;\n",
              "    }\n",
              "\n",
              "    .colab-df-convert:hover {\n",
              "      background-color: #E2EBFA;\n",
              "      box-shadow: 0px 1px 2px rgba(60, 64, 67, 0.3), 0px 1px 3px 1px rgba(60, 64, 67, 0.15);\n",
              "      fill: #174EA6;\n",
              "    }\n",
              "\n",
              "    [theme=dark] .colab-df-convert {\n",
              "      background-color: #3B4455;\n",
              "      fill: #D2E3FC;\n",
              "    }\n",
              "\n",
              "    [theme=dark] .colab-df-convert:hover {\n",
              "      background-color: #434B5C;\n",
              "      box-shadow: 0px 1px 3px 1px rgba(0, 0, 0, 0.15);\n",
              "      filter: drop-shadow(0px 1px 2px rgba(0, 0, 0, 0.3));\n",
              "      fill: #FFFFFF;\n",
              "    }\n",
              "  </style>\n",
              "\n",
              "      <script>\n",
              "        const buttonEl =\n",
              "          document.querySelector('#df-deaba14a-932b-45f1-8d66-e7afe272ce8c button.colab-df-convert');\n",
              "        buttonEl.style.display =\n",
              "          google.colab.kernel.accessAllowed ? 'block' : 'none';\n",
              "\n",
              "        async function convertToInteractive(key) {\n",
              "          const element = document.querySelector('#df-deaba14a-932b-45f1-8d66-e7afe272ce8c');\n",
              "          const dataTable =\n",
              "            await google.colab.kernel.invokeFunction('convertToInteractive',\n",
              "                                                     [key], {});\n",
              "          if (!dataTable) return;\n",
              "\n",
              "          const docLinkHtml = 'Like what you see? Visit the ' +\n",
              "            '<a target=\"_blank\" href=https://colab.research.google.com/notebooks/data_table.ipynb>data table notebook</a>'\n",
              "            + ' to learn more about interactive tables.';\n",
              "          element.innerHTML = '';\n",
              "          dataTable['output_type'] = 'display_data';\n",
              "          await google.colab.output.renderOutput(dataTable, element);\n",
              "          const docLink = document.createElement('div');\n",
              "          docLink.innerHTML = docLinkHtml;\n",
              "          element.appendChild(docLink);\n",
              "        }\n",
              "      </script>\n",
              "    </div>\n",
              "  </div>\n",
              "  "
            ]
          },
          "metadata": {},
          "execution_count": 47
        }
      ]
    },
    {
      "cell_type": "markdown",
      "source": [
        "My own example 4:"
      ],
      "metadata": {
        "id": "NZPk76Wbvuxi"
      }
    },
    {
      "cell_type": "code",
      "source": [
        "My own example 4"
      ],
      "metadata": {
        "id": "c0WmsKnxvrkx"
      },
      "execution_count": null,
      "outputs": []
    },
    {
      "cell_type": "markdown",
      "source": [
        "My own example 5:"
      ],
      "metadata": {
        "id": "hR-IB9WSH1zD"
      }
    },
    {
      "cell_type": "code",
      "source": [
        "url = 'https://jsonplaceholder.typicode.com/posts'\n",
        "df = pd.read_json(url)\n",
        "\n",
        "x = df['id']\n",
        "y = df['userId']\n",
        "coefficients = np.polyfit(x, y, 1)\n",
        "p = np.poly1d(coefficients)\n",
        "\n",
        "plt.scatter(x, y)\n",
        "plt.plot(x, p(x), color='red')\n",
        "plt.show()"
      ],
      "metadata": {
        "colab": {
          "base_uri": "https://localhost:8080/",
          "height": 265
        },
        "id": "ujQXhSR1H2D1",
        "outputId": "0183ce82-94e9-4c0b-cfac-6d1a69d52626"
      },
      "execution_count": null,
      "outputs": [
        {
          "output_type": "display_data",
          "data": {
            "text/plain": [
              "<Figure size 432x288 with 1 Axes>"
            ],
            "image/png": "[encoded data removed]"
          },
          "metadata": {
            "needs_background": "light"
          }
        }
      ]
    },
    {
      "cell_type": "markdown",
      "source": [
        "My own example 6:"
      ],
      "metadata": {
        "id": "uFXMwKCvH1-X"
      }
    },
    {
      "cell_type": "code",
      "source": [
        "dates = pd.date_range('20220101', periods=6)\n",
        "\n",
        "df = pd.DataFrame({'data': [11, 22, 33, 44, 55, 66]}, index=dates)\n",
        "\n",
        "print(df)"
      ],
      "metadata": {
        "colab": {
          "base_uri": "https://localhost:8080/"
        },
        "id": "qcrwS3QrNlaz",
        "outputId": "a5c62e9c-2890-4b44-a49d-5820fb0b5585"
      },
      "execution_count": null,
      "outputs": [
        {
          "output_type": "stream",
          "name": "stdout",
          "text": [
            "            data\n",
            "2022-01-01    11\n",
            "2022-01-02    22\n",
            "2022-01-03    33\n",
            "2022-01-04    44\n",
            "2022-01-05    55\n",
            "2022-01-06    66\n"
          ]
        }
      ]
    },
    {
      "cell_type": "markdown",
      "source": [
        "My own example 7:"
      ],
      "metadata": {
        "id": "E4lh0OBsH2Iq"
      }
    },
    {
      "cell_type": "code",
      "source": [
        "df = pd.DataFrame({'fecha': ['2022-02-23', '2022-02-24', '2022-02-25'],\n",
        "                   'valor': [10, 20, 30]})\n",
        "\n",
        "print('Dataframe original:')\n",
        "df.head()"
      ],
      "metadata": {
        "colab": {
          "base_uri": "https://localhost:8080/",
          "height": 161
        },
        "id": "4t4M5ME9II63",
        "outputId": "9e17ef37-f57e-481f-bb6f-2fff490c4c21"
      },
      "execution_count": null,
      "outputs": [
        {
          "output_type": "stream",
          "name": "stdout",
          "text": [
            "Dataframe original:\n"
          ]
        },
        {
          "output_type": "execute_result",
          "data": {
            "text/plain": [
              "        fecha  valor\n",
              "0  2022-02-23     10\n",
              "1  2022-02-24     20\n",
              "2  2022-02-25     30"
            ],
            "text/html": [
              "\n",
              "  <div id=\"df-002ec302-62aa-4d4b-a58f-67f45a7161b9\">\n",
              "    <div class=\"colab-df-container\">\n",
              "      <div>\n",
              "<style scoped>\n",
              "    .dataframe tbody tr th:only-of-type {\n",
              "        vertical-align: middle;\n",
              "    }\n",
              "\n",
              "    .dataframe tbody tr th {\n",
              "        vertical-align: top;\n",
              "    }\n",
              "\n",
              "    .dataframe thead th {\n",
              "        text-align: right;\n",
              "    }\n",
              "</style>\n",
              "<table border=\"1\" class=\"dataframe\">\n",
              "  <thead>\n",
              "    <tr style=\"text-align: right;\">\n",
              "      <th></th>\n",
              "      <th>fecha</th>\n",
              "      <th>valor</th>\n",
              "    </tr>\n",
              "  </thead>\n",
              "  <tbody>\n",
              "    <tr>\n",
              "      <th>0</th>\n",
              "      <td>2022-02-23</td>\n",
              "      <td>10</td>\n",
              "    </tr>\n",
              "    <tr>\n",
              "      <th>1</th>\n",
              "      <td>2022-02-24</td>\n",
              "      <td>20</td>\n",
              "    </tr>\n",
              "    <tr>\n",
              "      <th>2</th>\n",
              "      <td>2022-02-25</td>\n",
              "      <td>30</td>\n",
              "    </tr>\n",
              "  </tbody>\n",
              "</table>\n",
              "</div>\n",
              "      <button class=\"colab-df-convert\" onclick=\"convertToInteractive('df-002ec302-62aa-4d4b-a58f-67f45a7161b9')\"\n",
              "              title=\"Convert this dataframe to an interactive table.\"\n",
              "              style=\"display:none;\">\n",
              "        \n",
              "  <svg xmlns=\"http://www.w3.org/2000/svg\" height=\"24px\"viewBox=\"0 0 24 24\"\n",
              "       width=\"24px\">\n",
              "    <path d=\"M0 0h24v24H0V0z\" fill=\"none\"/>\n",
              "    <path d=\"M18.56 5.44l.94 2.06.94-2.06 2.06-.94-2.06-.94-.94-2.06-.94 2.06-2.06.94zm-11 1L8.5 8.5l.94-2.06 2.06-.94-2.06-.94L8.5 2.5l-.94 2.06-2.06.94zm10 10l.94 2.06.94-2.06 2.06-.94-2.06-.94-.94-2.06-.94 2.06-2.06.94z\"/><path d=\"M17.41 7.96l-1.37-1.37c-.4-.4-.92-.59-1.43-.59-.52 0-1.04.2-1.43.59L10.3 9.45l-7.72 7.72c-.78.78-.78 2.05 0 2.83L4 21.41c.39.39.9.59 1.41.59.51 0 1.02-.2 1.41-.59l7.78-7.78 2.81-2.81c.8-.78.8-2.07 0-2.86zM5.41 20L4 18.59l7.72-7.72 1.47 1.35L5.41 20z\"/>\n",
              "  </svg>\n",
              "      </button>\n",
              "      \n",
              "  <style>\n",
              "    .colab-df-container {\n",
              "      display:flex;\n",
              "      flex-wrap:wrap;\n",
              "      gap: 12px;\n",
              "    }\n",
              "\n",
              "    .colab-df-convert {\n",
              "      background-color: #E8F0FE;\n",
              "      border: none;\n",
              "      border-radius: 50%;\n",
              "      cursor: pointer;\n",
              "      display: none;\n",
              "      fill: #1967D2;\n",
              "      height: 32px;\n",
              "      padding: 0 0 0 0;\n",
              "      width: 32px;\n",
              "    }\n",
              "\n",
              "    .colab-df-convert:hover {\n",
              "      background-color: #E2EBFA;\n",
              "      box-shadow: 0px 1px 2px rgba(60, 64, 67, 0.3), 0px 1px 3px 1px rgba(60, 64, 67, 0.15);\n",
              "      fill: #174EA6;\n",
              "    }\n",
              "\n",
              "    [theme=dark] .colab-df-convert {\n",
              "      background-color: #3B4455;\n",
              "      fill: #D2E3FC;\n",
              "    }\n",
              "\n",
              "    [theme=dark] .colab-df-convert:hover {\n",
              "      background-color: #434B5C;\n",
              "      box-shadow: 0px 1px 3px 1px rgba(0, 0, 0, 0.15);\n",
              "      filter: drop-shadow(0px 1px 2px rgba(0, 0, 0, 0.3));\n",
              "      fill: #FFFFFF;\n",
              "    }\n",
              "  </style>\n",
              "\n",
              "      <script>\n",
              "        const buttonEl =\n",
              "          document.querySelector('#df-002ec302-62aa-4d4b-a58f-67f45a7161b9 button.colab-df-convert');\n",
              "        buttonEl.style.display =\n",
              "          google.colab.kernel.accessAllowed ? 'block' : 'none';\n",
              "\n",
              "        async function convertToInteractive(key) {\n",
              "          const element = document.querySelector('#df-002ec302-62aa-4d4b-a58f-67f45a7161b9');\n",
              "          const dataTable =\n",
              "            await google.colab.kernel.invokeFunction('convertToInteractive',\n",
              "                                                     [key], {});\n",
              "          if (!dataTable) return;\n",
              "\n",
              "          const docLinkHtml = 'Like what you see? Visit the ' +\n",
              "            '<a target=\"_blank\" href=https://colab.research.google.com/notebooks/data_table.ipynb>data table notebook</a>'\n",
              "            + ' to learn more about interactive tables.';\n",
              "          element.innerHTML = '';\n",
              "          dataTable['output_type'] = 'display_data';\n",
              "          await google.colab.output.renderOutput(dataTable, element);\n",
              "          const docLink = document.createElement('div');\n",
              "          docLink.innerHTML = docLinkHtml;\n",
              "          element.appendChild(docLink);\n",
              "        }\n",
              "      </script>\n",
              "    </div>\n",
              "  </div>\n",
              "  "
            ]
          },
          "metadata": {},
          "execution_count": 50
        }
      ]
    },
    {
      "cell_type": "markdown",
      "source": [
        "My own example 8:"
      ],
      "metadata": {
        "id": "wjGDt7KIvaPm"
      }
    },
    {
      "cell_type": "code",
      "source": [
        "df['fecha'] = pd.to_datetime(df['fecha'])\n",
        "\n",
        "df['anio'] = df['fecha'].dt.year\n",
        "df['mes'] = df['fecha'].dt.month\n",
        "df['dia'] = df['fecha'].dt.day\n",
        "\n",
        "print('Dataframe with dd-mm--yy:')\n",
        "df.head()"
      ],
      "metadata": {
        "colab": {
          "base_uri": "https://localhost:8080/",
          "height": 161
        },
        "id": "4oCWQYZoP5lb",
        "outputId": "0af7ced9-f195-4489-bace-827ac6d2677e"
      },
      "execution_count": null,
      "outputs": [
        {
          "output_type": "stream",
          "name": "stdout",
          "text": [
            "Dataframe with dd-mm--yy:\n"
          ]
        },
        {
          "output_type": "execute_result",
          "data": {
            "text/plain": [
              "       fecha  valor  anio  mes  dia\n",
              "0 2022-02-23     10  2022    2   23\n",
              "1 2022-02-24     20  2022    2   24\n",
              "2 2022-02-25     30  2022    2   25"
            ],
            "text/html": [
              "\n",
              "  <div id=\"df-c2d89e9c-8a56-4577-8f80-8cfa55741c0d\">\n",
              "    <div class=\"colab-df-container\">\n",
              "      <div>\n",
              "<style scoped>\n",
              "    .dataframe tbody tr th:only-of-type {\n",
              "        vertical-align: middle;\n",
              "    }\n",
              "\n",
              "    .dataframe tbody tr th {\n",
              "        vertical-align: top;\n",
              "    }\n",
              "\n",
              "    .dataframe thead th {\n",
              "        text-align: right;\n",
              "    }\n",
              "</style>\n",
              "<table border=\"1\" class=\"dataframe\">\n",
              "  <thead>\n",
              "    <tr style=\"text-align: right;\">\n",
              "      <th></th>\n",
              "      <th>fecha</th>\n",
              "      <th>valor</th>\n",
              "      <th>anio</th>\n",
              "      <th>mes</th>\n",
              "      <th>dia</th>\n",
              "    </tr>\n",
              "  </thead>\n",
              "  <tbody>\n",
              "    <tr>\n",
              "      <th>0</th>\n",
              "      <td>2022-02-23</td>\n",
              "      <td>10</td>\n",
              "      <td>2022</td>\n",
              "      <td>2</td>\n",
              "      <td>23</td>\n",
              "    </tr>\n",
              "    <tr>\n",
              "      <th>1</th>\n",
              "      <td>2022-02-24</td>\n",
              "      <td>20</td>\n",
              "      <td>2022</td>\n",
              "      <td>2</td>\n",
              "      <td>24</td>\n",
              "    </tr>\n",
              "    <tr>\n",
              "      <th>2</th>\n",
              "      <td>2022-02-25</td>\n",
              "      <td>30</td>\n",
              "      <td>2022</td>\n",
              "      <td>2</td>\n",
              "      <td>25</td>\n",
              "    </tr>\n",
              "  </tbody>\n",
              "</table>\n",
              "</div>\n",
              "      <button class=\"colab-df-convert\" onclick=\"convertToInteractive('df-c2d89e9c-8a56-4577-8f80-8cfa55741c0d')\"\n",
              "              title=\"Convert this dataframe to an interactive table.\"\n",
              "              style=\"display:none;\">\n",
              "        \n",
              "  <svg xmlns=\"http://www.w3.org/2000/svg\" height=\"24px\"viewBox=\"0 0 24 24\"\n",
              "       width=\"24px\">\n",
              "    <path d=\"M0 0h24v24H0V0z\" fill=\"none\"/>\n",
              "    <path d=\"M18.56 5.44l.94 2.06.94-2.06 2.06-.94-2.06-.94-.94-2.06-.94 2.06-2.06.94zm-11 1L8.5 8.5l.94-2.06 2.06-.94-2.06-.94L8.5 2.5l-.94 2.06-2.06.94zm10 10l.94 2.06.94-2.06 2.06-.94-2.06-.94-.94-2.06-.94 2.06-2.06.94z\"/><path d=\"M17.41 7.96l-1.37-1.37c-.4-.4-.92-.59-1.43-.59-.52 0-1.04.2-1.43.59L10.3 9.45l-7.72 7.72c-.78.78-.78 2.05 0 2.83L4 21.41c.39.39.9.59 1.41.59.51 0 1.02-.2 1.41-.59l7.78-7.78 2.81-2.81c.8-.78.8-2.07 0-2.86zM5.41 20L4 18.59l7.72-7.72 1.47 1.35L5.41 20z\"/>\n",
              "  </svg>\n",
              "      </button>\n",
              "      \n",
              "  <style>\n",
              "    .colab-df-container {\n",
              "      display:flex;\n",
              "      flex-wrap:wrap;\n",
              "      gap: 12px;\n",
              "    }\n",
              "\n",
              "    .colab-df-convert {\n",
              "      background-color: #E8F0FE;\n",
              "      border: none;\n",
              "      border-radius: 50%;\n",
              "      cursor: pointer;\n",
              "      display: none;\n",
              "      fill: #1967D2;\n",
              "      height: 32px;\n",
              "      padding: 0 0 0 0;\n",
              "      width: 32px;\n",
              "    }\n",
              "\n",
              "    .colab-df-convert:hover {\n",
              "      background-color: #E2EBFA;\n",
              "      box-shadow: 0px 1px 2px rgba(60, 64, 67, 0.3), 0px 1px 3px 1px rgba(60, 64, 67, 0.15);\n",
              "      fill: #174EA6;\n",
              "    }\n",
              "\n",
              "    [theme=dark] .colab-df-convert {\n",
              "      background-color: #3B4455;\n",
              "      fill: #D2E3FC;\n",
              "    }\n",
              "\n",
              "    [theme=dark] .colab-df-convert:hover {\n",
              "      background-color: #434B5C;\n",
              "      box-shadow: 0px 1px 3px 1px rgba(0, 0, 0, 0.15);\n",
              "      filter: drop-shadow(0px 1px 2px rgba(0, 0, 0, 0.3));\n",
              "      fill: #FFFFFF;\n",
              "    }\n",
              "  </style>\n",
              "\n",
              "      <script>\n",
              "        const buttonEl =\n",
              "          document.querySelector('#df-c2d89e9c-8a56-4577-8f80-8cfa55741c0d button.colab-df-convert');\n",
              "        buttonEl.style.display =\n",
              "          google.colab.kernel.accessAllowed ? 'block' : 'none';\n",
              "\n",
              "        async function convertToInteractive(key) {\n",
              "          const element = document.querySelector('#df-c2d89e9c-8a56-4577-8f80-8cfa55741c0d');\n",
              "          const dataTable =\n",
              "            await google.colab.kernel.invokeFunction('convertToInteractive',\n",
              "                                                     [key], {});\n",
              "          if (!dataTable) return;\n",
              "\n",
              "          const docLinkHtml = 'Like what you see? Visit the ' +\n",
              "            '<a target=\"_blank\" href=https://colab.research.google.com/notebooks/data_table.ipynb>data table notebook</a>'\n",
              "            + ' to learn more about interactive tables.';\n",
              "          element.innerHTML = '';\n",
              "          dataTable['output_type'] = 'display_data';\n",
              "          await google.colab.output.renderOutput(dataTable, element);\n",
              "          const docLink = document.createElement('div');\n",
              "          docLink.innerHTML = docLinkHtml;\n",
              "          element.appendChild(docLink);\n",
              "        }\n",
              "      </script>\n",
              "    </div>\n",
              "  </div>\n",
              "  "
            ]
          },
          "metadata": {},
          "execution_count": 51
        }
      ]
    },
    {
      "cell_type": "markdown",
      "source": [
        "My own example 9:"
      ],
      "metadata": {
        "id": "NfhQJoGqvj-S"
      }
    },
    {
      "cell_type": "code",
      "source": [
        "A = np.array([[1, 2], [3, 4]])\n",
        "\n",
        "B = np.array([[5], [6]])\n",
        "\n",
        "# Use the dot product to calculate the matrix product of A and B\n",
        "C = np.dot(A, B)\n",
        "\n",
        "print(C)"
      ],
      "metadata": {
        "colab": {
          "base_uri": "https://localhost:8080/"
        },
        "outputId": "5979c9aa-c8c7-4277-bdf7-1c2ed3d2a6a3",
        "id": "SxeoCg0evj-S"
      },
      "execution_count": null,
      "outputs": [
        {
          "output_type": "stream",
          "name": "stdout",
          "text": [
            "[[17]\n",
            " [39]]\n"
          ]
        }
      ]
    },
    {
      "cell_type": "markdown",
      "source": [
        "My own example 10:"
      ],
      "metadata": {
        "id": "7oh2Lrngvj-T"
      }
    },
    {
      "cell_type": "code",
      "source": [
        "A = np.array([[1, 2, 3], [1, 5, 6], [7, 8, 9]])\n",
        "\n",
        "A_inv = np.linalg.inv(A)\n",
        "\n",
        "I = np.eye(3)\n",
        "\n",
        "A_Ainv = np.matmul(A, A_inv)\n",
        "\n",
        "assert np.allclose(A_Ainv, I)"
      ],
      "metadata": {
        "id": "AyXNfuMkvj-T"
      },
      "execution_count": null,
      "outputs": []
    },
    {
      "cell_type": "markdown",
      "metadata": {
        "id": "L-94pHcivj-T"
      },
      "source": [
        "My own example 11:"
      ]
    },
    {
      "cell_type": "code",
      "execution_count": null,
      "metadata": {
        "colab": {
          "base_uri": "https://localhost:8080/"
        },
        "outputId": "55c32fa3-87c2-4dc0-fbeb-27e3ecb038e0",
        "id": "Th9XUxg1vj-T"
      },
      "outputs": [
        {
          "output_type": "stream",
          "name": "stdout",
          "text": [
            "1\n",
            "3\n",
            "5\n",
            "7\n",
            "9\n"
          ]
        }
      ],
      "source": [
        "i = 0\n",
        "\n",
        "while i < len(numbers):\n",
        "    # If the current number is even, skip it\n",
        "    if numbers[i] % 2 == 0:\n",
        "        i += 1\n",
        "        continue\n",
        "    print(numbers[i])\n",
        "    i += 1"
      ]
    },
    {
      "cell_type": "markdown",
      "metadata": {
        "id": "OK4J6awLvj-U"
      },
      "source": [
        "My own example 12:"
      ]
    },
    {
      "cell_type": "code",
      "execution_count": null,
      "metadata": {
        "colab": {
          "base_uri": "https://localhost:8080/"
        },
        "outputId": "022c0471-51cb-4800-cba8-a9f90266f6b7",
        "id": "mUxBh8Devj-U"
      },
      "outputs": [
        {
          "output_type": "execute_result",
          "data": {
            "text/plain": [
              "{3, 5, 7, 11, 13, 17, 19, 23, 29, 31}"
            ]
          },
          "metadata": {},
          "execution_count": 22
        }
      ],
      "source": [
        "prime_numbers = {2, 3, 5, 7, 11, 13, 17, 19, 23, 29, 31}\n",
        "prime_numbers.difference(evens)"
      ]
    },
    {
      "cell_type": "markdown",
      "metadata": {
        "id": "OSGvahBivj-U"
      },
      "source": [
        "My own example 13:"
      ]
    },
    {
      "cell_type": "code",
      "execution_count": null,
      "metadata": {
        "colab": {
          "base_uri": "https://localhost:8080/"
        },
        "outputId": "e46207d0-ee76-4f8d-b47c-498fde9a5329",
        "id": "X9ePnzsvvj-U"
      },
      "outputs": [
        {
          "output_type": "stream",
          "name": "stdout",
          "text": [
            "John: 90\n",
            "Alice: 85\n",
            "Bob: 70\n"
          ]
        }
      ],
      "source": [
        "students = {\"John\": 90, \"Alice\": 85, \"Bob\": 70}\n",
        "\n",
        "for k,v in students.items():\n",
        "  print(k + \": \" + str(v))"
      ]
    },
    {
      "cell_type": "markdown",
      "metadata": {
        "id": "gLZEV4_Bvj-U"
      },
      "source": [
        "My own example 14:"
      ]
    },
    {
      "cell_type": "code",
      "execution_count": null,
      "metadata": {
        "colab": {
          "base_uri": "https://localhost:8080/"
        },
        "outputId": "d155781f-beee-4b26-8df7-b042025cecd0",
        "id": "sdZNWkxkvj-U"
      },
      "outputs": [
        {
          "output_type": "stream",
          "name": "stdout",
          "text": [
            "1\n",
            "2\n",
            "3\n",
            "4\n",
            "5\n"
          ]
        }
      ],
      "source": [
        "numbers = [1, 2, 3, 4, 5, 6, 7, 8, 9, 10]\n",
        "\n",
        "for num in numbers:\n",
        "    # Break out of the loop if we reach a number greater than 5\n",
        "    if num > 5:\n",
        "        break\n",
        "    print(num)"
      ]
    },
    {
      "cell_type": "markdown",
      "metadata": {
        "id": "lFP1WpbYvj-U"
      },
      "source": [
        "My own example 15:"
      ]
    },
    {
      "cell_type": "code",
      "execution_count": null,
      "metadata": {
        "colab": {
          "base_uri": "https://localhost:8080/"
        },
        "outputId": "55c32fa3-87c2-4dc0-fbeb-27e3ecb038e0",
        "id": "pk0cPOWavj-V"
      },
      "outputs": [
        {
          "output_type": "stream",
          "name": "stdout",
          "text": [
            "1\n",
            "3\n",
            "5\n",
            "7\n",
            "9\n"
          ]
        }
      ],
      "source": [
        "i = 0\n",
        "\n",
        "while i < len(numbers):\n",
        "    # If the current number is even, skip it\n",
        "    if numbers[i] % 2 == 0:\n",
        "        i += 1\n",
        "        continue\n",
        "    print(numbers[i])\n",
        "    i += 1"
      ]
    },
    {
      "cell_type": "markdown",
      "source": [
        "My own example 16:"
      ],
      "metadata": {
        "id": "LtHylDY7vj-V"
      }
    },
    {
      "cell_type": "code",
      "source": [
        "grades = {'Alice': 85, 'Bob': 92, 'Charlie': 78, 'David': 80}\n",
        "\n",
        "for name, grade in grades.items():\n",
        "    # If the grade is below 80, break out of the loop\n",
        "    if grade < 80:\n",
        "        print(name + ' has a failing grade')\n",
        "        break\n",
        "    print(name + ' has a passing grade')"
      ],
      "metadata": {
        "colab": {
          "base_uri": "https://localhost:8080/"
        },
        "outputId": "052faf8a-b26e-47d1-8643-a9d99612beb1",
        "id": "QiHVCwVuvj-V"
      },
      "execution_count": null,
      "outputs": [
        {
          "output_type": "stream",
          "name": "stdout",
          "text": [
            "Alice has a passing grade\n",
            "Bob has a passing grade\n",
            "Charlie has a failing grade\n"
          ]
        }
      ]
    },
    {
      "cell_type": "markdown",
      "metadata": {
        "id": "NMGVZhdNvj-V"
      },
      "source": [
        "My own example 17:"
      ]
    },
    {
      "cell_type": "code",
      "execution_count": null,
      "metadata": {
        "colab": {
          "base_uri": "https://localhost:8080/",
          "height": 35
        },
        "outputId": "b08ff2c8-a778-4ffa-cee3-373796f109b2",
        "id": "Tab-uJe7vj-V"
      },
      "outputs": [
        {
          "output_type": "execute_result",
          "data": {
            "text/plain": [
              "'blue'"
            ],
            "application/vnd.google.colaboratory.intrinsic+json": {
              "type": "string"
            }
          },
          "metadata": {},
          "execution_count": 21
        }
      ],
      "source": [
        "colors = (\"red\", \"green\", \"blue\")\n",
        "colors[2]"
      ]
    },
    {
      "cell_type": "markdown",
      "metadata": {
        "id": "yBMePUosvj-V"
      },
      "source": [
        "My own example 18:"
      ]
    },
    {
      "cell_type": "code",
      "execution_count": null,
      "metadata": {
        "colab": {
          "base_uri": "https://localhost:8080/"
        },
        "outputId": "022c0471-51cb-4800-cba8-a9f90266f6b7",
        "id": "DjKR1tPBvj-V"
      },
      "outputs": [
        {
          "output_type": "execute_result",
          "data": {
            "text/plain": [
              "{3, 5, 7, 11, 13, 17, 19, 23, 29, 31}"
            ]
          },
          "metadata": {},
          "execution_count": 22
        }
      ],
      "source": [
        "prime_numbers = {2, 3, 5, 7, 11, 13, 17, 19, 23, 29, 31}\n",
        "prime_numbers.difference(evens)"
      ]
    },
    {
      "cell_type": "markdown",
      "metadata": {
        "id": "AzwQrT8Vvj-V"
      },
      "source": [
        "My own example 19:"
      ]
    },
    {
      "cell_type": "code",
      "execution_count": null,
      "metadata": {
        "colab": {
          "base_uri": "https://localhost:8080/"
        },
        "outputId": "e46207d0-ee76-4f8d-b47c-498fde9a5329",
        "id": "iEP02uwHvj-W"
      },
      "outputs": [
        {
          "output_type": "stream",
          "name": "stdout",
          "text": [
            "John: 90\n",
            "Alice: 85\n",
            "Bob: 70\n"
          ]
        }
      ],
      "source": [
        "students = {\"John\": 90, \"Alice\": 85, \"Bob\": 70}\n",
        "\n",
        "for k,v in students.items():\n",
        "  print(k + \": \" + str(v))"
      ]
    },
    {
      "cell_type": "markdown",
      "metadata": {
        "id": "FHrFMmllvj-W"
      },
      "source": [
        "My own example 20:"
      ]
    },
    {
      "cell_type": "code",
      "execution_count": null,
      "metadata": {
        "colab": {
          "base_uri": "https://localhost:8080/"
        },
        "outputId": "d155781f-beee-4b26-8df7-b042025cecd0",
        "id": "nD8SiiH2vj-W"
      },
      "outputs": [
        {
          "output_type": "stream",
          "name": "stdout",
          "text": [
            "1\n",
            "2\n",
            "3\n",
            "4\n",
            "5\n"
          ]
        }
      ],
      "source": [
        "numbers = [1, 2, 3, 4, 5, 6, 7, 8, 9, 10]\n",
        "\n",
        "for num in numbers:\n",
        "    # Break out of the loop if we reach a number greater than 5\n",
        "    if num > 5:\n",
        "        break\n",
        "    print(num)"
      ]
    },
    {
      "cell_type": "markdown",
      "source": [
        "## Pandas-Resampling and DataFrame"
      ],
      "metadata": {
        "id": "xxTzW8nlQhUt"
      }
    },
    {
      "cell_type": "markdown",
      "source": [
        "My own example 1:"
      ],
      "metadata": {
        "id": "mzzFHONEvyr-"
      }
    },
    {
      "cell_type": "code",
      "source": [
        "!pip install yfinance"
      ],
      "metadata": {
        "colab": {
          "base_uri": "https://localhost:8080/"
        },
        "id": "48aQm82TQx4E",
        "outputId": "c0afb19f-cd2a-4306-fb7e-32085f9d429a"
      },
      "execution_count": null,
      "outputs": [
        {
          "output_type": "stream",
          "name": "stdout",
          "text": [
            "Looking in indexes: https://pypi.org/simple, https://us-python.pkg.dev/colab-wheels/public/simple/\n",
            "Requirement already satisfied: yfinance in /usr/local/lib/python3.8/dist-packages (0.2.12)\n",
            "Requirement already satisfied: html5lib>=1.1 in /usr/local/lib/python3.8/dist-packages (from yfinance) (1.1)\n",
            "Requirement already satisfied: beautifulsoup4>=4.11.1 in /usr/local/lib/python3.8/dist-packages (from yfinance) (4.11.2)\n",
            "Requirement already satisfied: lxml>=4.9.1 in /usr/local/lib/python3.8/dist-packages (from yfinance) (4.9.2)\n",
            "Requirement already satisfied: frozendict>=2.3.4 in /usr/local/lib/python3.8/dist-packages (from yfinance) (2.3.5)\n",
            "Requirement already satisfied: pytz>=2022.5 in /usr/local/lib/python3.8/dist-packages (from yfinance) (2022.7.1)\n",
            "Requirement already satisfied: cryptography>=3.3.2 in /usr/local/lib/python3.8/dist-packages (from yfinance) (39.0.1)\n",
            "Requirement already satisfied: appdirs>=1.4.4 in /usr/local/lib/python3.8/dist-packages (from yfinance) (1.4.4)\n",
            "Requirement already satisfied: multitasking>=0.0.7 in /usr/local/lib/python3.8/dist-packages (from yfinance) (0.0.11)\n",
            "Requirement already satisfied: requests>=2.26 in /usr/local/lib/python3.8/dist-packages (from yfinance) (2.28.2)\n",
            "Requirement already satisfied: pandas>=1.3.0 in /usr/local/lib/python3.8/dist-packages (from yfinance) (1.3.5)\n",
            "Requirement already satisfied: numpy>=1.16.5 in /usr/local/lib/python3.8/dist-packages (from yfinance) (1.21.6)\n",
            "Requirement already satisfied: soupsieve>1.2 in /usr/local/lib/python3.8/dist-packages (from beautifulsoup4>=4.11.1->yfinance) (2.4)\n",
            "Requirement already satisfied: cffi>=1.12 in /usr/local/lib/python3.8/dist-packages (from cryptography>=3.3.2->yfinance) (1.15.1)\n",
            "Requirement already satisfied: webencodings in /usr/local/lib/python3.8/dist-packages (from html5lib>=1.1->yfinance) (0.5.1)\n",
            "Requirement already satisfied: six>=1.9 in /usr/local/lib/python3.8/dist-packages (from html5lib>=1.1->yfinance) (1.15.0)\n",
            "Requirement already satisfied: python-dateutil>=2.7.3 in /usr/local/lib/python3.8/dist-packages (from pandas>=1.3.0->yfinance) (2.8.2)\n",
            "Requirement already satisfied: idna<4,>=2.5 in /usr/local/lib/python3.8/dist-packages (from requests>=2.26->yfinance) (2.10)\n",
            "Requirement already satisfied: charset-normalizer<4,>=2 in /usr/local/lib/python3.8/dist-packages (from requests>=2.26->yfinance) (3.0.1)\n",
            "Requirement already satisfied: urllib3<1.27,>=1.21.1 in /usr/local/lib/python3.8/dist-packages (from requests>=2.26->yfinance) (1.24.3)\n",
            "Requirement already satisfied: certifi>=2017.4.17 in /usr/local/lib/python3.8/dist-packages (from requests>=2.26->yfinance) (2022.12.7)\n",
            "Requirement already satisfied: pycparser in /usr/local/lib/python3.8/dist-packages (from cffi>=1.12->cryptography>=3.3.2->yfinance) (2.21)\n"
          ]
        }
      ]
    },
    {
      "cell_type": "markdown",
      "source": [
        "My own example 2:"
      ],
      "metadata": {
        "id": "RSu_e-8uv03Y"
      }
    },
    {
      "cell_type": "code",
      "source": [
        "import yfinance as yf\n",
        "import pandas as pd\n",
        "import numpy as np\n",
        "import matplotlib.pyplot as plt\n",
        "\n",
        "# Tesla\n",
        "tesla = yf.Ticker(\"TSLA\")\n",
        "tesla_df = tesla.history(period=\"max\")\n",
        "\n",
        "plt.plot(tesla_df.index, tesla_df[\"Close\"], 'o', markersize=1)\n",
        "plt.xlabel(\"Date\")\n",
        "plt.ylabel(\"Closing Price\")\n",
        "plt.title(\"Tesla Stock Price\")\n",
        "plt.show()"
      ],
      "metadata": {
        "colab": {
          "base_uri": "https://localhost:8080/",
          "height": 295
        },
        "id": "gT2ilwtLQEwu",
        "outputId": "af1ce2d5-a361-43e1-a5d1-9c4228b4ca1f"
      },
      "execution_count": null,
      "outputs": [
        {
          "output_type": "display_data",
          "data": {
            "text/plain": [
              "<Figure size 432x288 with 1 Axes>"
            ],
            "image/png": "[encoded data removed]"
          },
          "metadata": {
            "needs_background": "light"
          }
        }
      ]
    },
    {
      "cell_type": "markdown",
      "source": [
        "My own example 3:"
      ],
      "metadata": {
        "id": "saJBarLtQjCX"
      }
    },
    {
      "cell_type": "code",
      "source": [
        "# Tesla and Apple\n",
        "tesla = yf.Ticker(\"TSLA\")\n",
        "apple = yf.Ticker(\"AAPL\")\n",
        "tesla_df = tesla.history(period=\"max\")\n",
        "apple_df = apple.history(period=\"max\")\n",
        "\n",
        "plt.plot(tesla_df.index, tesla_df[\"Close\"], label=\"Tesla\")\n",
        "plt.plot(apple_df.index, apple_df[\"Close\"], label=\"Apple\")\n",
        "plt.xlabel(\"Date\")\n",
        "plt.ylabel(\"Closing Price\")\n",
        "plt.title(\"Tesla and Apple Stock Prices\")\n",
        "plt.legend()\n",
        "plt.show()"
      ],
      "metadata": {
        "colab": {
          "base_uri": "https://localhost:8080/",
          "height": 295
        },
        "id": "uROjD7SLQjOV",
        "outputId": "5d56c98e-6cbd-40f8-8bc7-6dcec7ea3a70"
      },
      "execution_count": null,
      "outputs": [
        {
          "output_type": "display_data",
          "data": {
            "text/plain": [
              "<Figure size 432x288 with 1 Axes>"
            ],
            "image/png": "[encoded data removed]"
          },
          "metadata": {
            "needs_background": "light"
          }
        }
      ]
    },
    {
      "cell_type": "markdown",
      "source": [
        "My own example 4:"
      ],
      "metadata": {
        "id": "f-LI2G_ZwDT_"
      }
    },
    {
      "cell_type": "code",
      "source": [
        "My own example 4"
      ],
      "metadata": {
        "id": "wdQBvUMfwDUA"
      },
      "execution_count": null,
      "outputs": []
    },
    {
      "cell_type": "markdown",
      "source": [
        "My own example 5:"
      ],
      "metadata": {
        "id": "txNIfXNYwDUA"
      }
    },
    {
      "cell_type": "code",
      "source": [
        "url = 'https://jsonplaceholder.typicode.com/posts'\n",
        "df = pd.read_json(url)\n",
        "\n",
        "x = df['id']\n",
        "y = df['userId']\n",
        "coefficients = np.polyfit(x, y, 1)\n",
        "p = np.poly1d(coefficients)\n",
        "\n",
        "plt.scatter(x, y)\n",
        "plt.plot(x, p(x), color='red')\n",
        "plt.show()"
      ],
      "metadata": {
        "colab": {
          "base_uri": "https://localhost:8080/",
          "height": 265
        },
        "outputId": "0183ce82-94e9-4c0b-cfac-6d1a69d52626",
        "id": "JPF2-0cpwDUA"
      },
      "execution_count": null,
      "outputs": [
        {
          "output_type": "display_data",
          "data": {
            "text/plain": [
              "<Figure size 432x288 with 1 Axes>"
            ],
            "image/png": "[encoded data removed]"
          },
          "metadata": {
            "needs_background": "light"
          }
        }
      ]
    },
    {
      "cell_type": "markdown",
      "source": [
        "My own example 6:"
      ],
      "metadata": {
        "id": "YZHSVhbxwDUA"
      }
    },
    {
      "cell_type": "code",
      "source": [
        "dates = pd.date_range('20220101', periods=6)\n",
        "\n",
        "df = pd.DataFrame({'data': [11, 22, 33, 44, 55, 66]}, index=dates)\n",
        "\n",
        "print(df)"
      ],
      "metadata": {
        "colab": {
          "base_uri": "https://localhost:8080/"
        },
        "outputId": "a5c62e9c-2890-4b44-a49d-5820fb0b5585",
        "id": "uhPWw87pwDUA"
      },
      "execution_count": null,
      "outputs": [
        {
          "output_type": "stream",
          "name": "stdout",
          "text": [
            "            data\n",
            "2022-01-01    11\n",
            "2022-01-02    22\n",
            "2022-01-03    33\n",
            "2022-01-04    44\n",
            "2022-01-05    55\n",
            "2022-01-06    66\n"
          ]
        }
      ]
    },
    {
      "cell_type": "markdown",
      "source": [
        "My own example 7:"
      ],
      "metadata": {
        "id": "SEfIDXYHwDUA"
      }
    },
    {
      "cell_type": "code",
      "source": [
        "df = pd.DataFrame({'fecha': ['2022-02-23', '2022-02-24', '2022-02-25'],\n",
        "                   'valor': [10, 20, 30]})\n",
        "\n",
        "print('Dataframe original:')\n",
        "df.head()"
      ],
      "metadata": {
        "colab": {
          "base_uri": "https://localhost:8080/",
          "height": 161
        },
        "outputId": "9e17ef37-f57e-481f-bb6f-2fff490c4c21",
        "id": "z-a4343OwDUB"
      },
      "execution_count": null,
      "outputs": [
        {
          "output_type": "stream",
          "name": "stdout",
          "text": [
            "Dataframe original:\n"
          ]
        },
        {
          "output_type": "execute_result",
          "data": {
            "text/plain": [
              "        fecha  valor\n",
              "0  2022-02-23     10\n",
              "1  2022-02-24     20\n",
              "2  2022-02-25     30"
            ],
            "text/html": [
              "\n",
              "  <div id=\"df-002ec302-62aa-4d4b-a58f-67f45a7161b9\">\n",
              "    <div class=\"colab-df-container\">\n",
              "      <div>\n",
              "<style scoped>\n",
              "    .dataframe tbody tr th:only-of-type {\n",
              "        vertical-align: middle;\n",
              "    }\n",
              "\n",
              "    .dataframe tbody tr th {\n",
              "        vertical-align: top;\n",
              "    }\n",
              "\n",
              "    .dataframe thead th {\n",
              "        text-align: right;\n",
              "    }\n",
              "</style>\n",
              "<table border=\"1\" class=\"dataframe\">\n",
              "  <thead>\n",
              "    <tr style=\"text-align: right;\">\n",
              "      <th></th>\n",
              "      <th>fecha</th>\n",
              "      <th>valor</th>\n",
              "    </tr>\n",
              "  </thead>\n",
              "  <tbody>\n",
              "    <tr>\n",
              "      <th>0</th>\n",
              "      <td>2022-02-23</td>\n",
              "      <td>10</td>\n",
              "    </tr>\n",
              "    <tr>\n",
              "      <th>1</th>\n",
              "      <td>2022-02-24</td>\n",
              "      <td>20</td>\n",
              "    </tr>\n",
              "    <tr>\n",
              "      <th>2</th>\n",
              "      <td>2022-02-25</td>\n",
              "      <td>30</td>\n",
              "    </tr>\n",
              "  </tbody>\n",
              "</table>\n",
              "</div>\n",
              "      <button class=\"colab-df-convert\" onclick=\"convertToInteractive('df-002ec302-62aa-4d4b-a58f-67f45a7161b9')\"\n",
              "              title=\"Convert this dataframe to an interactive table.\"\n",
              "              style=\"display:none;\">\n",
              "        \n",
              "  <svg xmlns=\"http://www.w3.org/2000/svg\" height=\"24px\"viewBox=\"0 0 24 24\"\n",
              "       width=\"24px\">\n",
              "    <path d=\"M0 0h24v24H0V0z\" fill=\"none\"/>\n",
              "    <path d=\"M18.56 5.44l.94 2.06.94-2.06 2.06-.94-2.06-.94-.94-2.06-.94 2.06-2.06.94zm-11 1L8.5 8.5l.94-2.06 2.06-.94-2.06-.94L8.5 2.5l-.94 2.06-2.06.94zm10 10l.94 2.06.94-2.06 2.06-.94-2.06-.94-.94-2.06-.94 2.06-2.06.94z\"/><path d=\"M17.41 7.96l-1.37-1.37c-.4-.4-.92-.59-1.43-.59-.52 0-1.04.2-1.43.59L10.3 9.45l-7.72 7.72c-.78.78-.78 2.05 0 2.83L4 21.41c.39.39.9.59 1.41.59.51 0 1.02-.2 1.41-.59l7.78-7.78 2.81-2.81c.8-.78.8-2.07 0-2.86zM5.41 20L4 18.59l7.72-7.72 1.47 1.35L5.41 20z\"/>\n",
              "  </svg>\n",
              "      </button>\n",
              "      \n",
              "  <style>\n",
              "    .colab-df-container {\n",
              "      display:flex;\n",
              "      flex-wrap:wrap;\n",
              "      gap: 12px;\n",
              "    }\n",
              "\n",
              "    .colab-df-convert {\n",
              "      background-color: #E8F0FE;\n",
              "      border: none;\n",
              "      border-radius: 50%;\n",
              "      cursor: pointer;\n",
              "      display: none;\n",
              "      fill: #1967D2;\n",
              "      height: 32px;\n",
              "      padding: 0 0 0 0;\n",
              "      width: 32px;\n",
              "    }\n",
              "\n",
              "    .colab-df-convert:hover {\n",
              "      background-color: #E2EBFA;\n",
              "      box-shadow: 0px 1px 2px rgba(60, 64, 67, 0.3), 0px 1px 3px 1px rgba(60, 64, 67, 0.15);\n",
              "      fill: #174EA6;\n",
              "    }\n",
              "\n",
              "    [theme=dark] .colab-df-convert {\n",
              "      background-color: #3B4455;\n",
              "      fill: #D2E3FC;\n",
              "    }\n",
              "\n",
              "    [theme=dark] .colab-df-convert:hover {\n",
              "      background-color: #434B5C;\n",
              "      box-shadow: 0px 1px 3px 1px rgba(0, 0, 0, 0.15);\n",
              "      filter: drop-shadow(0px 1px 2px rgba(0, 0, 0, 0.3));\n",
              "      fill: #FFFFFF;\n",
              "    }\n",
              "  </style>\n",
              "\n",
              "      <script>\n",
              "        const buttonEl =\n",
              "          document.querySelector('#df-002ec302-62aa-4d4b-a58f-67f45a7161b9 button.colab-df-convert');\n",
              "        buttonEl.style.display =\n",
              "          google.colab.kernel.accessAllowed ? 'block' : 'none';\n",
              "\n",
              "        async function convertToInteractive(key) {\n",
              "          const element = document.querySelector('#df-002ec302-62aa-4d4b-a58f-67f45a7161b9');\n",
              "          const dataTable =\n",
              "            await google.colab.kernel.invokeFunction('convertToInteractive',\n",
              "                                                     [key], {});\n",
              "          if (!dataTable) return;\n",
              "\n",
              "          const docLinkHtml = 'Like what you see? Visit the ' +\n",
              "            '<a target=\"_blank\" href=https://colab.research.google.com/notebooks/data_table.ipynb>data table notebook</a>'\n",
              "            + ' to learn more about interactive tables.';\n",
              "          element.innerHTML = '';\n",
              "          dataTable['output_type'] = 'display_data';\n",
              "          await google.colab.output.renderOutput(dataTable, element);\n",
              "          const docLink = document.createElement('div');\n",
              "          docLink.innerHTML = docLinkHtml;\n",
              "          element.appendChild(docLink);\n",
              "        }\n",
              "      </script>\n",
              "    </div>\n",
              "  </div>\n",
              "  "
            ]
          },
          "metadata": {},
          "execution_count": 50
        }
      ]
    },
    {
      "cell_type": "markdown",
      "source": [
        "My own example 8:"
      ],
      "metadata": {
        "id": "3DXpU3s-wDUB"
      }
    },
    {
      "cell_type": "code",
      "source": [
        "df['fecha'] = pd.to_datetime(df['fecha'])\n",
        "\n",
        "df['anio'] = df['fecha'].dt.year\n",
        "df['mes'] = df['fecha'].dt.month\n",
        "df['dia'] = df['fecha'].dt.day\n",
        "\n",
        "print('Dataframe with dd-mm--yy:')\n",
        "df.head()"
      ],
      "metadata": {
        "colab": {
          "base_uri": "https://localhost:8080/",
          "height": 161
        },
        "outputId": "0af7ced9-f195-4489-bace-827ac6d2677e",
        "id": "yskgnrrCwDUB"
      },
      "execution_count": null,
      "outputs": [
        {
          "output_type": "stream",
          "name": "stdout",
          "text": [
            "Dataframe with dd-mm--yy:\n"
          ]
        },
        {
          "output_type": "execute_result",
          "data": {
            "text/plain": [
              "       fecha  valor  anio  mes  dia\n",
              "0 2022-02-23     10  2022    2   23\n",
              "1 2022-02-24     20  2022    2   24\n",
              "2 2022-02-25     30  2022    2   25"
            ],
            "text/html": [
              "\n",
              "  <div id=\"df-c2d89e9c-8a56-4577-8f80-8cfa55741c0d\">\n",
              "    <div class=\"colab-df-container\">\n",
              "      <div>\n",
              "<style scoped>\n",
              "    .dataframe tbody tr th:only-of-type {\n",
              "        vertical-align: middle;\n",
              "    }\n",
              "\n",
              "    .dataframe tbody tr th {\n",
              "        vertical-align: top;\n",
              "    }\n",
              "\n",
              "    .dataframe thead th {\n",
              "        text-align: right;\n",
              "    }\n",
              "</style>\n",
              "<table border=\"1\" class=\"dataframe\">\n",
              "  <thead>\n",
              "    <tr style=\"text-align: right;\">\n",
              "      <th></th>\n",
              "      <th>fecha</th>\n",
              "      <th>valor</th>\n",
              "      <th>anio</th>\n",
              "      <th>mes</th>\n",
              "      <th>dia</th>\n",
              "    </tr>\n",
              "  </thead>\n",
              "  <tbody>\n",
              "    <tr>\n",
              "      <th>0</th>\n",
              "      <td>2022-02-23</td>\n",
              "      <td>10</td>\n",
              "      <td>2022</td>\n",
              "      <td>2</td>\n",
              "      <td>23</td>\n",
              "    </tr>\n",
              "    <tr>\n",
              "      <th>1</th>\n",
              "      <td>2022-02-24</td>\n",
              "      <td>20</td>\n",
              "      <td>2022</td>\n",
              "      <td>2</td>\n",
              "      <td>24</td>\n",
              "    </tr>\n",
              "    <tr>\n",
              "      <th>2</th>\n",
              "      <td>2022-02-25</td>\n",
              "      <td>30</td>\n",
              "      <td>2022</td>\n",
              "      <td>2</td>\n",
              "      <td>25</td>\n",
              "    </tr>\n",
              "  </tbody>\n",
              "</table>\n",
              "</div>\n",
              "      <button class=\"colab-df-convert\" onclick=\"convertToInteractive('df-c2d89e9c-8a56-4577-8f80-8cfa55741c0d')\"\n",
              "              title=\"Convert this dataframe to an interactive table.\"\n",
              "              style=\"display:none;\">\n",
              "        \n",
              "  <svg xmlns=\"http://www.w3.org/2000/svg\" height=\"24px\"viewBox=\"0 0 24 24\"\n",
              "       width=\"24px\">\n",
              "    <path d=\"M0 0h24v24H0V0z\" fill=\"none\"/>\n",
              "    <path d=\"M18.56 5.44l.94 2.06.94-2.06 2.06-.94-2.06-.94-.94-2.06-.94 2.06-2.06.94zm-11 1L8.5 8.5l.94-2.06 2.06-.94-2.06-.94L8.5 2.5l-.94 2.06-2.06.94zm10 10l.94 2.06.94-2.06 2.06-.94-2.06-.94-.94-2.06-.94 2.06-2.06.94z\"/><path d=\"M17.41 7.96l-1.37-1.37c-.4-.4-.92-.59-1.43-.59-.52 0-1.04.2-1.43.59L10.3 9.45l-7.72 7.72c-.78.78-.78 2.05 0 2.83L4 21.41c.39.39.9.59 1.41.59.51 0 1.02-.2 1.41-.59l7.78-7.78 2.81-2.81c.8-.78.8-2.07 0-2.86zM5.41 20L4 18.59l7.72-7.72 1.47 1.35L5.41 20z\"/>\n",
              "  </svg>\n",
              "      </button>\n",
              "      \n",
              "  <style>\n",
              "    .colab-df-container {\n",
              "      display:flex;\n",
              "      flex-wrap:wrap;\n",
              "      gap: 12px;\n",
              "    }\n",
              "\n",
              "    .colab-df-convert {\n",
              "      background-color: #E8F0FE;\n",
              "      border: none;\n",
              "      border-radius: 50%;\n",
              "      cursor: pointer;\n",
              "      display: none;\n",
              "      fill: #1967D2;\n",
              "      height: 32px;\n",
              "      padding: 0 0 0 0;\n",
              "      width: 32px;\n",
              "    }\n",
              "\n",
              "    .colab-df-convert:hover {\n",
              "      background-color: #E2EBFA;\n",
              "      box-shadow: 0px 1px 2px rgba(60, 64, 67, 0.3), 0px 1px 3px 1px rgba(60, 64, 67, 0.15);\n",
              "      fill: #174EA6;\n",
              "    }\n",
              "\n",
              "    [theme=dark] .colab-df-convert {\n",
              "      background-color: #3B4455;\n",
              "      fill: #D2E3FC;\n",
              "    }\n",
              "\n",
              "    [theme=dark] .colab-df-convert:hover {\n",
              "      background-color: #434B5C;\n",
              "      box-shadow: 0px 1px 3px 1px rgba(0, 0, 0, 0.15);\n",
              "      filter: drop-shadow(0px 1px 2px rgba(0, 0, 0, 0.3));\n",
              "      fill: #FFFFFF;\n",
              "    }\n",
              "  </style>\n",
              "\n",
              "      <script>\n",
              "        const buttonEl =\n",
              "          document.querySelector('#df-c2d89e9c-8a56-4577-8f80-8cfa55741c0d button.colab-df-convert');\n",
              "        buttonEl.style.display =\n",
              "          google.colab.kernel.accessAllowed ? 'block' : 'none';\n",
              "\n",
              "        async function convertToInteractive(key) {\n",
              "          const element = document.querySelector('#df-c2d89e9c-8a56-4577-8f80-8cfa55741c0d');\n",
              "          const dataTable =\n",
              "            await google.colab.kernel.invokeFunction('convertToInteractive',\n",
              "                                                     [key], {});\n",
              "          if (!dataTable) return;\n",
              "\n",
              "          const docLinkHtml = 'Like what you see? Visit the ' +\n",
              "            '<a target=\"_blank\" href=https://colab.research.google.com/notebooks/data_table.ipynb>data table notebook</a>'\n",
              "            + ' to learn more about interactive tables.';\n",
              "          element.innerHTML = '';\n",
              "          dataTable['output_type'] = 'display_data';\n",
              "          await google.colab.output.renderOutput(dataTable, element);\n",
              "          const docLink = document.createElement('div');\n",
              "          docLink.innerHTML = docLinkHtml;\n",
              "          element.appendChild(docLink);\n",
              "        }\n",
              "      </script>\n",
              "    </div>\n",
              "  </div>\n",
              "  "
            ]
          },
          "metadata": {},
          "execution_count": 51
        }
      ]
    },
    {
      "cell_type": "markdown",
      "source": [
        "My own example 9:"
      ],
      "metadata": {
        "id": "D5DTTbklwDUB"
      }
    },
    {
      "cell_type": "code",
      "source": [
        "A = np.array([[1, 2], [3, 4]])\n",
        "\n",
        "B = np.array([[5], [6]])\n",
        "\n",
        "# Use the dot product to calculate the matrix product of A and B\n",
        "C = np.dot(A, B)\n",
        "\n",
        "print(C)"
      ],
      "metadata": {
        "colab": {
          "base_uri": "https://localhost:8080/"
        },
        "outputId": "5979c9aa-c8c7-4277-bdf7-1c2ed3d2a6a3",
        "id": "_vU2GG1swDUB"
      },
      "execution_count": null,
      "outputs": [
        {
          "output_type": "stream",
          "name": "stdout",
          "text": [
            "[[17]\n",
            " [39]]\n"
          ]
        }
      ]
    },
    {
      "cell_type": "markdown",
      "source": [
        "My own example 10:"
      ],
      "metadata": {
        "id": "iKmx7lGiwDUB"
      }
    },
    {
      "cell_type": "code",
      "source": [
        "A = np.array([[1, 2, 3], [1, 5, 6], [7, 8, 9]])\n",
        "\n",
        "A_inv = np.linalg.inv(A)\n",
        "\n",
        "I = np.eye(3)\n",
        "\n",
        "A_Ainv = np.matmul(A, A_inv)\n",
        "\n",
        "assert np.allclose(A_Ainv, I)"
      ],
      "metadata": {
        "id": "Yat5siXQwDUB"
      },
      "execution_count": null,
      "outputs": []
    },
    {
      "cell_type": "markdown",
      "metadata": {
        "id": "okMYkecHwDUC"
      },
      "source": [
        "My own example 11:"
      ]
    },
    {
      "cell_type": "code",
      "execution_count": null,
      "metadata": {
        "colab": {
          "base_uri": "https://localhost:8080/"
        },
        "outputId": "55c32fa3-87c2-4dc0-fbeb-27e3ecb038e0",
        "id": "J7Mt2hUIwDUC"
      },
      "outputs": [
        {
          "output_type": "stream",
          "name": "stdout",
          "text": [
            "1\n",
            "3\n",
            "5\n",
            "7\n",
            "9\n"
          ]
        }
      ],
      "source": [
        "i = 0\n",
        "\n",
        "while i < len(numbers):\n",
        "    # If the current number is even, skip it\n",
        "    if numbers[i] % 2 == 0:\n",
        "        i += 1\n",
        "        continue\n",
        "    print(numbers[i])\n",
        "    i += 1"
      ]
    },
    {
      "cell_type": "markdown",
      "metadata": {
        "id": "RqNbySJuwDUC"
      },
      "source": [
        "My own example 12:"
      ]
    },
    {
      "cell_type": "code",
      "execution_count": null,
      "metadata": {
        "colab": {
          "base_uri": "https://localhost:8080/"
        },
        "outputId": "022c0471-51cb-4800-cba8-a9f90266f6b7",
        "id": "ucgVxgMDwDUC"
      },
      "outputs": [
        {
          "output_type": "execute_result",
          "data": {
            "text/plain": [
              "{3, 5, 7, 11, 13, 17, 19, 23, 29, 31}"
            ]
          },
          "metadata": {},
          "execution_count": 22
        }
      ],
      "source": [
        "prime_numbers = {2, 3, 5, 7, 11, 13, 17, 19, 23, 29, 31}\n",
        "prime_numbers.difference(evens)"
      ]
    },
    {
      "cell_type": "markdown",
      "metadata": {
        "id": "GO84RyUowDUC"
      },
      "source": [
        "My own example 13:"
      ]
    },
    {
      "cell_type": "code",
      "execution_count": null,
      "metadata": {
        "colab": {
          "base_uri": "https://localhost:8080/"
        },
        "outputId": "e46207d0-ee76-4f8d-b47c-498fde9a5329",
        "id": "firnp_sMwDUC"
      },
      "outputs": [
        {
          "output_type": "stream",
          "name": "stdout",
          "text": [
            "John: 90\n",
            "Alice: 85\n",
            "Bob: 70\n"
          ]
        }
      ],
      "source": [
        "students = {\"John\": 90, \"Alice\": 85, \"Bob\": 70}\n",
        "\n",
        "for k,v in students.items():\n",
        "  print(k + \": \" + str(v))"
      ]
    },
    {
      "cell_type": "markdown",
      "metadata": {
        "id": "JIjt_FkTwDUC"
      },
      "source": [
        "My own example 14:"
      ]
    },
    {
      "cell_type": "code",
      "execution_count": null,
      "metadata": {
        "colab": {
          "base_uri": "https://localhost:8080/"
        },
        "outputId": "d155781f-beee-4b26-8df7-b042025cecd0",
        "id": "vQc9O2nCwDUC"
      },
      "outputs": [
        {
          "output_type": "stream",
          "name": "stdout",
          "text": [
            "1\n",
            "2\n",
            "3\n",
            "4\n",
            "5\n"
          ]
        }
      ],
      "source": [
        "numbers = [1, 2, 3, 4, 5, 6, 7, 8, 9, 10]\n",
        "\n",
        "for num in numbers:\n",
        "    # Break out of the loop if we reach a number greater than 5\n",
        "    if num > 5:\n",
        "        break\n",
        "    print(num)"
      ]
    },
    {
      "cell_type": "markdown",
      "metadata": {
        "id": "kwDf-Bu0wDUD"
      },
      "source": [
        "My own example 15:"
      ]
    },
    {
      "cell_type": "code",
      "execution_count": null,
      "metadata": {
        "colab": {
          "base_uri": "https://localhost:8080/"
        },
        "outputId": "55c32fa3-87c2-4dc0-fbeb-27e3ecb038e0",
        "id": "Y-SHL3TiwDUD"
      },
      "outputs": [
        {
          "output_type": "stream",
          "name": "stdout",
          "text": [
            "1\n",
            "3\n",
            "5\n",
            "7\n",
            "9\n"
          ]
        }
      ],
      "source": [
        "i = 0\n",
        "\n",
        "while i < len(numbers):\n",
        "    # If the current number is even, skip it\n",
        "    if numbers[i] % 2 == 0:\n",
        "        i += 1\n",
        "        continue\n",
        "    print(numbers[i])\n",
        "    i += 1"
      ]
    },
    {
      "cell_type": "markdown",
      "source": [
        "My own example 16:"
      ],
      "metadata": {
        "id": "Xd1Sv0xxwDUD"
      }
    },
    {
      "cell_type": "code",
      "source": [
        "grades = {'Alice': 85, 'Bob': 92, 'Charlie': 78, 'David': 80}\n",
        "\n",
        "for name, grade in grades.items():\n",
        "    # If the grade is below 80, break out of the loop\n",
        "    if grade < 80:\n",
        "        print(name + ' has a failing grade')\n",
        "        break\n",
        "    print(name + ' has a passing grade')"
      ],
      "metadata": {
        "colab": {
          "base_uri": "https://localhost:8080/"
        },
        "outputId": "052faf8a-b26e-47d1-8643-a9d99612beb1",
        "id": "cFjG2nGfwDUD"
      },
      "execution_count": null,
      "outputs": [
        {
          "output_type": "stream",
          "name": "stdout",
          "text": [
            "Alice has a passing grade\n",
            "Bob has a passing grade\n",
            "Charlie has a failing grade\n"
          ]
        }
      ]
    },
    {
      "cell_type": "markdown",
      "metadata": {
        "id": "2AW-1R96wDUD"
      },
      "source": [
        "My own example 17:"
      ]
    },
    {
      "cell_type": "code",
      "execution_count": null,
      "metadata": {
        "colab": {
          "base_uri": "https://localhost:8080/",
          "height": 35
        },
        "outputId": "b08ff2c8-a778-4ffa-cee3-373796f109b2",
        "id": "4JL0e_BMwDUD"
      },
      "outputs": [
        {
          "output_type": "execute_result",
          "data": {
            "text/plain": [
              "'blue'"
            ],
            "application/vnd.google.colaboratory.intrinsic+json": {
              "type": "string"
            }
          },
          "metadata": {},
          "execution_count": 21
        }
      ],
      "source": [
        "colors = (\"red\", \"green\", \"blue\")\n",
        "colors[2]"
      ]
    },
    {
      "cell_type": "markdown",
      "metadata": {
        "id": "FqnhFsUkwDUE"
      },
      "source": [
        "My own example 18:"
      ]
    },
    {
      "cell_type": "code",
      "execution_count": null,
      "metadata": {
        "colab": {
          "base_uri": "https://localhost:8080/"
        },
        "outputId": "022c0471-51cb-4800-cba8-a9f90266f6b7",
        "id": "NLYxuAo8wDUE"
      },
      "outputs": [
        {
          "output_type": "execute_result",
          "data": {
            "text/plain": [
              "{3, 5, 7, 11, 13, 17, 19, 23, 29, 31}"
            ]
          },
          "metadata": {},
          "execution_count": 22
        }
      ],
      "source": [
        "prime_numbers = {2, 3, 5, 7, 11, 13, 17, 19, 23, 29, 31}\n",
        "prime_numbers.difference(evens)"
      ]
    },
    {
      "cell_type": "markdown",
      "metadata": {
        "id": "ZUlx27oKwDUE"
      },
      "source": [
        "My own example 19:"
      ]
    },
    {
      "cell_type": "code",
      "execution_count": null,
      "metadata": {
        "colab": {
          "base_uri": "https://localhost:8080/"
        },
        "outputId": "e46207d0-ee76-4f8d-b47c-498fde9a5329",
        "id": "U32DVrUawDUE"
      },
      "outputs": [
        {
          "output_type": "stream",
          "name": "stdout",
          "text": [
            "John: 90\n",
            "Alice: 85\n",
            "Bob: 70\n"
          ]
        }
      ],
      "source": [
        "students = {\"John\": 90, \"Alice\": 85, \"Bob\": 70}\n",
        "\n",
        "for k,v in students.items():\n",
        "  print(k + \": \" + str(v))"
      ]
    },
    {
      "cell_type": "markdown",
      "metadata": {
        "id": "jOyDFuEewDUE"
      },
      "source": [
        "My own example 20:"
      ]
    },
    {
      "cell_type": "code",
      "execution_count": null,
      "metadata": {
        "colab": {
          "base_uri": "https://localhost:8080/"
        },
        "outputId": "d155781f-beee-4b26-8df7-b042025cecd0",
        "id": "GY18QxpCwDUE"
      },
      "outputs": [
        {
          "output_type": "stream",
          "name": "stdout",
          "text": [
            "1\n",
            "2\n",
            "3\n",
            "4\n",
            "5\n"
          ]
        }
      ],
      "source": [
        "numbers = [1, 2, 3, 4, 5, 6, 7, 8, 9, 10]\n",
        "\n",
        "for num in numbers:\n",
        "    # Break out of the loop if we reach a number greater than 5\n",
        "    if num > 5:\n",
        "        break\n",
        "    print(num)"
      ]
    },
    {
      "cell_type": "markdown",
      "source": [
        "## \"Update version\""
      ],
      "metadata": {
        "id": "l16TGDTpkPR-"
      }
    },
    {
      "cell_type": "markdown",
      "source": [
        "My own example 1:"
      ],
      "metadata": {
        "id": "SPb61X7awd_6"
      }
    },
    {
      "cell_type": "code",
      "source": [
        "tesla = yf.Ticker(\"TSLA\")\n",
        "tesla_df = tesla.history(period=\"max\")\n",
        "\n",
        "# Linear regression\n",
        "coefficients = np.polyfit(np.arange(len(tesla_df)), tesla_df[\"Close\"], 1)\n",
        "p = np.poly1d(coefficients)\n",
        "plt.plot(tesla_df.index, tesla_df[\"Close\"], 'o', markersize=1)\n",
        "plt.plot(tesla_df.index, p(np.arange(len(tesla_df))), \"r--\")\n",
        "plt.xlabel(\"Date\")\n",
        "plt.ylabel(\"Closing Price\")\n",
        "plt.title(\"Tesla Stock Price with Linear Regression\")\n",
        "plt.show()"
      ],
      "metadata": {
        "colab": {
          "base_uri": "https://localhost:8080/",
          "height": 295
        },
        "id": "fCIzf82BQjcZ",
        "outputId": "0b85d4bd-f41a-4211-bcdd-3e432cabc67b"
      },
      "execution_count": null,
      "outputs": [
        {
          "output_type": "display_data",
          "data": {
            "text/plain": [
              "<Figure size 432x288 with 1 Axes>"
            ],
            "image/png": "[encoded data removed]"
          },
          "metadata": {
            "needs_background": "light"
          }
        }
      ]
    },
    {
      "cell_type": "markdown",
      "source": [
        "My own example 2:"
      ],
      "metadata": {
        "id": "qLkuhPQnxd7l"
      }
    },
    {
      "cell_type": "code",
      "source": [
        "import yfinance as yf\n",
        "import pandas as pd\n",
        "import numpy as np\n",
        "import matplotlib.pyplot as plt\n",
        "\n",
        "# Tesla\n",
        "tesla = yf.Ticker(\"TSLA\")\n",
        "tesla_df = tesla.history(period=\"max\")\n",
        "\n",
        "plt.plot(tesla_df.index, tesla_df[\"Close\"], 'o', markersize=1)\n",
        "plt.xlabel(\"Date\")\n",
        "plt.ylabel(\"Closing Price\")\n",
        "plt.title(\"Tesla Stock Price\")\n",
        "plt.show()"
      ],
      "metadata": {
        "colab": {
          "base_uri": "https://localhost:8080/",
          "height": 295
        },
        "outputId": "af1ce2d5-a361-43e1-a5d1-9c4228b4ca1f",
        "id": "m31t4fIKxd7l"
      },
      "execution_count": null,
      "outputs": [
        {
          "output_type": "display_data",
          "data": {
            "text/plain": [
              "<Figure size 432x288 with 1 Axes>"
            ],
            "image/png": "[encoded data removed]"
          },
          "metadata": {
            "needs_background": "light"
          }
        }
      ]
    },
    {
      "cell_type": "markdown",
      "source": [
        "My own example 3:"
      ],
      "metadata": {
        "id": "oCEBNCIAxd7m"
      }
    },
    {
      "cell_type": "code",
      "source": [
        "# Tesla and Apple\n",
        "tesla = yf.Ticker(\"TSLA\")\n",
        "apple = yf.Ticker(\"AAPL\")\n",
        "tesla_df = tesla.history(period=\"max\")\n",
        "apple_df = apple.history(period=\"max\")\n",
        "\n",
        "plt.plot(tesla_df.index, tesla_df[\"Close\"], label=\"Tesla\")\n",
        "plt.plot(apple_df.index, apple_df[\"Close\"], label=\"Apple\")\n",
        "plt.xlabel(\"Date\")\n",
        "plt.ylabel(\"Closing Price\")\n",
        "plt.title(\"Tesla and Apple Stock Prices\")\n",
        "plt.legend()\n",
        "plt.show()"
      ],
      "metadata": {
        "colab": {
          "base_uri": "https://localhost:8080/",
          "height": 295
        },
        "outputId": "5d56c98e-6cbd-40f8-8bc7-6dcec7ea3a70",
        "id": "djQm2Gesxd7m"
      },
      "execution_count": null,
      "outputs": [
        {
          "output_type": "display_data",
          "data": {
            "text/plain": [
              "<Figure size 432x288 with 1 Axes>"
            ],
            "image/png": "[encoded data removed]"
          },
          "metadata": {
            "needs_background": "light"
          }
        }
      ]
    },
    {
      "cell_type": "markdown",
      "source": [
        "My own example 4:"
      ],
      "metadata": {
        "id": "JxIBvGHOxd7m"
      }
    },
    {
      "cell_type": "code",
      "source": [
        "My own example 4"
      ],
      "metadata": {
        "id": "pVDhZr9axd7m"
      },
      "execution_count": null,
      "outputs": []
    },
    {
      "cell_type": "markdown",
      "source": [
        "My own example 5:"
      ],
      "metadata": {
        "id": "9CgxBpFGxd7m"
      }
    },
    {
      "cell_type": "code",
      "source": [
        "url = 'https://jsonplaceholder.typicode.com/posts'\n",
        "df = pd.read_json(url)\n",
        "\n",
        "x = df['id']\n",
        "y = df['userId']\n",
        "coefficients = np.polyfit(x, y, 1)\n",
        "p = np.poly1d(coefficients)\n",
        "\n",
        "plt.scatter(x, y)\n",
        "plt.plot(x, p(x), color='red')\n",
        "plt.show()"
      ],
      "metadata": {
        "colab": {
          "base_uri": "https://localhost:8080/",
          "height": 265
        },
        "outputId": "0183ce82-94e9-4c0b-cfac-6d1a69d52626",
        "id": "yYrwKLn8xd7n"
      },
      "execution_count": null,
      "outputs": [
        {
          "output_type": "display_data",
          "data": {
            "text/plain": [
              "<Figure size 432x288 with 1 Axes>"
            ],
            "image/png": "[encoded data removed]"
          },
          "metadata": {
            "needs_background": "light"
          }
        }
      ]
    },
    {
      "cell_type": "markdown",
      "source": [
        "My own example 6:"
      ],
      "metadata": {
        "id": "pWkxL1xLxd7n"
      }
    },
    {
      "cell_type": "code",
      "source": [
        "dates = pd.date_range('20220101', periods=6)\n",
        "\n",
        "df = pd.DataFrame({'data': [11, 22, 33, 44, 55, 66]}, index=dates)\n",
        "\n",
        "print(df)"
      ],
      "metadata": {
        "colab": {
          "base_uri": "https://localhost:8080/"
        },
        "outputId": "a5c62e9c-2890-4b44-a49d-5820fb0b5585",
        "id": "URnEHwt5xd7n"
      },
      "execution_count": null,
      "outputs": [
        {
          "output_type": "stream",
          "name": "stdout",
          "text": [
            "            data\n",
            "2022-01-01    11\n",
            "2022-01-02    22\n",
            "2022-01-03    33\n",
            "2022-01-04    44\n",
            "2022-01-05    55\n",
            "2022-01-06    66\n"
          ]
        }
      ]
    },
    {
      "cell_type": "markdown",
      "source": [
        "My own example 7:"
      ],
      "metadata": {
        "id": "9PWGOXV5xd7n"
      }
    },
    {
      "cell_type": "code",
      "source": [
        "df = pd.DataFrame({'fecha': ['2022-02-23', '2022-02-24', '2022-02-25'],\n",
        "                   'valor': [10, 20, 30]})\n",
        "\n",
        "print('Dataframe original:')\n",
        "df.head()"
      ],
      "metadata": {
        "colab": {
          "base_uri": "https://localhost:8080/",
          "height": 161
        },
        "outputId": "9e17ef37-f57e-481f-bb6f-2fff490c4c21",
        "id": "pMGxUWy0xd7n"
      },
      "execution_count": null,
      "outputs": [
        {
          "output_type": "stream",
          "name": "stdout",
          "text": [
            "Dataframe original:\n"
          ]
        },
        {
          "output_type": "execute_result",
          "data": {
            "text/plain": [
              "        fecha  valor\n",
              "0  2022-02-23     10\n",
              "1  2022-02-24     20\n",
              "2  2022-02-25     30"
            ],
            "text/html": [
              "\n",
              "  <div id=\"df-002ec302-62aa-4d4b-a58f-67f45a7161b9\">\n",
              "    <div class=\"colab-df-container\">\n",
              "      <div>\n",
              "<style scoped>\n",
              "    .dataframe tbody tr th:only-of-type {\n",
              "        vertical-align: middle;\n",
              "    }\n",
              "\n",
              "    .dataframe tbody tr th {\n",
              "        vertical-align: top;\n",
              "    }\n",
              "\n",
              "    .dataframe thead th {\n",
              "        text-align: right;\n",
              "    }\n",
              "</style>\n",
              "<table border=\"1\" class=\"dataframe\">\n",
              "  <thead>\n",
              "    <tr style=\"text-align: right;\">\n",
              "      <th></th>\n",
              "      <th>fecha</th>\n",
              "      <th>valor</th>\n",
              "    </tr>\n",
              "  </thead>\n",
              "  <tbody>\n",
              "    <tr>\n",
              "      <th>0</th>\n",
              "      <td>2022-02-23</td>\n",
              "      <td>10</td>\n",
              "    </tr>\n",
              "    <tr>\n",
              "      <th>1</th>\n",
              "      <td>2022-02-24</td>\n",
              "      <td>20</td>\n",
              "    </tr>\n",
              "    <tr>\n",
              "      <th>2</th>\n",
              "      <td>2022-02-25</td>\n",
              "      <td>30</td>\n",
              "    </tr>\n",
              "  </tbody>\n",
              "</table>\n",
              "</div>\n",
              "      <button class=\"colab-df-convert\" onclick=\"convertToInteractive('df-002ec302-62aa-4d4b-a58f-67f45a7161b9')\"\n",
              "              title=\"Convert this dataframe to an interactive table.\"\n",
              "              style=\"display:none;\">\n",
              "        \n",
              "  <svg xmlns=\"http://www.w3.org/2000/svg\" height=\"24px\"viewBox=\"0 0 24 24\"\n",
              "       width=\"24px\">\n",
              "    <path d=\"M0 0h24v24H0V0z\" fill=\"none\"/>\n",
              "    <path d=\"M18.56 5.44l.94 2.06.94-2.06 2.06-.94-2.06-.94-.94-2.06-.94 2.06-2.06.94zm-11 1L8.5 8.5l.94-2.06 2.06-.94-2.06-.94L8.5 2.5l-.94 2.06-2.06.94zm10 10l.94 2.06.94-2.06 2.06-.94-2.06-.94-.94-2.06-.94 2.06-2.06.94z\"/><path d=\"M17.41 7.96l-1.37-1.37c-.4-.4-.92-.59-1.43-.59-.52 0-1.04.2-1.43.59L10.3 9.45l-7.72 7.72c-.78.78-.78 2.05 0 2.83L4 21.41c.39.39.9.59 1.41.59.51 0 1.02-.2 1.41-.59l7.78-7.78 2.81-2.81c.8-.78.8-2.07 0-2.86zM5.41 20L4 18.59l7.72-7.72 1.47 1.35L5.41 20z\"/>\n",
              "  </svg>\n",
              "      </button>\n",
              "      \n",
              "  <style>\n",
              "    .colab-df-container {\n",
              "      display:flex;\n",
              "      flex-wrap:wrap;\n",
              "      gap: 12px;\n",
              "    }\n",
              "\n",
              "    .colab-df-convert {\n",
              "      background-color: #E8F0FE;\n",
              "      border: none;\n",
              "      border-radius: 50%;\n",
              "      cursor: pointer;\n",
              "      display: none;\n",
              "      fill: #1967D2;\n",
              "      height: 32px;\n",
              "      padding: 0 0 0 0;\n",
              "      width: 32px;\n",
              "    }\n",
              "\n",
              "    .colab-df-convert:hover {\n",
              "      background-color: #E2EBFA;\n",
              "      box-shadow: 0px 1px 2px rgba(60, 64, 67, 0.3), 0px 1px 3px 1px rgba(60, 64, 67, 0.15);\n",
              "      fill: #174EA6;\n",
              "    }\n",
              "\n",
              "    [theme=dark] .colab-df-convert {\n",
              "      background-color: #3B4455;\n",
              "      fill: #D2E3FC;\n",
              "    }\n",
              "\n",
              "    [theme=dark] .colab-df-convert:hover {\n",
              "      background-color: #434B5C;\n",
              "      box-shadow: 0px 1px 3px 1px rgba(0, 0, 0, 0.15);\n",
              "      filter: drop-shadow(0px 1px 2px rgba(0, 0, 0, 0.3));\n",
              "      fill: #FFFFFF;\n",
              "    }\n",
              "  </style>\n",
              "\n",
              "      <script>\n",
              "        const buttonEl =\n",
              "          document.querySelector('#df-002ec302-62aa-4d4b-a58f-67f45a7161b9 button.colab-df-convert');\n",
              "        buttonEl.style.display =\n",
              "          google.colab.kernel.accessAllowed ? 'block' : 'none';\n",
              "\n",
              "        async function convertToInteractive(key) {\n",
              "          const element = document.querySelector('#df-002ec302-62aa-4d4b-a58f-67f45a7161b9');\n",
              "          const dataTable =\n",
              "            await google.colab.kernel.invokeFunction('convertToInteractive',\n",
              "                                                     [key], {});\n",
              "          if (!dataTable) return;\n",
              "\n",
              "          const docLinkHtml = 'Like what you see? Visit the ' +\n",
              "            '<a target=\"_blank\" href=https://colab.research.google.com/notebooks/data_table.ipynb>data table notebook</a>'\n",
              "            + ' to learn more about interactive tables.';\n",
              "          element.innerHTML = '';\n",
              "          dataTable['output_type'] = 'display_data';\n",
              "          await google.colab.output.renderOutput(dataTable, element);\n",
              "          const docLink = document.createElement('div');\n",
              "          docLink.innerHTML = docLinkHtml;\n",
              "          element.appendChild(docLink);\n",
              "        }\n",
              "      </script>\n",
              "    </div>\n",
              "  </div>\n",
              "  "
            ]
          },
          "metadata": {},
          "execution_count": 50
        }
      ]
    },
    {
      "cell_type": "markdown",
      "source": [
        "My own example 8:"
      ],
      "metadata": {
        "id": "fcaAXF6Oxd7n"
      }
    },
    {
      "cell_type": "code",
      "source": [
        "df['fecha'] = pd.to_datetime(df['fecha'])\n",
        "\n",
        "df['anio'] = df['fecha'].dt.year\n",
        "df['mes'] = df['fecha'].dt.month\n",
        "df['dia'] = df['fecha'].dt.day\n",
        "\n",
        "print('Dataframe with dd-mm--yy:')\n",
        "df.head()"
      ],
      "metadata": {
        "colab": {
          "base_uri": "https://localhost:8080/",
          "height": 161
        },
        "outputId": "0af7ced9-f195-4489-bace-827ac6d2677e",
        "id": "LRd-O25bxd7n"
      },
      "execution_count": null,
      "outputs": [
        {
          "output_type": "stream",
          "name": "stdout",
          "text": [
            "Dataframe with dd-mm--yy:\n"
          ]
        },
        {
          "output_type": "execute_result",
          "data": {
            "text/plain": [
              "       fecha  valor  anio  mes  dia\n",
              "0 2022-02-23     10  2022    2   23\n",
              "1 2022-02-24     20  2022    2   24\n",
              "2 2022-02-25     30  2022    2   25"
            ],
            "text/html": [
              "\n",
              "  <div id=\"df-c2d89e9c-8a56-4577-8f80-8cfa55741c0d\">\n",
              "    <div class=\"colab-df-container\">\n",
              "      <div>\n",
              "<style scoped>\n",
              "    .dataframe tbody tr th:only-of-type {\n",
              "        vertical-align: middle;\n",
              "    }\n",
              "\n",
              "    .dataframe tbody tr th {\n",
              "        vertical-align: top;\n",
              "    }\n",
              "\n",
              "    .dataframe thead th {\n",
              "        text-align: right;\n",
              "    }\n",
              "</style>\n",
              "<table border=\"1\" class=\"dataframe\">\n",
              "  <thead>\n",
              "    <tr style=\"text-align: right;\">\n",
              "      <th></th>\n",
              "      <th>fecha</th>\n",
              "      <th>valor</th>\n",
              "      <th>anio</th>\n",
              "      <th>mes</th>\n",
              "      <th>dia</th>\n",
              "    </tr>\n",
              "  </thead>\n",
              "  <tbody>\n",
              "    <tr>\n",
              "      <th>0</th>\n",
              "      <td>2022-02-23</td>\n",
              "      <td>10</td>\n",
              "      <td>2022</td>\n",
              "      <td>2</td>\n",
              "      <td>23</td>\n",
              "    </tr>\n",
              "    <tr>\n",
              "      <th>1</th>\n",
              "      <td>2022-02-24</td>\n",
              "      <td>20</td>\n",
              "      <td>2022</td>\n",
              "      <td>2</td>\n",
              "      <td>24</td>\n",
              "    </tr>\n",
              "    <tr>\n",
              "      <th>2</th>\n",
              "      <td>2022-02-25</td>\n",
              "      <td>30</td>\n",
              "      <td>2022</td>\n",
              "      <td>2</td>\n",
              "      <td>25</td>\n",
              "    </tr>\n",
              "  </tbody>\n",
              "</table>\n",
              "</div>\n",
              "      <button class=\"colab-df-convert\" onclick=\"convertToInteractive('df-c2d89e9c-8a56-4577-8f80-8cfa55741c0d')\"\n",
              "              title=\"Convert this dataframe to an interactive table.\"\n",
              "              style=\"display:none;\">\n",
              "        \n",
              "  <svg xmlns=\"http://www.w3.org/2000/svg\" height=\"24px\"viewBox=\"0 0 24 24\"\n",
              "       width=\"24px\">\n",
              "    <path d=\"M0 0h24v24H0V0z\" fill=\"none\"/>\n",
              "    <path d=\"M18.56 5.44l.94 2.06.94-2.06 2.06-.94-2.06-.94-.94-2.06-.94 2.06-2.06.94zm-11 1L8.5 8.5l.94-2.06 2.06-.94-2.06-.94L8.5 2.5l-.94 2.06-2.06.94zm10 10l.94 2.06.94-2.06 2.06-.94-2.06-.94-.94-2.06-.94 2.06-2.06.94z\"/><path d=\"M17.41 7.96l-1.37-1.37c-.4-.4-.92-.59-1.43-.59-.52 0-1.04.2-1.43.59L10.3 9.45l-7.72 7.72c-.78.78-.78 2.05 0 2.83L4 21.41c.39.39.9.59 1.41.59.51 0 1.02-.2 1.41-.59l7.78-7.78 2.81-2.81c.8-.78.8-2.07 0-2.86zM5.41 20L4 18.59l7.72-7.72 1.47 1.35L5.41 20z\"/>\n",
              "  </svg>\n",
              "      </button>\n",
              "      \n",
              "  <style>\n",
              "    .colab-df-container {\n",
              "      display:flex;\n",
              "      flex-wrap:wrap;\n",
              "      gap: 12px;\n",
              "    }\n",
              "\n",
              "    .colab-df-convert {\n",
              "      background-color: #E8F0FE;\n",
              "      border: none;\n",
              "      border-radius: 50%;\n",
              "      cursor: pointer;\n",
              "      display: none;\n",
              "      fill: #1967D2;\n",
              "      height: 32px;\n",
              "      padding: 0 0 0 0;\n",
              "      width: 32px;\n",
              "    }\n",
              "\n",
              "    .colab-df-convert:hover {\n",
              "      background-color: #E2EBFA;\n",
              "      box-shadow: 0px 1px 2px rgba(60, 64, 67, 0.3), 0px 1px 3px 1px rgba(60, 64, 67, 0.15);\n",
              "      fill: #174EA6;\n",
              "    }\n",
              "\n",
              "    [theme=dark] .colab-df-convert {\n",
              "      background-color: #3B4455;\n",
              "      fill: #D2E3FC;\n",
              "    }\n",
              "\n",
              "    [theme=dark] .colab-df-convert:hover {\n",
              "      background-color: #434B5C;\n",
              "      box-shadow: 0px 1px 3px 1px rgba(0, 0, 0, 0.15);\n",
              "      filter: drop-shadow(0px 1px 2px rgba(0, 0, 0, 0.3));\n",
              "      fill: #FFFFFF;\n",
              "    }\n",
              "  </style>\n",
              "\n",
              "      <script>\n",
              "        const buttonEl =\n",
              "          document.querySelector('#df-c2d89e9c-8a56-4577-8f80-8cfa55741c0d button.colab-df-convert');\n",
              "        buttonEl.style.display =\n",
              "          google.colab.kernel.accessAllowed ? 'block' : 'none';\n",
              "\n",
              "        async function convertToInteractive(key) {\n",
              "          const element = document.querySelector('#df-c2d89e9c-8a56-4577-8f80-8cfa55741c0d');\n",
              "          const dataTable =\n",
              "            await google.colab.kernel.invokeFunction('convertToInteractive',\n",
              "                                                     [key], {});\n",
              "          if (!dataTable) return;\n",
              "\n",
              "          const docLinkHtml = 'Like what you see? Visit the ' +\n",
              "            '<a target=\"_blank\" href=https://colab.research.google.com/notebooks/data_table.ipynb>data table notebook</a>'\n",
              "            + ' to learn more about interactive tables.';\n",
              "          element.innerHTML = '';\n",
              "          dataTable['output_type'] = 'display_data';\n",
              "          await google.colab.output.renderOutput(dataTable, element);\n",
              "          const docLink = document.createElement('div');\n",
              "          docLink.innerHTML = docLinkHtml;\n",
              "          element.appendChild(docLink);\n",
              "        }\n",
              "      </script>\n",
              "    </div>\n",
              "  </div>\n",
              "  "
            ]
          },
          "metadata": {},
          "execution_count": 51
        }
      ]
    },
    {
      "cell_type": "markdown",
      "source": [
        "My own example 9:"
      ],
      "metadata": {
        "id": "dFDHcR80xd7o"
      }
    },
    {
      "cell_type": "code",
      "source": [
        "A = np.array([[1, 2], [3, 4]])\n",
        "\n",
        "B = np.array([[5], [6]])\n",
        "\n",
        "# Use the dot product to calculate the matrix product of A and B\n",
        "C = np.dot(A, B)\n",
        "\n",
        "print(C)"
      ],
      "metadata": {
        "colab": {
          "base_uri": "https://localhost:8080/"
        },
        "outputId": "5979c9aa-c8c7-4277-bdf7-1c2ed3d2a6a3",
        "id": "gGqnpr0uxd7o"
      },
      "execution_count": null,
      "outputs": [
        {
          "output_type": "stream",
          "name": "stdout",
          "text": [
            "[[17]\n",
            " [39]]\n"
          ]
        }
      ]
    },
    {
      "cell_type": "markdown",
      "source": [
        "My own example 10:"
      ],
      "metadata": {
        "id": "01RltAwmxd7o"
      }
    },
    {
      "cell_type": "code",
      "source": [
        "A = np.array([[1, 2, 3], [1, 5, 6], [7, 8, 9]])\n",
        "\n",
        "A_inv = np.linalg.inv(A)\n",
        "\n",
        "I = np.eye(3)\n",
        "\n",
        "A_Ainv = np.matmul(A, A_inv)\n",
        "\n",
        "assert np.allclose(A_Ainv, I)"
      ],
      "metadata": {
        "id": "aS_94gcjxd7o"
      },
      "execution_count": null,
      "outputs": []
    },
    {
      "cell_type": "markdown",
      "metadata": {
        "id": "LQnv_p8vxd7o"
      },
      "source": [
        "My own example 11:"
      ]
    },
    {
      "cell_type": "code",
      "execution_count": null,
      "metadata": {
        "colab": {
          "base_uri": "https://localhost:8080/"
        },
        "outputId": "55c32fa3-87c2-4dc0-fbeb-27e3ecb038e0",
        "id": "cMMH7HnWxd7o"
      },
      "outputs": [
        {
          "output_type": "stream",
          "name": "stdout",
          "text": [
            "1\n",
            "3\n",
            "5\n",
            "7\n",
            "9\n"
          ]
        }
      ],
      "source": [
        "i = 0\n",
        "\n",
        "while i < len(numbers):\n",
        "    # If the current number is even, skip it\n",
        "    if numbers[i] % 2 == 0:\n",
        "        i += 1\n",
        "        continue\n",
        "    print(numbers[i])\n",
        "    i += 1"
      ]
    },
    {
      "cell_type": "markdown",
      "metadata": {
        "id": "w9tigs4Hxd7o"
      },
      "source": [
        "My own example 12:"
      ]
    },
    {
      "cell_type": "code",
      "execution_count": null,
      "metadata": {
        "colab": {
          "base_uri": "https://localhost:8080/"
        },
        "outputId": "022c0471-51cb-4800-cba8-a9f90266f6b7",
        "id": "O6DNOrCpxd7o"
      },
      "outputs": [
        {
          "output_type": "execute_result",
          "data": {
            "text/plain": [
              "{3, 5, 7, 11, 13, 17, 19, 23, 29, 31}"
            ]
          },
          "metadata": {},
          "execution_count": 22
        }
      ],
      "source": [
        "prime_numbers = {2, 3, 5, 7, 11, 13, 17, 19, 23, 29, 31}\n",
        "prime_numbers.difference(evens)"
      ]
    },
    {
      "cell_type": "markdown",
      "metadata": {
        "id": "5qMrZABoxd7p"
      },
      "source": [
        "My own example 13:"
      ]
    },
    {
      "cell_type": "code",
      "execution_count": null,
      "metadata": {
        "colab": {
          "base_uri": "https://localhost:8080/"
        },
        "outputId": "e46207d0-ee76-4f8d-b47c-498fde9a5329",
        "id": "YnxBzrNsxd7p"
      },
      "outputs": [
        {
          "output_type": "stream",
          "name": "stdout",
          "text": [
            "John: 90\n",
            "Alice: 85\n",
            "Bob: 70\n"
          ]
        }
      ],
      "source": [
        "students = {\"John\": 90, \"Alice\": 85, \"Bob\": 70}\n",
        "\n",
        "for k,v in students.items():\n",
        "  print(k + \": \" + str(v))"
      ]
    },
    {
      "cell_type": "markdown",
      "metadata": {
        "id": "XqNenWv9xd7p"
      },
      "source": [
        "My own example 14:"
      ]
    },
    {
      "cell_type": "code",
      "execution_count": null,
      "metadata": {
        "colab": {
          "base_uri": "https://localhost:8080/"
        },
        "outputId": "d155781f-beee-4b26-8df7-b042025cecd0",
        "id": "fMUaT6z6xd7p"
      },
      "outputs": [
        {
          "output_type": "stream",
          "name": "stdout",
          "text": [
            "1\n",
            "2\n",
            "3\n",
            "4\n",
            "5\n"
          ]
        }
      ],
      "source": [
        "numbers = [1, 2, 3, 4, 5, 6, 7, 8, 9, 10]\n",
        "\n",
        "for num in numbers:\n",
        "    # Break out of the loop if we reach a number greater than 5\n",
        "    if num > 5:\n",
        "        break\n",
        "    print(num)"
      ]
    },
    {
      "cell_type": "markdown",
      "metadata": {
        "id": "ogAEzzoAxd7p"
      },
      "source": [
        "My own example 15:"
      ]
    },
    {
      "cell_type": "code",
      "execution_count": null,
      "metadata": {
        "colab": {
          "base_uri": "https://localhost:8080/"
        },
        "outputId": "55c32fa3-87c2-4dc0-fbeb-27e3ecb038e0",
        "id": "TMRRt658xd7p"
      },
      "outputs": [
        {
          "output_type": "stream",
          "name": "stdout",
          "text": [
            "1\n",
            "3\n",
            "5\n",
            "7\n",
            "9\n"
          ]
        }
      ],
      "source": [
        "i = 0\n",
        "\n",
        "while i < len(numbers):\n",
        "    # If the current number is even, skip it\n",
        "    if numbers[i] % 2 == 0:\n",
        "        i += 1\n",
        "        continue\n",
        "    print(numbers[i])\n",
        "    i += 1"
      ]
    },
    {
      "cell_type": "markdown",
      "source": [
        "My own example 16:"
      ],
      "metadata": {
        "id": "eErmRc0Qxd7p"
      }
    },
    {
      "cell_type": "code",
      "source": [
        "grades = {'Alice': 85, 'Bob': 92, 'Charlie': 78, 'David': 80}\n",
        "\n",
        "for name, grade in grades.items():\n",
        "    # If the grade is below 80, break out of the loop\n",
        "    if grade < 80:\n",
        "        print(name + ' has a failing grade')\n",
        "        break\n",
        "    print(name + ' has a passing grade')"
      ],
      "metadata": {
        "colab": {
          "base_uri": "https://localhost:8080/"
        },
        "outputId": "052faf8a-b26e-47d1-8643-a9d99612beb1",
        "id": "oTSh871Zxd7p"
      },
      "execution_count": null,
      "outputs": [
        {
          "output_type": "stream",
          "name": "stdout",
          "text": [
            "Alice has a passing grade\n",
            "Bob has a passing grade\n",
            "Charlie has a failing grade\n"
          ]
        }
      ]
    },
    {
      "cell_type": "markdown",
      "metadata": {
        "id": "apaWjq3Fxd7q"
      },
      "source": [
        "My own example 17:"
      ]
    },
    {
      "cell_type": "code",
      "execution_count": null,
      "metadata": {
        "colab": {
          "base_uri": "https://localhost:8080/",
          "height": 35
        },
        "outputId": "b08ff2c8-a778-4ffa-cee3-373796f109b2",
        "id": "t6lCEegixd7q"
      },
      "outputs": [
        {
          "output_type": "execute_result",
          "data": {
            "text/plain": [
              "'blue'"
            ],
            "application/vnd.google.colaboratory.intrinsic+json": {
              "type": "string"
            }
          },
          "metadata": {},
          "execution_count": 21
        }
      ],
      "source": [
        "colors = (\"red\", \"green\", \"blue\")\n",
        "colors[2]"
      ]
    },
    {
      "cell_type": "markdown",
      "metadata": {
        "id": "5ha2HbJRxd7q"
      },
      "source": [
        "My own example 18:"
      ]
    },
    {
      "cell_type": "code",
      "execution_count": null,
      "metadata": {
        "colab": {
          "base_uri": "https://localhost:8080/"
        },
        "outputId": "022c0471-51cb-4800-cba8-a9f90266f6b7",
        "id": "yeB6u8_wxd7q"
      },
      "outputs": [
        {
          "output_type": "execute_result",
          "data": {
            "text/plain": [
              "{3, 5, 7, 11, 13, 17, 19, 23, 29, 31}"
            ]
          },
          "metadata": {},
          "execution_count": 22
        }
      ],
      "source": [
        "prime_numbers = {2, 3, 5, 7, 11, 13, 17, 19, 23, 29, 31}\n",
        "prime_numbers.difference(evens)"
      ]
    },
    {
      "cell_type": "markdown",
      "metadata": {
        "id": "wfh9kB5Mxd7q"
      },
      "source": [
        "My own example 19:"
      ]
    },
    {
      "cell_type": "code",
      "execution_count": null,
      "metadata": {
        "colab": {
          "base_uri": "https://localhost:8080/"
        },
        "outputId": "e46207d0-ee76-4f8d-b47c-498fde9a5329",
        "id": "cCjtLuFOxd7q"
      },
      "outputs": [
        {
          "output_type": "stream",
          "name": "stdout",
          "text": [
            "John: 90\n",
            "Alice: 85\n",
            "Bob: 70\n"
          ]
        }
      ],
      "source": [
        "students = {\"John\": 90, \"Alice\": 85, \"Bob\": 70}\n",
        "\n",
        "for k,v in students.items():\n",
        "  print(k + \": \" + str(v))"
      ]
    },
    {
      "cell_type": "markdown",
      "metadata": {
        "id": "ClbDQ2oExd7q"
      },
      "source": [
        "My own example 20:"
      ]
    },
    {
      "cell_type": "code",
      "execution_count": null,
      "metadata": {
        "colab": {
          "base_uri": "https://localhost:8080/"
        },
        "outputId": "d155781f-beee-4b26-8df7-b042025cecd0",
        "id": "zEFTJg5Axd7q"
      },
      "outputs": [
        {
          "output_type": "stream",
          "name": "stdout",
          "text": [
            "1\n",
            "2\n",
            "3\n",
            "4\n",
            "5\n"
          ]
        }
      ],
      "source": [
        "numbers = [1, 2, 3, 4, 5, 6, 7, 8, 9, 10]\n",
        "\n",
        "for num in numbers:\n",
        "    # Break out of the loop if we reach a number greater than 5\n",
        "    if num > 5:\n",
        "        break\n",
        "    print(num)"
      ]
    },
    {
      "cell_type": "markdown",
      "source": [
        "## Plotting Data"
      ],
      "metadata": {
        "id": "tGS5d2Zljn9I"
      }
    },
    {
      "cell_type": "markdown",
      "source": [
        "My own example 1:"
      ],
      "metadata": {
        "id": "moogSX9Dx_4R"
      }
    },
    {
      "cell_type": "code",
      "source": [
        "tesla = yf.Ticker(\"TSLA\")\n",
        "tesla_df = tesla.history(period=\"max\")\n",
        "\n",
        "tesla_df[\"Daily Return\"] = tesla_df[\"Close\"].pct_change()\n",
        "\n",
        "plt.hist(tesla_df[\"Daily Return\"].dropna(), bins=50)\n",
        "plt.xlabel(\"Daily Return\")\n",
        "plt.ylabel(\"Frequency\")\n",
        "plt.title(\"Tesla Daily Return Histogram\")\n",
        "plt.show()"
      ],
      "metadata": {
        "colab": {
          "base_uri": "https://localhost:8080/",
          "height": 295
        },
        "id": "mIRIA4IaQjoZ",
        "outputId": "85844220-2b7b-45aa-b919-60e6daf277dd"
      },
      "execution_count": null,
      "outputs": [
        {
          "output_type": "display_data",
          "data": {
            "text/plain": [
              "<Figure size 432x288 with 1 Axes>"
            ],
            "image/png": "[encoded data removed]"
          },
          "metadata": {
            "needs_background": "light"
          }
        }
      ]
    },
    {
      "cell_type": "markdown",
      "source": [
        "My own example 2:"
      ],
      "metadata": {
        "id": "g5dm_YBnQjvK"
      }
    },
    {
      "cell_type": "code",
      "source": [
        "tesla_df = tesla.history(period=\"max\")\n",
        "apple_df = apple.history"
      ],
      "metadata": {
        "id": "Rtg6MnKbQj04"
      },
      "execution_count": null,
      "outputs": []
    },
    {
      "cell_type": "markdown",
      "source": [
        "My own example 3:"
      ],
      "metadata": {
        "id": "X_7HvAq4QqM2"
      }
    },
    {
      "cell_type": "code",
      "source": [
        "tickers = [\"AAPL\", \"GOOG\", \"MSFT\", \"AMZN\"]\n",
        "data = yf.download(tickers, start=\"2020-01-01\", end=\"2022-01-01\")\n",
        "\n",
        "close = data.loc[:, \"Close\"]\n",
        "returns = close.pct_change()\n",
        "\n",
        "# Retornos anuales promedio\n",
        "mean_returns = returns.mean() * 252\n",
        "\n",
        "\n",
        "df = pd.DataFrame(mean_returns, columns=[\"mean_return\"])\n",
        "\n",
        "\n",
        "fig, ax = plt.subplots()\n",
        "df.plot(kind=\"bar\", ax=ax, legend=False)\n",
        "ax.set_ylabel(\"Return\")\n",
        "ax.set_title(\"Mean Annual Returns by Stock\")\n",
        "\n",
        "patches, labels = ax.get_legend_handles_labels()\n",
        "ax.legend(patches, labels, loc=\"upper center\", bbox_to_anchor=(0.5, 1.15), ncol=5)\n",
        "\n",
        "plt.savefig(\"investment_returns.png\", dpi=300, bbox_inches=\"tight\")"
      ],
      "metadata": {
        "colab": {
          "base_uri": "https://localhost:8080/",
          "height": 331
        },
        "id": "QtUWcupzRaTR",
        "outputId": "c15baaf7-b24d-4f6b-e7e7-ab16770efa1e"
      },
      "execution_count": null,
      "outputs": [
        {
          "output_type": "stream",
          "name": "stdout",
          "text": [
            "[*********************100%***********************]  4 of 4 completed\n"
          ]
        },
        {
          "output_type": "display_data",
          "data": {
            "text/plain": [
              "<Figure size 432x288 with 1 Axes>"
            ],
            "image/png": "[encoded data removed]"
          },
          "metadata": {
            "needs_background": "light"
          }
        }
      ]
    },
    {
      "cell_type": "markdown",
      "source": [
        "My own example 4:"
      ],
      "metadata": {
        "id": "uXwAzWq_yeb5"
      }
    },
    {
      "cell_type": "code",
      "source": [
        "My own example 4"
      ],
      "metadata": {
        "id": "WrUslefgyeb5"
      },
      "execution_count": null,
      "outputs": []
    },
    {
      "cell_type": "markdown",
      "source": [
        "My own example 5:"
      ],
      "metadata": {
        "id": "7-gnxN6Kyeb6"
      }
    },
    {
      "cell_type": "code",
      "source": [
        "url = 'https://jsonplaceholder.typicode.com/posts'\n",
        "df = pd.read_json(url)\n",
        "\n",
        "x = df['id']\n",
        "y = df['userId']\n",
        "coefficients = np.polyfit(x, y, 1)\n",
        "p = np.poly1d(coefficients)\n",
        "\n",
        "plt.scatter(x, y)\n",
        "plt.plot(x, p(x), color='red')\n",
        "plt.show()"
      ],
      "metadata": {
        "colab": {
          "base_uri": "https://localhost:8080/",
          "height": 265
        },
        "outputId": "0183ce82-94e9-4c0b-cfac-6d1a69d52626",
        "id": "taD1qFXpyeb6"
      },
      "execution_count": null,
      "outputs": [
        {
          "output_type": "display_data",
          "data": {
            "text/plain": [
              "<Figure size 432x288 with 1 Axes>"
            ],
            "image/png": "[encoded data removed]"
          },
          "metadata": {
            "needs_background": "light"
          }
        }
      ]
    },
    {
      "cell_type": "markdown",
      "source": [
        "My own example 6:"
      ],
      "metadata": {
        "id": "PRZp7rNIyeb6"
      }
    },
    {
      "cell_type": "code",
      "source": [
        "dates = pd.date_range('20220101', periods=6)\n",
        "\n",
        "df = pd.DataFrame({'data': [11, 22, 33, 44, 55, 66]}, index=dates)\n",
        "\n",
        "print(df)"
      ],
      "metadata": {
        "colab": {
          "base_uri": "https://localhost:8080/"
        },
        "outputId": "a5c62e9c-2890-4b44-a49d-5820fb0b5585",
        "id": "BS8r6Usbyeb6"
      },
      "execution_count": null,
      "outputs": [
        {
          "output_type": "stream",
          "name": "stdout",
          "text": [
            "            data\n",
            "2022-01-01    11\n",
            "2022-01-02    22\n",
            "2022-01-03    33\n",
            "2022-01-04    44\n",
            "2022-01-05    55\n",
            "2022-01-06    66\n"
          ]
        }
      ]
    },
    {
      "cell_type": "markdown",
      "source": [
        "My own example 7:"
      ],
      "metadata": {
        "id": "84Hu4OSTyeb6"
      }
    },
    {
      "cell_type": "code",
      "source": [
        "df = pd.DataFrame({'fecha': ['2022-02-23', '2022-02-24', '2022-02-25'],\n",
        "                   'valor': [10, 20, 30]})\n",
        "\n",
        "print('Dataframe original:')\n",
        "df.head()"
      ],
      "metadata": {
        "colab": {
          "base_uri": "https://localhost:8080/",
          "height": 161
        },
        "outputId": "9e17ef37-f57e-481f-bb6f-2fff490c4c21",
        "id": "R5c_NMRUyeb6"
      },
      "execution_count": null,
      "outputs": [
        {
          "output_type": "stream",
          "name": "stdout",
          "text": [
            "Dataframe original:\n"
          ]
        },
        {
          "output_type": "execute_result",
          "data": {
            "text/plain": [
              "        fecha  valor\n",
              "0  2022-02-23     10\n",
              "1  2022-02-24     20\n",
              "2  2022-02-25     30"
            ],
            "text/html": [
              "\n",
              "  <div id=\"df-002ec302-62aa-4d4b-a58f-67f45a7161b9\">\n",
              "    <div class=\"colab-df-container\">\n",
              "      <div>\n",
              "<style scoped>\n",
              "    .dataframe tbody tr th:only-of-type {\n",
              "        vertical-align: middle;\n",
              "    }\n",
              "\n",
              "    .dataframe tbody tr th {\n",
              "        vertical-align: top;\n",
              "    }\n",
              "\n",
              "    .dataframe thead th {\n",
              "        text-align: right;\n",
              "    }\n",
              "</style>\n",
              "<table border=\"1\" class=\"dataframe\">\n",
              "  <thead>\n",
              "    <tr style=\"text-align: right;\">\n",
              "      <th></th>\n",
              "      <th>fecha</th>\n",
              "      <th>valor</th>\n",
              "    </tr>\n",
              "  </thead>\n",
              "  <tbody>\n",
              "    <tr>\n",
              "      <th>0</th>\n",
              "      <td>2022-02-23</td>\n",
              "      <td>10</td>\n",
              "    </tr>\n",
              "    <tr>\n",
              "      <th>1</th>\n",
              "      <td>2022-02-24</td>\n",
              "      <td>20</td>\n",
              "    </tr>\n",
              "    <tr>\n",
              "      <th>2</th>\n",
              "      <td>2022-02-25</td>\n",
              "      <td>30</td>\n",
              "    </tr>\n",
              "  </tbody>\n",
              "</table>\n",
              "</div>\n",
              "      <button class=\"colab-df-convert\" onclick=\"convertToInteractive('df-002ec302-62aa-4d4b-a58f-67f45a7161b9')\"\n",
              "              title=\"Convert this dataframe to an interactive table.\"\n",
              "              style=\"display:none;\">\n",
              "        \n",
              "  <svg xmlns=\"http://www.w3.org/2000/svg\" height=\"24px\"viewBox=\"0 0 24 24\"\n",
              "       width=\"24px\">\n",
              "    <path d=\"M0 0h24v24H0V0z\" fill=\"none\"/>\n",
              "    <path d=\"M18.56 5.44l.94 2.06.94-2.06 2.06-.94-2.06-.94-.94-2.06-.94 2.06-2.06.94zm-11 1L8.5 8.5l.94-2.06 2.06-.94-2.06-.94L8.5 2.5l-.94 2.06-2.06.94zm10 10l.94 2.06.94-2.06 2.06-.94-2.06-.94-.94-2.06-.94 2.06-2.06.94z\"/><path d=\"M17.41 7.96l-1.37-1.37c-.4-.4-.92-.59-1.43-.59-.52 0-1.04.2-1.43.59L10.3 9.45l-7.72 7.72c-.78.78-.78 2.05 0 2.83L4 21.41c.39.39.9.59 1.41.59.51 0 1.02-.2 1.41-.59l7.78-7.78 2.81-2.81c.8-.78.8-2.07 0-2.86zM5.41 20L4 18.59l7.72-7.72 1.47 1.35L5.41 20z\"/>\n",
              "  </svg>\n",
              "      </button>\n",
              "      \n",
              "  <style>\n",
              "    .colab-df-container {\n",
              "      display:flex;\n",
              "      flex-wrap:wrap;\n",
              "      gap: 12px;\n",
              "    }\n",
              "\n",
              "    .colab-df-convert {\n",
              "      background-color: #E8F0FE;\n",
              "      border: none;\n",
              "      border-radius: 50%;\n",
              "      cursor: pointer;\n",
              "      display: none;\n",
              "      fill: #1967D2;\n",
              "      height: 32px;\n",
              "      padding: 0 0 0 0;\n",
              "      width: 32px;\n",
              "    }\n",
              "\n",
              "    .colab-df-convert:hover {\n",
              "      background-color: #E2EBFA;\n",
              "      box-shadow: 0px 1px 2px rgba(60, 64, 67, 0.3), 0px 1px 3px 1px rgba(60, 64, 67, 0.15);\n",
              "      fill: #174EA6;\n",
              "    }\n",
              "\n",
              "    [theme=dark] .colab-df-convert {\n",
              "      background-color: #3B4455;\n",
              "      fill: #D2E3FC;\n",
              "    }\n",
              "\n",
              "    [theme=dark] .colab-df-convert:hover {\n",
              "      background-color: #434B5C;\n",
              "      box-shadow: 0px 1px 3px 1px rgba(0, 0, 0, 0.15);\n",
              "      filter: drop-shadow(0px 1px 2px rgba(0, 0, 0, 0.3));\n",
              "      fill: #FFFFFF;\n",
              "    }\n",
              "  </style>\n",
              "\n",
              "      <script>\n",
              "        const buttonEl =\n",
              "          document.querySelector('#df-002ec302-62aa-4d4b-a58f-67f45a7161b9 button.colab-df-convert');\n",
              "        buttonEl.style.display =\n",
              "          google.colab.kernel.accessAllowed ? 'block' : 'none';\n",
              "\n",
              "        async function convertToInteractive(key) {\n",
              "          const element = document.querySelector('#df-002ec302-62aa-4d4b-a58f-67f45a7161b9');\n",
              "          const dataTable =\n",
              "            await google.colab.kernel.invokeFunction('convertToInteractive',\n",
              "                                                     [key], {});\n",
              "          if (!dataTable) return;\n",
              "\n",
              "          const docLinkHtml = 'Like what you see? Visit the ' +\n",
              "            '<a target=\"_blank\" href=https://colab.research.google.com/notebooks/data_table.ipynb>data table notebook</a>'\n",
              "            + ' to learn more about interactive tables.';\n",
              "          element.innerHTML = '';\n",
              "          dataTable['output_type'] = 'display_data';\n",
              "          await google.colab.output.renderOutput(dataTable, element);\n",
              "          const docLink = document.createElement('div');\n",
              "          docLink.innerHTML = docLinkHtml;\n",
              "          element.appendChild(docLink);\n",
              "        }\n",
              "      </script>\n",
              "    </div>\n",
              "  </div>\n",
              "  "
            ]
          },
          "metadata": {},
          "execution_count": 50
        }
      ]
    },
    {
      "cell_type": "markdown",
      "source": [
        "My own example 8:"
      ],
      "metadata": {
        "id": "dYayHXyryeb7"
      }
    },
    {
      "cell_type": "code",
      "source": [
        "df['fecha'] = pd.to_datetime(df['fecha'])\n",
        "\n",
        "df['anio'] = df['fecha'].dt.year\n",
        "df['mes'] = df['fecha'].dt.month\n",
        "df['dia'] = df['fecha'].dt.day\n",
        "\n",
        "print('Dataframe with dd-mm--yy:')\n",
        "df.head()"
      ],
      "metadata": {
        "colab": {
          "base_uri": "https://localhost:8080/",
          "height": 161
        },
        "outputId": "0af7ced9-f195-4489-bace-827ac6d2677e",
        "id": "Vq9hegpLyeb7"
      },
      "execution_count": null,
      "outputs": [
        {
          "output_type": "stream",
          "name": "stdout",
          "text": [
            "Dataframe with dd-mm--yy:\n"
          ]
        },
        {
          "output_type": "execute_result",
          "data": {
            "text/plain": [
              "       fecha  valor  anio  mes  dia\n",
              "0 2022-02-23     10  2022    2   23\n",
              "1 2022-02-24     20  2022    2   24\n",
              "2 2022-02-25     30  2022    2   25"
            ],
            "text/html": [
              "\n",
              "  <div id=\"df-c2d89e9c-8a56-4577-8f80-8cfa55741c0d\">\n",
              "    <div class=\"colab-df-container\">\n",
              "      <div>\n",
              "<style scoped>\n",
              "    .dataframe tbody tr th:only-of-type {\n",
              "        vertical-align: middle;\n",
              "    }\n",
              "\n",
              "    .dataframe tbody tr th {\n",
              "        vertical-align: top;\n",
              "    }\n",
              "\n",
              "    .dataframe thead th {\n",
              "        text-align: right;\n",
              "    }\n",
              "</style>\n",
              "<table border=\"1\" class=\"dataframe\">\n",
              "  <thead>\n",
              "    <tr style=\"text-align: right;\">\n",
              "      <th></th>\n",
              "      <th>fecha</th>\n",
              "      <th>valor</th>\n",
              "      <th>anio</th>\n",
              "      <th>mes</th>\n",
              "      <th>dia</th>\n",
              "    </tr>\n",
              "  </thead>\n",
              "  <tbody>\n",
              "    <tr>\n",
              "      <th>0</th>\n",
              "      <td>2022-02-23</td>\n",
              "      <td>10</td>\n",
              "      <td>2022</td>\n",
              "      <td>2</td>\n",
              "      <td>23</td>\n",
              "    </tr>\n",
              "    <tr>\n",
              "      <th>1</th>\n",
              "      <td>2022-02-24</td>\n",
              "      <td>20</td>\n",
              "      <td>2022</td>\n",
              "      <td>2</td>\n",
              "      <td>24</td>\n",
              "    </tr>\n",
              "    <tr>\n",
              "      <th>2</th>\n",
              "      <td>2022-02-25</td>\n",
              "      <td>30</td>\n",
              "      <td>2022</td>\n",
              "      <td>2</td>\n",
              "      <td>25</td>\n",
              "    </tr>\n",
              "  </tbody>\n",
              "</table>\n",
              "</div>\n",
              "      <button class=\"colab-df-convert\" onclick=\"convertToInteractive('df-c2d89e9c-8a56-4577-8f80-8cfa55741c0d')\"\n",
              "              title=\"Convert this dataframe to an interactive table.\"\n",
              "              style=\"display:none;\">\n",
              "        \n",
              "  <svg xmlns=\"http://www.w3.org/2000/svg\" height=\"24px\"viewBox=\"0 0 24 24\"\n",
              "       width=\"24px\">\n",
              "    <path d=\"M0 0h24v24H0V0z\" fill=\"none\"/>\n",
              "    <path d=\"M18.56 5.44l.94 2.06.94-2.06 2.06-.94-2.06-.94-.94-2.06-.94 2.06-2.06.94zm-11 1L8.5 8.5l.94-2.06 2.06-.94-2.06-.94L8.5 2.5l-.94 2.06-2.06.94zm10 10l.94 2.06.94-2.06 2.06-.94-2.06-.94-.94-2.06-.94 2.06-2.06.94z\"/><path d=\"M17.41 7.96l-1.37-1.37c-.4-.4-.92-.59-1.43-.59-.52 0-1.04.2-1.43.59L10.3 9.45l-7.72 7.72c-.78.78-.78 2.05 0 2.83L4 21.41c.39.39.9.59 1.41.59.51 0 1.02-.2 1.41-.59l7.78-7.78 2.81-2.81c.8-.78.8-2.07 0-2.86zM5.41 20L4 18.59l7.72-7.72 1.47 1.35L5.41 20z\"/>\n",
              "  </svg>\n",
              "      </button>\n",
              "      \n",
              "  <style>\n",
              "    .colab-df-container {\n",
              "      display:flex;\n",
              "      flex-wrap:wrap;\n",
              "      gap: 12px;\n",
              "    }\n",
              "\n",
              "    .colab-df-convert {\n",
              "      background-color: #E8F0FE;\n",
              "      border: none;\n",
              "      border-radius: 50%;\n",
              "      cursor: pointer;\n",
              "      display: none;\n",
              "      fill: #1967D2;\n",
              "      height: 32px;\n",
              "      padding: 0 0 0 0;\n",
              "      width: 32px;\n",
              "    }\n",
              "\n",
              "    .colab-df-convert:hover {\n",
              "      background-color: #E2EBFA;\n",
              "      box-shadow: 0px 1px 2px rgba(60, 64, 67, 0.3), 0px 1px 3px 1px rgba(60, 64, 67, 0.15);\n",
              "      fill: #174EA6;\n",
              "    }\n",
              "\n",
              "    [theme=dark] .colab-df-convert {\n",
              "      background-color: #3B4455;\n",
              "      fill: #D2E3FC;\n",
              "    }\n",
              "\n",
              "    [theme=dark] .colab-df-convert:hover {\n",
              "      background-color: #434B5C;\n",
              "      box-shadow: 0px 1px 3px 1px rgba(0, 0, 0, 0.15);\n",
              "      filter: drop-shadow(0px 1px 2px rgba(0, 0, 0, 0.3));\n",
              "      fill: #FFFFFF;\n",
              "    }\n",
              "  </style>\n",
              "\n",
              "      <script>\n",
              "        const buttonEl =\n",
              "          document.querySelector('#df-c2d89e9c-8a56-4577-8f80-8cfa55741c0d button.colab-df-convert');\n",
              "        buttonEl.style.display =\n",
              "          google.colab.kernel.accessAllowed ? 'block' : 'none';\n",
              "\n",
              "        async function convertToInteractive(key) {\n",
              "          const element = document.querySelector('#df-c2d89e9c-8a56-4577-8f80-8cfa55741c0d');\n",
              "          const dataTable =\n",
              "            await google.colab.kernel.invokeFunction('convertToInteractive',\n",
              "                                                     [key], {});\n",
              "          if (!dataTable) return;\n",
              "\n",
              "          const docLinkHtml = 'Like what you see? Visit the ' +\n",
              "            '<a target=\"_blank\" href=https://colab.research.google.com/notebooks/data_table.ipynb>data table notebook</a>'\n",
              "            + ' to learn more about interactive tables.';\n",
              "          element.innerHTML = '';\n",
              "          dataTable['output_type'] = 'display_data';\n",
              "          await google.colab.output.renderOutput(dataTable, element);\n",
              "          const docLink = document.createElement('div');\n",
              "          docLink.innerHTML = docLinkHtml;\n",
              "          element.appendChild(docLink);\n",
              "        }\n",
              "      </script>\n",
              "    </div>\n",
              "  </div>\n",
              "  "
            ]
          },
          "metadata": {},
          "execution_count": 51
        }
      ]
    },
    {
      "cell_type": "markdown",
      "source": [
        "My own example 9:"
      ],
      "metadata": {
        "id": "cGY-_juVyeb7"
      }
    },
    {
      "cell_type": "code",
      "source": [
        "A = np.array([[1, 2], [3, 4]])\n",
        "\n",
        "B = np.array([[5], [6]])\n",
        "\n",
        "# Use the dot product to calculate the matrix product of A and B\n",
        "C = np.dot(A, B)\n",
        "\n",
        "print(C)"
      ],
      "metadata": {
        "colab": {
          "base_uri": "https://localhost:8080/"
        },
        "outputId": "5979c9aa-c8c7-4277-bdf7-1c2ed3d2a6a3",
        "id": "8pcJrjaZyeb7"
      },
      "execution_count": null,
      "outputs": [
        {
          "output_type": "stream",
          "name": "stdout",
          "text": [
            "[[17]\n",
            " [39]]\n"
          ]
        }
      ]
    },
    {
      "cell_type": "markdown",
      "source": [
        "My own example 10:"
      ],
      "metadata": {
        "id": "2y17R4RDyeb7"
      }
    },
    {
      "cell_type": "code",
      "source": [
        "A = np.array([[1, 2, 3], [1, 5, 6], [7, 8, 9]])\n",
        "\n",
        "A_inv = np.linalg.inv(A)\n",
        "\n",
        "I = np.eye(3)\n",
        "\n",
        "A_Ainv = np.matmul(A, A_inv)\n",
        "\n",
        "assert np.allclose(A_Ainv, I)"
      ],
      "metadata": {
        "id": "YBjgWyeRyeb7"
      },
      "execution_count": null,
      "outputs": []
    },
    {
      "cell_type": "markdown",
      "metadata": {
        "id": "ZVbUty0Yyeb8"
      },
      "source": [
        "My own example 11:"
      ]
    },
    {
      "cell_type": "code",
      "execution_count": null,
      "metadata": {
        "colab": {
          "base_uri": "https://localhost:8080/"
        },
        "outputId": "55c32fa3-87c2-4dc0-fbeb-27e3ecb038e0",
        "id": "iekrBuJLyeb9"
      },
      "outputs": [
        {
          "output_type": "stream",
          "name": "stdout",
          "text": [
            "1\n",
            "3\n",
            "5\n",
            "7\n",
            "9\n"
          ]
        }
      ],
      "source": [
        "i = 0\n",
        "\n",
        "while i < len(numbers):\n",
        "    # If the current number is even, skip it\n",
        "    if numbers[i] % 2 == 0:\n",
        "        i += 1\n",
        "        continue\n",
        "    print(numbers[i])\n",
        "    i += 1"
      ]
    },
    {
      "cell_type": "markdown",
      "metadata": {
        "id": "X_4dk0wEyeb-"
      },
      "source": [
        "My own example 12:"
      ]
    },
    {
      "cell_type": "code",
      "execution_count": null,
      "metadata": {
        "colab": {
          "base_uri": "https://localhost:8080/"
        },
        "outputId": "022c0471-51cb-4800-cba8-a9f90266f6b7",
        "id": "Q3xCT1Mvyeb-"
      },
      "outputs": [
        {
          "output_type": "execute_result",
          "data": {
            "text/plain": [
              "{3, 5, 7, 11, 13, 17, 19, 23, 29, 31}"
            ]
          },
          "metadata": {},
          "execution_count": 22
        }
      ],
      "source": [
        "prime_numbers = {2, 3, 5, 7, 11, 13, 17, 19, 23, 29, 31}\n",
        "prime_numbers.difference(evens)"
      ]
    },
    {
      "cell_type": "markdown",
      "metadata": {
        "id": "L2iRG3i_yeb-"
      },
      "source": [
        "My own example 13:"
      ]
    },
    {
      "cell_type": "code",
      "execution_count": null,
      "metadata": {
        "colab": {
          "base_uri": "https://localhost:8080/"
        },
        "outputId": "e46207d0-ee76-4f8d-b47c-498fde9a5329",
        "id": "-hilGn3Yyeb-"
      },
      "outputs": [
        {
          "output_type": "stream",
          "name": "stdout",
          "text": [
            "John: 90\n",
            "Alice: 85\n",
            "Bob: 70\n"
          ]
        }
      ],
      "source": [
        "students = {\"John\": 90, \"Alice\": 85, \"Bob\": 70}\n",
        "\n",
        "for k,v in students.items():\n",
        "  print(k + \": \" + str(v))"
      ]
    },
    {
      "cell_type": "markdown",
      "metadata": {
        "id": "aKvimpHhyeb-"
      },
      "source": [
        "My own example 14:"
      ]
    },
    {
      "cell_type": "code",
      "execution_count": null,
      "metadata": {
        "colab": {
          "base_uri": "https://localhost:8080/"
        },
        "outputId": "d155781f-beee-4b26-8df7-b042025cecd0",
        "id": "Tj25gdKyyeb-"
      },
      "outputs": [
        {
          "output_type": "stream",
          "name": "stdout",
          "text": [
            "1\n",
            "2\n",
            "3\n",
            "4\n",
            "5\n"
          ]
        }
      ],
      "source": [
        "numbers = [1, 2, 3, 4, 5, 6, 7, 8, 9, 10]\n",
        "\n",
        "for num in numbers:\n",
        "    # Break out of the loop if we reach a number greater than 5\n",
        "    if num > 5:\n",
        "        break\n",
        "    print(num)"
      ]
    },
    {
      "cell_type": "markdown",
      "metadata": {
        "id": "YTgyWq2Ryeb-"
      },
      "source": [
        "My own example 15:"
      ]
    },
    {
      "cell_type": "code",
      "execution_count": null,
      "metadata": {
        "colab": {
          "base_uri": "https://localhost:8080/"
        },
        "outputId": "55c32fa3-87c2-4dc0-fbeb-27e3ecb038e0",
        "id": "TwOohOMCyeb_"
      },
      "outputs": [
        {
          "output_type": "stream",
          "name": "stdout",
          "text": [
            "1\n",
            "3\n",
            "5\n",
            "7\n",
            "9\n"
          ]
        }
      ],
      "source": [
        "i = 0\n",
        "\n",
        "while i < len(numbers):\n",
        "    # If the current number is even, skip it\n",
        "    if numbers[i] % 2 == 0:\n",
        "        i += 1\n",
        "        continue\n",
        "    print(numbers[i])\n",
        "    i += 1"
      ]
    },
    {
      "cell_type": "markdown",
      "source": [
        "My own example 16:"
      ],
      "metadata": {
        "id": "hbJzkziNyeb_"
      }
    },
    {
      "cell_type": "code",
      "source": [
        "grades = {'Alice': 85, 'Bob': 92, 'Charlie': 78, 'David': 80}\n",
        "\n",
        "for name, grade in grades.items():\n",
        "    # If the grade is below 80, break out of the loop\n",
        "    if grade < 80:\n",
        "        print(name + ' has a failing grade')\n",
        "        break\n",
        "    print(name + ' has a passing grade')"
      ],
      "metadata": {
        "colab": {
          "base_uri": "https://localhost:8080/"
        },
        "outputId": "052faf8a-b26e-47d1-8643-a9d99612beb1",
        "id": "cjeYauKryeb_"
      },
      "execution_count": null,
      "outputs": [
        {
          "output_type": "stream",
          "name": "stdout",
          "text": [
            "Alice has a passing grade\n",
            "Bob has a passing grade\n",
            "Charlie has a failing grade\n"
          ]
        }
      ]
    },
    {
      "cell_type": "markdown",
      "metadata": {
        "id": "8x5brWuhyeb_"
      },
      "source": [
        "My own example 17:"
      ]
    },
    {
      "cell_type": "code",
      "execution_count": null,
      "metadata": {
        "colab": {
          "base_uri": "https://localhost:8080/",
          "height": 35
        },
        "outputId": "b08ff2c8-a778-4ffa-cee3-373796f109b2",
        "id": "U9xC1XVfyeb_"
      },
      "outputs": [
        {
          "output_type": "execute_result",
          "data": {
            "text/plain": [
              "'blue'"
            ],
            "application/vnd.google.colaboratory.intrinsic+json": {
              "type": "string"
            }
          },
          "metadata": {},
          "execution_count": 21
        }
      ],
      "source": [
        "colors = (\"red\", \"green\", \"blue\")\n",
        "colors[2]"
      ]
    },
    {
      "cell_type": "markdown",
      "metadata": {
        "id": "U88WkKTvyeb_"
      },
      "source": [
        "My own example 18:"
      ]
    },
    {
      "cell_type": "code",
      "execution_count": null,
      "metadata": {
        "colab": {
          "base_uri": "https://localhost:8080/"
        },
        "outputId": "022c0471-51cb-4800-cba8-a9f90266f6b7",
        "id": "42qdlUwJyeb_"
      },
      "outputs": [
        {
          "output_type": "execute_result",
          "data": {
            "text/plain": [
              "{3, 5, 7, 11, 13, 17, 19, 23, 29, 31}"
            ]
          },
          "metadata": {},
          "execution_count": 22
        }
      ],
      "source": [
        "prime_numbers = {2, 3, 5, 7, 11, 13, 17, 19, 23, 29, 31}\n",
        "prime_numbers.difference(evens)"
      ]
    },
    {
      "cell_type": "markdown",
      "metadata": {
        "id": "n5_93oZFyeb_"
      },
      "source": [
        "My own example 19:"
      ]
    },
    {
      "cell_type": "code",
      "execution_count": null,
      "metadata": {
        "colab": {
          "base_uri": "https://localhost:8080/"
        },
        "outputId": "e46207d0-ee76-4f8d-b47c-498fde9a5329",
        "id": "r-vWhb5HyecA"
      },
      "outputs": [
        {
          "output_type": "stream",
          "name": "stdout",
          "text": [
            "John: 90\n",
            "Alice: 85\n",
            "Bob: 70\n"
          ]
        }
      ],
      "source": [
        "import matplotlib.pyplot as plt\n",
        "plt.plot(s)"
      ]
    },
    {
      "cell_type": "markdown",
      "metadata": {
        "id": "7auFZGziyecA"
      },
      "source": [
        "My own example 20:"
      ]
    },
    {
      "cell_type": "code",
      "execution_count": null,
      "metadata": {
        "colab": {
          "base_uri": "https://localhost:8080/"
        },
        "outputId": "d155781f-beee-4b26-8df7-b042025cecd0",
        "id": "71E6D4K9yecA"
      },
      "outputs": [
        {
          "output_type": "stream",
          "name": "stdout",
          "text": [
            "1\n",
            "2\n",
            "3\n",
            "4\n",
            "5\n"
          ]
        }
      ],
      "source": [
        "x1 = np.random.chisquare(2, 100)\n",
        "x2 = np.random.chisquare(3, 100)\n",
        "\n",
        "plt.plot(x1);\n",
        "plt.plot(x2);\n",
        "plt.ylabel(r'$\\chi^2$')\n",
        "plt.legend([r'$k=2$', r'$k=3$']);"
      ]
    }
  ],
  "metadata": {
    "kernelspec": {
      "display_name": "Python 3",
      "language": "python",
      "name": "python3"
    },
    "language_info": {
      "codemirror_mode": {
        "name": "ipython",
        "version": 3
      },
      "file_extension": ".py",
      "mimetype": "text/x-python",
      "name": "python",
      "nbconvert_exporter": "python",
      "pygments_lexer": "ipython3",
      "version": "3.10.6"
    },
    "orig_nbformat": 4,
    "vscode": {
      "interpreter": {
        "hash": "fb4569285eef3a3450cb62085a5b1e0da4bce0af555edc33dcf29baf3acc1368"
      }
    },
    "colab": {
      "provenance": [],
      "include_colab_link": true
    }
  },
  "nbformat": 4,
  "nbformat_minor": 0
}