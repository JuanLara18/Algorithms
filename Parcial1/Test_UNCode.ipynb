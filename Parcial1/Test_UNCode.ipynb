{
  "nbformat": 4,
  "nbformat_minor": 0,
  "metadata": {
    "colab": {
      "provenance": [],
      "include_colab_link": true
    },
    "kernelspec": {
      "name": "python3",
      "display_name": "Python 3"
    },
    "language_info": {
      "name": "python"
    }
  },
  "cells": [
    {
      "cell_type": "markdown",
      "metadata": {
        "id": "view-in-github",
        "colab_type": "text"
      },
      "source": [
        "<a href=\"https://colab.research.google.com/github/JuanLara18/AlgorithmsUN2023I/blob/main/Parcial1/Test_UNCode.ipynb\" target=\"_parent\"><img src=\"https://colab.research.google.com/assets/colab-badge.svg\" alt=\"Open In Colab\"/></a>"
      ]
    },
    {
      "cell_type": "markdown",
      "metadata": {
        "id": "GfjJs2zaFLfR"
      },
      "source": [
        "# **Test 1 2023 I  UNCode Programming Assignments**"
      ]
    },
    {
      "cell_type": "markdown",
      "metadata": {
        "id": "NICrM8Y_HMVL"
      },
      "source": [
        "## **1. Min, max and average number of comparisons, swaps, comparison + swaps and passes for Bubble Sort Optimized**\n",
        "\n",
        "\n",
        "<img src=\"https://raw.githubusercontent.com/gjhernandezp/algorithms/master/AnalysisOfAlgorithms/Bubble.png\" width=\"200px\">"
      ]
    },
    {
      "cell_type": "markdown",
      "metadata": {
        "id": "q3N88O8iH1jU"
      },
      "source": [
        "\n",
        "Run Bubble Sort Optimized over all lists of arrays containing the permutations of $n$ elemnets with repetitions and return the the min, max and average number of comparisons, swaps, comparison + swaps and passes\n"
      ]
    },
    {
      "cell_type": "markdown",
      "metadata": {
        "id": "XgiVDqrMId10"
      },
      "source": [
        "---\n",
        "\n",
        "###**Problem Description**\n",
        "\n",
        "**Task:** Given an integer $𝑛$  over all lists of arrays containing the permutations of $n$ elemnets with repetitions and return the the min, max and average number of comparisons, swaps, comparison + swaps and passes.\n",
        "\n",
        "**Input Format:** The input consists of a single integer $n$. \n",
        "\n",
        "**Constraints:** $0 ≤ 𝑛 ≤ 6.$ \n",
        "\n",
        "**Output Format:**  Min, max and average number of comparisons, min, max and average number of swaps, Min, max and average number of comparison + swaps and Min, max and average number of passes.\n",
        "\n",
        "\n"
      ]
    },
    {
      "cell_type": "markdown",
      "metadata": {
        "id": "sQJACi9BGWww"
      },
      "source": [
        "**Sample testcases**\n",
        "\n",
        "```python\n",
        "#run this sample testcase on a cell to help you validate your solution\n",
        "\n",
        "analysisBubbleSortOptAllCounters(3)\n",
        "\n",
        "#  --> Expected output: (2, 3, 2.63, 0, 3, 1.0, 2, 6, 3.63, 1, 2, 1.63)\n",
        "\n",
        "analysisBubbleSortOptAllCounters(5)\n",
        "\n",
        "#  --> Expected output: (4, 10, 8.77, 0, 10, 4.0, 4, 20, 12.77, 1, 4, 3.11)\n",
        "```\n",
        "\n",
        "---"
      ]
    },
    {
      "cell_type": "markdown",
      "metadata": {
        "id": "kUfeRmeVLM0k"
      },
      "source": [
        "**Solution**"
      ]
    },
    {
      "cell_type": "code",
      "metadata": {
        "id": "KtnDV-3sGk4E"
      },
      "source": [
        "#Do not change this function's name, parameters or output format. It will be used in automatic grading.\n",
        "\n",
        "from itertools import product\n",
        "import numpy as np\n",
        "\n",
        "def bubbleSort(arr):\n",
        "    n = len(arr)\n",
        "    comparisons = 0\n",
        "    swaps = 0\n",
        "    passes = 0\n",
        "    for i in range(n):\n",
        "        swapped = False\n",
        "        for j in range(0, n-i-1):\n",
        "            comparisons += 1\n",
        "            if arr[j] > arr[j+1] :\n",
        "                arr[j], arr[j+1] = arr[j+1], arr[j]\n",
        "                swaps += 1\n",
        "                swapped = True\n",
        "        # only count the pass if we made at least one swap\n",
        "        if swapped:\n",
        "            passes += 1\n",
        "        # break the loop if there were no swaps in last pass\n",
        "        if not swapped:\n",
        "            break\n",
        "    return comparisons, swaps, comparisons+swaps, passes\n",
        "\n",
        "def analysisBubbleSortOptAllCounters(n):\n",
        "    # Generate all possible permutations of the elements in the array from 1 to n with repetitions\n",
        "    permutations = list(product(range(1, n+1), repeat=n))\n",
        "    # Initialize the counters\n",
        "    comps = []\n",
        "    swaps = []\n",
        "    steps = []\n",
        "    passes = []\n",
        "    # For each permutation, perform the optimized Bubble Sort algorithm while keeping count of the comparisons, swaps, and passes.\n",
        "    for perm in permutations:\n",
        "        comp, swap, step, pass_count = bubbleSort(list(perm))\n",
        "        comps.append(comp)\n",
        "        swaps.append(swap)\n",
        "        steps.append(step)\n",
        "        passes.append(pass_count)\n",
        "    # Compute the min, max and average of these counts.\n",
        "    min_comps, max_comps, mean_comps = min(comps), max(comps), np.mean(comps)\n",
        "    min_swaps, max_swaps, mean_swaps = min(swaps), max(swaps), np.mean(swaps)\n",
        "    min_steps, max_steps, mean_steps = min(steps), max(steps), np.mean(steps)\n",
        "    min_passes, max_passes, mean_passes = min(passes), max(passes), np.mean(passes)\n",
        "    return min_comps, max_comps, round(mean_comps, 2), min_swaps, max_swaps, round(mean_swaps, 2), min_steps, max_steps, round(mean_steps, 2), min_passes, max_passes, round(mean_passes, 2)"
      ],
      "execution_count": 9,
      "outputs": []
    },
    {
      "cell_type": "code",
      "metadata": {
        "id": "Au6lyOfQWfJa"
      },
      "source": [
        "#Do not change this function's name, parameters or output format. It will be used in automatic grading.\n",
        "\n",
        "from itertools import product\n",
        "import numpy as np \n",
        "import math\n",
        "\n",
        "def bubbleSortOptAllCounters(arr):\n",
        "    comps = 0\n",
        "    swaps = 0\n",
        "    steps = 0\n",
        "    passes = 0 \n",
        "    n = len(arr)\n",
        "    # Traverse through all array elements\n",
        "    for i in range(n-1):\n",
        "        flag = False\n",
        "        passes +=1\n",
        "        # Last i elements are already in place\n",
        "        for j in range(0, n-i-1):\n",
        "            # traverse the array from 0 to n-i-1\n",
        "            # Swap if the element found is greater\n",
        "            # than the next element\n",
        "            comps +=1\n",
        "            if arr[j] > arr[j+1] :\n",
        "                arr[j], arr[j+1] = arr[j+1], arr[j]\n",
        "                swaps +=1\n",
        "                flag = True\n",
        "        if not flag:\n",
        "           break    \n",
        "    steps = comps + swaps          \n",
        "    return(comps,swaps,steps,passes)\n",
        "\n",
        "def analysisBubbleSortOptAllCounters(n):\n",
        "  perm = product(range(1,n+1), repeat = n)\n",
        "  comps = []\n",
        "  swaps = []\n",
        "  steps = []\n",
        "  passes = [] \n",
        "  maxinvs = []\n",
        "\n",
        "  # Print the obtained permutations\n",
        "  for i in perm:\n",
        "      i = list(i)\n",
        "      c,sw,st,p = bubbleSortOptAllCounters(i)\n",
        "      comps.append(c)\n",
        "      swaps.append(sw)\n",
        "      steps.append(st)\n",
        "      passes.append(p)\n",
        "  return min(comps),max(comps),round(np.mean(comps),2),min(swaps),max(swaps),round(np.mean(swaps),2),min(steps),max(steps),round(np.mean(steps),2),min(passes),max(passes),round(np.mean(passes),2)"
      ],
      "execution_count": 12,
      "outputs": []
    },
    {
      "cell_type": "code",
      "source": [
        "analysisBubbleSortOptAllCounters(3)"
      ],
      "metadata": {
        "colab": {
          "base_uri": "https://localhost:8080/"
        },
        "id": "moYwuP_kT-4H",
        "outputId": "4f40c2f8-4cb2-458d-a734-2e5b7f5cab85"
      },
      "execution_count": 13,
      "outputs": [
        {
          "output_type": "execute_result",
          "data": {
            "text/plain": [
              "(2, 3, 2.63, 0, 3, 1.0, 2, 6, 3.63, 1, 2, 1.63)"
            ]
          },
          "metadata": {},
          "execution_count": 13
        }
      ]
    },
    {
      "cell_type": "code",
      "source": [
        "analysisBubbleSortOptAllCounters(5)"
      ],
      "metadata": {
        "colab": {
          "base_uri": "https://localhost:8080/"
        },
        "id": "wLFEM8_5V_vv",
        "outputId": "639ef646-28e3-497d-ca79-4c6a000fa105"
      },
      "execution_count": 14,
      "outputs": [
        {
          "output_type": "execute_result",
          "data": {
            "text/plain": [
              "(4, 10, 8.77, 0, 10, 4.0, 4, 20, 12.77, 1, 4, 3.11)"
            ]
          },
          "metadata": {},
          "execution_count": 14
        }
      ]
    },
    {
      "cell_type": "markdown",
      "metadata": {
        "id": "VKvOBZbjK5E9"
      },
      "source": [
        "#**|||||||||||||||||||||||||||||||||||||||||||||||||||||||||||||||||||||||||||||||||||||||||||||||||||||||||||||||||||||||||||||||||||||||||||||**#"
      ]
    },
    {
      "cell_type": "markdown",
      "metadata": {
        "id": "LOcITanfFR5Y"
      },
      "source": [
        "## **2. Fibonacci Number Fast**\n",
        "\n",
        "![image.png](data:image/png;base64,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)"
      ]
    },
    {
      "cell_type": "markdown",
      "metadata": {
        "id": "YOdHwoBG9jN4"
      },
      "source": [
        "Recall the definition of Fibonacci sequence: \n",
        "$$𝐹_0 = 0, 𝐹_1 = 1,$$ and \n",
        "$$𝐹_𝑖 = 𝐹_{𝑖−1} +𝐹_{𝑖−2} \\text{ for  } 𝑖 ≥ 2.$$\n",
        "Your goal in this problem is to implement an efficient algorithm for computing Fibonacci numbers. The following naive recursive algorithm for computing Fibonacci \n",
        "\n",
        "```python\n",
        "Fibonacci(𝑛):\n",
        "if 𝑛 ≤ 1: return 𝑛\n",
        "return  Fibonacci(𝑛 − 1) + Fibonacci(𝑛 − 2)\n",
        "```\n",
        "Try compiling and running a starter solution on your machine. You will see that\n",
        "computing, say, $𝐹_{40}$ already takes noticeable time.\n",
        "Another way to appreciate the dramatic difference between an exponential time algorithm\n",
        "and a polynomial time algorithm is to use the following visualization by David\n",
        "Galles: http://www.cs.usfca.edu/~galles/visualization/DPFib.html. Try computing\n",
        "$𝐹_{20}$ by a recursive algorithm by entering “20” and pressing the “Fibonacci Recursive”\n",
        "button. You will see an endless number of recursive calls. Now, press “Skip\n",
        "Forward” to stop the current algorithm and call the iterative algorithm by pressing\n",
        "“Fibonacci Table”. This will compute $𝐹_{20}$ very quickly. (Note that the visualization\n",
        "uses a slightly different definition of Fibonacci numbers: 𝐹0 = 1 instead of 𝐹0 = 0.\n",
        "This of course has almost no influence on the running time.)"
      ]
    },
    {
      "cell_type": "markdown",
      "metadata": {
        "id": "lvU21uXhAruf"
      },
      "source": [
        "---\n",
        "\n",
        "###**Problem Description**\n",
        "\n",
        "**Task:** Given an integer $𝑛$, find the 𝑛th Fibonacci number $𝐹_𝑛$.\n",
        "\n",
        "**Input Format:** The input consists of a single integer $n$.\n",
        "\n",
        "**Constraints:** 0 ≤ 𝑛 ≤ 100.\n",
        "\n",
        "**Output Format:** Output $F_n$.\n"
      ]
    },
    {
      "cell_type": "markdown",
      "metadata": {
        "id": "P5hUtwiUBWUg"
      },
      "source": [
        "**Sample testcase**\n",
        "\n",
        "```python\n",
        "#run this sample testcase on a cell to help you validate your solution\n",
        "\n",
        "fibonacci_fast(10)\n",
        "\n",
        "#𝐹_{10}= 55\n",
        "#  --> Expected output: 55\n",
        "\n",
        "fibonacci_fast(100)\n",
        "\n",
        "#𝐹_{100}= 354224848179261915075\n",
        "#  --> Expected output: 354224848179261915075\n",
        "```\n",
        "---"
      ]
    },
    {
      "cell_type": "markdown",
      "metadata": {
        "id": "Q4RR3IjWGiYB"
      },
      "source": [
        "**Solution**"
      ]
    },
    {
      "cell_type": "code",
      "metadata": {
        "id": "4X_dWqrlR2hZ"
      },
      "source": [
        "#Do not change this function's name, parameters or output format. It will be used in automatic grading.\n",
        "\n",
        "import numpy as np\n",
        "\n",
        "def multiply_matrices(A, B):\n",
        "    return np.matmul(A, B)\n",
        "\n",
        "def power_matrix(matrix, n):\n",
        "    if n == 0 or n == 1:\n",
        "        return matrix\n",
        "    \n",
        "    M = power_matrix(matrix, n // 2)\n",
        "    if n % 2 == 0:\n",
        "        return multiply_matrices(M, M)\n",
        "    else:\n",
        "        return multiply_matrices(multiply_matrices(M, M), matrix)\n",
        "\n",
        "def fibonacci_fast(n):\n",
        "    if n == 0:\n",
        "        return 0\n",
        "    \n",
        "    matrix = np.array([[1, 1], [1, 0]], dtype='object')\n",
        "    vector = np.array([[1], [0]], dtype='object')\n",
        "\n",
        "    matrix = power_matrix(matrix, n)\n",
        "\n",
        "    result_vector = multiply_matrices(matrix, vector)\n",
        "\n",
        "    return result_vector[1][0]"
      ],
      "execution_count": 6,
      "outputs": []
    },
    {
      "cell_type": "markdown",
      "source": [],
      "metadata": {
        "id": "Ohel7g9qCfit"
      }
    },
    {
      "cell_type": "markdown",
      "metadata": {
        "id": "zNKJSMViFOmX"
      },
      "source": [
        "#**|||||||||||||||||||||||||||||||||||||||||||||||||||||||||||||||||||||||||||||||||||||||||||||||||||||||||||||||||||||||||||||||||||||||||||||**#"
      ]
    },
    {
      "cell_type": "markdown",
      "source": [
        "# **3. Fast Large Fibonacci Number Mod k**\n",
        "![image.png](data:image/png;base64,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)"
      ],
      "metadata": {
        "id": "l7uT-H-zbwKu"
      }
    },
    {
      "cell_type": "markdown",
      "source": [
        "Your goal in this problem is  $𝑛$-th Fibonacci number *mod* $k$. "
      ],
      "metadata": {
        "id": "b56O2Kl2anuN"
      }
    },
    {
      "cell_type": "markdown",
      "metadata": {
        "id": "IGYQkrZNFjvA"
      },
      "source": [
        "---\n",
        "\n",
        "###**Problem Description**\n",
        "\n",
        "**Task:** Given one integers $n$ and $k$, find $n$th Fibonacci *mod* $k$, that is, $F_n$ *mod* $k$.\n",
        "\n",
        "**Input Format:** The input consists of a single integer $n$.\n",
        "\n",
        "**Constraints:** $0 \\leq n \\leq 10^{24}$.\n",
        "\n",
        "**Output Format:** Output $F_n \\mod k$.\n",
        "\n"
      ]
    },
    {
      "cell_type": "markdown",
      "metadata": {
        "id": "oYxV9WOxFxhY"
      },
      "source": [
        "\n",
        "**Sample testcase**\n",
        "\n",
        "```python\n",
        "#run this sample testcase on a cell to help you validate your solution\n",
        "fibonacci_mod(331,10)\n",
        "\n",
        "#𝐹_331 = 668 996 615 388 005 031 531 000 081 241 745 415 306 766 517 246 774 551 964 595 292 186 469.\n",
        "#  --> Expected output: 9\n",
        "\n",
        "fibonacci_mod(1000,5)\n",
        "\n",
        "#  --> Expected output: 0\n",
        "\n",
        "fibonacci_mod(355674562,13)\n",
        "\n",
        "#  --> Expected output: 12\n",
        "\n",
        "\n",
        "```\n",
        "\n",
        "---"
      ]
    },
    {
      "cell_type": "markdown",
      "metadata": {
        "id": "xyvtuOz4F1hY"
      },
      "source": [
        "**Solution**"
      ]
    },
    {
      "cell_type": "code",
      "metadata": {
        "id": "vOCXUyDAF7B8"
      },
      "source": [
        "#Do not change this function's name, parameters or output format. It will be used in automatic grading.\n",
        "\n",
        "def pisano_period(m):\n",
        "    a, b = 0, 1\n",
        "    for i in range(0, m * m):\n",
        "        a, b = b, (a + b) % m\n",
        "        # we found a period, which starts from 0 and 1\n",
        "        if (a == 0 and b == 1):\n",
        "            return i + 1\n",
        "\n",
        "def fibonacci_mod(n, m):\n",
        "    # Getting the period\n",
        "    pisano_period_m = pisano_period(m)\n",
        "    # Taking mod of N with period length\n",
        "    n = n % pisano_period_m\n",
        "    if n <= 1:\n",
        "        return n\n",
        "    previous, current = 0, 1\n",
        "    for _ in range(n - 1):\n",
        "        previous, current = current, (previous + current) % m\n",
        "    return current"
      ],
      "execution_count": 8,
      "outputs": []
    }
  ]
}